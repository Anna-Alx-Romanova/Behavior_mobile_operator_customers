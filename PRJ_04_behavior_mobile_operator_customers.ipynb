{
 "cells": [
  {
   "cell_type": "markdown",
   "metadata": {},
   "source": [
    "# Исследование поведения клиентов сотового оператора\n",
    "### Введение: \n",
    "Сотовый оператор «Мегалайн» (федеральный оператор сотовой связи) предлагает клиентам два тарифных плана: «Смарт» и «Ультра». Чтобы скорректировать рекламный бюджет, коммерческий департамент хочет понять, какой тариф приносит больше денег.\n",
    "\n",
    "Предстоит сделать предварительный анализ тарифов на небольшой выборке клиентов. Предоставлены данные 500 пользователей «Мегалайна»: кто они, откуда, каким тарифом пользуются, сколько звонков и сообщений каждый отправил за 2018 год.\n",
    "### Цель:\n",
    "Проанализировать поведение клиентов и оценить какой из двух тарифов приносит больше денег, чтобы скорректировать рекламный бюджет."
   ]
  },
  {
   "cell_type": "markdown",
   "metadata": {},
   "source": [
    "## Изучение данных из файлов"
   ]
  },
  {
   "cell_type": "code",
   "execution_count": 1,
   "metadata": {},
   "outputs": [],
   "source": [
    "import pandas as pd\n",
    "import matplotlib.pyplot as plt\n",
    "import seaborn as sns\n",
    "from numpy import median\n",
    "from datetime import datetime\n",
    "pd.set_option('display.max_columns', None)\n",
    "import numpy as np\n",
    "from scipy import stats as st"
   ]
  },
  {
   "cell_type": "code",
   "execution_count": 2,
   "metadata": {},
   "outputs": [],
   "source": [
    "# чтение файла с данными\n",
    "path = 'input/prj_04_input/'\n",
    "df_usr = pd.read_csv(path + 'users.csv')\n",
    "df_tarif = pd.read_csv(path + 'tariffs.csv')\n",
    "df_msg = pd.read_csv(path + 'messages.csv')\n",
    "df_int = pd.read_csv(path + 'internet.csv', index_col=0)\n",
    "df_calls = pd.read_csv(path + 'calls.csv')"
   ]
  },
  {
   "cell_type": "markdown",
   "metadata": {},
   "source": [
    "#### Таблица users (информация о пользователях):"
   ]
  },
  {
   "cell_type": "code",
   "execution_count": 3,
   "metadata": {},
   "outputs": [
    {
     "data": {
      "text/html": [
       "<div>\n",
       "<style scoped>\n",
       "    .dataframe tbody tr th:only-of-type {\n",
       "        vertical-align: middle;\n",
       "    }\n",
       "\n",
       "    .dataframe tbody tr th {\n",
       "        vertical-align: top;\n",
       "    }\n",
       "\n",
       "    .dataframe thead th {\n",
       "        text-align: right;\n",
       "    }\n",
       "</style>\n",
       "<table border=\"1\" class=\"dataframe\">\n",
       "  <thead>\n",
       "    <tr style=\"text-align: right;\">\n",
       "      <th></th>\n",
       "      <th>user_id</th>\n",
       "      <th>age</th>\n",
       "      <th>churn_date</th>\n",
       "      <th>city</th>\n",
       "      <th>first_name</th>\n",
       "      <th>last_name</th>\n",
       "      <th>reg_date</th>\n",
       "      <th>tariff</th>\n",
       "    </tr>\n",
       "  </thead>\n",
       "  <tbody>\n",
       "    <tr>\n",
       "      <th>0</th>\n",
       "      <td>1000</td>\n",
       "      <td>52</td>\n",
       "      <td>NaN</td>\n",
       "      <td>Краснодар</td>\n",
       "      <td>Рафаил</td>\n",
       "      <td>Верещагин</td>\n",
       "      <td>2018-05-25</td>\n",
       "      <td>ultra</td>\n",
       "    </tr>\n",
       "    <tr>\n",
       "      <th>1</th>\n",
       "      <td>1001</td>\n",
       "      <td>41</td>\n",
       "      <td>NaN</td>\n",
       "      <td>Москва</td>\n",
       "      <td>Иван</td>\n",
       "      <td>Ежов</td>\n",
       "      <td>2018-11-01</td>\n",
       "      <td>smart</td>\n",
       "    </tr>\n",
       "    <tr>\n",
       "      <th>2</th>\n",
       "      <td>1002</td>\n",
       "      <td>59</td>\n",
       "      <td>NaN</td>\n",
       "      <td>Стерлитамак</td>\n",
       "      <td>Евгений</td>\n",
       "      <td>Абрамович</td>\n",
       "      <td>2018-06-17</td>\n",
       "      <td>smart</td>\n",
       "    </tr>\n",
       "  </tbody>\n",
       "</table>\n",
       "</div>"
      ],
      "text/plain": [
       "   user_id  age churn_date         city first_name  last_name    reg_date  \\\n",
       "0     1000   52        NaN    Краснодар     Рафаил  Верещагин  2018-05-25   \n",
       "1     1001   41        NaN       Москва       Иван       Ежов  2018-11-01   \n",
       "2     1002   59        NaN  Стерлитамак    Евгений  Абрамович  2018-06-17   \n",
       "\n",
       "  tariff  \n",
       "0  ultra  \n",
       "1  smart  \n",
       "2  smart  "
      ]
     },
     "execution_count": 3,
     "metadata": {},
     "output_type": "execute_result"
    }
   ],
   "source": [
    "df_usr.head(3)"
   ]
  },
  {
   "cell_type": "markdown",
   "metadata": {},
   "source": [
    "###### Описание данных users\n",
    "* `user_id` — уникальный идентификатор пользователя\n",
    "* `first_name` — имя пользователя\n",
    "* `last_name` — фамилия пользователя\n",
    "* `age` — возраст пользователя (годы)\n",
    "* `reg_date` — дата подключения тарифа (день, месяц, год)\n",
    "* `churn_date` — дата прекращения пользования тарифом (если значение пропущено, то тариф ещё действовал на момент выгрузки данных)\n",
    "* `city` — город проживания пользователя\n",
    "* `tariff` — название тарифного плана"
   ]
  },
  {
   "cell_type": "code",
   "execution_count": 4,
   "metadata": {},
   "outputs": [
    {
     "name": "stdout",
     "output_type": "stream",
     "text": [
      "<class 'pandas.core.frame.DataFrame'>\n",
      "RangeIndex: 500 entries, 0 to 499\n",
      "Data columns (total 8 columns):\n",
      " #   Column      Non-Null Count  Dtype \n",
      "---  ------      --------------  ----- \n",
      " 0   user_id     500 non-null    int64 \n",
      " 1   age         500 non-null    int64 \n",
      " 2   churn_date  38 non-null     object\n",
      " 3   city        500 non-null    object\n",
      " 4   first_name  500 non-null    object\n",
      " 5   last_name   500 non-null    object\n",
      " 6   reg_date    500 non-null    object\n",
      " 7   tariff      500 non-null    object\n",
      "dtypes: int64(2), object(6)\n",
      "memory usage: 31.4+ KB\n"
     ]
    }
   ],
   "source": [
    "# получение общей информации о данных в таблице\n",
    "df_usr.info()"
   ]
  },
  {
   "cell_type": "markdown",
   "metadata": {},
   "source": [
    "#### Таблица calls (информация о звонках):"
   ]
  },
  {
   "cell_type": "code",
   "execution_count": 5,
   "metadata": {},
   "outputs": [
    {
     "data": {
      "text/html": [
       "<div>\n",
       "<style scoped>\n",
       "    .dataframe tbody tr th:only-of-type {\n",
       "        vertical-align: middle;\n",
       "    }\n",
       "\n",
       "    .dataframe tbody tr th {\n",
       "        vertical-align: top;\n",
       "    }\n",
       "\n",
       "    .dataframe thead th {\n",
       "        text-align: right;\n",
       "    }\n",
       "</style>\n",
       "<table border=\"1\" class=\"dataframe\">\n",
       "  <thead>\n",
       "    <tr style=\"text-align: right;\">\n",
       "      <th></th>\n",
       "      <th>id</th>\n",
       "      <th>call_date</th>\n",
       "      <th>duration</th>\n",
       "      <th>user_id</th>\n",
       "    </tr>\n",
       "  </thead>\n",
       "  <tbody>\n",
       "    <tr>\n",
       "      <th>0</th>\n",
       "      <td>1000_0</td>\n",
       "      <td>2018-07-25</td>\n",
       "      <td>0.00</td>\n",
       "      <td>1000</td>\n",
       "    </tr>\n",
       "    <tr>\n",
       "      <th>1</th>\n",
       "      <td>1000_1</td>\n",
       "      <td>2018-08-17</td>\n",
       "      <td>0.00</td>\n",
       "      <td>1000</td>\n",
       "    </tr>\n",
       "    <tr>\n",
       "      <th>2</th>\n",
       "      <td>1000_2</td>\n",
       "      <td>2018-06-11</td>\n",
       "      <td>2.85</td>\n",
       "      <td>1000</td>\n",
       "    </tr>\n",
       "  </tbody>\n",
       "</table>\n",
       "</div>"
      ],
      "text/plain": [
       "       id   call_date  duration  user_id\n",
       "0  1000_0  2018-07-25      0.00     1000\n",
       "1  1000_1  2018-08-17      0.00     1000\n",
       "2  1000_2  2018-06-11      2.85     1000"
      ]
     },
     "execution_count": 5,
     "metadata": {},
     "output_type": "execute_result"
    }
   ],
   "source": [
    "df_calls.head(3)"
   ]
  },
  {
   "cell_type": "markdown",
   "metadata": {},
   "source": [
    "###### Описание данных calls\n",
    "* `id` — уникальный номер звонка\n",
    "* `call_date` — дата звонка\n",
    "* `duration` — длительность звонка в минутах\n",
    "* `user_id` — идентификатор пользователя, сделавшего звонок"
   ]
  },
  {
   "cell_type": "code",
   "execution_count": 6,
   "metadata": {},
   "outputs": [
    {
     "name": "stdout",
     "output_type": "stream",
     "text": [
      "<class 'pandas.core.frame.DataFrame'>\n",
      "RangeIndex: 202607 entries, 0 to 202606\n",
      "Data columns (total 4 columns):\n",
      " #   Column     Non-Null Count   Dtype  \n",
      "---  ------     --------------   -----  \n",
      " 0   id         202607 non-null  object \n",
      " 1   call_date  202607 non-null  object \n",
      " 2   duration   202607 non-null  float64\n",
      " 3   user_id    202607 non-null  int64  \n",
      "dtypes: float64(1), int64(1), object(2)\n",
      "memory usage: 6.2+ MB\n"
     ]
    }
   ],
   "source": [
    "# получение общей информации о данных в таблице\n",
    "df_calls.info()"
   ]
  },
  {
   "cell_type": "markdown",
   "metadata": {},
   "source": [
    "#### Таблица messages (информация о сообщениях):"
   ]
  },
  {
   "cell_type": "code",
   "execution_count": 7,
   "metadata": {},
   "outputs": [
    {
     "data": {
      "text/html": [
       "<div>\n",
       "<style scoped>\n",
       "    .dataframe tbody tr th:only-of-type {\n",
       "        vertical-align: middle;\n",
       "    }\n",
       "\n",
       "    .dataframe tbody tr th {\n",
       "        vertical-align: top;\n",
       "    }\n",
       "\n",
       "    .dataframe thead th {\n",
       "        text-align: right;\n",
       "    }\n",
       "</style>\n",
       "<table border=\"1\" class=\"dataframe\">\n",
       "  <thead>\n",
       "    <tr style=\"text-align: right;\">\n",
       "      <th></th>\n",
       "      <th>id</th>\n",
       "      <th>message_date</th>\n",
       "      <th>user_id</th>\n",
       "    </tr>\n",
       "  </thead>\n",
       "  <tbody>\n",
       "    <tr>\n",
       "      <th>0</th>\n",
       "      <td>1000_0</td>\n",
       "      <td>2018-06-27</td>\n",
       "      <td>1000</td>\n",
       "    </tr>\n",
       "    <tr>\n",
       "      <th>1</th>\n",
       "      <td>1000_1</td>\n",
       "      <td>2018-10-08</td>\n",
       "      <td>1000</td>\n",
       "    </tr>\n",
       "    <tr>\n",
       "      <th>2</th>\n",
       "      <td>1000_2</td>\n",
       "      <td>2018-08-04</td>\n",
       "      <td>1000</td>\n",
       "    </tr>\n",
       "  </tbody>\n",
       "</table>\n",
       "</div>"
      ],
      "text/plain": [
       "       id message_date  user_id\n",
       "0  1000_0   2018-06-27     1000\n",
       "1  1000_1   2018-10-08     1000\n",
       "2  1000_2   2018-08-04     1000"
      ]
     },
     "execution_count": 7,
     "metadata": {},
     "output_type": "execute_result"
    }
   ],
   "source": [
    "df_msg.head(3)"
   ]
  },
  {
   "cell_type": "markdown",
   "metadata": {},
   "source": [
    "###### Описание данных messages\n",
    "* `id` — уникальный номер сообщения\n",
    "* `message_date` — дата сообщения\n",
    "* `user_id`— идентификатор пользователя, отправившего сообщение"
   ]
  },
  {
   "cell_type": "code",
   "execution_count": 8,
   "metadata": {},
   "outputs": [
    {
     "name": "stdout",
     "output_type": "stream",
     "text": [
      "<class 'pandas.core.frame.DataFrame'>\n",
      "RangeIndex: 123036 entries, 0 to 123035\n",
      "Data columns (total 3 columns):\n",
      " #   Column        Non-Null Count   Dtype \n",
      "---  ------        --------------   ----- \n",
      " 0   id            123036 non-null  object\n",
      " 1   message_date  123036 non-null  object\n",
      " 2   user_id       123036 non-null  int64 \n",
      "dtypes: int64(1), object(2)\n",
      "memory usage: 2.8+ MB\n"
     ]
    }
   ],
   "source": [
    "# получение общей информации о данных в таблице\n",
    "df_msg.info()"
   ]
  },
  {
   "cell_type": "markdown",
   "metadata": {},
   "source": [
    "#### Таблица internet (информация об интернет-сессиях):"
   ]
  },
  {
   "cell_type": "code",
   "execution_count": 9,
   "metadata": {},
   "outputs": [
    {
     "data": {
      "text/html": [
       "<div>\n",
       "<style scoped>\n",
       "    .dataframe tbody tr th:only-of-type {\n",
       "        vertical-align: middle;\n",
       "    }\n",
       "\n",
       "    .dataframe tbody tr th {\n",
       "        vertical-align: top;\n",
       "    }\n",
       "\n",
       "    .dataframe thead th {\n",
       "        text-align: right;\n",
       "    }\n",
       "</style>\n",
       "<table border=\"1\" class=\"dataframe\">\n",
       "  <thead>\n",
       "    <tr style=\"text-align: right;\">\n",
       "      <th></th>\n",
       "      <th>id</th>\n",
       "      <th>mb_used</th>\n",
       "      <th>session_date</th>\n",
       "      <th>user_id</th>\n",
       "    </tr>\n",
       "  </thead>\n",
       "  <tbody>\n",
       "    <tr>\n",
       "      <th>0</th>\n",
       "      <td>1000_0</td>\n",
       "      <td>112.95</td>\n",
       "      <td>2018-11-25</td>\n",
       "      <td>1000</td>\n",
       "    </tr>\n",
       "    <tr>\n",
       "      <th>1</th>\n",
       "      <td>1000_1</td>\n",
       "      <td>1052.81</td>\n",
       "      <td>2018-09-07</td>\n",
       "      <td>1000</td>\n",
       "    </tr>\n",
       "    <tr>\n",
       "      <th>2</th>\n",
       "      <td>1000_2</td>\n",
       "      <td>1197.26</td>\n",
       "      <td>2018-06-25</td>\n",
       "      <td>1000</td>\n",
       "    </tr>\n",
       "  </tbody>\n",
       "</table>\n",
       "</div>"
      ],
      "text/plain": [
       "       id  mb_used session_date  user_id\n",
       "0  1000_0   112.95   2018-11-25     1000\n",
       "1  1000_1  1052.81   2018-09-07     1000\n",
       "2  1000_2  1197.26   2018-06-25     1000"
      ]
     },
     "execution_count": 9,
     "metadata": {},
     "output_type": "execute_result"
    }
   ],
   "source": [
    "df_int.head(3)"
   ]
  },
  {
   "cell_type": "markdown",
   "metadata": {},
   "source": [
    "###### Описание данных internet\n",
    "* `id` — уникальный номер сессии\n",
    "* `mb_used` — объём потраченного за сессию интернет-трафика (в мегабайтах)\n",
    "* `session_date` — дата интернет-сессии\n",
    "* `user_id` — идентификатор пользователя"
   ]
  },
  {
   "cell_type": "code",
   "execution_count": 10,
   "metadata": {},
   "outputs": [
    {
     "name": "stdout",
     "output_type": "stream",
     "text": [
      "<class 'pandas.core.frame.DataFrame'>\n",
      "Int64Index: 149396 entries, 0 to 149395\n",
      "Data columns (total 4 columns):\n",
      " #   Column        Non-Null Count   Dtype  \n",
      "---  ------        --------------   -----  \n",
      " 0   id            149396 non-null  object \n",
      " 1   mb_used       149396 non-null  float64\n",
      " 2   session_date  149396 non-null  object \n",
      " 3   user_id       149396 non-null  int64  \n",
      "dtypes: float64(1), int64(1), object(2)\n",
      "memory usage: 5.7+ MB\n"
     ]
    }
   ],
   "source": [
    "# получение общей информации о данных в таблице\n",
    "df_int.info()"
   ]
  },
  {
   "cell_type": "markdown",
   "metadata": {},
   "source": [
    "#### Таблица tariffs (информация о тарифах):"
   ]
  },
  {
   "cell_type": "code",
   "execution_count": 11,
   "metadata": {},
   "outputs": [
    {
     "data": {
      "text/html": [
       "<div>\n",
       "<style scoped>\n",
       "    .dataframe tbody tr th:only-of-type {\n",
       "        vertical-align: middle;\n",
       "    }\n",
       "\n",
       "    .dataframe tbody tr th {\n",
       "        vertical-align: top;\n",
       "    }\n",
       "\n",
       "    .dataframe thead th {\n",
       "        text-align: right;\n",
       "    }\n",
       "</style>\n",
       "<table border=\"1\" class=\"dataframe\">\n",
       "  <thead>\n",
       "    <tr style=\"text-align: right;\">\n",
       "      <th></th>\n",
       "      <th>messages_included</th>\n",
       "      <th>mb_per_month_included</th>\n",
       "      <th>minutes_included</th>\n",
       "      <th>rub_monthly_fee</th>\n",
       "      <th>rub_per_gb</th>\n",
       "      <th>rub_per_message</th>\n",
       "      <th>rub_per_minute</th>\n",
       "      <th>tariff_name</th>\n",
       "    </tr>\n",
       "  </thead>\n",
       "  <tbody>\n",
       "    <tr>\n",
       "      <th>0</th>\n",
       "      <td>50</td>\n",
       "      <td>15360</td>\n",
       "      <td>500</td>\n",
       "      <td>550</td>\n",
       "      <td>200</td>\n",
       "      <td>3</td>\n",
       "      <td>3</td>\n",
       "      <td>smart</td>\n",
       "    </tr>\n",
       "    <tr>\n",
       "      <th>1</th>\n",
       "      <td>1000</td>\n",
       "      <td>30720</td>\n",
       "      <td>3000</td>\n",
       "      <td>1950</td>\n",
       "      <td>150</td>\n",
       "      <td>1</td>\n",
       "      <td>1</td>\n",
       "      <td>ultra</td>\n",
       "    </tr>\n",
       "  </tbody>\n",
       "</table>\n",
       "</div>"
      ],
      "text/plain": [
       "   messages_included  mb_per_month_included  minutes_included  \\\n",
       "0                 50                  15360               500   \n",
       "1               1000                  30720              3000   \n",
       "\n",
       "   rub_monthly_fee  rub_per_gb  rub_per_message  rub_per_minute tariff_name  \n",
       "0              550         200                3               3       smart  \n",
       "1             1950         150                1               1       ultra  "
      ]
     },
     "execution_count": 11,
     "metadata": {},
     "output_type": "execute_result"
    }
   ],
   "source": [
    "df_tarif"
   ]
  },
  {
   "cell_type": "markdown",
   "metadata": {},
   "source": [
    "###### Описание данных tariffs\n",
    "* `tariff_name` — название тарифа\n",
    "* `rub_monthly_fee` — ежемесячная абонентская плата в рублях\n",
    "* `minutes_included` — количество минут разговора в месяц, включённых в абонентскую плату\n",
    "* `messages_included` — количество сообщений в месяц, включённых в абонентскую плату\n",
    "* `mb_per_month_included` — объём интернет-трафика, включённого в абонентскую плату (в мегабайтах)\n",
    "* `rub_per_minute` — стоимость минуты разговора сверх тарифного пакета (например, если в тарифе 100 минут разговора в месяц, то со 101 минуты будет взиматься плата)\n",
    "* `rub_per_message` — стоимость отправки сообщения сверх тарифного пакета\n",
    "* `rub_per_gb` — стоимость дополнительного гигабайта интернет-трафика сверх тарифного пакета (1 гигабайт = 1024 мегабайта)"
   ]
  },
  {
   "cell_type": "code",
   "execution_count": 12,
   "metadata": {},
   "outputs": [
    {
     "name": "stdout",
     "output_type": "stream",
     "text": [
      "<class 'pandas.core.frame.DataFrame'>\n",
      "RangeIndex: 2 entries, 0 to 1\n",
      "Data columns (total 8 columns):\n",
      " #   Column                 Non-Null Count  Dtype \n",
      "---  ------                 --------------  ----- \n",
      " 0   messages_included      2 non-null      int64 \n",
      " 1   mb_per_month_included  2 non-null      int64 \n",
      " 2   minutes_included       2 non-null      int64 \n",
      " 3   rub_monthly_fee        2 non-null      int64 \n",
      " 4   rub_per_gb             2 non-null      int64 \n",
      " 5   rub_per_message        2 non-null      int64 \n",
      " 6   rub_per_minute         2 non-null      int64 \n",
      " 7   tariff_name            2 non-null      object\n",
      "dtypes: int64(7), object(1)\n",
      "memory usage: 256.0+ bytes\n"
     ]
    }
   ],
   "source": [
    "# получение общей информации о данных в таблице\n",
    "df_tarif.info()"
   ]
  },
  {
   "cell_type": "markdown",
   "metadata": {},
   "source": [
    "#### Примечание:\n",
    "Сотовый оператор округляет секунды до минут, а мегабайты — до гигабайт. Каждый звонок округляется отдельно: даже если он длился всего 1 секунду, будет засчитан как 1 минута.\n",
    "Для веб-трафика отдельные сессии не считаются. Вместо этого общая сумма за месяц округляется в бо́льшую сторону. Если абонент использует 1025 мегабайт в этом месяце, с него возьмут плату за 2 гигабайта.\n"
   ]
  },
  {
   "cell_type": "markdown",
   "metadata": {},
   "source": [
    "### Вывод\n",
    "\n",
    "##### Таблица users: \n",
    "В таблице представлено данные 500 пользователей двух тарифов. В колонке churn_date отмечено 38 пользователей, которые прекратили пользоваться тарифом. \n",
    "\n",
    "* Необходимо посчитать сколько пользователей каждого тарифа.\n",
    "* Необходимо проверить данные на дубликаты (явные и не явные - возможно, после отключения одного тарифа, пользователь подключился на другой тариф.\n",
    "* Необходимо проверить как долго пользователь пользовался тарифом. Если клиент пользовался тарифом меньше месяца, то данные этого клиента нужно исключить из анализа, т.к они не дадут точной оценки сколько минут разговора, трафика интернета клиент в среденем используте в месяц.\n",
    "* Проверим колонку age на аномалии.\n",
    "* Проверим данные в колонке city и посмотрим кол-во пользователей по городам\n",
    "\n",
    "\n",
    "###### Таблица calls\n",
    "В таблице представлено 202607 записей. Пропусков данных нет.\n",
    "\n",
    "* Необходимо проверить данные на дубликаты.\n",
    "* В колонке duration есть нулевые значения - это пропущенные звонки. Эти данные необходимо удалить для правильного подсчета кол-ва звонков.\n",
    "* Необходимо посчитать кол-во звонков в месяц для каждого пользователя.\n",
    "* Необходимо посчитать продолжительность звонков в месяц для каждого пользователя. Сумму продолжительности звонков в месяц необходимо округлить до целого числа в большую сторону.\n",
    "\n",
    "###### Таблица messages \n",
    "В таблице представлено 123036 записей. Пропусков данных нет.\n",
    "\n",
    "* Необходимо проверить данные на дубликаты.\n",
    "\n",
    "###### Таблица internet \n",
    "В таблице представлено 149396 записей. Пропусков данных нет.\n",
    "\n",
    "* Необходимо проверить данные на дубликаты.\n",
    "* Необходимо посчитать трафик интернета в месяц для каждого пользователя. Сумму трафика в месяц (в MB) необходимо округлить до целого числа в большую сторону и посчитать трафик в GB (число округлить в большую сторону до целого числа)\n",
    "\n",
    "###### Таблица itariffs \n",
    "В таблице представлено 2 записи. Пропусков данных нет."
   ]
  },
  {
   "cell_type": "markdown",
   "metadata": {},
   "source": [
    "## Предобработка данных"
   ]
  },
  {
   "cell_type": "markdown",
   "metadata": {},
   "source": [
    "##### Таблица users"
   ]
  },
  {
   "cell_type": "code",
   "execution_count": 13,
   "metadata": {},
   "outputs": [
    {
     "data": {
      "text/html": [
       "<div>\n",
       "<style scoped>\n",
       "    .dataframe tbody tr th:only-of-type {\n",
       "        vertical-align: middle;\n",
       "    }\n",
       "\n",
       "    .dataframe tbody tr th {\n",
       "        vertical-align: top;\n",
       "    }\n",
       "\n",
       "    .dataframe thead th {\n",
       "        text-align: right;\n",
       "    }\n",
       "</style>\n",
       "<table border=\"1\" class=\"dataframe\">\n",
       "  <thead>\n",
       "    <tr style=\"text-align: right;\">\n",
       "      <th></th>\n",
       "      <th>user_id</th>\n",
       "      <th>age</th>\n",
       "      <th>churn_date</th>\n",
       "      <th>city</th>\n",
       "      <th>first_name</th>\n",
       "      <th>last_name</th>\n",
       "      <th>reg_date</th>\n",
       "      <th>tariff</th>\n",
       "    </tr>\n",
       "  </thead>\n",
       "  <tbody>\n",
       "    <tr>\n",
       "      <th>0</th>\n",
       "      <td>1000</td>\n",
       "      <td>52</td>\n",
       "      <td>NaN</td>\n",
       "      <td>Краснодар</td>\n",
       "      <td>Рафаил</td>\n",
       "      <td>Верещагин</td>\n",
       "      <td>2018-05-25</td>\n",
       "      <td>ultra</td>\n",
       "    </tr>\n",
       "    <tr>\n",
       "      <th>1</th>\n",
       "      <td>1001</td>\n",
       "      <td>41</td>\n",
       "      <td>NaN</td>\n",
       "      <td>Москва</td>\n",
       "      <td>Иван</td>\n",
       "      <td>Ежов</td>\n",
       "      <td>2018-11-01</td>\n",
       "      <td>smart</td>\n",
       "    </tr>\n",
       "    <tr>\n",
       "      <th>2</th>\n",
       "      <td>1002</td>\n",
       "      <td>59</td>\n",
       "      <td>NaN</td>\n",
       "      <td>Стерлитамак</td>\n",
       "      <td>Евгений</td>\n",
       "      <td>Абрамович</td>\n",
       "      <td>2018-06-17</td>\n",
       "      <td>smart</td>\n",
       "    </tr>\n",
       "  </tbody>\n",
       "</table>\n",
       "</div>"
      ],
      "text/plain": [
       "   user_id  age churn_date         city first_name  last_name    reg_date  \\\n",
       "0     1000   52        NaN    Краснодар     Рафаил  Верещагин  2018-05-25   \n",
       "1     1001   41        NaN       Москва       Иван       Ежов  2018-11-01   \n",
       "2     1002   59        NaN  Стерлитамак    Евгений  Абрамович  2018-06-17   \n",
       "\n",
       "  tariff  \n",
       "0  ultra  \n",
       "1  smart  \n",
       "2  smart  "
      ]
     },
     "execution_count": 13,
     "metadata": {},
     "output_type": "execute_result"
    }
   ],
   "source": [
    "df_usr.head(3)"
   ]
  },
  {
   "cell_type": "markdown",
   "metadata": {},
   "source": [
    "Удалим дубликаты если есть"
   ]
  },
  {
   "cell_type": "code",
   "execution_count": 14,
   "metadata": {},
   "outputs": [
    {
     "data": {
      "text/plain": [
       "False    500\n",
       "dtype: int64"
      ]
     },
     "execution_count": 14,
     "metadata": {},
     "output_type": "execute_result"
    }
   ],
   "source": [
    "# Проверка наличия дубликатов\n",
    "df_usr.duplicated().value_counts()"
   ]
  },
  {
   "cell_type": "markdown",
   "metadata": {},
   "source": [
    "Дубликатов нет. Проверим есть ли дубликаты в клиентах (совпадение имени и фамилии)"
   ]
  },
  {
   "cell_type": "code",
   "execution_count": 15,
   "metadata": {},
   "outputs": [],
   "source": [
    "# Добавим колонку с полным именем\n",
    "df_usr['full_name'] = (df_usr['first_name'] + ' ' + df_usr['last_name'])"
   ]
  },
  {
   "cell_type": "code",
   "execution_count": 16,
   "metadata": {},
   "outputs": [
    {
     "data": {
      "text/html": [
       "<div>\n",
       "<style scoped>\n",
       "    .dataframe tbody tr th:only-of-type {\n",
       "        vertical-align: middle;\n",
       "    }\n",
       "\n",
       "    .dataframe tbody tr th {\n",
       "        vertical-align: top;\n",
       "    }\n",
       "\n",
       "    .dataframe thead th {\n",
       "        text-align: right;\n",
       "    }\n",
       "</style>\n",
       "<table border=\"1\" class=\"dataframe\">\n",
       "  <thead>\n",
       "    <tr style=\"text-align: right;\">\n",
       "      <th></th>\n",
       "      <th>user_id</th>\n",
       "      <th>age</th>\n",
       "      <th>churn_date</th>\n",
       "      <th>city</th>\n",
       "      <th>first_name</th>\n",
       "      <th>last_name</th>\n",
       "      <th>reg_date</th>\n",
       "      <th>tariff</th>\n",
       "      <th>full_name</th>\n",
       "    </tr>\n",
       "  </thead>\n",
       "  <tbody>\n",
       "    <tr>\n",
       "      <th>0</th>\n",
       "      <td>1000</td>\n",
       "      <td>52</td>\n",
       "      <td>NaN</td>\n",
       "      <td>Краснодар</td>\n",
       "      <td>Рафаил</td>\n",
       "      <td>Верещагин</td>\n",
       "      <td>2018-05-25</td>\n",
       "      <td>ultra</td>\n",
       "      <td>Рафаил Верещагин</td>\n",
       "    </tr>\n",
       "    <tr>\n",
       "      <th>1</th>\n",
       "      <td>1001</td>\n",
       "      <td>41</td>\n",
       "      <td>NaN</td>\n",
       "      <td>Москва</td>\n",
       "      <td>Иван</td>\n",
       "      <td>Ежов</td>\n",
       "      <td>2018-11-01</td>\n",
       "      <td>smart</td>\n",
       "      <td>Иван Ежов</td>\n",
       "    </tr>\n",
       "    <tr>\n",
       "      <th>2</th>\n",
       "      <td>1002</td>\n",
       "      <td>59</td>\n",
       "      <td>NaN</td>\n",
       "      <td>Стерлитамак</td>\n",
       "      <td>Евгений</td>\n",
       "      <td>Абрамович</td>\n",
       "      <td>2018-06-17</td>\n",
       "      <td>smart</td>\n",
       "      <td>Евгений Абрамович</td>\n",
       "    </tr>\n",
       "  </tbody>\n",
       "</table>\n",
       "</div>"
      ],
      "text/plain": [
       "   user_id  age churn_date         city first_name  last_name    reg_date  \\\n",
       "0     1000   52        NaN    Краснодар     Рафаил  Верещагин  2018-05-25   \n",
       "1     1001   41        NaN       Москва       Иван       Ежов  2018-11-01   \n",
       "2     1002   59        NaN  Стерлитамак    Евгений  Абрамович  2018-06-17   \n",
       "\n",
       "  tariff          full_name  \n",
       "0  ultra   Рафаил Верещагин  \n",
       "1  smart          Иван Ежов  \n",
       "2  smart  Евгений Абрамович  "
      ]
     },
     "execution_count": 16,
     "metadata": {},
     "output_type": "execute_result"
    }
   ],
   "source": [
    "df_usr.head(3)"
   ]
  },
  {
   "cell_type": "code",
   "execution_count": 17,
   "metadata": {},
   "outputs": [
    {
     "name": "stdout",
     "output_type": "stream",
     "text": [
      "Количество дубликатов 0\n"
     ]
    }
   ],
   "source": [
    "# Проверим дубликаты в колонке full name\n",
    "print(f'Количество дубликатов {len(df_usr[df_usr.duplicated(subset=[\"full_name\"])])}')"
   ]
  },
  {
   "cell_type": "markdown",
   "metadata": {},
   "source": [
    "Дубликатов нет. Для дальнейшего анализа достаточно иметь колонку user_id, поэтому удалим колонки first_name, last_name и full_name"
   ]
  },
  {
   "cell_type": "code",
   "execution_count": 18,
   "metadata": {},
   "outputs": [],
   "source": [
    "df_usr.drop(['first_name', 'last_name', 'full_name'], axis=1, inplace=True)"
   ]
  },
  {
   "cell_type": "code",
   "execution_count": 19,
   "metadata": {},
   "outputs": [
    {
     "data": {
      "text/html": [
       "<div>\n",
       "<style scoped>\n",
       "    .dataframe tbody tr th:only-of-type {\n",
       "        vertical-align: middle;\n",
       "    }\n",
       "\n",
       "    .dataframe tbody tr th {\n",
       "        vertical-align: top;\n",
       "    }\n",
       "\n",
       "    .dataframe thead th {\n",
       "        text-align: right;\n",
       "    }\n",
       "</style>\n",
       "<table border=\"1\" class=\"dataframe\">\n",
       "  <thead>\n",
       "    <tr style=\"text-align: right;\">\n",
       "      <th></th>\n",
       "      <th>user_id</th>\n",
       "      <th>age</th>\n",
       "      <th>churn_date</th>\n",
       "      <th>city</th>\n",
       "      <th>reg_date</th>\n",
       "      <th>tariff</th>\n",
       "    </tr>\n",
       "  </thead>\n",
       "  <tbody>\n",
       "    <tr>\n",
       "      <th>0</th>\n",
       "      <td>1000</td>\n",
       "      <td>52</td>\n",
       "      <td>NaN</td>\n",
       "      <td>Краснодар</td>\n",
       "      <td>2018-05-25</td>\n",
       "      <td>ultra</td>\n",
       "    </tr>\n",
       "    <tr>\n",
       "      <th>1</th>\n",
       "      <td>1001</td>\n",
       "      <td>41</td>\n",
       "      <td>NaN</td>\n",
       "      <td>Москва</td>\n",
       "      <td>2018-11-01</td>\n",
       "      <td>smart</td>\n",
       "    </tr>\n",
       "    <tr>\n",
       "      <th>2</th>\n",
       "      <td>1002</td>\n",
       "      <td>59</td>\n",
       "      <td>NaN</td>\n",
       "      <td>Стерлитамак</td>\n",
       "      <td>2018-06-17</td>\n",
       "      <td>smart</td>\n",
       "    </tr>\n",
       "  </tbody>\n",
       "</table>\n",
       "</div>"
      ],
      "text/plain": [
       "   user_id  age churn_date         city    reg_date tariff\n",
       "0     1000   52        NaN    Краснодар  2018-05-25  ultra\n",
       "1     1001   41        NaN       Москва  2018-11-01  smart\n",
       "2     1002   59        NaN  Стерлитамак  2018-06-17  smart"
      ]
     },
     "execution_count": 19,
     "metadata": {},
     "output_type": "execute_result"
    }
   ],
   "source": [
    "df_usr.head(3)"
   ]
  },
  {
   "cell_type": "markdown",
   "metadata": {},
   "source": [
    "Проверим возраст клиентов"
   ]
  },
  {
   "cell_type": "code",
   "execution_count": 20,
   "metadata": {},
   "outputs": [
    {
     "data": {
      "text/plain": [
       "count    500.00000\n",
       "mean      46.58800\n",
       "std       16.66763\n",
       "min       18.00000\n",
       "25%       32.00000\n",
       "50%       46.00000\n",
       "75%       62.00000\n",
       "max       75.00000\n",
       "Name: age, dtype: float64"
      ]
     },
     "execution_count": 20,
     "metadata": {},
     "output_type": "execute_result"
    }
   ],
   "source": [
    "# Описание данных в колонке age\n",
    "df_usr['age'].describe()"
   ]
  },
  {
   "cell_type": "markdown",
   "metadata": {},
   "source": [
    "Аномальных значений нет."
   ]
  },
  {
   "cell_type": "code",
   "execution_count": 21,
   "metadata": {},
   "outputs": [
    {
     "data": {
      "image/png": "[encoded data removed]",
      "text/plain": [
       "<Figure size 720x720 with 1 Axes>"
      ]
     },
     "metadata": {
      "needs_background": "light"
     },
     "output_type": "display_data"
    }
   ],
   "source": [
    "# Посмотрим как распределен возраст клиента в зависиомости от тарифа\n",
    "plt.figure(figsize=(10,10))\n",
    "sns.boxplot(data=df_usr, x='tariff', y = 'age', hue='tariff', palette=\"Set1\");\n",
    "plt.show();"
   ]
  },
  {
   "cell_type": "code",
   "execution_count": 22,
   "metadata": {},
   "outputs": [
    {
     "data": {
      "text/plain": [
       "count    149.000000\n",
       "mean      46.899329\n",
       "std       16.923814\n",
       "min       18.000000\n",
       "25%       31.000000\n",
       "50%       46.000000\n",
       "75%       63.000000\n",
       "max       75.000000\n",
       "Name: age, dtype: float64"
      ]
     },
     "execution_count": 22,
     "metadata": {},
     "output_type": "execute_result"
    }
   ],
   "source": [
    "# Описание возраста пользователей тарифа ultra\n",
    "df_usr[df_usr['tariff']=='ultra']['age'].describe()"
   ]
  },
  {
   "cell_type": "code",
   "execution_count": 23,
   "metadata": {},
   "outputs": [
    {
     "data": {
      "text/plain": [
       "count    351.000000\n",
       "mean      46.455840\n",
       "std       16.580287\n",
       "min       18.000000\n",
       "25%       32.000000\n",
       "50%       47.000000\n",
       "75%       62.000000\n",
       "max       75.000000\n",
       "Name: age, dtype: float64"
      ]
     },
     "execution_count": 23,
     "metadata": {},
     "output_type": "execute_result"
    }
   ],
   "source": [
    "# Описание возраста пользователей тарифа smart\n",
    "df_usr[df_usr['tariff']=='smart']['age'].describe()"
   ]
  },
  {
   "cell_type": "markdown",
   "metadata": {},
   "source": [
    "Видно, что клиенты двух тарифов не отличаются по возрасту."
   ]
  },
  {
   "cell_type": "code",
   "execution_count": 24,
   "metadata": {},
   "outputs": [
    {
     "data": {
      "text/html": [
       "<div>\n",
       "<style scoped>\n",
       "    .dataframe tbody tr th:only-of-type {\n",
       "        vertical-align: middle;\n",
       "    }\n",
       "\n",
       "    .dataframe tbody tr th {\n",
       "        vertical-align: top;\n",
       "    }\n",
       "\n",
       "    .dataframe thead th {\n",
       "        text-align: right;\n",
       "    }\n",
       "</style>\n",
       "<table border=\"1\" class=\"dataframe\">\n",
       "  <thead>\n",
       "    <tr style=\"text-align: right;\">\n",
       "      <th></th>\n",
       "      <th>tariff</th>\n",
       "      <th>age</th>\n",
       "    </tr>\n",
       "  </thead>\n",
       "  <tbody>\n",
       "    <tr>\n",
       "      <th>0</th>\n",
       "      <td>smart</td>\n",
       "      <td>351</td>\n",
       "    </tr>\n",
       "    <tr>\n",
       "      <th>1</th>\n",
       "      <td>ultra</td>\n",
       "      <td>149</td>\n",
       "    </tr>\n",
       "  </tbody>\n",
       "</table>\n",
       "</div>"
      ],
      "text/plain": [
       "  tariff  age\n",
       "0  smart  351\n",
       "1  ultra  149"
      ]
     },
     "execution_count": 24,
     "metadata": {},
     "output_type": "execute_result"
    }
   ],
   "source": [
    "# Посмотрим количество пользователей по каждому тарифу\n",
    "df_usr_c = df_usr.pivot_table(index='tariff', values='age', aggfunc='count')\n",
    "df_usr_c = df_usr_c.reset_index()\n",
    "df_usr_c"
   ]
  },
  {
   "cell_type": "markdown",
   "metadata": {},
   "source": [
    "Получается, что в предоставленных данных, пользователей тарифа smart больше чем в 2 раза, чем пользователей тарифа ultra"
   ]
  },
  {
   "cell_type": "markdown",
   "metadata": {},
   "source": [
    "Посмотрим данные в колонке city"
   ]
  },
  {
   "cell_type": "code",
   "execution_count": 25,
   "metadata": {},
   "outputs": [
    {
     "data": {
      "text/plain": [
       "76"
      ]
     },
     "execution_count": 25,
     "metadata": {},
     "output_type": "execute_result"
    }
   ],
   "source": [
    "# Количество населенных пунктов в таблице\n",
    "len(df_usr['city'].unique())"
   ]
  },
  {
   "cell_type": "code",
   "execution_count": 26,
   "metadata": {},
   "outputs": [
    {
     "data": {
      "text/plain": [
       "array(['Краснодар', 'Москва', 'Стерлитамак', 'Новокузнецк',\n",
       "       'Набережные Челны', 'Ульяновск', 'Челябинск', 'Пермь', 'Тюмень',\n",
       "       'Самара', 'Санкт-Петербург', 'Иваново', 'Чебоксары', 'Омск', 'Уфа',\n",
       "       'Томск', 'Чита', 'Мурманск', 'Петрозаводск', 'Тверь',\n",
       "       'Екатеринбург', 'Махачкала', 'Вологда', 'Череповец', 'Ярославль',\n",
       "       'Сочи', 'Хабаровск', 'Ставрополь', 'Рязань', 'Улан-Удэ', 'Тула',\n",
       "       'Саратов', 'Ростов-на-Дону', 'Казань', 'Иркутск', 'Курск',\n",
       "       'Калуга', 'Якутск', 'Астрахань', 'Химки', 'Владикавказ',\n",
       "       'Волгоград', 'Саранск', 'Ижевск', 'Новосибирск', 'Брянск',\n",
       "       'Тольятти', 'Нижний Тагил', 'Орёл', 'Белгород', 'Воронеж',\n",
       "       'Волжский', 'Курган', 'Барнаул', 'Красноярск', 'Архангельск',\n",
       "       'Липецк', 'Кемерово', 'Киров', 'Сургут', 'Пенза', 'Магнитогорск',\n",
       "       'Нижний Новгород', 'Кострома', 'Владивосток', 'Тамбов', 'Балашиха',\n",
       "       'Севастополь', 'Калининград', 'Оренбург', 'Смоленск',\n",
       "       'Нижневартовск', 'Владимир', 'Новороссийск', 'Грозный', 'Подольск'],\n",
       "      dtype=object)"
      ]
     },
     "execution_count": 26,
     "metadata": {},
     "output_type": "execute_result"
    }
   ],
   "source": [
    "# Уникальные названия населенных пунктов\n",
    "df_usr['city'].unique()"
   ]
  },
  {
   "cell_type": "code",
   "execution_count": 27,
   "metadata": {},
   "outputs": [
    {
     "data": {
      "text/html": [
       "<div>\n",
       "<style scoped>\n",
       "    .dataframe tbody tr th:only-of-type {\n",
       "        vertical-align: middle;\n",
       "    }\n",
       "\n",
       "    .dataframe tbody tr th {\n",
       "        vertical-align: top;\n",
       "    }\n",
       "\n",
       "    .dataframe thead th {\n",
       "        text-align: right;\n",
       "    }\n",
       "</style>\n",
       "<table border=\"1\" class=\"dataframe\">\n",
       "  <thead>\n",
       "    <tr style=\"text-align: right;\">\n",
       "      <th>tariff</th>\n",
       "      <th>city</th>\n",
       "      <th>smart</th>\n",
       "      <th>ultra</th>\n",
       "    </tr>\n",
       "  </thead>\n",
       "  <tbody>\n",
       "    <tr>\n",
       "      <th>31</th>\n",
       "      <td>Москва</td>\n",
       "      <td>67.0</td>\n",
       "      <td>32.0</td>\n",
       "    </tr>\n",
       "    <tr>\n",
       "      <th>50</th>\n",
       "      <td>Санкт-Петербург</td>\n",
       "      <td>30.0</td>\n",
       "      <td>9.0</td>\n",
       "    </tr>\n",
       "    <tr>\n",
       "      <th>18</th>\n",
       "      <td>Казань</td>\n",
       "      <td>13.0</td>\n",
       "      <td>1.0</td>\n",
       "    </tr>\n",
       "    <tr>\n",
       "      <th>39</th>\n",
       "      <td>Новосибирск</td>\n",
       "      <td>11.0</td>\n",
       "      <td>5.0</td>\n",
       "    </tr>\n",
       "    <tr>\n",
       "      <th>40</th>\n",
       "      <td>Омск</td>\n",
       "      <td>10.0</td>\n",
       "      <td>4.0</td>\n",
       "    </tr>\n",
       "    <tr>\n",
       "      <th>66</th>\n",
       "      <td>Ульяновск</td>\n",
       "      <td>10.0</td>\n",
       "      <td>1.0</td>\n",
       "    </tr>\n",
       "    <tr>\n",
       "      <th>14</th>\n",
       "      <td>Екатеринбург</td>\n",
       "      <td>9.0</td>\n",
       "      <td>2.0</td>\n",
       "    </tr>\n",
       "    <tr>\n",
       "      <th>65</th>\n",
       "      <td>Улан-Удэ</td>\n",
       "      <td>7.0</td>\n",
       "      <td>NaN</td>\n",
       "    </tr>\n",
       "    <tr>\n",
       "      <th>49</th>\n",
       "      <td>Самара</td>\n",
       "      <td>7.0</td>\n",
       "      <td>2.0</td>\n",
       "    </tr>\n",
       "    <tr>\n",
       "      <th>33</th>\n",
       "      <td>Набережные Челны</td>\n",
       "      <td>7.0</td>\n",
       "      <td>4.0</td>\n",
       "    </tr>\n",
       "  </tbody>\n",
       "</table>\n",
       "</div>"
      ],
      "text/plain": [
       "tariff              city  smart  ultra\n",
       "31                Москва   67.0   32.0\n",
       "50       Санкт-Петербург   30.0    9.0\n",
       "18                Казань   13.0    1.0\n",
       "39           Новосибирск   11.0    5.0\n",
       "40                  Омск   10.0    4.0\n",
       "66             Ульяновск   10.0    1.0\n",
       "14          Екатеринбург    9.0    2.0\n",
       "65              Улан-Удэ    7.0    NaN\n",
       "49                Самара    7.0    2.0\n",
       "33      Набережные Челны    7.0    4.0"
      ]
     },
     "execution_count": 27,
     "metadata": {},
     "output_type": "execute_result"
    }
   ],
   "source": [
    "# Список городов с большим количеством пользователей\n",
    "df_city_usr = df_usr.pivot_table(index='city', columns='tariff', values='age', aggfunc='count')\n",
    "df_city_usr = df_city_usr.reset_index()\n",
    "df_city_usr.sort_values(by=['smart'],ascending=False).head(10)"
   ]
  },
  {
   "cell_type": "markdown",
   "metadata": {},
   "source": [
    "В колонке city нет неявных дубликатов. Никаких корректировок не требуется.\n",
    "Наибольшее количество пользователей тарифов зарегистрированно в Москве и Санкт-Петербурге"
   ]
  },
  {
   "cell_type": "markdown",
   "metadata": {},
   "source": [
    "Проверим как долго клиенты пользовались тарифами. Добавим колонки с месяцем и днем регистрации, а также с месяцем и днем отключения тарифа. Посчитаем кол-во месяцев пользования тарифами до конца 2018 года."
   ]
  },
  {
   "cell_type": "code",
   "execution_count": 28,
   "metadata": {},
   "outputs": [],
   "source": [
    "# добавим колонку для обозначения если пользователь прекратил использование тарифа\n",
    "df_usr['churn_date'] = df_usr['churn_date'].fillna(0)\n",
    "df_usr['subscrib_canceled'] = df_usr['churn_date'].apply(lambda x: 'False' if x == 0 else 'True')"
   ]
  },
  {
   "cell_type": "code",
   "execution_count": 29,
   "metadata": {},
   "outputs": [
    {
     "data": {
      "text/html": [
       "<div>\n",
       "<style scoped>\n",
       "    .dataframe tbody tr th:only-of-type {\n",
       "        vertical-align: middle;\n",
       "    }\n",
       "\n",
       "    .dataframe tbody tr th {\n",
       "        vertical-align: top;\n",
       "    }\n",
       "\n",
       "    .dataframe thead th {\n",
       "        text-align: right;\n",
       "    }\n",
       "</style>\n",
       "<table border=\"1\" class=\"dataframe\">\n",
       "  <thead>\n",
       "    <tr style=\"text-align: right;\">\n",
       "      <th></th>\n",
       "      <th>user_id</th>\n",
       "      <th>age</th>\n",
       "      <th>churn_date</th>\n",
       "      <th>city</th>\n",
       "      <th>reg_date</th>\n",
       "      <th>tariff</th>\n",
       "      <th>subscrib_canceled</th>\n",
       "    </tr>\n",
       "  </thead>\n",
       "  <tbody>\n",
       "    <tr>\n",
       "      <th>0</th>\n",
       "      <td>1000</td>\n",
       "      <td>52</td>\n",
       "      <td>0</td>\n",
       "      <td>Краснодар</td>\n",
       "      <td>2018-05-25</td>\n",
       "      <td>ultra</td>\n",
       "      <td>False</td>\n",
       "    </tr>\n",
       "    <tr>\n",
       "      <th>1</th>\n",
       "      <td>1001</td>\n",
       "      <td>41</td>\n",
       "      <td>0</td>\n",
       "      <td>Москва</td>\n",
       "      <td>2018-11-01</td>\n",
       "      <td>smart</td>\n",
       "      <td>False</td>\n",
       "    </tr>\n",
       "    <tr>\n",
       "      <th>2</th>\n",
       "      <td>1002</td>\n",
       "      <td>59</td>\n",
       "      <td>0</td>\n",
       "      <td>Стерлитамак</td>\n",
       "      <td>2018-06-17</td>\n",
       "      <td>smart</td>\n",
       "      <td>False</td>\n",
       "    </tr>\n",
       "  </tbody>\n",
       "</table>\n",
       "</div>"
      ],
      "text/plain": [
       "   user_id  age churn_date         city    reg_date tariff subscrib_canceled\n",
       "0     1000   52          0    Краснодар  2018-05-25  ultra             False\n",
       "1     1001   41          0       Москва  2018-11-01  smart             False\n",
       "2     1002   59          0  Стерлитамак  2018-06-17  smart             False"
      ]
     },
     "execution_count": 29,
     "metadata": {},
     "output_type": "execute_result"
    }
   ],
   "source": [
    "df_usr.head(3)"
   ]
  },
  {
   "cell_type": "code",
   "execution_count": 30,
   "metadata": {},
   "outputs": [
    {
     "data": {
      "text/html": [
       "<div>\n",
       "<style scoped>\n",
       "    .dataframe tbody tr th:only-of-type {\n",
       "        vertical-align: middle;\n",
       "    }\n",
       "\n",
       "    .dataframe tbody tr th {\n",
       "        vertical-align: top;\n",
       "    }\n",
       "\n",
       "    .dataframe thead th {\n",
       "        text-align: right;\n",
       "    }\n",
       "</style>\n",
       "<table border=\"1\" class=\"dataframe\">\n",
       "  <thead>\n",
       "    <tr style=\"text-align: right;\">\n",
       "      <th></th>\n",
       "      <th>age</th>\n",
       "    </tr>\n",
       "    <tr>\n",
       "      <th>tariff</th>\n",
       "      <th></th>\n",
       "    </tr>\n",
       "  </thead>\n",
       "  <tbody>\n",
       "    <tr>\n",
       "      <th>smart</th>\n",
       "      <td>23</td>\n",
       "    </tr>\n",
       "    <tr>\n",
       "      <th>ultra</th>\n",
       "      <td>15</td>\n",
       "    </tr>\n",
       "  </tbody>\n",
       "</table>\n",
       "</div>"
      ],
      "text/plain": [
       "        age\n",
       "tariff     \n",
       "smart    23\n",
       "ultra    15"
      ]
     },
     "execution_count": 30,
     "metadata": {},
     "output_type": "execute_result"
    }
   ],
   "source": [
    "# Посмотрим кол-во пользователей двух тарифов, которые прекратили использование пакетов\n",
    "df_usr.query('churn_date !=0').pivot_table(index='tariff', values='age', aggfunc='count')"
   ]
  },
  {
   "cell_type": "code",
   "execution_count": 31,
   "metadata": {},
   "outputs": [],
   "source": [
    "# добавим колонку с месяцем подключения\n",
    "df_usr['month'] = df_usr.apply(lambda row: int(datetime.strptime(row['reg_date'], '%Y-%m-%d').strftime(\"%m\")), axis=1)"
   ]
  },
  {
   "cell_type": "code",
   "execution_count": 32,
   "metadata": {},
   "outputs": [],
   "source": [
    "# добавим колонку с днем подключения\n",
    "df_usr['day'] = df_usr.apply(lambda row: int(datetime.strptime(row['reg_date'], '%Y-%m-%d').strftime(\"%d\")), axis=1)"
   ]
  },
  {
   "cell_type": "code",
   "execution_count": 33,
   "metadata": {},
   "outputs": [
    {
     "data": {
      "text/html": [
       "<div>\n",
       "<style scoped>\n",
       "    .dataframe tbody tr th:only-of-type {\n",
       "        vertical-align: middle;\n",
       "    }\n",
       "\n",
       "    .dataframe tbody tr th {\n",
       "        vertical-align: top;\n",
       "    }\n",
       "\n",
       "    .dataframe thead th {\n",
       "        text-align: right;\n",
       "    }\n",
       "</style>\n",
       "<table border=\"1\" class=\"dataframe\">\n",
       "  <thead>\n",
       "    <tr style=\"text-align: right;\">\n",
       "      <th></th>\n",
       "      <th>user_id</th>\n",
       "      <th>age</th>\n",
       "      <th>churn_date</th>\n",
       "      <th>city</th>\n",
       "      <th>reg_date</th>\n",
       "      <th>tariff</th>\n",
       "      <th>subscrib_canceled</th>\n",
       "      <th>month</th>\n",
       "      <th>day</th>\n",
       "    </tr>\n",
       "  </thead>\n",
       "  <tbody>\n",
       "    <tr>\n",
       "      <th>0</th>\n",
       "      <td>1000</td>\n",
       "      <td>52</td>\n",
       "      <td>0</td>\n",
       "      <td>Краснодар</td>\n",
       "      <td>2018-05-25</td>\n",
       "      <td>ultra</td>\n",
       "      <td>False</td>\n",
       "      <td>5</td>\n",
       "      <td>25</td>\n",
       "    </tr>\n",
       "    <tr>\n",
       "      <th>1</th>\n",
       "      <td>1001</td>\n",
       "      <td>41</td>\n",
       "      <td>0</td>\n",
       "      <td>Москва</td>\n",
       "      <td>2018-11-01</td>\n",
       "      <td>smart</td>\n",
       "      <td>False</td>\n",
       "      <td>11</td>\n",
       "      <td>1</td>\n",
       "    </tr>\n",
       "    <tr>\n",
       "      <th>2</th>\n",
       "      <td>1002</td>\n",
       "      <td>59</td>\n",
       "      <td>0</td>\n",
       "      <td>Стерлитамак</td>\n",
       "      <td>2018-06-17</td>\n",
       "      <td>smart</td>\n",
       "      <td>False</td>\n",
       "      <td>6</td>\n",
       "      <td>17</td>\n",
       "    </tr>\n",
       "  </tbody>\n",
       "</table>\n",
       "</div>"
      ],
      "text/plain": [
       "   user_id  age churn_date         city    reg_date tariff subscrib_canceled  \\\n",
       "0     1000   52          0    Краснодар  2018-05-25  ultra             False   \n",
       "1     1001   41          0       Москва  2018-11-01  smart             False   \n",
       "2     1002   59          0  Стерлитамак  2018-06-17  smart             False   \n",
       "\n",
       "   month  day  \n",
       "0      5   25  \n",
       "1     11    1  \n",
       "2      6   17  "
      ]
     },
     "execution_count": 33,
     "metadata": {},
     "output_type": "execute_result"
    }
   ],
   "source": [
    "df_usr.head(3)"
   ]
  },
  {
   "cell_type": "code",
   "execution_count": 34,
   "metadata": {},
   "outputs": [],
   "source": [
    "# добавим колонку с последним месяцем пользования тарифом (месяц отключения или последний месяц года)\n",
    "df_usr['month_c'] = df_usr['churn_date'].apply(lambda row: int(datetime.strptime(row, '%Y-%m-%d').strftime(\"%m\")) \n",
    "                                 if row !=0 else 12)"
   ]
  },
  {
   "cell_type": "code",
   "execution_count": 35,
   "metadata": {},
   "outputs": [],
   "source": [
    "# добавим колонку с последним днем использования тарифом\n",
    "df_usr['day_c'] = df_usr['churn_date'].apply(lambda row: int(datetime.strptime(row, '%Y-%m-%d').strftime(\"%d\")) \n",
    "                                 if row !=0 else 31)"
   ]
  },
  {
   "cell_type": "code",
   "execution_count": 36,
   "metadata": {},
   "outputs": [
    {
     "data": {
      "text/html": [
       "<div>\n",
       "<style scoped>\n",
       "    .dataframe tbody tr th:only-of-type {\n",
       "        vertical-align: middle;\n",
       "    }\n",
       "\n",
       "    .dataframe tbody tr th {\n",
       "        vertical-align: top;\n",
       "    }\n",
       "\n",
       "    .dataframe thead th {\n",
       "        text-align: right;\n",
       "    }\n",
       "</style>\n",
       "<table border=\"1\" class=\"dataframe\">\n",
       "  <thead>\n",
       "    <tr style=\"text-align: right;\">\n",
       "      <th></th>\n",
       "      <th>user_id</th>\n",
       "      <th>age</th>\n",
       "      <th>churn_date</th>\n",
       "      <th>city</th>\n",
       "      <th>reg_date</th>\n",
       "      <th>tariff</th>\n",
       "      <th>subscrib_canceled</th>\n",
       "      <th>month</th>\n",
       "      <th>day</th>\n",
       "      <th>month_c</th>\n",
       "      <th>day_c</th>\n",
       "    </tr>\n",
       "  </thead>\n",
       "  <tbody>\n",
       "    <tr>\n",
       "      <th>0</th>\n",
       "      <td>1000</td>\n",
       "      <td>52</td>\n",
       "      <td>0</td>\n",
       "      <td>Краснодар</td>\n",
       "      <td>2018-05-25</td>\n",
       "      <td>ultra</td>\n",
       "      <td>False</td>\n",
       "      <td>5</td>\n",
       "      <td>25</td>\n",
       "      <td>12</td>\n",
       "      <td>31</td>\n",
       "    </tr>\n",
       "    <tr>\n",
       "      <th>1</th>\n",
       "      <td>1001</td>\n",
       "      <td>41</td>\n",
       "      <td>0</td>\n",
       "      <td>Москва</td>\n",
       "      <td>2018-11-01</td>\n",
       "      <td>smart</td>\n",
       "      <td>False</td>\n",
       "      <td>11</td>\n",
       "      <td>1</td>\n",
       "      <td>12</td>\n",
       "      <td>31</td>\n",
       "    </tr>\n",
       "    <tr>\n",
       "      <th>2</th>\n",
       "      <td>1002</td>\n",
       "      <td>59</td>\n",
       "      <td>0</td>\n",
       "      <td>Стерлитамак</td>\n",
       "      <td>2018-06-17</td>\n",
       "      <td>smart</td>\n",
       "      <td>False</td>\n",
       "      <td>6</td>\n",
       "      <td>17</td>\n",
       "      <td>12</td>\n",
       "      <td>31</td>\n",
       "    </tr>\n",
       "  </tbody>\n",
       "</table>\n",
       "</div>"
      ],
      "text/plain": [
       "   user_id  age churn_date         city    reg_date tariff subscrib_canceled  \\\n",
       "0     1000   52          0    Краснодар  2018-05-25  ultra             False   \n",
       "1     1001   41          0       Москва  2018-11-01  smart             False   \n",
       "2     1002   59          0  Стерлитамак  2018-06-17  smart             False   \n",
       "\n",
       "   month  day  month_c  day_c  \n",
       "0      5   25       12     31  \n",
       "1     11    1       12     31  \n",
       "2      6   17       12     31  "
      ]
     },
     "execution_count": 36,
     "metadata": {},
     "output_type": "execute_result"
    }
   ],
   "source": [
    "df_usr.head(3)"
   ]
  },
  {
   "cell_type": "code",
   "execution_count": 37,
   "metadata": {},
   "outputs": [],
   "source": [
    "# Кол-во месяцев использования тарифа\n",
    "df_usr['month_use'] = df_usr['month_c'] -df_usr['month'] "
   ]
  },
  {
   "cell_type": "code",
   "execution_count": 38,
   "metadata": {},
   "outputs": [
    {
     "data": {
      "text/html": [
       "<div>\n",
       "<style scoped>\n",
       "    .dataframe tbody tr th:only-of-type {\n",
       "        vertical-align: middle;\n",
       "    }\n",
       "\n",
       "    .dataframe tbody tr th {\n",
       "        vertical-align: top;\n",
       "    }\n",
       "\n",
       "    .dataframe thead th {\n",
       "        text-align: right;\n",
       "    }\n",
       "</style>\n",
       "<table border=\"1\" class=\"dataframe\">\n",
       "  <thead>\n",
       "    <tr style=\"text-align: right;\">\n",
       "      <th></th>\n",
       "      <th>user_id</th>\n",
       "      <th>age</th>\n",
       "      <th>churn_date</th>\n",
       "      <th>city</th>\n",
       "      <th>reg_date</th>\n",
       "      <th>tariff</th>\n",
       "      <th>subscrib_canceled</th>\n",
       "      <th>month</th>\n",
       "      <th>day</th>\n",
       "      <th>month_c</th>\n",
       "      <th>day_c</th>\n",
       "      <th>month_use</th>\n",
       "    </tr>\n",
       "  </thead>\n",
       "  <tbody>\n",
       "    <tr>\n",
       "      <th>0</th>\n",
       "      <td>1000</td>\n",
       "      <td>52</td>\n",
       "      <td>0</td>\n",
       "      <td>Краснодар</td>\n",
       "      <td>2018-05-25</td>\n",
       "      <td>ultra</td>\n",
       "      <td>False</td>\n",
       "      <td>5</td>\n",
       "      <td>25</td>\n",
       "      <td>12</td>\n",
       "      <td>31</td>\n",
       "      <td>7</td>\n",
       "    </tr>\n",
       "    <tr>\n",
       "      <th>1</th>\n",
       "      <td>1001</td>\n",
       "      <td>41</td>\n",
       "      <td>0</td>\n",
       "      <td>Москва</td>\n",
       "      <td>2018-11-01</td>\n",
       "      <td>smart</td>\n",
       "      <td>False</td>\n",
       "      <td>11</td>\n",
       "      <td>1</td>\n",
       "      <td>12</td>\n",
       "      <td>31</td>\n",
       "      <td>1</td>\n",
       "    </tr>\n",
       "    <tr>\n",
       "      <th>2</th>\n",
       "      <td>1002</td>\n",
       "      <td>59</td>\n",
       "      <td>0</td>\n",
       "      <td>Стерлитамак</td>\n",
       "      <td>2018-06-17</td>\n",
       "      <td>smart</td>\n",
       "      <td>False</td>\n",
       "      <td>6</td>\n",
       "      <td>17</td>\n",
       "      <td>12</td>\n",
       "      <td>31</td>\n",
       "      <td>6</td>\n",
       "    </tr>\n",
       "  </tbody>\n",
       "</table>\n",
       "</div>"
      ],
      "text/plain": [
       "   user_id  age churn_date         city    reg_date tariff subscrib_canceled  \\\n",
       "0     1000   52          0    Краснодар  2018-05-25  ultra             False   \n",
       "1     1001   41          0       Москва  2018-11-01  smart             False   \n",
       "2     1002   59          0  Стерлитамак  2018-06-17  smart             False   \n",
       "\n",
       "   month  day  month_c  day_c  month_use  \n",
       "0      5   25       12     31          7  \n",
       "1     11    1       12     31          1  \n",
       "2      6   17       12     31          6  "
      ]
     },
     "execution_count": 38,
     "metadata": {},
     "output_type": "execute_result"
    }
   ],
   "source": [
    "df_usr.head(3)"
   ]
  },
  {
   "cell_type": "code",
   "execution_count": 39,
   "metadata": {},
   "outputs": [
    {
     "data": {
      "text/plain": [
       "array([ 7,  1,  6,  4, 11, 10,  8,  0,  9,  5,  2,  3], dtype=int64)"
      ]
     },
     "execution_count": 39,
     "metadata": {},
     "output_type": "execute_result"
    }
   ],
   "source": [
    "# Уникальные значения колонки month_use\n",
    "df_usr['month_use'].unique()"
   ]
  },
  {
   "cell_type": "code",
   "execution_count": 40,
   "metadata": {},
   "outputs": [
    {
     "data": {
      "text/html": [
       "<div>\n",
       "<style scoped>\n",
       "    .dataframe tbody tr th:only-of-type {\n",
       "        vertical-align: middle;\n",
       "    }\n",
       "\n",
       "    .dataframe tbody tr th {\n",
       "        vertical-align: top;\n",
       "    }\n",
       "\n",
       "    .dataframe thead th {\n",
       "        text-align: right;\n",
       "    }\n",
       "</style>\n",
       "<table border=\"1\" class=\"dataframe\">\n",
       "  <thead>\n",
       "    <tr style=\"text-align: right;\">\n",
       "      <th></th>\n",
       "      <th>month_use</th>\n",
       "      <th>tariff</th>\n",
       "      <th>user_id</th>\n",
       "    </tr>\n",
       "  </thead>\n",
       "  <tbody>\n",
       "    <tr>\n",
       "      <th>0</th>\n",
       "      <td>0</td>\n",
       "      <td>smart</td>\n",
       "      <td>28</td>\n",
       "    </tr>\n",
       "    <tr>\n",
       "      <th>1</th>\n",
       "      <td>0</td>\n",
       "      <td>ultra</td>\n",
       "      <td>8</td>\n",
       "    </tr>\n",
       "    <tr>\n",
       "      <th>2</th>\n",
       "      <td>1</td>\n",
       "      <td>smart</td>\n",
       "      <td>28</td>\n",
       "    </tr>\n",
       "    <tr>\n",
       "      <th>3</th>\n",
       "      <td>1</td>\n",
       "      <td>ultra</td>\n",
       "      <td>15</td>\n",
       "    </tr>\n",
       "    <tr>\n",
       "      <th>4</th>\n",
       "      <td>2</td>\n",
       "      <td>smart</td>\n",
       "      <td>35</td>\n",
       "    </tr>\n",
       "    <tr>\n",
       "      <th>5</th>\n",
       "      <td>2</td>\n",
       "      <td>ultra</td>\n",
       "      <td>12</td>\n",
       "    </tr>\n",
       "    <tr>\n",
       "      <th>6</th>\n",
       "      <td>3</td>\n",
       "      <td>smart</td>\n",
       "      <td>27</td>\n",
       "    </tr>\n",
       "    <tr>\n",
       "      <th>7</th>\n",
       "      <td>3</td>\n",
       "      <td>ultra</td>\n",
       "      <td>8</td>\n",
       "    </tr>\n",
       "    <tr>\n",
       "      <th>8</th>\n",
       "      <td>4</td>\n",
       "      <td>smart</td>\n",
       "      <td>36</td>\n",
       "    </tr>\n",
       "    <tr>\n",
       "      <th>9</th>\n",
       "      <td>4</td>\n",
       "      <td>ultra</td>\n",
       "      <td>18</td>\n",
       "    </tr>\n",
       "    <tr>\n",
       "      <th>10</th>\n",
       "      <td>5</td>\n",
       "      <td>smart</td>\n",
       "      <td>35</td>\n",
       "    </tr>\n",
       "    <tr>\n",
       "      <th>11</th>\n",
       "      <td>5</td>\n",
       "      <td>ultra</td>\n",
       "      <td>7</td>\n",
       "    </tr>\n",
       "    <tr>\n",
       "      <th>12</th>\n",
       "      <td>6</td>\n",
       "      <td>smart</td>\n",
       "      <td>23</td>\n",
       "    </tr>\n",
       "    <tr>\n",
       "      <th>13</th>\n",
       "      <td>6</td>\n",
       "      <td>ultra</td>\n",
       "      <td>15</td>\n",
       "    </tr>\n",
       "    <tr>\n",
       "      <th>14</th>\n",
       "      <td>7</td>\n",
       "      <td>smart</td>\n",
       "      <td>31</td>\n",
       "    </tr>\n",
       "    <tr>\n",
       "      <th>15</th>\n",
       "      <td>7</td>\n",
       "      <td>ultra</td>\n",
       "      <td>14</td>\n",
       "    </tr>\n",
       "    <tr>\n",
       "      <th>16</th>\n",
       "      <td>8</td>\n",
       "      <td>smart</td>\n",
       "      <td>34</td>\n",
       "    </tr>\n",
       "    <tr>\n",
       "      <th>17</th>\n",
       "      <td>8</td>\n",
       "      <td>ultra</td>\n",
       "      <td>18</td>\n",
       "    </tr>\n",
       "    <tr>\n",
       "      <th>18</th>\n",
       "      <td>9</td>\n",
       "      <td>smart</td>\n",
       "      <td>19</td>\n",
       "    </tr>\n",
       "    <tr>\n",
       "      <th>19</th>\n",
       "      <td>9</td>\n",
       "      <td>ultra</td>\n",
       "      <td>13</td>\n",
       "    </tr>\n",
       "    <tr>\n",
       "      <th>20</th>\n",
       "      <td>10</td>\n",
       "      <td>smart</td>\n",
       "      <td>22</td>\n",
       "    </tr>\n",
       "    <tr>\n",
       "      <th>21</th>\n",
       "      <td>10</td>\n",
       "      <td>ultra</td>\n",
       "      <td>13</td>\n",
       "    </tr>\n",
       "    <tr>\n",
       "      <th>22</th>\n",
       "      <td>11</td>\n",
       "      <td>smart</td>\n",
       "      <td>33</td>\n",
       "    </tr>\n",
       "    <tr>\n",
       "      <th>23</th>\n",
       "      <td>11</td>\n",
       "      <td>ultra</td>\n",
       "      <td>8</td>\n",
       "    </tr>\n",
       "  </tbody>\n",
       "</table>\n",
       "</div>"
      ],
      "text/plain": [
       "    month_use tariff  user_id\n",
       "0           0  smart       28\n",
       "1           0  ultra        8\n",
       "2           1  smart       28\n",
       "3           1  ultra       15\n",
       "4           2  smart       35\n",
       "5           2  ultra       12\n",
       "6           3  smart       27\n",
       "7           3  ultra        8\n",
       "8           4  smart       36\n",
       "9           4  ultra       18\n",
       "10          5  smart       35\n",
       "11          5  ultra        7\n",
       "12          6  smart       23\n",
       "13          6  ultra       15\n",
       "14          7  smart       31\n",
       "15          7  ultra       14\n",
       "16          8  smart       34\n",
       "17          8  ultra       18\n",
       "18          9  smart       19\n",
       "19          9  ultra       13\n",
       "20         10  smart       22\n",
       "21         10  ultra       13\n",
       "22         11  smart       33\n",
       "23         11  ultra        8"
      ]
     },
     "execution_count": 40,
     "metadata": {},
     "output_type": "execute_result"
    }
   ],
   "source": [
    "# Посмотрим распределение клиентов по количеству месяцев использования\n",
    "df_usr_count_m = df_usr.pivot_table(index=['month_use','tariff'], values='user_id', aggfunc='count')\n",
    "df_usr_count_m =df_usr_count_m.reset_index()\n",
    "df_usr_count_m"
   ]
  },
  {
   "cell_type": "code",
   "execution_count": 41,
   "metadata": {},
   "outputs": [
    {
     "name": "stdout",
     "output_type": "stream",
     "text": [
      "Количесво пользовалетей тарифа smart, которые пользовались тарифом меньше месяца 3.42%\n",
      "Количесво пользовалетей тарифа ultra, которые пользовались тарифом меньше месяца 8.05%\n"
     ]
    }
   ],
   "source": [
    "#Количество пользователей, которые пользовались тарифом меньше месяца\n",
    "prc_smart_0 = len(df_usr_count_m[df_usr_count_m['tariff']=='smart'])/len(df_usr[df_usr['tariff']=='smart'])\n",
    "prc_ultra_0 = len(df_usr_count_m[df_usr_count_m['tariff']=='ultra'])/len(df_usr[df_usr['tariff']=='ultra'])                       \n",
    "print(f'Количесво пользовалетей тарифа smart, которые пользовались тарифом меньше месяца {prc_smart_0:.2%}')\n",
    "print(f'Количесво пользовалетей тарифа ultra, которые пользовались тарифом меньше месяца {prc_ultra_0:.2%}')"
   ]
  },
  {
   "cell_type": "code",
   "execution_count": 42,
   "metadata": {},
   "outputs": [
    {
     "data": {
      "text/plain": [
       "[1008,\n",
       " 1022,\n",
       " 1069,\n",
       " 1074,\n",
       " 1084,\n",
       " 1095,\n",
       " 1103,\n",
       " 1117,\n",
       " 1128,\n",
       " 1129,\n",
       " 1131,\n",
       " 1137,\n",
       " 1140,\n",
       " 1141,\n",
       " 1170,\n",
       " 1190,\n",
       " 1192,\n",
       " 1194,\n",
       " 1223,\n",
       " 1234,\n",
       " 1236,\n",
       " 1252,\n",
       " 1258,\n",
       " 1278,\n",
       " 1297,\n",
       " 1336,\n",
       " 1349,\n",
       " 1368,\n",
       " 1371,\n",
       " 1387,\n",
       " 1397,\n",
       " 1398,\n",
       " 1406,\n",
       " 1434,\n",
       " 1445,\n",
       " 1485]"
      ]
     },
     "execution_count": 42,
     "metadata": {},
     "output_type": "execute_result"
    }
   ],
   "source": [
    "# Список клиентов, которые пользовались тарифом меньше месяца\n",
    "df_usr_exclud_list = list(df_usr[(df_usr['month_use']==0)]['user_id'].unique())\n",
    "df_usr_exclud_list"
   ]
  },
  {
   "cell_type": "markdown",
   "metadata": {},
   "source": [
    "##### Таблица users. Выводы:\n",
    "Из 500 данных, 351 клиент пользуется тарифом smart и 149 - тарифом ultra.\n",
    "36 клиентов (28 пользователи тарифа smart и 8 - ultra) пользовались услугами меньше месяца. Эти пользователи будут в дальнейшем исключены из анализа на определение наиболее выгодного тарифа для сотового оператора.\n",
    "\n",
    "В данных присутствуют записи 38 клиентов, которые прекратили использование тарифа. В данном анализе мы не будем исключать из анализа этих клиентов, если на момент отключения тарифа они им пользовались больше месяца."
   ]
  },
  {
   "cell_type": "markdown",
   "metadata": {},
   "source": [
    "Создадим талбицу пользователь - тариф "
   ]
  },
  {
   "cell_type": "code",
   "execution_count": 43,
   "metadata": {},
   "outputs": [
    {
     "data": {
      "text/html": [
       "<div>\n",
       "<style scoped>\n",
       "    .dataframe tbody tr th:only-of-type {\n",
       "        vertical-align: middle;\n",
       "    }\n",
       "\n",
       "    .dataframe tbody tr th {\n",
       "        vertical-align: top;\n",
       "    }\n",
       "\n",
       "    .dataframe thead th {\n",
       "        text-align: right;\n",
       "    }\n",
       "</style>\n",
       "<table border=\"1\" class=\"dataframe\">\n",
       "  <thead>\n",
       "    <tr style=\"text-align: right;\">\n",
       "      <th></th>\n",
       "      <th>user_id</th>\n",
       "      <th>tariff</th>\n",
       "    </tr>\n",
       "  </thead>\n",
       "  <tbody>\n",
       "    <tr>\n",
       "      <th>0</th>\n",
       "      <td>1000</td>\n",
       "      <td>ultra</td>\n",
       "    </tr>\n",
       "    <tr>\n",
       "      <th>1</th>\n",
       "      <td>1001</td>\n",
       "      <td>smart</td>\n",
       "    </tr>\n",
       "    <tr>\n",
       "      <th>2</th>\n",
       "      <td>1002</td>\n",
       "      <td>smart</td>\n",
       "    </tr>\n",
       "  </tbody>\n",
       "</table>\n",
       "</div>"
      ],
      "text/plain": [
       "   user_id tariff\n",
       "0     1000  ultra\n",
       "1     1001  smart\n",
       "2     1002  smart"
      ]
     },
     "execution_count": 43,
     "metadata": {},
     "output_type": "execute_result"
    }
   ],
   "source": [
    "usr_tariff = df_usr.loc[:,['user_id', 'tariff']]\n",
    "usr_tariff.head(3)"
   ]
  },
  {
   "cell_type": "markdown",
   "metadata": {},
   "source": [
    "##### Таблица calls"
   ]
  },
  {
   "cell_type": "code",
   "execution_count": 44,
   "metadata": {},
   "outputs": [
    {
     "data": {
      "text/html": [
       "<div>\n",
       "<style scoped>\n",
       "    .dataframe tbody tr th:only-of-type {\n",
       "        vertical-align: middle;\n",
       "    }\n",
       "\n",
       "    .dataframe tbody tr th {\n",
       "        vertical-align: top;\n",
       "    }\n",
       "\n",
       "    .dataframe thead th {\n",
       "        text-align: right;\n",
       "    }\n",
       "</style>\n",
       "<table border=\"1\" class=\"dataframe\">\n",
       "  <thead>\n",
       "    <tr style=\"text-align: right;\">\n",
       "      <th></th>\n",
       "      <th>id</th>\n",
       "      <th>call_date</th>\n",
       "      <th>duration</th>\n",
       "      <th>user_id</th>\n",
       "    </tr>\n",
       "  </thead>\n",
       "  <tbody>\n",
       "    <tr>\n",
       "      <th>0</th>\n",
       "      <td>1000_0</td>\n",
       "      <td>2018-07-25</td>\n",
       "      <td>0.00</td>\n",
       "      <td>1000</td>\n",
       "    </tr>\n",
       "    <tr>\n",
       "      <th>1</th>\n",
       "      <td>1000_1</td>\n",
       "      <td>2018-08-17</td>\n",
       "      <td>0.00</td>\n",
       "      <td>1000</td>\n",
       "    </tr>\n",
       "    <tr>\n",
       "      <th>2</th>\n",
       "      <td>1000_2</td>\n",
       "      <td>2018-06-11</td>\n",
       "      <td>2.85</td>\n",
       "      <td>1000</td>\n",
       "    </tr>\n",
       "  </tbody>\n",
       "</table>\n",
       "</div>"
      ],
      "text/plain": [
       "       id   call_date  duration  user_id\n",
       "0  1000_0  2018-07-25      0.00     1000\n",
       "1  1000_1  2018-08-17      0.00     1000\n",
       "2  1000_2  2018-06-11      2.85     1000"
      ]
     },
     "execution_count": 44,
     "metadata": {},
     "output_type": "execute_result"
    }
   ],
   "source": [
    "df_calls.head(3)"
   ]
  },
  {
   "cell_type": "code",
   "execution_count": 45,
   "metadata": {},
   "outputs": [
    {
     "name": "stdout",
     "output_type": "stream",
     "text": [
      "Количество дубликатов: 0\n"
     ]
    }
   ],
   "source": [
    "# Проверка наличия дубликатов\n",
    "print(f'Количество дубликатов: {len(df_calls)-df_calls.duplicated().value_counts()[0]}')"
   ]
  },
  {
   "cell_type": "code",
   "execution_count": 46,
   "metadata": {},
   "outputs": [],
   "source": [
    "# Удалим строки с пропущенными звонками\n",
    "df_calls = df_calls.drop(df_calls[df_calls.duration == 0].index)\n",
    "df_calls = df_calls.reset_index()"
   ]
  },
  {
   "cell_type": "code",
   "execution_count": 47,
   "metadata": {},
   "outputs": [
    {
     "data": {
      "text/html": [
       "<div>\n",
       "<style scoped>\n",
       "    .dataframe tbody tr th:only-of-type {\n",
       "        vertical-align: middle;\n",
       "    }\n",
       "\n",
       "    .dataframe tbody tr th {\n",
       "        vertical-align: top;\n",
       "    }\n",
       "\n",
       "    .dataframe thead th {\n",
       "        text-align: right;\n",
       "    }\n",
       "</style>\n",
       "<table border=\"1\" class=\"dataframe\">\n",
       "  <thead>\n",
       "    <tr style=\"text-align: right;\">\n",
       "      <th></th>\n",
       "      <th>index</th>\n",
       "      <th>id</th>\n",
       "      <th>call_date</th>\n",
       "      <th>duration</th>\n",
       "      <th>user_id</th>\n",
       "    </tr>\n",
       "  </thead>\n",
       "  <tbody>\n",
       "    <tr>\n",
       "      <th>0</th>\n",
       "      <td>2</td>\n",
       "      <td>1000_2</td>\n",
       "      <td>2018-06-11</td>\n",
       "      <td>2.85</td>\n",
       "      <td>1000</td>\n",
       "    </tr>\n",
       "    <tr>\n",
       "      <th>1</th>\n",
       "      <td>3</td>\n",
       "      <td>1000_3</td>\n",
       "      <td>2018-09-21</td>\n",
       "      <td>13.80</td>\n",
       "      <td>1000</td>\n",
       "    </tr>\n",
       "    <tr>\n",
       "      <th>2</th>\n",
       "      <td>4</td>\n",
       "      <td>1000_4</td>\n",
       "      <td>2018-12-15</td>\n",
       "      <td>5.18</td>\n",
       "      <td>1000</td>\n",
       "    </tr>\n",
       "  </tbody>\n",
       "</table>\n",
       "</div>"
      ],
      "text/plain": [
       "   index      id   call_date  duration  user_id\n",
       "0      2  1000_2  2018-06-11      2.85     1000\n",
       "1      3  1000_3  2018-09-21     13.80     1000\n",
       "2      4  1000_4  2018-12-15      5.18     1000"
      ]
     },
     "execution_count": 47,
     "metadata": {},
     "output_type": "execute_result"
    }
   ],
   "source": [
    "df_calls.head(3)"
   ]
  },
  {
   "cell_type": "markdown",
   "metadata": {},
   "source": [
    "Удалим пользователей, которые пользовались тарифом меньше месяца"
   ]
  },
  {
   "cell_type": "code",
   "execution_count": 48,
   "metadata": {},
   "outputs": [],
   "source": [
    "for row in df_usr_exclud_list:\n",
    "    try:\n",
    "        df_calls = df_calls.drop(df_calls[df_calls.user_id == row].index)\n",
    "    except:\n",
    "        pass"
   ]
  },
  {
   "cell_type": "code",
   "execution_count": 49,
   "metadata": {},
   "outputs": [],
   "source": [
    "df_calls = df_calls.reset_index()"
   ]
  },
  {
   "cell_type": "code",
   "execution_count": 50,
   "metadata": {},
   "outputs": [
    {
     "name": "stdout",
     "output_type": "stream",
     "text": [
      "<class 'pandas.core.frame.DataFrame'>\n",
      "RangeIndex: 161120 entries, 0 to 161119\n",
      "Data columns (total 6 columns):\n",
      " #   Column     Non-Null Count   Dtype  \n",
      "---  ------     --------------   -----  \n",
      " 0   level_0    161120 non-null  int64  \n",
      " 1   index      161120 non-null  int64  \n",
      " 2   id         161120 non-null  object \n",
      " 3   call_date  161120 non-null  object \n",
      " 4   duration   161120 non-null  float64\n",
      " 5   user_id    161120 non-null  int64  \n",
      "dtypes: float64(1), int64(3), object(2)\n",
      "memory usage: 7.4+ MB\n"
     ]
    }
   ],
   "source": [
    "# Посмотрим описание таблицы после удаления строк\n",
    "df_calls.info()"
   ]
  },
  {
   "cell_type": "code",
   "execution_count": 51,
   "metadata": {},
   "outputs": [],
   "source": [
    "# Округлим данные в колонке duration до целого значения в большую сторону\n",
    "df_calls['duration'] = np.ceil(df_calls['duration'])"
   ]
  },
  {
   "cell_type": "code",
   "execution_count": 52,
   "metadata": {},
   "outputs": [
    {
     "data": {
      "text/html": [
       "<div>\n",
       "<style scoped>\n",
       "    .dataframe tbody tr th:only-of-type {\n",
       "        vertical-align: middle;\n",
       "    }\n",
       "\n",
       "    .dataframe tbody tr th {\n",
       "        vertical-align: top;\n",
       "    }\n",
       "\n",
       "    .dataframe thead th {\n",
       "        text-align: right;\n",
       "    }\n",
       "</style>\n",
       "<table border=\"1\" class=\"dataframe\">\n",
       "  <thead>\n",
       "    <tr style=\"text-align: right;\">\n",
       "      <th></th>\n",
       "      <th>level_0</th>\n",
       "      <th>index</th>\n",
       "      <th>id</th>\n",
       "      <th>call_date</th>\n",
       "      <th>duration</th>\n",
       "      <th>user_id</th>\n",
       "    </tr>\n",
       "  </thead>\n",
       "  <tbody>\n",
       "    <tr>\n",
       "      <th>0</th>\n",
       "      <td>0</td>\n",
       "      <td>2</td>\n",
       "      <td>1000_2</td>\n",
       "      <td>2018-06-11</td>\n",
       "      <td>3.0</td>\n",
       "      <td>1000</td>\n",
       "    </tr>\n",
       "    <tr>\n",
       "      <th>1</th>\n",
       "      <td>1</td>\n",
       "      <td>3</td>\n",
       "      <td>1000_3</td>\n",
       "      <td>2018-09-21</td>\n",
       "      <td>14.0</td>\n",
       "      <td>1000</td>\n",
       "    </tr>\n",
       "    <tr>\n",
       "      <th>2</th>\n",
       "      <td>2</td>\n",
       "      <td>4</td>\n",
       "      <td>1000_4</td>\n",
       "      <td>2018-12-15</td>\n",
       "      <td>6.0</td>\n",
       "      <td>1000</td>\n",
       "    </tr>\n",
       "  </tbody>\n",
       "</table>\n",
       "</div>"
      ],
      "text/plain": [
       "   level_0  index      id   call_date  duration  user_id\n",
       "0        0      2  1000_2  2018-06-11       3.0     1000\n",
       "1        1      3  1000_3  2018-09-21      14.0     1000\n",
       "2        2      4  1000_4  2018-12-15       6.0     1000"
      ]
     },
     "execution_count": 52,
     "metadata": {},
     "output_type": "execute_result"
    }
   ],
   "source": [
    "df_calls.head(3)"
   ]
  },
  {
   "cell_type": "code",
   "execution_count": 53,
   "metadata": {},
   "outputs": [],
   "source": [
    "# добавим колонку с месяцем звонка\n",
    "df_calls['month'] = df_calls.apply(lambda row: int(datetime.strptime(row['call_date'], '%Y-%m-%d').strftime(\"%m\")), axis=1)"
   ]
  },
  {
   "cell_type": "code",
   "execution_count": 54,
   "metadata": {},
   "outputs": [
    {
     "data": {
      "text/html": [
       "<div>\n",
       "<style scoped>\n",
       "    .dataframe tbody tr th:only-of-type {\n",
       "        vertical-align: middle;\n",
       "    }\n",
       "\n",
       "    .dataframe tbody tr th {\n",
       "        vertical-align: top;\n",
       "    }\n",
       "\n",
       "    .dataframe thead th {\n",
       "        text-align: right;\n",
       "    }\n",
       "</style>\n",
       "<table border=\"1\" class=\"dataframe\">\n",
       "  <thead>\n",
       "    <tr style=\"text-align: right;\">\n",
       "      <th></th>\n",
       "      <th>level_0</th>\n",
       "      <th>index</th>\n",
       "      <th>id</th>\n",
       "      <th>call_date</th>\n",
       "      <th>duration</th>\n",
       "      <th>user_id</th>\n",
       "      <th>month</th>\n",
       "    </tr>\n",
       "  </thead>\n",
       "  <tbody>\n",
       "    <tr>\n",
       "      <th>0</th>\n",
       "      <td>0</td>\n",
       "      <td>2</td>\n",
       "      <td>1000_2</td>\n",
       "      <td>2018-06-11</td>\n",
       "      <td>3.0</td>\n",
       "      <td>1000</td>\n",
       "      <td>6</td>\n",
       "    </tr>\n",
       "    <tr>\n",
       "      <th>1</th>\n",
       "      <td>1</td>\n",
       "      <td>3</td>\n",
       "      <td>1000_3</td>\n",
       "      <td>2018-09-21</td>\n",
       "      <td>14.0</td>\n",
       "      <td>1000</td>\n",
       "      <td>9</td>\n",
       "    </tr>\n",
       "    <tr>\n",
       "      <th>2</th>\n",
       "      <td>2</td>\n",
       "      <td>4</td>\n",
       "      <td>1000_4</td>\n",
       "      <td>2018-12-15</td>\n",
       "      <td>6.0</td>\n",
       "      <td>1000</td>\n",
       "      <td>12</td>\n",
       "    </tr>\n",
       "  </tbody>\n",
       "</table>\n",
       "</div>"
      ],
      "text/plain": [
       "   level_0  index      id   call_date  duration  user_id  month\n",
       "0        0      2  1000_2  2018-06-11       3.0     1000      6\n",
       "1        1      3  1000_3  2018-09-21      14.0     1000      9\n",
       "2        2      4  1000_4  2018-12-15       6.0     1000     12"
      ]
     },
     "execution_count": 54,
     "metadata": {},
     "output_type": "execute_result"
    }
   ],
   "source": [
    "df_calls.head(3)"
   ]
  },
  {
   "cell_type": "code",
   "execution_count": 55,
   "metadata": {},
   "outputs": [
    {
     "data": {
      "text/html": [
       "<div>\n",
       "<style scoped>\n",
       "    .dataframe tbody tr th:only-of-type {\n",
       "        vertical-align: middle;\n",
       "    }\n",
       "\n",
       "    .dataframe tbody tr th {\n",
       "        vertical-align: top;\n",
       "    }\n",
       "\n",
       "    .dataframe thead th {\n",
       "        text-align: right;\n",
       "    }\n",
       "</style>\n",
       "<table border=\"1\" class=\"dataframe\">\n",
       "  <thead>\n",
       "    <tr style=\"text-align: right;\">\n",
       "      <th>month</th>\n",
       "      <th>1</th>\n",
       "      <th>2</th>\n",
       "      <th>3</th>\n",
       "      <th>4</th>\n",
       "      <th>5</th>\n",
       "      <th>6</th>\n",
       "      <th>7</th>\n",
       "      <th>8</th>\n",
       "      <th>9</th>\n",
       "      <th>10</th>\n",
       "      <th>11</th>\n",
       "      <th>12</th>\n",
       "    </tr>\n",
       "    <tr>\n",
       "      <th>user_id</th>\n",
       "      <th></th>\n",
       "      <th></th>\n",
       "      <th></th>\n",
       "      <th></th>\n",
       "      <th></th>\n",
       "      <th></th>\n",
       "      <th></th>\n",
       "      <th></th>\n",
       "      <th></th>\n",
       "      <th></th>\n",
       "      <th></th>\n",
       "      <th></th>\n",
       "    </tr>\n",
       "  </thead>\n",
       "  <tbody>\n",
       "    <tr>\n",
       "      <th>1000</th>\n",
       "      <td>NaN</td>\n",
       "      <td>NaN</td>\n",
       "      <td>NaN</td>\n",
       "      <td>NaN</td>\n",
       "      <td>159.0</td>\n",
       "      <td>172.0</td>\n",
       "      <td>340.0</td>\n",
       "      <td>408.0</td>\n",
       "      <td>466.0</td>\n",
       "      <td>350.0</td>\n",
       "      <td>338.0</td>\n",
       "      <td>333.0</td>\n",
       "    </tr>\n",
       "    <tr>\n",
       "      <th>1001</th>\n",
       "      <td>NaN</td>\n",
       "      <td>NaN</td>\n",
       "      <td>NaN</td>\n",
       "      <td>NaN</td>\n",
       "      <td>NaN</td>\n",
       "      <td>NaN</td>\n",
       "      <td>NaN</td>\n",
       "      <td>NaN</td>\n",
       "      <td>NaN</td>\n",
       "      <td>NaN</td>\n",
       "      <td>430.0</td>\n",
       "      <td>414.0</td>\n",
       "    </tr>\n",
       "    <tr>\n",
       "      <th>1002</th>\n",
       "      <td>NaN</td>\n",
       "      <td>NaN</td>\n",
       "      <td>NaN</td>\n",
       "      <td>NaN</td>\n",
       "      <td>NaN</td>\n",
       "      <td>117.0</td>\n",
       "      <td>214.0</td>\n",
       "      <td>289.0</td>\n",
       "      <td>206.0</td>\n",
       "      <td>212.0</td>\n",
       "      <td>243.0</td>\n",
       "      <td>236.0</td>\n",
       "    </tr>\n",
       "    <tr>\n",
       "      <th>1003</th>\n",
       "      <td>NaN</td>\n",
       "      <td>NaN</td>\n",
       "      <td>NaN</td>\n",
       "      <td>NaN</td>\n",
       "      <td>NaN</td>\n",
       "      <td>NaN</td>\n",
       "      <td>NaN</td>\n",
       "      <td>380.0</td>\n",
       "      <td>961.0</td>\n",
       "      <td>855.0</td>\n",
       "      <td>824.0</td>\n",
       "      <td>802.0</td>\n",
       "    </tr>\n",
       "    <tr>\n",
       "      <th>1004</th>\n",
       "      <td>NaN</td>\n",
       "      <td>NaN</td>\n",
       "      <td>NaN</td>\n",
       "      <td>NaN</td>\n",
       "      <td>35.0</td>\n",
       "      <td>171.0</td>\n",
       "      <td>135.0</td>\n",
       "      <td>137.0</td>\n",
       "      <td>117.0</td>\n",
       "      <td>145.0</td>\n",
       "      <td>117.0</td>\n",
       "      <td>130.0</td>\n",
       "    </tr>\n",
       "  </tbody>\n",
       "</table>\n",
       "</div>"
      ],
      "text/plain": [
       "month    1   2   3   4      5      6      7      8      9      10     11  \\\n",
       "user_id                                                                    \n",
       "1000    NaN NaN NaN NaN  159.0  172.0  340.0  408.0  466.0  350.0  338.0   \n",
       "1001    NaN NaN NaN NaN    NaN    NaN    NaN    NaN    NaN    NaN  430.0   \n",
       "1002    NaN NaN NaN NaN    NaN  117.0  214.0  289.0  206.0  212.0  243.0   \n",
       "1003    NaN NaN NaN NaN    NaN    NaN    NaN  380.0  961.0  855.0  824.0   \n",
       "1004    NaN NaN NaN NaN   35.0  171.0  135.0  137.0  117.0  145.0  117.0   \n",
       "\n",
       "month       12  \n",
       "user_id         \n",
       "1000     333.0  \n",
       "1001     414.0  \n",
       "1002     236.0  \n",
       "1003     802.0  \n",
       "1004     130.0  "
      ]
     },
     "execution_count": 55,
     "metadata": {},
     "output_type": "execute_result"
    }
   ],
   "source": [
    "#Kоличество израсходованных минут разговора по месяцам\n",
    "call_dur = df_calls.pivot_table(index='user_id', columns = 'month', values='duration', aggfunc='sum')\n",
    "call_dur.head(5)"
   ]
  },
  {
   "cell_type": "code",
   "execution_count": 56,
   "metadata": {},
   "outputs": [
    {
     "data": {
      "text/html": [
       "<div>\n",
       "<style scoped>\n",
       "    .dataframe tbody tr th:only-of-type {\n",
       "        vertical-align: middle;\n",
       "    }\n",
       "\n",
       "    .dataframe tbody tr th {\n",
       "        vertical-align: top;\n",
       "    }\n",
       "\n",
       "    .dataframe thead th {\n",
       "        text-align: right;\n",
       "    }\n",
       "</style>\n",
       "<table border=\"1\" class=\"dataframe\">\n",
       "  <thead>\n",
       "    <tr style=\"text-align: right;\">\n",
       "      <th>month</th>\n",
       "      <th>user_id</th>\n",
       "      <th>1</th>\n",
       "      <th>2</th>\n",
       "      <th>3</th>\n",
       "      <th>4</th>\n",
       "      <th>5</th>\n",
       "      <th>6</th>\n",
       "      <th>7</th>\n",
       "      <th>8</th>\n",
       "      <th>9</th>\n",
       "      <th>10</th>\n",
       "      <th>11</th>\n",
       "      <th>12</th>\n",
       "    </tr>\n",
       "  </thead>\n",
       "  <tbody>\n",
       "    <tr>\n",
       "      <th>0</th>\n",
       "      <td>1000</td>\n",
       "      <td>0.0</td>\n",
       "      <td>0.0</td>\n",
       "      <td>0.0</td>\n",
       "      <td>0.0</td>\n",
       "      <td>159.0</td>\n",
       "      <td>172.0</td>\n",
       "      <td>340.0</td>\n",
       "      <td>408.0</td>\n",
       "      <td>466.0</td>\n",
       "      <td>350.0</td>\n",
       "      <td>338.0</td>\n",
       "      <td>333.0</td>\n",
       "    </tr>\n",
       "    <tr>\n",
       "      <th>1</th>\n",
       "      <td>1001</td>\n",
       "      <td>0.0</td>\n",
       "      <td>0.0</td>\n",
       "      <td>0.0</td>\n",
       "      <td>0.0</td>\n",
       "      <td>0.0</td>\n",
       "      <td>0.0</td>\n",
       "      <td>0.0</td>\n",
       "      <td>0.0</td>\n",
       "      <td>0.0</td>\n",
       "      <td>0.0</td>\n",
       "      <td>430.0</td>\n",
       "      <td>414.0</td>\n",
       "    </tr>\n",
       "    <tr>\n",
       "      <th>2</th>\n",
       "      <td>1002</td>\n",
       "      <td>0.0</td>\n",
       "      <td>0.0</td>\n",
       "      <td>0.0</td>\n",
       "      <td>0.0</td>\n",
       "      <td>0.0</td>\n",
       "      <td>117.0</td>\n",
       "      <td>214.0</td>\n",
       "      <td>289.0</td>\n",
       "      <td>206.0</td>\n",
       "      <td>212.0</td>\n",
       "      <td>243.0</td>\n",
       "      <td>236.0</td>\n",
       "    </tr>\n",
       "    <tr>\n",
       "      <th>3</th>\n",
       "      <td>1003</td>\n",
       "      <td>0.0</td>\n",
       "      <td>0.0</td>\n",
       "      <td>0.0</td>\n",
       "      <td>0.0</td>\n",
       "      <td>0.0</td>\n",
       "      <td>0.0</td>\n",
       "      <td>0.0</td>\n",
       "      <td>380.0</td>\n",
       "      <td>961.0</td>\n",
       "      <td>855.0</td>\n",
       "      <td>824.0</td>\n",
       "      <td>802.0</td>\n",
       "    </tr>\n",
       "    <tr>\n",
       "      <th>4</th>\n",
       "      <td>1004</td>\n",
       "      <td>0.0</td>\n",
       "      <td>0.0</td>\n",
       "      <td>0.0</td>\n",
       "      <td>0.0</td>\n",
       "      <td>35.0</td>\n",
       "      <td>171.0</td>\n",
       "      <td>135.0</td>\n",
       "      <td>137.0</td>\n",
       "      <td>117.0</td>\n",
       "      <td>145.0</td>\n",
       "      <td>117.0</td>\n",
       "      <td>130.0</td>\n",
       "    </tr>\n",
       "  </tbody>\n",
       "</table>\n",
       "</div>"
      ],
      "text/plain": [
       "month  user_id    1    2    3    4      5      6      7      8      9     10  \\\n",
       "0         1000  0.0  0.0  0.0  0.0  159.0  172.0  340.0  408.0  466.0  350.0   \n",
       "1         1001  0.0  0.0  0.0  0.0    0.0    0.0    0.0    0.0    0.0    0.0   \n",
       "2         1002  0.0  0.0  0.0  0.0    0.0  117.0  214.0  289.0  206.0  212.0   \n",
       "3         1003  0.0  0.0  0.0  0.0    0.0    0.0    0.0  380.0  961.0  855.0   \n",
       "4         1004  0.0  0.0  0.0  0.0   35.0  171.0  135.0  137.0  117.0  145.0   \n",
       "\n",
       "month     11     12  \n",
       "0      338.0  333.0  \n",
       "1      430.0  414.0  \n",
       "2      243.0  236.0  \n",
       "3      824.0  802.0  \n",
       "4      117.0  130.0  "
      ]
     },
     "execution_count": 56,
     "metadata": {},
     "output_type": "execute_result"
    }
   ],
   "source": [
    "# Обновим индекс в таблице и заполним пропуски нулями\n",
    "call_dur = call_dur.reset_index()\n",
    "call_dur = call_dur.fillna(0)\n",
    "call_dur.head(5)"
   ]
  },
  {
   "cell_type": "code",
   "execution_count": 57,
   "metadata": {},
   "outputs": [],
   "source": [
    "# добавим колонку с тарифом\n",
    "call_dur = pd.merge(call_dur, usr_tariff, on='user_id')"
   ]
  },
  {
   "cell_type": "code",
   "execution_count": 58,
   "metadata": {},
   "outputs": [
    {
     "data": {
      "text/html": [
       "<div>\n",
       "<style scoped>\n",
       "    .dataframe tbody tr th:only-of-type {\n",
       "        vertical-align: middle;\n",
       "    }\n",
       "\n",
       "    .dataframe tbody tr th {\n",
       "        vertical-align: top;\n",
       "    }\n",
       "\n",
       "    .dataframe thead th {\n",
       "        text-align: right;\n",
       "    }\n",
       "</style>\n",
       "<table border=\"1\" class=\"dataframe\">\n",
       "  <thead>\n",
       "    <tr style=\"text-align: right;\">\n",
       "      <th></th>\n",
       "      <th>user_id</th>\n",
       "      <th>1</th>\n",
       "      <th>2</th>\n",
       "      <th>3</th>\n",
       "      <th>4</th>\n",
       "      <th>5</th>\n",
       "      <th>6</th>\n",
       "      <th>7</th>\n",
       "      <th>8</th>\n",
       "      <th>9</th>\n",
       "      <th>10</th>\n",
       "      <th>11</th>\n",
       "      <th>12</th>\n",
       "      <th>tariff</th>\n",
       "    </tr>\n",
       "  </thead>\n",
       "  <tbody>\n",
       "    <tr>\n",
       "      <th>0</th>\n",
       "      <td>1000</td>\n",
       "      <td>0.0</td>\n",
       "      <td>0.0</td>\n",
       "      <td>0.0</td>\n",
       "      <td>0.0</td>\n",
       "      <td>159.0</td>\n",
       "      <td>172.0</td>\n",
       "      <td>340.0</td>\n",
       "      <td>408.0</td>\n",
       "      <td>466.0</td>\n",
       "      <td>350.0</td>\n",
       "      <td>338.0</td>\n",
       "      <td>333.0</td>\n",
       "      <td>ultra</td>\n",
       "    </tr>\n",
       "    <tr>\n",
       "      <th>1</th>\n",
       "      <td>1001</td>\n",
       "      <td>0.0</td>\n",
       "      <td>0.0</td>\n",
       "      <td>0.0</td>\n",
       "      <td>0.0</td>\n",
       "      <td>0.0</td>\n",
       "      <td>0.0</td>\n",
       "      <td>0.0</td>\n",
       "      <td>0.0</td>\n",
       "      <td>0.0</td>\n",
       "      <td>0.0</td>\n",
       "      <td>430.0</td>\n",
       "      <td>414.0</td>\n",
       "      <td>smart</td>\n",
       "    </tr>\n",
       "    <tr>\n",
       "      <th>2</th>\n",
       "      <td>1002</td>\n",
       "      <td>0.0</td>\n",
       "      <td>0.0</td>\n",
       "      <td>0.0</td>\n",
       "      <td>0.0</td>\n",
       "      <td>0.0</td>\n",
       "      <td>117.0</td>\n",
       "      <td>214.0</td>\n",
       "      <td>289.0</td>\n",
       "      <td>206.0</td>\n",
       "      <td>212.0</td>\n",
       "      <td>243.0</td>\n",
       "      <td>236.0</td>\n",
       "      <td>smart</td>\n",
       "    </tr>\n",
       "    <tr>\n",
       "      <th>3</th>\n",
       "      <td>1003</td>\n",
       "      <td>0.0</td>\n",
       "      <td>0.0</td>\n",
       "      <td>0.0</td>\n",
       "      <td>0.0</td>\n",
       "      <td>0.0</td>\n",
       "      <td>0.0</td>\n",
       "      <td>0.0</td>\n",
       "      <td>380.0</td>\n",
       "      <td>961.0</td>\n",
       "      <td>855.0</td>\n",
       "      <td>824.0</td>\n",
       "      <td>802.0</td>\n",
       "      <td>ultra</td>\n",
       "    </tr>\n",
       "    <tr>\n",
       "      <th>4</th>\n",
       "      <td>1004</td>\n",
       "      <td>0.0</td>\n",
       "      <td>0.0</td>\n",
       "      <td>0.0</td>\n",
       "      <td>0.0</td>\n",
       "      <td>35.0</td>\n",
       "      <td>171.0</td>\n",
       "      <td>135.0</td>\n",
       "      <td>137.0</td>\n",
       "      <td>117.0</td>\n",
       "      <td>145.0</td>\n",
       "      <td>117.0</td>\n",
       "      <td>130.0</td>\n",
       "      <td>ultra</td>\n",
       "    </tr>\n",
       "  </tbody>\n",
       "</table>\n",
       "</div>"
      ],
      "text/plain": [
       "   user_id    1    2    3    4      5      6      7      8      9     10  \\\n",
       "0     1000  0.0  0.0  0.0  0.0  159.0  172.0  340.0  408.0  466.0  350.0   \n",
       "1     1001  0.0  0.0  0.0  0.0    0.0    0.0    0.0    0.0    0.0    0.0   \n",
       "2     1002  0.0  0.0  0.0  0.0    0.0  117.0  214.0  289.0  206.0  212.0   \n",
       "3     1003  0.0  0.0  0.0  0.0    0.0    0.0    0.0  380.0  961.0  855.0   \n",
       "4     1004  0.0  0.0  0.0  0.0   35.0  171.0  135.0  137.0  117.0  145.0   \n",
       "\n",
       "      11     12 tariff  \n",
       "0  338.0  333.0  ultra  \n",
       "1  430.0  414.0  smart  \n",
       "2  243.0  236.0  smart  \n",
       "3  824.0  802.0  ultra  \n",
       "4  117.0  130.0  ultra  "
      ]
     },
     "execution_count": 58,
     "metadata": {},
     "output_type": "execute_result"
    }
   ],
   "source": [
    "call_dur.head(5)"
   ]
  },
  {
   "cell_type": "code",
   "execution_count": 59,
   "metadata": {},
   "outputs": [],
   "source": [
    "# добавим колонку со средней продолжительностю звонков в месяц\n",
    "mean_month_call_dur = []\n",
    "for row in range(0, len(call_dur)):\n",
    "    user_call = call_dur.loc[row, 'user_id']\n",
    "    start_m = df_usr.iloc[df_usr[df_usr['user_id']==user_call].index[0]]['month']\n",
    "    end_m = df_usr.iloc[df_usr[df_usr['user_id']==user_call].index[0]]['month_c']\n",
    "    mean_month_call = call_dur.iloc[row, start_m:end_m+1].median()\n",
    "    mean_month_call_dur.append(mean_month_call)\n",
    "call_dur['mean_m_call_dur'] =mean_month_call_dur"
   ]
  },
  {
   "cell_type": "code",
   "execution_count": 60,
   "metadata": {},
   "outputs": [
    {
     "data": {
      "text/html": [
       "<div>\n",
       "<style scoped>\n",
       "    .dataframe tbody tr th:only-of-type {\n",
       "        vertical-align: middle;\n",
       "    }\n",
       "\n",
       "    .dataframe tbody tr th {\n",
       "        vertical-align: top;\n",
       "    }\n",
       "\n",
       "    .dataframe thead th {\n",
       "        text-align: right;\n",
       "    }\n",
       "</style>\n",
       "<table border=\"1\" class=\"dataframe\">\n",
       "  <thead>\n",
       "    <tr style=\"text-align: right;\">\n",
       "      <th></th>\n",
       "      <th>user_id</th>\n",
       "      <th>1</th>\n",
       "      <th>2</th>\n",
       "      <th>3</th>\n",
       "      <th>4</th>\n",
       "      <th>5</th>\n",
       "      <th>6</th>\n",
       "      <th>7</th>\n",
       "      <th>8</th>\n",
       "      <th>9</th>\n",
       "      <th>10</th>\n",
       "      <th>11</th>\n",
       "      <th>12</th>\n",
       "      <th>tariff</th>\n",
       "      <th>mean_m_call_dur</th>\n",
       "    </tr>\n",
       "  </thead>\n",
       "  <tbody>\n",
       "    <tr>\n",
       "      <th>0</th>\n",
       "      <td>1000</td>\n",
       "      <td>0.0</td>\n",
       "      <td>0.0</td>\n",
       "      <td>0.0</td>\n",
       "      <td>0.0</td>\n",
       "      <td>159.0</td>\n",
       "      <td>172.0</td>\n",
       "      <td>340.0</td>\n",
       "      <td>408.0</td>\n",
       "      <td>466.0</td>\n",
       "      <td>350.0</td>\n",
       "      <td>338.0</td>\n",
       "      <td>333.0</td>\n",
       "      <td>ultra</td>\n",
       "      <td>339.0</td>\n",
       "    </tr>\n",
       "    <tr>\n",
       "      <th>1</th>\n",
       "      <td>1001</td>\n",
       "      <td>0.0</td>\n",
       "      <td>0.0</td>\n",
       "      <td>0.0</td>\n",
       "      <td>0.0</td>\n",
       "      <td>0.0</td>\n",
       "      <td>0.0</td>\n",
       "      <td>0.0</td>\n",
       "      <td>0.0</td>\n",
       "      <td>0.0</td>\n",
       "      <td>0.0</td>\n",
       "      <td>430.0</td>\n",
       "      <td>414.0</td>\n",
       "      <td>smart</td>\n",
       "      <td>422.0</td>\n",
       "    </tr>\n",
       "    <tr>\n",
       "      <th>2</th>\n",
       "      <td>1002</td>\n",
       "      <td>0.0</td>\n",
       "      <td>0.0</td>\n",
       "      <td>0.0</td>\n",
       "      <td>0.0</td>\n",
       "      <td>0.0</td>\n",
       "      <td>117.0</td>\n",
       "      <td>214.0</td>\n",
       "      <td>289.0</td>\n",
       "      <td>206.0</td>\n",
       "      <td>212.0</td>\n",
       "      <td>243.0</td>\n",
       "      <td>236.0</td>\n",
       "      <td>smart</td>\n",
       "      <td>214.0</td>\n",
       "    </tr>\n",
       "  </tbody>\n",
       "</table>\n",
       "</div>"
      ],
      "text/plain": [
       "   user_id    1    2    3    4      5      6      7      8      9     10  \\\n",
       "0     1000  0.0  0.0  0.0  0.0  159.0  172.0  340.0  408.0  466.0  350.0   \n",
       "1     1001  0.0  0.0  0.0  0.0    0.0    0.0    0.0    0.0    0.0    0.0   \n",
       "2     1002  0.0  0.0  0.0  0.0    0.0  117.0  214.0  289.0  206.0  212.0   \n",
       "\n",
       "      11     12 tariff  mean_m_call_dur  \n",
       "0  338.0  333.0  ultra            339.0  \n",
       "1  430.0  414.0  smart            422.0  \n",
       "2  243.0  236.0  smart            214.0  "
      ]
     },
     "execution_count": 60,
     "metadata": {},
     "output_type": "execute_result"
    }
   ],
   "source": [
    "call_dur.head(3)"
   ]
  },
  {
   "cell_type": "code",
   "execution_count": 61,
   "metadata": {},
   "outputs": [
    {
     "data": {
      "text/html": [
       "<div>\n",
       "<style scoped>\n",
       "    .dataframe tbody tr th:only-of-type {\n",
       "        vertical-align: middle;\n",
       "    }\n",
       "\n",
       "    .dataframe tbody tr th {\n",
       "        vertical-align: top;\n",
       "    }\n",
       "\n",
       "    .dataframe thead th {\n",
       "        text-align: right;\n",
       "    }\n",
       "</style>\n",
       "<table border=\"1\" class=\"dataframe\">\n",
       "  <thead>\n",
       "    <tr style=\"text-align: right;\">\n",
       "      <th></th>\n",
       "      <th>mean_m_call_dur</th>\n",
       "    </tr>\n",
       "    <tr>\n",
       "      <th>tariff</th>\n",
       "      <th></th>\n",
       "    </tr>\n",
       "  </thead>\n",
       "  <tbody>\n",
       "    <tr>\n",
       "      <th>smart</th>\n",
       "      <td>438.195652</td>\n",
       "    </tr>\n",
       "    <tr>\n",
       "      <th>ultra</th>\n",
       "      <td>571.018382</td>\n",
       "    </tr>\n",
       "  </tbody>\n",
       "</table>\n",
       "</div>"
      ],
      "text/plain": [
       "        mean_m_call_dur\n",
       "tariff                 \n",
       "smart        438.195652\n",
       "ultra        571.018382"
      ]
     },
     "execution_count": 61,
     "metadata": {},
     "output_type": "execute_result"
    }
   ],
   "source": [
    "#Средняя продолжительность звонка в минутах в месяц в зависимости от тарифа\n",
    "call_dur.pivot_table(index='tariff', values='mean_m_call_dur', aggfunc='mean')"
   ]
  },
  {
   "cell_type": "code",
   "execution_count": 62,
   "metadata": {},
   "outputs": [
    {
     "data": {
      "image/png": "[encoded data removed]",
      "text/plain": [
       "<Figure size 360x360 with 1 Axes>"
      ]
     },
     "metadata": {
      "needs_background": "light"
     },
     "output_type": "display_data"
    }
   ],
   "source": [
    "# Продолжительность звонков в месяц\n",
    "plt.figure(figsize=(5,5))\n",
    "sns.boxplot(data=call_dur, x='tariff', y = 'mean_m_call_dur', hue='tariff', palette=\"Set1\")\n",
    "plt.show();"
   ]
  },
  {
   "cell_type": "code",
   "execution_count": 63,
   "metadata": {},
   "outputs": [
    {
     "name": "stdout",
     "output_type": "stream",
     "text": [
      "Среднее количество минут разговора тарифа smart в месяц: 438 \n",
      "Среднее количество минут разговора тарифа ultra в месяц: 571 \n"
     ]
    }
   ],
   "source": [
    "print(f\"Среднее количество минут разговора тарифа smart в месяц: {call_dur.pivot_table(index='tariff', values='mean_m_call_dur', aggfunc='mean').iloc[0][0]:.0f} \")\n",
    "print(f\"Среднее количество минут разговора тарифа ultra в месяц: {call_dur.pivot_table(index='tariff', values='mean_m_call_dur', aggfunc='mean').iloc[1][0]:.0f} \")"
   ]
  },
  {
   "cell_type": "markdown",
   "metadata": {},
   "source": [
    "Получается, что в среднем, пользователи тарифа smart не привышают порог в 500 мин включенных в тариф. Но есть пользователи этого тарифа, которые превышают этот порог.\n",
    "\n",
    "Что касается пользователей тарифа ultra, в среденем за месяц ни один клиент не превысил порогового значения в 3000 мин"
   ]
  },
  {
   "cell_type": "markdown",
   "metadata": {},
   "source": [
    "Посчитаем кол-во звонков без учета пропущенных"
   ]
  },
  {
   "cell_type": "code",
   "execution_count": 64,
   "metadata": {},
   "outputs": [
    {
     "data": {
      "text/html": [
       "<div>\n",
       "<style scoped>\n",
       "    .dataframe tbody tr th:only-of-type {\n",
       "        vertical-align: middle;\n",
       "    }\n",
       "\n",
       "    .dataframe tbody tr th {\n",
       "        vertical-align: top;\n",
       "    }\n",
       "\n",
       "    .dataframe thead th {\n",
       "        text-align: right;\n",
       "    }\n",
       "</style>\n",
       "<table border=\"1\" class=\"dataframe\">\n",
       "  <thead>\n",
       "    <tr style=\"text-align: right;\">\n",
       "      <th>month</th>\n",
       "      <th>user_id</th>\n",
       "      <th>1</th>\n",
       "      <th>2</th>\n",
       "      <th>3</th>\n",
       "      <th>4</th>\n",
       "      <th>5</th>\n",
       "      <th>6</th>\n",
       "      <th>7</th>\n",
       "      <th>8</th>\n",
       "      <th>9</th>\n",
       "      <th>10</th>\n",
       "      <th>11</th>\n",
       "      <th>12</th>\n",
       "    </tr>\n",
       "  </thead>\n",
       "  <tbody>\n",
       "    <tr>\n",
       "      <th>0</th>\n",
       "      <td>1000</td>\n",
       "      <td>0.0</td>\n",
       "      <td>0.0</td>\n",
       "      <td>0.0</td>\n",
       "      <td>0.0</td>\n",
       "      <td>17.0</td>\n",
       "      <td>28.0</td>\n",
       "      <td>41.0</td>\n",
       "      <td>42.0</td>\n",
       "      <td>46.0</td>\n",
       "      <td>44.0</td>\n",
       "      <td>37.0</td>\n",
       "      <td>38.0</td>\n",
       "    </tr>\n",
       "    <tr>\n",
       "      <th>1</th>\n",
       "      <td>1001</td>\n",
       "      <td>0.0</td>\n",
       "      <td>0.0</td>\n",
       "      <td>0.0</td>\n",
       "      <td>0.0</td>\n",
       "      <td>0.0</td>\n",
       "      <td>0.0</td>\n",
       "      <td>0.0</td>\n",
       "      <td>0.0</td>\n",
       "      <td>0.0</td>\n",
       "      <td>0.0</td>\n",
       "      <td>45.0</td>\n",
       "      <td>47.0</td>\n",
       "    </tr>\n",
       "    <tr>\n",
       "      <th>2</th>\n",
       "      <td>1002</td>\n",
       "      <td>0.0</td>\n",
       "      <td>0.0</td>\n",
       "      <td>0.0</td>\n",
       "      <td>0.0</td>\n",
       "      <td>0.0</td>\n",
       "      <td>14.0</td>\n",
       "      <td>21.0</td>\n",
       "      <td>37.0</td>\n",
       "      <td>25.0</td>\n",
       "      <td>24.0</td>\n",
       "      <td>25.0</td>\n",
       "      <td>27.0</td>\n",
       "    </tr>\n",
       "    <tr>\n",
       "      <th>3</th>\n",
       "      <td>1003</td>\n",
       "      <td>0.0</td>\n",
       "      <td>0.0</td>\n",
       "      <td>0.0</td>\n",
       "      <td>0.0</td>\n",
       "      <td>0.0</td>\n",
       "      <td>0.0</td>\n",
       "      <td>0.0</td>\n",
       "      <td>43.0</td>\n",
       "      <td>105.0</td>\n",
       "      <td>97.0</td>\n",
       "      <td>95.0</td>\n",
       "      <td>88.0</td>\n",
       "    </tr>\n",
       "    <tr>\n",
       "      <th>4</th>\n",
       "      <td>1004</td>\n",
       "      <td>0.0</td>\n",
       "      <td>0.0</td>\n",
       "      <td>0.0</td>\n",
       "      <td>0.0</td>\n",
       "      <td>7.0</td>\n",
       "      <td>25.0</td>\n",
       "      <td>20.0</td>\n",
       "      <td>18.0</td>\n",
       "      <td>18.0</td>\n",
       "      <td>21.0</td>\n",
       "      <td>15.0</td>\n",
       "      <td>15.0</td>\n",
       "    </tr>\n",
       "  </tbody>\n",
       "</table>\n",
       "</div>"
      ],
      "text/plain": [
       "month  user_id    1    2    3    4     5     6     7     8      9    10    11  \\\n",
       "0         1000  0.0  0.0  0.0  0.0  17.0  28.0  41.0  42.0   46.0  44.0  37.0   \n",
       "1         1001  0.0  0.0  0.0  0.0   0.0   0.0   0.0   0.0    0.0   0.0  45.0   \n",
       "2         1002  0.0  0.0  0.0  0.0   0.0  14.0  21.0  37.0   25.0  24.0  25.0   \n",
       "3         1003  0.0  0.0  0.0  0.0   0.0   0.0   0.0  43.0  105.0  97.0  95.0   \n",
       "4         1004  0.0  0.0  0.0  0.0   7.0  25.0  20.0  18.0   18.0  21.0  15.0   \n",
       "\n",
       "month    12  \n",
       "0      38.0  \n",
       "1      47.0  \n",
       "2      27.0  \n",
       "3      88.0  \n",
       "4      15.0  "
      ]
     },
     "execution_count": 64,
     "metadata": {},
     "output_type": "execute_result"
    }
   ],
   "source": [
    "#Kоличество сделанных звонков по месяцам\n",
    "call_count = df_calls.pivot_table(index='user_id', columns = 'month', values='id', aggfunc='count')\n",
    "call_count = call_count.reset_index()\n",
    "call_count = call_count.fillna(0)\n",
    "call_count.head(5)"
   ]
  },
  {
   "cell_type": "code",
   "execution_count": 65,
   "metadata": {},
   "outputs": [],
   "source": [
    "# добавим колонку со средним количеством звонков в месяц\n",
    "mean_month_call_count = []\n",
    "for row in range(0, len(call_count)):\n",
    "    user_call = call_count.loc[row, 'user_id']\n",
    "    start_m = df_usr.iloc[df_usr[df_usr['user_id']==user_call].index[0]]['month']\n",
    "    end_m = df_usr.iloc[df_usr[df_usr['user_id']==user_call].index[0]]['month_c']\n",
    "    mean_month_call_count_i = call_count.iloc[row, start_m:end_m+1].median()\n",
    "    mean_month_call_count.append(mean_month_call_count_i)\n",
    "call_count['mean_m_call_coun'] = mean_month_call_count"
   ]
  },
  {
   "cell_type": "code",
   "execution_count": 66,
   "metadata": {},
   "outputs": [
    {
     "data": {
      "text/html": [
       "<div>\n",
       "<style scoped>\n",
       "    .dataframe tbody tr th:only-of-type {\n",
       "        vertical-align: middle;\n",
       "    }\n",
       "\n",
       "    .dataframe tbody tr th {\n",
       "        vertical-align: top;\n",
       "    }\n",
       "\n",
       "    .dataframe thead th {\n",
       "        text-align: right;\n",
       "    }\n",
       "</style>\n",
       "<table border=\"1\" class=\"dataframe\">\n",
       "  <thead>\n",
       "    <tr style=\"text-align: right;\">\n",
       "      <th>month</th>\n",
       "      <th>user_id</th>\n",
       "      <th>1</th>\n",
       "      <th>2</th>\n",
       "      <th>3</th>\n",
       "      <th>4</th>\n",
       "      <th>5</th>\n",
       "      <th>6</th>\n",
       "      <th>7</th>\n",
       "      <th>8</th>\n",
       "      <th>9</th>\n",
       "      <th>10</th>\n",
       "      <th>11</th>\n",
       "      <th>12</th>\n",
       "      <th>mean_m_call_coun</th>\n",
       "    </tr>\n",
       "  </thead>\n",
       "  <tbody>\n",
       "    <tr>\n",
       "      <th>0</th>\n",
       "      <td>1000</td>\n",
       "      <td>0.0</td>\n",
       "      <td>0.0</td>\n",
       "      <td>0.0</td>\n",
       "      <td>0.0</td>\n",
       "      <td>17.0</td>\n",
       "      <td>28.0</td>\n",
       "      <td>41.0</td>\n",
       "      <td>42.0</td>\n",
       "      <td>46.0</td>\n",
       "      <td>44.0</td>\n",
       "      <td>37.0</td>\n",
       "      <td>38.0</td>\n",
       "      <td>39.5</td>\n",
       "    </tr>\n",
       "    <tr>\n",
       "      <th>1</th>\n",
       "      <td>1001</td>\n",
       "      <td>0.0</td>\n",
       "      <td>0.0</td>\n",
       "      <td>0.0</td>\n",
       "      <td>0.0</td>\n",
       "      <td>0.0</td>\n",
       "      <td>0.0</td>\n",
       "      <td>0.0</td>\n",
       "      <td>0.0</td>\n",
       "      <td>0.0</td>\n",
       "      <td>0.0</td>\n",
       "      <td>45.0</td>\n",
       "      <td>47.0</td>\n",
       "      <td>46.0</td>\n",
       "    </tr>\n",
       "    <tr>\n",
       "      <th>2</th>\n",
       "      <td>1002</td>\n",
       "      <td>0.0</td>\n",
       "      <td>0.0</td>\n",
       "      <td>0.0</td>\n",
       "      <td>0.0</td>\n",
       "      <td>0.0</td>\n",
       "      <td>14.0</td>\n",
       "      <td>21.0</td>\n",
       "      <td>37.0</td>\n",
       "      <td>25.0</td>\n",
       "      <td>24.0</td>\n",
       "      <td>25.0</td>\n",
       "      <td>27.0</td>\n",
       "      <td>25.0</td>\n",
       "    </tr>\n",
       "  </tbody>\n",
       "</table>\n",
       "</div>"
      ],
      "text/plain": [
       "month  user_id    1    2    3    4     5     6     7     8     9    10    11  \\\n",
       "0         1000  0.0  0.0  0.0  0.0  17.0  28.0  41.0  42.0  46.0  44.0  37.0   \n",
       "1         1001  0.0  0.0  0.0  0.0   0.0   0.0   0.0   0.0   0.0   0.0  45.0   \n",
       "2         1002  0.0  0.0  0.0  0.0   0.0  14.0  21.0  37.0  25.0  24.0  25.0   \n",
       "\n",
       "month    12  mean_m_call_coun  \n",
       "0      38.0              39.5  \n",
       "1      47.0              46.0  \n",
       "2      27.0              25.0  "
      ]
     },
     "execution_count": 66,
     "metadata": {},
     "output_type": "execute_result"
    }
   ],
   "source": [
    "call_count.head(3)"
   ]
  },
  {
   "cell_type": "code",
   "execution_count": 67,
   "metadata": {},
   "outputs": [],
   "source": [
    "# добавим колонку с тарифом\n",
    "call_count = pd.merge(call_count, usr_tariff, on='user_id')"
   ]
  },
  {
   "cell_type": "code",
   "execution_count": 68,
   "metadata": {},
   "outputs": [
    {
     "data": {
      "image/png": "[encoded data removed]",
      "text/plain": [
       "<Figure size 360x360 with 1 Axes>"
      ]
     },
     "metadata": {
      "needs_background": "light"
     },
     "output_type": "display_data"
    }
   ],
   "source": [
    "# Среднее кол-во звонков в месяц\n",
    "plt.figure(figsize=(5,5))\n",
    "sns.boxplot(data=call_count, x='tariff', y = 'mean_m_call_coun', hue='tariff', palette=\"Set1\")\n",
    "plt.grid()\n",
    "plt.show();"
   ]
  },
  {
   "cell_type": "markdown",
   "metadata": {},
   "source": [
    "Видно, что пользователи тарифа ultra в среднем совершают больше звонков в месяц, чем пользователи тарифа smart"
   ]
  },
  {
   "cell_type": "markdown",
   "metadata": {},
   "source": [
    "##### Таблица calls. Выводы:\n",
    "Из данных были удалены строки с пропущенными звонками. Было посчитано среденее кол-во звонков в месяц и суммарная продолжительность звонков в месяц для каждого клиента. \n",
    "\n",
    "Клиенты тарифа ultra совершают звонки чаще, чем пользователи тарифа smart и суммарная продоложительность звонков в месяц также выше, чем у клиентов тарифа smart. "
   ]
  },
  {
   "cell_type": "markdown",
   "metadata": {},
   "source": [
    "##### Таблица messages "
   ]
  },
  {
   "cell_type": "code",
   "execution_count": 69,
   "metadata": {},
   "outputs": [
    {
     "data": {
      "text/html": [
       "<div>\n",
       "<style scoped>\n",
       "    .dataframe tbody tr th:only-of-type {\n",
       "        vertical-align: middle;\n",
       "    }\n",
       "\n",
       "    .dataframe tbody tr th {\n",
       "        vertical-align: top;\n",
       "    }\n",
       "\n",
       "    .dataframe thead th {\n",
       "        text-align: right;\n",
       "    }\n",
       "</style>\n",
       "<table border=\"1\" class=\"dataframe\">\n",
       "  <thead>\n",
       "    <tr style=\"text-align: right;\">\n",
       "      <th></th>\n",
       "      <th>id</th>\n",
       "      <th>message_date</th>\n",
       "      <th>user_id</th>\n",
       "    </tr>\n",
       "  </thead>\n",
       "  <tbody>\n",
       "    <tr>\n",
       "      <th>0</th>\n",
       "      <td>1000_0</td>\n",
       "      <td>2018-06-27</td>\n",
       "      <td>1000</td>\n",
       "    </tr>\n",
       "    <tr>\n",
       "      <th>1</th>\n",
       "      <td>1000_1</td>\n",
       "      <td>2018-10-08</td>\n",
       "      <td>1000</td>\n",
       "    </tr>\n",
       "    <tr>\n",
       "      <th>2</th>\n",
       "      <td>1000_2</td>\n",
       "      <td>2018-08-04</td>\n",
       "      <td>1000</td>\n",
       "    </tr>\n",
       "  </tbody>\n",
       "</table>\n",
       "</div>"
      ],
      "text/plain": [
       "       id message_date  user_id\n",
       "0  1000_0   2018-06-27     1000\n",
       "1  1000_1   2018-10-08     1000\n",
       "2  1000_2   2018-08-04     1000"
      ]
     },
     "execution_count": 69,
     "metadata": {},
     "output_type": "execute_result"
    }
   ],
   "source": [
    "df_msg.head(3)"
   ]
  },
  {
   "cell_type": "code",
   "execution_count": 70,
   "metadata": {},
   "outputs": [
    {
     "name": "stdout",
     "output_type": "stream",
     "text": [
      "Количество дубликатов: 0\n"
     ]
    }
   ],
   "source": [
    "# Проверка наличия дубликатов\n",
    "print(f'Количество дубликатов: {len(df_msg)-df_msg.duplicated().value_counts()[0]}')"
   ]
  },
  {
   "cell_type": "code",
   "execution_count": 71,
   "metadata": {},
   "outputs": [],
   "source": [
    "#Удалим пользователей, которые пользовались тарифом меньше месяца\n",
    "for row in df_usr_exclud_list:\n",
    "    try:\n",
    "        df_msg = df_msg.drop(df_msg[df_msg.user_id == row].index)\n",
    "    except:\n",
    "        pass"
   ]
  },
  {
   "cell_type": "code",
   "execution_count": 72,
   "metadata": {},
   "outputs": [],
   "source": [
    "# добавим колонку с месяцем отправки сообщения\n",
    "df_msg['month'] = df_msg.apply(lambda row: int(datetime.strptime(row['message_date'], '%Y-%m-%d').strftime(\"%m\")), axis=1)"
   ]
  },
  {
   "cell_type": "code",
   "execution_count": 73,
   "metadata": {},
   "outputs": [
    {
     "data": {
      "text/html": [
       "<div>\n",
       "<style scoped>\n",
       "    .dataframe tbody tr th:only-of-type {\n",
       "        vertical-align: middle;\n",
       "    }\n",
       "\n",
       "    .dataframe tbody tr th {\n",
       "        vertical-align: top;\n",
       "    }\n",
       "\n",
       "    .dataframe thead th {\n",
       "        text-align: right;\n",
       "    }\n",
       "</style>\n",
       "<table border=\"1\" class=\"dataframe\">\n",
       "  <thead>\n",
       "    <tr style=\"text-align: right;\">\n",
       "      <th></th>\n",
       "      <th>id</th>\n",
       "      <th>message_date</th>\n",
       "      <th>user_id</th>\n",
       "      <th>month</th>\n",
       "    </tr>\n",
       "  </thead>\n",
       "  <tbody>\n",
       "    <tr>\n",
       "      <th>0</th>\n",
       "      <td>1000_0</td>\n",
       "      <td>2018-06-27</td>\n",
       "      <td>1000</td>\n",
       "      <td>6</td>\n",
       "    </tr>\n",
       "    <tr>\n",
       "      <th>1</th>\n",
       "      <td>1000_1</td>\n",
       "      <td>2018-10-08</td>\n",
       "      <td>1000</td>\n",
       "      <td>10</td>\n",
       "    </tr>\n",
       "    <tr>\n",
       "      <th>2</th>\n",
       "      <td>1000_2</td>\n",
       "      <td>2018-08-04</td>\n",
       "      <td>1000</td>\n",
       "      <td>8</td>\n",
       "    </tr>\n",
       "  </tbody>\n",
       "</table>\n",
       "</div>"
      ],
      "text/plain": [
       "       id message_date  user_id  month\n",
       "0  1000_0   2018-06-27     1000      6\n",
       "1  1000_1   2018-10-08     1000     10\n",
       "2  1000_2   2018-08-04     1000      8"
      ]
     },
     "execution_count": 73,
     "metadata": {},
     "output_type": "execute_result"
    }
   ],
   "source": [
    "df_msg.head(3)"
   ]
  },
  {
   "cell_type": "code",
   "execution_count": 74,
   "metadata": {},
   "outputs": [
    {
     "data": {
      "text/html": [
       "<div>\n",
       "<style scoped>\n",
       "    .dataframe tbody tr th:only-of-type {\n",
       "        vertical-align: middle;\n",
       "    }\n",
       "\n",
       "    .dataframe tbody tr th {\n",
       "        vertical-align: top;\n",
       "    }\n",
       "\n",
       "    .dataframe thead th {\n",
       "        text-align: right;\n",
       "    }\n",
       "</style>\n",
       "<table border=\"1\" class=\"dataframe\">\n",
       "  <thead>\n",
       "    <tr style=\"text-align: right;\">\n",
       "      <th>month</th>\n",
       "      <th>user_id</th>\n",
       "      <th>1</th>\n",
       "      <th>2</th>\n",
       "      <th>3</th>\n",
       "      <th>4</th>\n",
       "      <th>5</th>\n",
       "      <th>6</th>\n",
       "      <th>7</th>\n",
       "      <th>8</th>\n",
       "      <th>9</th>\n",
       "      <th>10</th>\n",
       "      <th>11</th>\n",
       "      <th>12</th>\n",
       "    </tr>\n",
       "  </thead>\n",
       "  <tbody>\n",
       "    <tr>\n",
       "      <th>0</th>\n",
       "      <td>1000</td>\n",
       "      <td>0.0</td>\n",
       "      <td>0.0</td>\n",
       "      <td>0.0</td>\n",
       "      <td>0.0</td>\n",
       "      <td>22.0</td>\n",
       "      <td>60.0</td>\n",
       "      <td>75.0</td>\n",
       "      <td>81.0</td>\n",
       "      <td>57.0</td>\n",
       "      <td>73.0</td>\n",
       "      <td>58.0</td>\n",
       "      <td>70.0</td>\n",
       "    </tr>\n",
       "    <tr>\n",
       "      <th>1</th>\n",
       "      <td>1002</td>\n",
       "      <td>0.0</td>\n",
       "      <td>0.0</td>\n",
       "      <td>0.0</td>\n",
       "      <td>0.0</td>\n",
       "      <td>0.0</td>\n",
       "      <td>4.0</td>\n",
       "      <td>11.0</td>\n",
       "      <td>13.0</td>\n",
       "      <td>4.0</td>\n",
       "      <td>10.0</td>\n",
       "      <td>16.0</td>\n",
       "      <td>12.0</td>\n",
       "    </tr>\n",
       "    <tr>\n",
       "      <th>2</th>\n",
       "      <td>1003</td>\n",
       "      <td>0.0</td>\n",
       "      <td>0.0</td>\n",
       "      <td>0.0</td>\n",
       "      <td>0.0</td>\n",
       "      <td>0.0</td>\n",
       "      <td>0.0</td>\n",
       "      <td>0.0</td>\n",
       "      <td>37.0</td>\n",
       "      <td>91.0</td>\n",
       "      <td>83.0</td>\n",
       "      <td>94.0</td>\n",
       "      <td>75.0</td>\n",
       "    </tr>\n",
       "    <tr>\n",
       "      <th>3</th>\n",
       "      <td>1004</td>\n",
       "      <td>0.0</td>\n",
       "      <td>0.0</td>\n",
       "      <td>0.0</td>\n",
       "      <td>0.0</td>\n",
       "      <td>95.0</td>\n",
       "      <td>134.0</td>\n",
       "      <td>181.0</td>\n",
       "      <td>151.0</td>\n",
       "      <td>146.0</td>\n",
       "      <td>165.0</td>\n",
       "      <td>158.0</td>\n",
       "      <td>162.0</td>\n",
       "    </tr>\n",
       "    <tr>\n",
       "      <th>4</th>\n",
       "      <td>1005</td>\n",
       "      <td>7.0</td>\n",
       "      <td>38.0</td>\n",
       "      <td>56.0</td>\n",
       "      <td>41.0</td>\n",
       "      <td>42.0</td>\n",
       "      <td>47.0</td>\n",
       "      <td>56.0</td>\n",
       "      <td>64.0</td>\n",
       "      <td>52.0</td>\n",
       "      <td>44.0</td>\n",
       "      <td>51.0</td>\n",
       "      <td>54.0</td>\n",
       "    </tr>\n",
       "  </tbody>\n",
       "</table>\n",
       "</div>"
      ],
      "text/plain": [
       "month  user_id    1     2     3     4     5      6      7      8      9  \\\n",
       "0         1000  0.0   0.0   0.0   0.0  22.0   60.0   75.0   81.0   57.0   \n",
       "1         1002  0.0   0.0   0.0   0.0   0.0    4.0   11.0   13.0    4.0   \n",
       "2         1003  0.0   0.0   0.0   0.0   0.0    0.0    0.0   37.0   91.0   \n",
       "3         1004  0.0   0.0   0.0   0.0  95.0  134.0  181.0  151.0  146.0   \n",
       "4         1005  7.0  38.0  56.0  41.0  42.0   47.0   56.0   64.0   52.0   \n",
       "\n",
       "month     10     11     12  \n",
       "0       73.0   58.0   70.0  \n",
       "1       10.0   16.0   12.0  \n",
       "2       83.0   94.0   75.0  \n",
       "3      165.0  158.0  162.0  \n",
       "4       44.0   51.0   54.0  "
      ]
     },
     "execution_count": 74,
     "metadata": {},
     "output_type": "execute_result"
    }
   ],
   "source": [
    "#Kоличество сделанных сообщений по месяцам\n",
    "msg_count = df_msg.pivot_table(index='user_id', columns = 'month', values='id', aggfunc='count')\n",
    "msg_count = msg_count.reset_index()\n",
    "msg_count = msg_count.fillna(0)\n",
    "msg_count.head(5)"
   ]
  },
  {
   "cell_type": "code",
   "execution_count": 75,
   "metadata": {},
   "outputs": [],
   "source": [
    "# добавим колонку с тарифом\n",
    "msg_count = pd.merge(msg_count, usr_tariff, on='user_id')"
   ]
  },
  {
   "cell_type": "code",
   "execution_count": 76,
   "metadata": {},
   "outputs": [
    {
     "data": {
      "text/html": [
       "<div>\n",
       "<style scoped>\n",
       "    .dataframe tbody tr th:only-of-type {\n",
       "        vertical-align: middle;\n",
       "    }\n",
       "\n",
       "    .dataframe tbody tr th {\n",
       "        vertical-align: top;\n",
       "    }\n",
       "\n",
       "    .dataframe thead th {\n",
       "        text-align: right;\n",
       "    }\n",
       "</style>\n",
       "<table border=\"1\" class=\"dataframe\">\n",
       "  <thead>\n",
       "    <tr style=\"text-align: right;\">\n",
       "      <th></th>\n",
       "      <th>user_id</th>\n",
       "      <th>1</th>\n",
       "      <th>2</th>\n",
       "      <th>3</th>\n",
       "      <th>4</th>\n",
       "      <th>5</th>\n",
       "      <th>6</th>\n",
       "      <th>7</th>\n",
       "      <th>8</th>\n",
       "      <th>9</th>\n",
       "      <th>10</th>\n",
       "      <th>11</th>\n",
       "      <th>12</th>\n",
       "      <th>tariff</th>\n",
       "    </tr>\n",
       "  </thead>\n",
       "  <tbody>\n",
       "    <tr>\n",
       "      <th>0</th>\n",
       "      <td>1000</td>\n",
       "      <td>0.0</td>\n",
       "      <td>0.0</td>\n",
       "      <td>0.0</td>\n",
       "      <td>0.0</td>\n",
       "      <td>22.0</td>\n",
       "      <td>60.0</td>\n",
       "      <td>75.0</td>\n",
       "      <td>81.0</td>\n",
       "      <td>57.0</td>\n",
       "      <td>73.0</td>\n",
       "      <td>58.0</td>\n",
       "      <td>70.0</td>\n",
       "      <td>ultra</td>\n",
       "    </tr>\n",
       "    <tr>\n",
       "      <th>1</th>\n",
       "      <td>1002</td>\n",
       "      <td>0.0</td>\n",
       "      <td>0.0</td>\n",
       "      <td>0.0</td>\n",
       "      <td>0.0</td>\n",
       "      <td>0.0</td>\n",
       "      <td>4.0</td>\n",
       "      <td>11.0</td>\n",
       "      <td>13.0</td>\n",
       "      <td>4.0</td>\n",
       "      <td>10.0</td>\n",
       "      <td>16.0</td>\n",
       "      <td>12.0</td>\n",
       "      <td>smart</td>\n",
       "    </tr>\n",
       "    <tr>\n",
       "      <th>2</th>\n",
       "      <td>1003</td>\n",
       "      <td>0.0</td>\n",
       "      <td>0.0</td>\n",
       "      <td>0.0</td>\n",
       "      <td>0.0</td>\n",
       "      <td>0.0</td>\n",
       "      <td>0.0</td>\n",
       "      <td>0.0</td>\n",
       "      <td>37.0</td>\n",
       "      <td>91.0</td>\n",
       "      <td>83.0</td>\n",
       "      <td>94.0</td>\n",
       "      <td>75.0</td>\n",
       "      <td>ultra</td>\n",
       "    </tr>\n",
       "  </tbody>\n",
       "</table>\n",
       "</div>"
      ],
      "text/plain": [
       "   user_id    1    2    3    4     5     6     7     8     9    10    11  \\\n",
       "0     1000  0.0  0.0  0.0  0.0  22.0  60.0  75.0  81.0  57.0  73.0  58.0   \n",
       "1     1002  0.0  0.0  0.0  0.0   0.0   4.0  11.0  13.0   4.0  10.0  16.0   \n",
       "2     1003  0.0  0.0  0.0  0.0   0.0   0.0   0.0  37.0  91.0  83.0  94.0   \n",
       "\n",
       "     12 tariff  \n",
       "0  70.0  ultra  \n",
       "1  12.0  smart  \n",
       "2  75.0  ultra  "
      ]
     },
     "execution_count": 76,
     "metadata": {},
     "output_type": "execute_result"
    }
   ],
   "source": [
    "msg_count.head(3)"
   ]
  },
  {
   "cell_type": "code",
   "execution_count": 77,
   "metadata": {},
   "outputs": [],
   "source": [
    "# добавим колонку со средним количеством сообщений в месяц\n",
    "mean_month_msg_count = []\n",
    "for row in range(0, len(msg_count)):\n",
    "    user_call = msg_count.loc[row, 'user_id']\n",
    "    start_m = df_usr.iloc[df_usr[df_usr['user_id']==user_call].index[0]]['month']\n",
    "    end_m = df_usr.iloc[df_usr[df_usr['user_id']==user_call].index[0]]['month_c']\n",
    "    mean_month_msg_count_i = msg_count.iloc[row, start_m:end_m+1].median()\n",
    "    mean_month_msg_count.append(mean_month_msg_count_i)\n",
    "msg_count['mean_m_msg_count'] = mean_month_msg_count"
   ]
  },
  {
   "cell_type": "code",
   "execution_count": 78,
   "metadata": {},
   "outputs": [
    {
     "data": {
      "text/html": [
       "<div>\n",
       "<style scoped>\n",
       "    .dataframe tbody tr th:only-of-type {\n",
       "        vertical-align: middle;\n",
       "    }\n",
       "\n",
       "    .dataframe tbody tr th {\n",
       "        vertical-align: top;\n",
       "    }\n",
       "\n",
       "    .dataframe thead th {\n",
       "        text-align: right;\n",
       "    }\n",
       "</style>\n",
       "<table border=\"1\" class=\"dataframe\">\n",
       "  <thead>\n",
       "    <tr style=\"text-align: right;\">\n",
       "      <th></th>\n",
       "      <th>user_id</th>\n",
       "      <th>1</th>\n",
       "      <th>2</th>\n",
       "      <th>3</th>\n",
       "      <th>4</th>\n",
       "      <th>5</th>\n",
       "      <th>6</th>\n",
       "      <th>7</th>\n",
       "      <th>8</th>\n",
       "      <th>9</th>\n",
       "      <th>10</th>\n",
       "      <th>11</th>\n",
       "      <th>12</th>\n",
       "      <th>tariff</th>\n",
       "      <th>mean_m_msg_count</th>\n",
       "    </tr>\n",
       "  </thead>\n",
       "  <tbody>\n",
       "    <tr>\n",
       "      <th>0</th>\n",
       "      <td>1000</td>\n",
       "      <td>0.0</td>\n",
       "      <td>0.0</td>\n",
       "      <td>0.0</td>\n",
       "      <td>0.0</td>\n",
       "      <td>22.0</td>\n",
       "      <td>60.0</td>\n",
       "      <td>75.0</td>\n",
       "      <td>81.0</td>\n",
       "      <td>57.0</td>\n",
       "      <td>73.0</td>\n",
       "      <td>58.0</td>\n",
       "      <td>70.0</td>\n",
       "      <td>ultra</td>\n",
       "      <td>65.0</td>\n",
       "    </tr>\n",
       "    <tr>\n",
       "      <th>1</th>\n",
       "      <td>1002</td>\n",
       "      <td>0.0</td>\n",
       "      <td>0.0</td>\n",
       "      <td>0.0</td>\n",
       "      <td>0.0</td>\n",
       "      <td>0.0</td>\n",
       "      <td>4.0</td>\n",
       "      <td>11.0</td>\n",
       "      <td>13.0</td>\n",
       "      <td>4.0</td>\n",
       "      <td>10.0</td>\n",
       "      <td>16.0</td>\n",
       "      <td>12.0</td>\n",
       "      <td>smart</td>\n",
       "      <td>11.0</td>\n",
       "    </tr>\n",
       "    <tr>\n",
       "      <th>2</th>\n",
       "      <td>1003</td>\n",
       "      <td>0.0</td>\n",
       "      <td>0.0</td>\n",
       "      <td>0.0</td>\n",
       "      <td>0.0</td>\n",
       "      <td>0.0</td>\n",
       "      <td>0.0</td>\n",
       "      <td>0.0</td>\n",
       "      <td>37.0</td>\n",
       "      <td>91.0</td>\n",
       "      <td>83.0</td>\n",
       "      <td>94.0</td>\n",
       "      <td>75.0</td>\n",
       "      <td>ultra</td>\n",
       "      <td>83.0</td>\n",
       "    </tr>\n",
       "  </tbody>\n",
       "</table>\n",
       "</div>"
      ],
      "text/plain": [
       "   user_id    1    2    3    4     5     6     7     8     9    10    11  \\\n",
       "0     1000  0.0  0.0  0.0  0.0  22.0  60.0  75.0  81.0  57.0  73.0  58.0   \n",
       "1     1002  0.0  0.0  0.0  0.0   0.0   4.0  11.0  13.0   4.0  10.0  16.0   \n",
       "2     1003  0.0  0.0  0.0  0.0   0.0   0.0   0.0  37.0  91.0  83.0  94.0   \n",
       "\n",
       "     12 tariff  mean_m_msg_count  \n",
       "0  70.0  ultra              65.0  \n",
       "1  12.0  smart              11.0  \n",
       "2  75.0  ultra              83.0  "
      ]
     },
     "execution_count": 78,
     "metadata": {},
     "output_type": "execute_result"
    }
   ],
   "source": [
    "msg_count.head(3)"
   ]
  },
  {
   "cell_type": "code",
   "execution_count": 79,
   "metadata": {},
   "outputs": [
    {
     "data": {
      "image/png": "[encoded data removed]",
      "text/plain": [
       "<Figure size 360x360 with 1 Axes>"
      ]
     },
     "metadata": {
      "needs_background": "light"
     },
     "output_type": "display_data"
    }
   ],
   "source": [
    "# Среднее кол-во сообщений в месяц\n",
    "plt.figure(figsize=(5,5))\n",
    "sns.boxplot(data=msg_count, x='tariff', y = 'mean_m_msg_count', hue='tariff', palette=\"Set1\")\n",
    "plt.grid()\n",
    "plt.show();"
   ]
  },
  {
   "cell_type": "markdown",
   "metadata": {},
   "source": [
    "##### Таблица messages. Выводы:\n",
    "Из данных были удалены строки пользователей, которые пользовались тарифом меньше месяца. Было посчитано кол-во сообщений в каждый месяц и среденее кол-во сообщений в месяц.\n",
    "\n",
    "Клиенты тарифа ultra отправляют сообщения чаще, чем пользователи тарифа smart"
   ]
  },
  {
   "cell_type": "markdown",
   "metadata": {},
   "source": [
    "##### Таблица internet"
   ]
  },
  {
   "cell_type": "code",
   "execution_count": 80,
   "metadata": {},
   "outputs": [
    {
     "data": {
      "text/html": [
       "<div>\n",
       "<style scoped>\n",
       "    .dataframe tbody tr th:only-of-type {\n",
       "        vertical-align: middle;\n",
       "    }\n",
       "\n",
       "    .dataframe tbody tr th {\n",
       "        vertical-align: top;\n",
       "    }\n",
       "\n",
       "    .dataframe thead th {\n",
       "        text-align: right;\n",
       "    }\n",
       "</style>\n",
       "<table border=\"1\" class=\"dataframe\">\n",
       "  <thead>\n",
       "    <tr style=\"text-align: right;\">\n",
       "      <th></th>\n",
       "      <th>id</th>\n",
       "      <th>mb_used</th>\n",
       "      <th>session_date</th>\n",
       "      <th>user_id</th>\n",
       "    </tr>\n",
       "  </thead>\n",
       "  <tbody>\n",
       "    <tr>\n",
       "      <th>0</th>\n",
       "      <td>1000_0</td>\n",
       "      <td>112.95</td>\n",
       "      <td>2018-11-25</td>\n",
       "      <td>1000</td>\n",
       "    </tr>\n",
       "    <tr>\n",
       "      <th>1</th>\n",
       "      <td>1000_1</td>\n",
       "      <td>1052.81</td>\n",
       "      <td>2018-09-07</td>\n",
       "      <td>1000</td>\n",
       "    </tr>\n",
       "    <tr>\n",
       "      <th>2</th>\n",
       "      <td>1000_2</td>\n",
       "      <td>1197.26</td>\n",
       "      <td>2018-06-25</td>\n",
       "      <td>1000</td>\n",
       "    </tr>\n",
       "    <tr>\n",
       "      <th>3</th>\n",
       "      <td>1000_3</td>\n",
       "      <td>550.27</td>\n",
       "      <td>2018-08-22</td>\n",
       "      <td>1000</td>\n",
       "    </tr>\n",
       "    <tr>\n",
       "      <th>4</th>\n",
       "      <td>1000_4</td>\n",
       "      <td>302.56</td>\n",
       "      <td>2018-09-24</td>\n",
       "      <td>1000</td>\n",
       "    </tr>\n",
       "  </tbody>\n",
       "</table>\n",
       "</div>"
      ],
      "text/plain": [
       "       id  mb_used session_date  user_id\n",
       "0  1000_0   112.95   2018-11-25     1000\n",
       "1  1000_1  1052.81   2018-09-07     1000\n",
       "2  1000_2  1197.26   2018-06-25     1000\n",
       "3  1000_3   550.27   2018-08-22     1000\n",
       "4  1000_4   302.56   2018-09-24     1000"
      ]
     },
     "execution_count": 80,
     "metadata": {},
     "output_type": "execute_result"
    }
   ],
   "source": [
    "df_int.head(5)"
   ]
  },
  {
   "cell_type": "code",
   "execution_count": 81,
   "metadata": {},
   "outputs": [],
   "source": [
    "#Удалим пользователей, которые пользовались тарифом меньше месяца\n",
    "for row in df_usr_exclud_list:\n",
    "    try:\n",
    "        df_int = df_int.drop(df_int[df_int.user_id == row].index)\n",
    "    except:\n",
    "        pass"
   ]
  },
  {
   "cell_type": "code",
   "execution_count": 82,
   "metadata": {},
   "outputs": [],
   "source": [
    "# добавим колонку с месяцем сессии\n",
    "df_int['month'] = df_int.apply(lambda row: int(datetime.strptime(row['session_date'], '%Y-%m-%d').strftime(\"%m\")), axis=1)"
   ]
  },
  {
   "cell_type": "code",
   "execution_count": 83,
   "metadata": {},
   "outputs": [
    {
     "data": {
      "text/html": [
       "<div>\n",
       "<style scoped>\n",
       "    .dataframe tbody tr th:only-of-type {\n",
       "        vertical-align: middle;\n",
       "    }\n",
       "\n",
       "    .dataframe tbody tr th {\n",
       "        vertical-align: top;\n",
       "    }\n",
       "\n",
       "    .dataframe thead th {\n",
       "        text-align: right;\n",
       "    }\n",
       "</style>\n",
       "<table border=\"1\" class=\"dataframe\">\n",
       "  <thead>\n",
       "    <tr style=\"text-align: right;\">\n",
       "      <th></th>\n",
       "      <th>id</th>\n",
       "      <th>mb_used</th>\n",
       "      <th>session_date</th>\n",
       "      <th>user_id</th>\n",
       "      <th>month</th>\n",
       "    </tr>\n",
       "  </thead>\n",
       "  <tbody>\n",
       "    <tr>\n",
       "      <th>0</th>\n",
       "      <td>1000_0</td>\n",
       "      <td>112.95</td>\n",
       "      <td>2018-11-25</td>\n",
       "      <td>1000</td>\n",
       "      <td>11</td>\n",
       "    </tr>\n",
       "    <tr>\n",
       "      <th>1</th>\n",
       "      <td>1000_1</td>\n",
       "      <td>1052.81</td>\n",
       "      <td>2018-09-07</td>\n",
       "      <td>1000</td>\n",
       "      <td>9</td>\n",
       "    </tr>\n",
       "    <tr>\n",
       "      <th>2</th>\n",
       "      <td>1000_2</td>\n",
       "      <td>1197.26</td>\n",
       "      <td>2018-06-25</td>\n",
       "      <td>1000</td>\n",
       "      <td>6</td>\n",
       "    </tr>\n",
       "  </tbody>\n",
       "</table>\n",
       "</div>"
      ],
      "text/plain": [
       "       id  mb_used session_date  user_id  month\n",
       "0  1000_0   112.95   2018-11-25     1000     11\n",
       "1  1000_1  1052.81   2018-09-07     1000      9\n",
       "2  1000_2  1197.26   2018-06-25     1000      6"
      ]
     },
     "execution_count": 83,
     "metadata": {},
     "output_type": "execute_result"
    }
   ],
   "source": [
    "df_int.head(3)"
   ]
  },
  {
   "cell_type": "code",
   "execution_count": 84,
   "metadata": {},
   "outputs": [
    {
     "data": {
      "text/html": [
       "<div>\n",
       "<style scoped>\n",
       "    .dataframe tbody tr th:only-of-type {\n",
       "        vertical-align: middle;\n",
       "    }\n",
       "\n",
       "    .dataframe tbody tr th {\n",
       "        vertical-align: top;\n",
       "    }\n",
       "\n",
       "    .dataframe thead th {\n",
       "        text-align: right;\n",
       "    }\n",
       "</style>\n",
       "<table border=\"1\" class=\"dataframe\">\n",
       "  <thead>\n",
       "    <tr style=\"text-align: right;\">\n",
       "      <th>month</th>\n",
       "      <th>user_id</th>\n",
       "      <th>1</th>\n",
       "      <th>2</th>\n",
       "      <th>3</th>\n",
       "      <th>4</th>\n",
       "      <th>5</th>\n",
       "      <th>6</th>\n",
       "      <th>7</th>\n",
       "      <th>8</th>\n",
       "      <th>9</th>\n",
       "      <th>10</th>\n",
       "      <th>11</th>\n",
       "      <th>12</th>\n",
       "    </tr>\n",
       "  </thead>\n",
       "  <tbody>\n",
       "    <tr>\n",
       "      <th>0</th>\n",
       "      <td>1000</td>\n",
       "      <td>0.0</td>\n",
       "      <td>0.0</td>\n",
       "      <td>0.0</td>\n",
       "      <td>0.0</td>\n",
       "      <td>2253.49</td>\n",
       "      <td>23233.77</td>\n",
       "      <td>14003.64</td>\n",
       "      <td>14055.93</td>\n",
       "      <td>14568.91</td>\n",
       "      <td>14702.49</td>\n",
       "      <td>14756.47</td>\n",
       "      <td>9817.61</td>\n",
       "    </tr>\n",
       "    <tr>\n",
       "      <th>1</th>\n",
       "      <td>1001</td>\n",
       "      <td>0.0</td>\n",
       "      <td>0.0</td>\n",
       "      <td>0.0</td>\n",
       "      <td>0.0</td>\n",
       "      <td>0.00</td>\n",
       "      <td>0.00</td>\n",
       "      <td>0.00</td>\n",
       "      <td>0.00</td>\n",
       "      <td>0.00</td>\n",
       "      <td>0.00</td>\n",
       "      <td>18429.34</td>\n",
       "      <td>14036.66</td>\n",
       "    </tr>\n",
       "    <tr>\n",
       "      <th>2</th>\n",
       "      <td>1002</td>\n",
       "      <td>0.0</td>\n",
       "      <td>0.0</td>\n",
       "      <td>0.0</td>\n",
       "      <td>0.0</td>\n",
       "      <td>0.00</td>\n",
       "      <td>10856.82</td>\n",
       "      <td>17580.10</td>\n",
       "      <td>20319.26</td>\n",
       "      <td>16691.08</td>\n",
       "      <td>13888.25</td>\n",
       "      <td>18587.28</td>\n",
       "      <td>18113.73</td>\n",
       "    </tr>\n",
       "  </tbody>\n",
       "</table>\n",
       "</div>"
      ],
      "text/plain": [
       "month  user_id    1    2    3    4        5         6         7         8  \\\n",
       "0         1000  0.0  0.0  0.0  0.0  2253.49  23233.77  14003.64  14055.93   \n",
       "1         1001  0.0  0.0  0.0  0.0     0.00      0.00      0.00      0.00   \n",
       "2         1002  0.0  0.0  0.0  0.0     0.00  10856.82  17580.10  20319.26   \n",
       "\n",
       "month         9        10        11        12  \n",
       "0      14568.91  14702.49  14756.47   9817.61  \n",
       "1          0.00      0.00  18429.34  14036.66  \n",
       "2      16691.08  13888.25  18587.28  18113.73  "
      ]
     },
     "execution_count": 84,
     "metadata": {},
     "output_type": "execute_result"
    }
   ],
   "source": [
    "#Объем израсходованного интернет-трафика по месяцам\n",
    "int_traf = df_int.pivot_table(index='user_id', columns = 'month', values='mb_used', aggfunc='sum')\n",
    "int_traf = int_traf.reset_index()\n",
    "int_traf = int_traf.fillna(0)\n",
    "int_traf.head(3)"
   ]
  },
  {
   "cell_type": "code",
   "execution_count": 85,
   "metadata": {},
   "outputs": [],
   "source": [
    "# Округлим значения до целого значения в большую сторону\n",
    "for i in range(1,13):\n",
    "    int_traf[i] = int_traf[i].apply(np.ceil)"
   ]
  },
  {
   "cell_type": "code",
   "execution_count": 86,
   "metadata": {},
   "outputs": [
    {
     "data": {
      "text/html": [
       "<div>\n",
       "<style scoped>\n",
       "    .dataframe tbody tr th:only-of-type {\n",
       "        vertical-align: middle;\n",
       "    }\n",
       "\n",
       "    .dataframe tbody tr th {\n",
       "        vertical-align: top;\n",
       "    }\n",
       "\n",
       "    .dataframe thead th {\n",
       "        text-align: right;\n",
       "    }\n",
       "</style>\n",
       "<table border=\"1\" class=\"dataframe\">\n",
       "  <thead>\n",
       "    <tr style=\"text-align: right;\">\n",
       "      <th>month</th>\n",
       "      <th>user_id</th>\n",
       "      <th>1</th>\n",
       "      <th>2</th>\n",
       "      <th>3</th>\n",
       "      <th>4</th>\n",
       "      <th>5</th>\n",
       "      <th>6</th>\n",
       "      <th>7</th>\n",
       "      <th>8</th>\n",
       "      <th>9</th>\n",
       "      <th>10</th>\n",
       "      <th>11</th>\n",
       "      <th>12</th>\n",
       "    </tr>\n",
       "  </thead>\n",
       "  <tbody>\n",
       "    <tr>\n",
       "      <th>0</th>\n",
       "      <td>1000</td>\n",
       "      <td>0.0</td>\n",
       "      <td>0.0</td>\n",
       "      <td>0.0</td>\n",
       "      <td>0.0</td>\n",
       "      <td>2254.0</td>\n",
       "      <td>23234.0</td>\n",
       "      <td>14004.0</td>\n",
       "      <td>14056.0</td>\n",
       "      <td>14569.0</td>\n",
       "      <td>14703.0</td>\n",
       "      <td>14757.0</td>\n",
       "      <td>9818.0</td>\n",
       "    </tr>\n",
       "    <tr>\n",
       "      <th>1</th>\n",
       "      <td>1001</td>\n",
       "      <td>0.0</td>\n",
       "      <td>0.0</td>\n",
       "      <td>0.0</td>\n",
       "      <td>0.0</td>\n",
       "      <td>0.0</td>\n",
       "      <td>0.0</td>\n",
       "      <td>0.0</td>\n",
       "      <td>0.0</td>\n",
       "      <td>0.0</td>\n",
       "      <td>0.0</td>\n",
       "      <td>18430.0</td>\n",
       "      <td>14037.0</td>\n",
       "    </tr>\n",
       "    <tr>\n",
       "      <th>2</th>\n",
       "      <td>1002</td>\n",
       "      <td>0.0</td>\n",
       "      <td>0.0</td>\n",
       "      <td>0.0</td>\n",
       "      <td>0.0</td>\n",
       "      <td>0.0</td>\n",
       "      <td>10857.0</td>\n",
       "      <td>17581.0</td>\n",
       "      <td>20320.0</td>\n",
       "      <td>16692.0</td>\n",
       "      <td>13889.0</td>\n",
       "      <td>18588.0</td>\n",
       "      <td>18114.0</td>\n",
       "    </tr>\n",
       "  </tbody>\n",
       "</table>\n",
       "</div>"
      ],
      "text/plain": [
       "month  user_id    1    2    3    4       5        6        7        8  \\\n",
       "0         1000  0.0  0.0  0.0  0.0  2254.0  23234.0  14004.0  14056.0   \n",
       "1         1001  0.0  0.0  0.0  0.0     0.0      0.0      0.0      0.0   \n",
       "2         1002  0.0  0.0  0.0  0.0     0.0  10857.0  17581.0  20320.0   \n",
       "\n",
       "month        9       10       11       12  \n",
       "0      14569.0  14703.0  14757.0   9818.0  \n",
       "1          0.0      0.0  18430.0  14037.0  \n",
       "2      16692.0  13889.0  18588.0  18114.0  "
      ]
     },
     "execution_count": 86,
     "metadata": {},
     "output_type": "execute_result"
    }
   ],
   "source": [
    "int_traf.head(3)"
   ]
  },
  {
   "cell_type": "code",
   "execution_count": 87,
   "metadata": {},
   "outputs": [],
   "source": [
    "# Создадим новую таблицу с трафиком в Гб\n",
    "int_traf_g = int_traf.copy()"
   ]
  },
  {
   "cell_type": "code",
   "execution_count": 88,
   "metadata": {},
   "outputs": [],
   "source": [
    "for j in range(1,13):\n",
    "    int_traf_g[j] = int_traf_g[j]/1024"
   ]
  },
  {
   "cell_type": "code",
   "execution_count": 89,
   "metadata": {},
   "outputs": [
    {
     "data": {
      "text/html": [
       "<div>\n",
       "<style scoped>\n",
       "    .dataframe tbody tr th:only-of-type {\n",
       "        vertical-align: middle;\n",
       "    }\n",
       "\n",
       "    .dataframe tbody tr th {\n",
       "        vertical-align: top;\n",
       "    }\n",
       "\n",
       "    .dataframe thead th {\n",
       "        text-align: right;\n",
       "    }\n",
       "</style>\n",
       "<table border=\"1\" class=\"dataframe\">\n",
       "  <thead>\n",
       "    <tr style=\"text-align: right;\">\n",
       "      <th>month</th>\n",
       "      <th>user_id</th>\n",
       "      <th>1</th>\n",
       "      <th>2</th>\n",
       "      <th>3</th>\n",
       "      <th>4</th>\n",
       "      <th>5</th>\n",
       "      <th>6</th>\n",
       "      <th>7</th>\n",
       "      <th>8</th>\n",
       "      <th>9</th>\n",
       "      <th>10</th>\n",
       "      <th>11</th>\n",
       "      <th>12</th>\n",
       "    </tr>\n",
       "  </thead>\n",
       "  <tbody>\n",
       "    <tr>\n",
       "      <th>0</th>\n",
       "      <td>1000</td>\n",
       "      <td>0.0</td>\n",
       "      <td>0.0</td>\n",
       "      <td>0.0</td>\n",
       "      <td>0.0</td>\n",
       "      <td>2.201172</td>\n",
       "      <td>22.689453</td>\n",
       "      <td>13.675781</td>\n",
       "      <td>13.726562</td>\n",
       "      <td>14.227539</td>\n",
       "      <td>14.358398</td>\n",
       "      <td>14.411133</td>\n",
       "      <td>9.587891</td>\n",
       "    </tr>\n",
       "    <tr>\n",
       "      <th>1</th>\n",
       "      <td>1001</td>\n",
       "      <td>0.0</td>\n",
       "      <td>0.0</td>\n",
       "      <td>0.0</td>\n",
       "      <td>0.0</td>\n",
       "      <td>0.000000</td>\n",
       "      <td>0.000000</td>\n",
       "      <td>0.000000</td>\n",
       "      <td>0.000000</td>\n",
       "      <td>0.000000</td>\n",
       "      <td>0.000000</td>\n",
       "      <td>17.998047</td>\n",
       "      <td>13.708008</td>\n",
       "    </tr>\n",
       "    <tr>\n",
       "      <th>2</th>\n",
       "      <td>1002</td>\n",
       "      <td>0.0</td>\n",
       "      <td>0.0</td>\n",
       "      <td>0.0</td>\n",
       "      <td>0.0</td>\n",
       "      <td>0.000000</td>\n",
       "      <td>10.602539</td>\n",
       "      <td>17.168945</td>\n",
       "      <td>19.843750</td>\n",
       "      <td>16.300781</td>\n",
       "      <td>13.563477</td>\n",
       "      <td>18.152344</td>\n",
       "      <td>17.689453</td>\n",
       "    </tr>\n",
       "  </tbody>\n",
       "</table>\n",
       "</div>"
      ],
      "text/plain": [
       "month  user_id    1    2    3    4         5          6          7          8  \\\n",
       "0         1000  0.0  0.0  0.0  0.0  2.201172  22.689453  13.675781  13.726562   \n",
       "1         1001  0.0  0.0  0.0  0.0  0.000000   0.000000   0.000000   0.000000   \n",
       "2         1002  0.0  0.0  0.0  0.0  0.000000  10.602539  17.168945  19.843750   \n",
       "\n",
       "month          9         10         11         12  \n",
       "0      14.227539  14.358398  14.411133   9.587891  \n",
       "1       0.000000   0.000000  17.998047  13.708008  \n",
       "2      16.300781  13.563477  18.152344  17.689453  "
      ]
     },
     "execution_count": 89,
     "metadata": {},
     "output_type": "execute_result"
    }
   ],
   "source": [
    "int_traf_g.head(3)"
   ]
  },
  {
   "cell_type": "code",
   "execution_count": 90,
   "metadata": {},
   "outputs": [],
   "source": [
    "# добавим колонку с тарифом\n",
    "int_traf_g = pd.merge(int_traf_g, usr_tariff, on='user_id')"
   ]
  },
  {
   "cell_type": "code",
   "execution_count": 91,
   "metadata": {},
   "outputs": [],
   "source": [
    "# Округлим значения до целого значения в большую сторону\n",
    "for k in range(1,13):\n",
    "    int_traf_g[k] = int_traf_g[k].apply(np.ceil)"
   ]
  },
  {
   "cell_type": "code",
   "execution_count": 92,
   "metadata": {},
   "outputs": [
    {
     "data": {
      "text/html": [
       "<div>\n",
       "<style scoped>\n",
       "    .dataframe tbody tr th:only-of-type {\n",
       "        vertical-align: middle;\n",
       "    }\n",
       "\n",
       "    .dataframe tbody tr th {\n",
       "        vertical-align: top;\n",
       "    }\n",
       "\n",
       "    .dataframe thead th {\n",
       "        text-align: right;\n",
       "    }\n",
       "</style>\n",
       "<table border=\"1\" class=\"dataframe\">\n",
       "  <thead>\n",
       "    <tr style=\"text-align: right;\">\n",
       "      <th></th>\n",
       "      <th>user_id</th>\n",
       "      <th>1</th>\n",
       "      <th>2</th>\n",
       "      <th>3</th>\n",
       "      <th>4</th>\n",
       "      <th>5</th>\n",
       "      <th>6</th>\n",
       "      <th>7</th>\n",
       "      <th>8</th>\n",
       "      <th>9</th>\n",
       "      <th>10</th>\n",
       "      <th>11</th>\n",
       "      <th>12</th>\n",
       "      <th>tariff</th>\n",
       "    </tr>\n",
       "  </thead>\n",
       "  <tbody>\n",
       "    <tr>\n",
       "      <th>0</th>\n",
       "      <td>1000</td>\n",
       "      <td>0.0</td>\n",
       "      <td>0.0</td>\n",
       "      <td>0.0</td>\n",
       "      <td>0.0</td>\n",
       "      <td>3.0</td>\n",
       "      <td>23.0</td>\n",
       "      <td>14.0</td>\n",
       "      <td>14.0</td>\n",
       "      <td>15.0</td>\n",
       "      <td>15.0</td>\n",
       "      <td>15.0</td>\n",
       "      <td>10.0</td>\n",
       "      <td>ultra</td>\n",
       "    </tr>\n",
       "    <tr>\n",
       "      <th>1</th>\n",
       "      <td>1001</td>\n",
       "      <td>0.0</td>\n",
       "      <td>0.0</td>\n",
       "      <td>0.0</td>\n",
       "      <td>0.0</td>\n",
       "      <td>0.0</td>\n",
       "      <td>0.0</td>\n",
       "      <td>0.0</td>\n",
       "      <td>0.0</td>\n",
       "      <td>0.0</td>\n",
       "      <td>0.0</td>\n",
       "      <td>18.0</td>\n",
       "      <td>14.0</td>\n",
       "      <td>smart</td>\n",
       "    </tr>\n",
       "    <tr>\n",
       "      <th>2</th>\n",
       "      <td>1002</td>\n",
       "      <td>0.0</td>\n",
       "      <td>0.0</td>\n",
       "      <td>0.0</td>\n",
       "      <td>0.0</td>\n",
       "      <td>0.0</td>\n",
       "      <td>11.0</td>\n",
       "      <td>18.0</td>\n",
       "      <td>20.0</td>\n",
       "      <td>17.0</td>\n",
       "      <td>14.0</td>\n",
       "      <td>19.0</td>\n",
       "      <td>18.0</td>\n",
       "      <td>smart</td>\n",
       "    </tr>\n",
       "  </tbody>\n",
       "</table>\n",
       "</div>"
      ],
      "text/plain": [
       "   user_id    1    2    3    4    5     6     7     8     9    10    11    12  \\\n",
       "0     1000  0.0  0.0  0.0  0.0  3.0  23.0  14.0  14.0  15.0  15.0  15.0  10.0   \n",
       "1     1001  0.0  0.0  0.0  0.0  0.0   0.0   0.0   0.0   0.0   0.0  18.0  14.0   \n",
       "2     1002  0.0  0.0  0.0  0.0  0.0  11.0  18.0  20.0  17.0  14.0  19.0  18.0   \n",
       "\n",
       "  tariff  \n",
       "0  ultra  \n",
       "1  smart  \n",
       "2  smart  "
      ]
     },
     "execution_count": 92,
     "metadata": {},
     "output_type": "execute_result"
    }
   ],
   "source": [
    "int_traf_g.head(3)"
   ]
  },
  {
   "cell_type": "code",
   "execution_count": 93,
   "metadata": {},
   "outputs": [],
   "source": [
    "# добавим колонку со средним количеством сообщений в месяц\n",
    "mean_month_int_traf = []\n",
    "for row in range(0, len(int_traf_g)):\n",
    "    user_call = int_traf_g.loc[row, 'user_id']\n",
    "    start_m = df_usr.iloc[df_usr[df_usr['user_id']==user_call].index[0]]['month']\n",
    "    end_m = df_usr.iloc[df_usr[df_usr['user_id']==user_call].index[0]]['month_c']\n",
    "    mean_month_int_traf_i = int_traf_g.iloc[row, start_m:end_m+1].median()\n",
    "    mean_month_int_traf.append(mean_month_int_traf_i)\n",
    "int_traf_g['mean_month_int_traffic'] = mean_month_int_traf"
   ]
  },
  {
   "cell_type": "code",
   "execution_count": 94,
   "metadata": {},
   "outputs": [
    {
     "data": {
      "text/html": [
       "<div>\n",
       "<style scoped>\n",
       "    .dataframe tbody tr th:only-of-type {\n",
       "        vertical-align: middle;\n",
       "    }\n",
       "\n",
       "    .dataframe tbody tr th {\n",
       "        vertical-align: top;\n",
       "    }\n",
       "\n",
       "    .dataframe thead th {\n",
       "        text-align: right;\n",
       "    }\n",
       "</style>\n",
       "<table border=\"1\" class=\"dataframe\">\n",
       "  <thead>\n",
       "    <tr style=\"text-align: right;\">\n",
       "      <th></th>\n",
       "      <th>user_id</th>\n",
       "      <th>1</th>\n",
       "      <th>2</th>\n",
       "      <th>3</th>\n",
       "      <th>4</th>\n",
       "      <th>5</th>\n",
       "      <th>6</th>\n",
       "      <th>7</th>\n",
       "      <th>8</th>\n",
       "      <th>9</th>\n",
       "      <th>10</th>\n",
       "      <th>11</th>\n",
       "      <th>12</th>\n",
       "      <th>tariff</th>\n",
       "      <th>mean_month_int_traffic</th>\n",
       "    </tr>\n",
       "  </thead>\n",
       "  <tbody>\n",
       "    <tr>\n",
       "      <th>0</th>\n",
       "      <td>1000</td>\n",
       "      <td>0.0</td>\n",
       "      <td>0.0</td>\n",
       "      <td>0.0</td>\n",
       "      <td>0.0</td>\n",
       "      <td>3.0</td>\n",
       "      <td>23.0</td>\n",
       "      <td>14.0</td>\n",
       "      <td>14.0</td>\n",
       "      <td>15.0</td>\n",
       "      <td>15.0</td>\n",
       "      <td>15.0</td>\n",
       "      <td>10.0</td>\n",
       "      <td>ultra</td>\n",
       "      <td>14.5</td>\n",
       "    </tr>\n",
       "    <tr>\n",
       "      <th>1</th>\n",
       "      <td>1001</td>\n",
       "      <td>0.0</td>\n",
       "      <td>0.0</td>\n",
       "      <td>0.0</td>\n",
       "      <td>0.0</td>\n",
       "      <td>0.0</td>\n",
       "      <td>0.0</td>\n",
       "      <td>0.0</td>\n",
       "      <td>0.0</td>\n",
       "      <td>0.0</td>\n",
       "      <td>0.0</td>\n",
       "      <td>18.0</td>\n",
       "      <td>14.0</td>\n",
       "      <td>smart</td>\n",
       "      <td>16.0</td>\n",
       "    </tr>\n",
       "    <tr>\n",
       "      <th>2</th>\n",
       "      <td>1002</td>\n",
       "      <td>0.0</td>\n",
       "      <td>0.0</td>\n",
       "      <td>0.0</td>\n",
       "      <td>0.0</td>\n",
       "      <td>0.0</td>\n",
       "      <td>11.0</td>\n",
       "      <td>18.0</td>\n",
       "      <td>20.0</td>\n",
       "      <td>17.0</td>\n",
       "      <td>14.0</td>\n",
       "      <td>19.0</td>\n",
       "      <td>18.0</td>\n",
       "      <td>smart</td>\n",
       "      <td>18.0</td>\n",
       "    </tr>\n",
       "  </tbody>\n",
       "</table>\n",
       "</div>"
      ],
      "text/plain": [
       "   user_id    1    2    3    4    5     6     7     8     9    10    11    12  \\\n",
       "0     1000  0.0  0.0  0.0  0.0  3.0  23.0  14.0  14.0  15.0  15.0  15.0  10.0   \n",
       "1     1001  0.0  0.0  0.0  0.0  0.0   0.0   0.0   0.0   0.0   0.0  18.0  14.0   \n",
       "2     1002  0.0  0.0  0.0  0.0  0.0  11.0  18.0  20.0  17.0  14.0  19.0  18.0   \n",
       "\n",
       "  tariff  mean_month_int_traffic  \n",
       "0  ultra                    14.5  \n",
       "1  smart                    16.0  \n",
       "2  smart                    18.0  "
      ]
     },
     "execution_count": 94,
     "metadata": {},
     "output_type": "execute_result"
    }
   ],
   "source": [
    "int_traf_g.head(3)"
   ]
  },
  {
   "cell_type": "code",
   "execution_count": 95,
   "metadata": {},
   "outputs": [
    {
     "data": {
      "image/png": "[encoded data removed]",
      "text/plain": [
       "<Figure size 360x360 with 1 Axes>"
      ]
     },
     "metadata": {
      "needs_background": "light"
     },
     "output_type": "display_data"
    }
   ],
   "source": [
    "# Среднее кол-во трафика в Гб\n",
    "plt.figure(figsize=(5,5))\n",
    "sns.boxplot(data=int_traf_g, x='tariff', y = 'mean_month_int_traffic', hue='tariff', palette=\"Set1\")\n",
    "plt.grid()\n",
    "plt.show();"
   ]
  },
  {
   "cell_type": "markdown",
   "metadata": {},
   "source": [
    "##### Таблица internet. Выводы:\n",
    "Из данных были удалены строки пользователей, которые пользовались тарифом меньше месяца. Был посчитан трафик в Гб в месяц для каждого пользователя, а также средний трафик в месяц\n",
    "\n",
    "Клиенты тарифа ultra в среднем используют больше трафика в месяц, чем пользователи тарифа smart. В среднем, пользователь тарифа ultra не превышает пороговое значение в 30Гб, а пользователь тарифа smart в среднем в месяц превышает пороговое значение в месяц - 15Гб"
   ]
  },
  {
   "cell_type": "markdown",
   "metadata": {},
   "source": [
    "## Расчёты и добавление результатов в таблицу"
   ]
  },
  {
   "cell_type": "markdown",
   "metadata": {},
   "source": [
    "Посчитаем помесячную выручку с каждого клиента"
   ]
  },
  {
   "cell_type": "code",
   "execution_count": 96,
   "metadata": {},
   "outputs": [
    {
     "data": {
      "text/html": [
       "<div>\n",
       "<style scoped>\n",
       "    .dataframe tbody tr th:only-of-type {\n",
       "        vertical-align: middle;\n",
       "    }\n",
       "\n",
       "    .dataframe tbody tr th {\n",
       "        vertical-align: top;\n",
       "    }\n",
       "\n",
       "    .dataframe thead th {\n",
       "        text-align: right;\n",
       "    }\n",
       "</style>\n",
       "<table border=\"1\" class=\"dataframe\">\n",
       "  <thead>\n",
       "    <tr style=\"text-align: right;\">\n",
       "      <th></th>\n",
       "      <th>messages_included</th>\n",
       "      <th>mb_per_month_included</th>\n",
       "      <th>minutes_included</th>\n",
       "      <th>rub_monthly_fee</th>\n",
       "      <th>rub_per_gb</th>\n",
       "      <th>rub_per_message</th>\n",
       "      <th>rub_per_minute</th>\n",
       "      <th>tariff_name</th>\n",
       "    </tr>\n",
       "  </thead>\n",
       "  <tbody>\n",
       "    <tr>\n",
       "      <th>0</th>\n",
       "      <td>50</td>\n",
       "      <td>15360</td>\n",
       "      <td>500</td>\n",
       "      <td>550</td>\n",
       "      <td>200</td>\n",
       "      <td>3</td>\n",
       "      <td>3</td>\n",
       "      <td>smart</td>\n",
       "    </tr>\n",
       "    <tr>\n",
       "      <th>1</th>\n",
       "      <td>1000</td>\n",
       "      <td>30720</td>\n",
       "      <td>3000</td>\n",
       "      <td>1950</td>\n",
       "      <td>150</td>\n",
       "      <td>1</td>\n",
       "      <td>1</td>\n",
       "      <td>ultra</td>\n",
       "    </tr>\n",
       "  </tbody>\n",
       "</table>\n",
       "</div>"
      ],
      "text/plain": [
       "   messages_included  mb_per_month_included  minutes_included  \\\n",
       "0                 50                  15360               500   \n",
       "1               1000                  30720              3000   \n",
       "\n",
       "   rub_monthly_fee  rub_per_gb  rub_per_message  rub_per_minute tariff_name  \n",
       "0              550         200                3               3       smart  \n",
       "1             1950         150                1               1       ultra  "
      ]
     },
     "execution_count": 96,
     "metadata": {},
     "output_type": "execute_result"
    }
   ],
   "source": [
    "df_tarif"
   ]
  },
  {
   "cell_type": "code",
   "execution_count": 97,
   "metadata": {},
   "outputs": [],
   "source": [
    "# добавим колонку в датасет df_tarif с количеством Гб включеных в тариф\n",
    "df_tarif['mb_per_month_included_Gb'] = df_tarif['mb_per_month_included']/1024"
   ]
  },
  {
   "cell_type": "code",
   "execution_count": 98,
   "metadata": {},
   "outputs": [
    {
     "data": {
      "text/html": [
       "<div>\n",
       "<style scoped>\n",
       "    .dataframe tbody tr th:only-of-type {\n",
       "        vertical-align: middle;\n",
       "    }\n",
       "\n",
       "    .dataframe tbody tr th {\n",
       "        vertical-align: top;\n",
       "    }\n",
       "\n",
       "    .dataframe thead th {\n",
       "        text-align: right;\n",
       "    }\n",
       "</style>\n",
       "<table border=\"1\" class=\"dataframe\">\n",
       "  <thead>\n",
       "    <tr style=\"text-align: right;\">\n",
       "      <th></th>\n",
       "      <th>messages_included</th>\n",
       "      <th>mb_per_month_included</th>\n",
       "      <th>minutes_included</th>\n",
       "      <th>rub_monthly_fee</th>\n",
       "      <th>rub_per_gb</th>\n",
       "      <th>rub_per_message</th>\n",
       "      <th>rub_per_minute</th>\n",
       "      <th>tariff_name</th>\n",
       "      <th>mb_per_month_included_Gb</th>\n",
       "    </tr>\n",
       "  </thead>\n",
       "  <tbody>\n",
       "    <tr>\n",
       "      <th>0</th>\n",
       "      <td>50</td>\n",
       "      <td>15360</td>\n",
       "      <td>500</td>\n",
       "      <td>550</td>\n",
       "      <td>200</td>\n",
       "      <td>3</td>\n",
       "      <td>3</td>\n",
       "      <td>smart</td>\n",
       "      <td>15.0</td>\n",
       "    </tr>\n",
       "    <tr>\n",
       "      <th>1</th>\n",
       "      <td>1000</td>\n",
       "      <td>30720</td>\n",
       "      <td>3000</td>\n",
       "      <td>1950</td>\n",
       "      <td>150</td>\n",
       "      <td>1</td>\n",
       "      <td>1</td>\n",
       "      <td>ultra</td>\n",
       "      <td>30.0</td>\n",
       "    </tr>\n",
       "  </tbody>\n",
       "</table>\n",
       "</div>"
      ],
      "text/plain": [
       "   messages_included  mb_per_month_included  minutes_included  \\\n",
       "0                 50                  15360               500   \n",
       "1               1000                  30720              3000   \n",
       "\n",
       "   rub_monthly_fee  rub_per_gb  rub_per_message  rub_per_minute tariff_name  \\\n",
       "0              550         200                3               3       smart   \n",
       "1             1950         150                1               1       ultra   \n",
       "\n",
       "   mb_per_month_included_Gb  \n",
       "0                      15.0  \n",
       "1                      30.0  "
      ]
     },
     "execution_count": 98,
     "metadata": {},
     "output_type": "execute_result"
    }
   ],
   "source": [
    "df_tarif"
   ]
  },
  {
   "cell_type": "code",
   "execution_count": 99,
   "metadata": {},
   "outputs": [],
   "source": [
    "# Создадим копию датасета для звонков\n",
    "cost_call_dur = call_dur.copy()"
   ]
  },
  {
   "cell_type": "code",
   "execution_count": 100,
   "metadata": {},
   "outputs": [
    {
     "data": {
      "text/html": [
       "<div>\n",
       "<style scoped>\n",
       "    .dataframe tbody tr th:only-of-type {\n",
       "        vertical-align: middle;\n",
       "    }\n",
       "\n",
       "    .dataframe tbody tr th {\n",
       "        vertical-align: top;\n",
       "    }\n",
       "\n",
       "    .dataframe thead th {\n",
       "        text-align: right;\n",
       "    }\n",
       "</style>\n",
       "<table border=\"1\" class=\"dataframe\">\n",
       "  <thead>\n",
       "    <tr style=\"text-align: right;\">\n",
       "      <th></th>\n",
       "      <th>user_id</th>\n",
       "      <th>1</th>\n",
       "      <th>2</th>\n",
       "      <th>3</th>\n",
       "      <th>4</th>\n",
       "      <th>5</th>\n",
       "      <th>6</th>\n",
       "      <th>7</th>\n",
       "      <th>8</th>\n",
       "      <th>9</th>\n",
       "      <th>10</th>\n",
       "      <th>11</th>\n",
       "      <th>12</th>\n",
       "      <th>tariff</th>\n",
       "      <th>mean_m_call_dur</th>\n",
       "    </tr>\n",
       "  </thead>\n",
       "  <tbody>\n",
       "    <tr>\n",
       "      <th>0</th>\n",
       "      <td>1000</td>\n",
       "      <td>0.0</td>\n",
       "      <td>0.0</td>\n",
       "      <td>0.0</td>\n",
       "      <td>0.0</td>\n",
       "      <td>159.0</td>\n",
       "      <td>172.0</td>\n",
       "      <td>340.0</td>\n",
       "      <td>408.0</td>\n",
       "      <td>466.0</td>\n",
       "      <td>350.0</td>\n",
       "      <td>338.0</td>\n",
       "      <td>333.0</td>\n",
       "      <td>ultra</td>\n",
       "      <td>339.0</td>\n",
       "    </tr>\n",
       "    <tr>\n",
       "      <th>1</th>\n",
       "      <td>1001</td>\n",
       "      <td>0.0</td>\n",
       "      <td>0.0</td>\n",
       "      <td>0.0</td>\n",
       "      <td>0.0</td>\n",
       "      <td>0.0</td>\n",
       "      <td>0.0</td>\n",
       "      <td>0.0</td>\n",
       "      <td>0.0</td>\n",
       "      <td>0.0</td>\n",
       "      <td>0.0</td>\n",
       "      <td>430.0</td>\n",
       "      <td>414.0</td>\n",
       "      <td>smart</td>\n",
       "      <td>422.0</td>\n",
       "    </tr>\n",
       "    <tr>\n",
       "      <th>2</th>\n",
       "      <td>1002</td>\n",
       "      <td>0.0</td>\n",
       "      <td>0.0</td>\n",
       "      <td>0.0</td>\n",
       "      <td>0.0</td>\n",
       "      <td>0.0</td>\n",
       "      <td>117.0</td>\n",
       "      <td>214.0</td>\n",
       "      <td>289.0</td>\n",
       "      <td>206.0</td>\n",
       "      <td>212.0</td>\n",
       "      <td>243.0</td>\n",
       "      <td>236.0</td>\n",
       "      <td>smart</td>\n",
       "      <td>214.0</td>\n",
       "    </tr>\n",
       "  </tbody>\n",
       "</table>\n",
       "</div>"
      ],
      "text/plain": [
       "   user_id    1    2    3    4      5      6      7      8      9     10  \\\n",
       "0     1000  0.0  0.0  0.0  0.0  159.0  172.0  340.0  408.0  466.0  350.0   \n",
       "1     1001  0.0  0.0  0.0  0.0    0.0    0.0    0.0    0.0    0.0    0.0   \n",
       "2     1002  0.0  0.0  0.0  0.0    0.0  117.0  214.0  289.0  206.0  212.0   \n",
       "\n",
       "      11     12 tariff  mean_m_call_dur  \n",
       "0  338.0  333.0  ultra            339.0  \n",
       "1  430.0  414.0  smart            422.0  \n",
       "2  243.0  236.0  smart            214.0  "
      ]
     },
     "execution_count": 100,
     "metadata": {},
     "output_type": "execute_result"
    }
   ],
   "source": [
    "cost_call_dur.head(3)"
   ]
  },
  {
   "cell_type": "code",
   "execution_count": 101,
   "metadata": {},
   "outputs": [],
   "source": [
    "# Функция для расчета выручки в месяц при привышении лимита\n",
    "def cost_convert(df_month0, case_includ, case_cost):\n",
    "    df_month = df_month0.copy()\n",
    "    for row in range(0, len(df_month)):\n",
    "        if df_month.loc[row, 'tariff'] == 'smart':\n",
    "            for cl in range(1,13):\n",
    "                if df_month.loc[row, cl] > df_tarif.at[0, case_includ]:\n",
    "                    df_month.loc[row, cl] = (df_month.loc[row, cl] - df_tarif.at[0, case_includ])*df_tarif.at[0, case_cost]\n",
    "                else:\n",
    "                    df_month.loc[row, cl] = 0\n",
    "        elif df_month.loc[row, 'tariff'] == 'ultra':\n",
    "            for cl in range(1,13):\n",
    "                if df_month.loc[row, cl] > df_tarif.at[1, case_includ]:\n",
    "                    df_month.loc[row, cl] = (df_month.loc[row, cl] - df_tarif.at[1, case_includ])*df_tarif.at[1, case_cost]\n",
    "                else:\n",
    "                    df_month.loc[row, cl] = 0\n",
    "    return df_month"
   ]
  },
  {
   "cell_type": "code",
   "execution_count": 102,
   "metadata": {},
   "outputs": [],
   "source": [
    "# датасет стоимости использования тарифа за звонки\n",
    "cost_call_dur = cost_convert(cost_call_dur, 'minutes_included', 'rub_per_minute')"
   ]
  },
  {
   "cell_type": "code",
   "execution_count": 103,
   "metadata": {},
   "outputs": [
    {
     "data": {
      "text/html": [
       "<div>\n",
       "<style scoped>\n",
       "    .dataframe tbody tr th:only-of-type {\n",
       "        vertical-align: middle;\n",
       "    }\n",
       "\n",
       "    .dataframe tbody tr th {\n",
       "        vertical-align: top;\n",
       "    }\n",
       "\n",
       "    .dataframe thead th {\n",
       "        text-align: right;\n",
       "    }\n",
       "</style>\n",
       "<table border=\"1\" class=\"dataframe\">\n",
       "  <thead>\n",
       "    <tr style=\"text-align: right;\">\n",
       "      <th></th>\n",
       "      <th>user_id</th>\n",
       "      <th>1</th>\n",
       "      <th>2</th>\n",
       "      <th>3</th>\n",
       "      <th>4</th>\n",
       "      <th>5</th>\n",
       "      <th>6</th>\n",
       "      <th>7</th>\n",
       "      <th>8</th>\n",
       "      <th>9</th>\n",
       "      <th>10</th>\n",
       "      <th>11</th>\n",
       "      <th>12</th>\n",
       "      <th>tariff</th>\n",
       "      <th>mean_m_call_dur</th>\n",
       "    </tr>\n",
       "  </thead>\n",
       "  <tbody>\n",
       "    <tr>\n",
       "      <th>0</th>\n",
       "      <td>1000</td>\n",
       "      <td>0.0</td>\n",
       "      <td>0.0</td>\n",
       "      <td>0.0</td>\n",
       "      <td>0.0</td>\n",
       "      <td>0.0</td>\n",
       "      <td>0.0</td>\n",
       "      <td>0.0</td>\n",
       "      <td>0.0</td>\n",
       "      <td>0.0</td>\n",
       "      <td>0.0</td>\n",
       "      <td>0.0</td>\n",
       "      <td>0.0</td>\n",
       "      <td>ultra</td>\n",
       "      <td>339.0</td>\n",
       "    </tr>\n",
       "    <tr>\n",
       "      <th>1</th>\n",
       "      <td>1001</td>\n",
       "      <td>0.0</td>\n",
       "      <td>0.0</td>\n",
       "      <td>0.0</td>\n",
       "      <td>0.0</td>\n",
       "      <td>0.0</td>\n",
       "      <td>0.0</td>\n",
       "      <td>0.0</td>\n",
       "      <td>0.0</td>\n",
       "      <td>0.0</td>\n",
       "      <td>0.0</td>\n",
       "      <td>0.0</td>\n",
       "      <td>0.0</td>\n",
       "      <td>smart</td>\n",
       "      <td>422.0</td>\n",
       "    </tr>\n",
       "    <tr>\n",
       "      <th>2</th>\n",
       "      <td>1002</td>\n",
       "      <td>0.0</td>\n",
       "      <td>0.0</td>\n",
       "      <td>0.0</td>\n",
       "      <td>0.0</td>\n",
       "      <td>0.0</td>\n",
       "      <td>0.0</td>\n",
       "      <td>0.0</td>\n",
       "      <td>0.0</td>\n",
       "      <td>0.0</td>\n",
       "      <td>0.0</td>\n",
       "      <td>0.0</td>\n",
       "      <td>0.0</td>\n",
       "      <td>smart</td>\n",
       "      <td>214.0</td>\n",
       "    </tr>\n",
       "  </tbody>\n",
       "</table>\n",
       "</div>"
      ],
      "text/plain": [
       "   user_id    1    2    3    4    5    6    7    8    9   10   11   12 tariff  \\\n",
       "0     1000  0.0  0.0  0.0  0.0  0.0  0.0  0.0  0.0  0.0  0.0  0.0  0.0  ultra   \n",
       "1     1001  0.0  0.0  0.0  0.0  0.0  0.0  0.0  0.0  0.0  0.0  0.0  0.0  smart   \n",
       "2     1002  0.0  0.0  0.0  0.0  0.0  0.0  0.0  0.0  0.0  0.0  0.0  0.0  smart   \n",
       "\n",
       "   mean_m_call_dur  \n",
       "0            339.0  \n",
       "1            422.0  \n",
       "2            214.0  "
      ]
     },
     "execution_count": 103,
     "metadata": {},
     "output_type": "execute_result"
    }
   ],
   "source": [
    "cost_call_dur.head(3)"
   ]
  },
  {
   "cell_type": "code",
   "execution_count": 104,
   "metadata": {},
   "outputs": [],
   "source": [
    "cost_call_dur.drop(['mean_m_call_dur'], axis=1, inplace=True)"
   ]
  },
  {
   "cell_type": "code",
   "execution_count": 105,
   "metadata": {},
   "outputs": [
    {
     "data": {
      "text/html": [
       "<div>\n",
       "<style scoped>\n",
       "    .dataframe tbody tr th:only-of-type {\n",
       "        vertical-align: middle;\n",
       "    }\n",
       "\n",
       "    .dataframe tbody tr th {\n",
       "        vertical-align: top;\n",
       "    }\n",
       "\n",
       "    .dataframe thead th {\n",
       "        text-align: right;\n",
       "    }\n",
       "</style>\n",
       "<table border=\"1\" class=\"dataframe\">\n",
       "  <thead>\n",
       "    <tr style=\"text-align: right;\">\n",
       "      <th></th>\n",
       "      <th>user_id</th>\n",
       "      <th>1</th>\n",
       "      <th>2</th>\n",
       "      <th>3</th>\n",
       "      <th>4</th>\n",
       "      <th>5</th>\n",
       "      <th>6</th>\n",
       "      <th>7</th>\n",
       "      <th>8</th>\n",
       "      <th>9</th>\n",
       "      <th>10</th>\n",
       "      <th>11</th>\n",
       "      <th>12</th>\n",
       "      <th>tariff</th>\n",
       "    </tr>\n",
       "  </thead>\n",
       "  <tbody>\n",
       "    <tr>\n",
       "      <th>0</th>\n",
       "      <td>1000</td>\n",
       "      <td>0.0</td>\n",
       "      <td>0.0</td>\n",
       "      <td>0.0</td>\n",
       "      <td>0.0</td>\n",
       "      <td>0.0</td>\n",
       "      <td>0.0</td>\n",
       "      <td>0.0</td>\n",
       "      <td>0.0</td>\n",
       "      <td>0.0</td>\n",
       "      <td>0.0</td>\n",
       "      <td>0.0</td>\n",
       "      <td>0.0</td>\n",
       "      <td>ultra</td>\n",
       "    </tr>\n",
       "    <tr>\n",
       "      <th>1</th>\n",
       "      <td>1001</td>\n",
       "      <td>0.0</td>\n",
       "      <td>0.0</td>\n",
       "      <td>0.0</td>\n",
       "      <td>0.0</td>\n",
       "      <td>0.0</td>\n",
       "      <td>0.0</td>\n",
       "      <td>0.0</td>\n",
       "      <td>0.0</td>\n",
       "      <td>0.0</td>\n",
       "      <td>0.0</td>\n",
       "      <td>0.0</td>\n",
       "      <td>0.0</td>\n",
       "      <td>smart</td>\n",
       "    </tr>\n",
       "    <tr>\n",
       "      <th>2</th>\n",
       "      <td>1002</td>\n",
       "      <td>0.0</td>\n",
       "      <td>0.0</td>\n",
       "      <td>0.0</td>\n",
       "      <td>0.0</td>\n",
       "      <td>0.0</td>\n",
       "      <td>0.0</td>\n",
       "      <td>0.0</td>\n",
       "      <td>0.0</td>\n",
       "      <td>0.0</td>\n",
       "      <td>0.0</td>\n",
       "      <td>0.0</td>\n",
       "      <td>0.0</td>\n",
       "      <td>smart</td>\n",
       "    </tr>\n",
       "  </tbody>\n",
       "</table>\n",
       "</div>"
      ],
      "text/plain": [
       "   user_id    1    2    3    4    5    6    7    8    9   10   11   12 tariff\n",
       "0     1000  0.0  0.0  0.0  0.0  0.0  0.0  0.0  0.0  0.0  0.0  0.0  0.0  ultra\n",
       "1     1001  0.0  0.0  0.0  0.0  0.0  0.0  0.0  0.0  0.0  0.0  0.0  0.0  smart\n",
       "2     1002  0.0  0.0  0.0  0.0  0.0  0.0  0.0  0.0  0.0  0.0  0.0  0.0  smart"
      ]
     },
     "execution_count": 105,
     "metadata": {},
     "output_type": "execute_result"
    }
   ],
   "source": [
    "cost_call_dur.head(3)"
   ]
  },
  {
   "cell_type": "code",
   "execution_count": 106,
   "metadata": {},
   "outputs": [],
   "source": [
    "# Создадим копию датасета для сообщений\n",
    "cost_msg_count = msg_count.copy()"
   ]
  },
  {
   "cell_type": "code",
   "execution_count": 107,
   "metadata": {},
   "outputs": [
    {
     "data": {
      "text/html": [
       "<div>\n",
       "<style scoped>\n",
       "    .dataframe tbody tr th:only-of-type {\n",
       "        vertical-align: middle;\n",
       "    }\n",
       "\n",
       "    .dataframe tbody tr th {\n",
       "        vertical-align: top;\n",
       "    }\n",
       "\n",
       "    .dataframe thead th {\n",
       "        text-align: right;\n",
       "    }\n",
       "</style>\n",
       "<table border=\"1\" class=\"dataframe\">\n",
       "  <thead>\n",
       "    <tr style=\"text-align: right;\">\n",
       "      <th></th>\n",
       "      <th>user_id</th>\n",
       "      <th>1</th>\n",
       "      <th>2</th>\n",
       "      <th>3</th>\n",
       "      <th>4</th>\n",
       "      <th>5</th>\n",
       "      <th>6</th>\n",
       "      <th>7</th>\n",
       "      <th>8</th>\n",
       "      <th>9</th>\n",
       "      <th>10</th>\n",
       "      <th>11</th>\n",
       "      <th>12</th>\n",
       "      <th>tariff</th>\n",
       "      <th>mean_m_msg_count</th>\n",
       "    </tr>\n",
       "  </thead>\n",
       "  <tbody>\n",
       "    <tr>\n",
       "      <th>0</th>\n",
       "      <td>1000</td>\n",
       "      <td>0.0</td>\n",
       "      <td>0.0</td>\n",
       "      <td>0.0</td>\n",
       "      <td>0.0</td>\n",
       "      <td>22.0</td>\n",
       "      <td>60.0</td>\n",
       "      <td>75.0</td>\n",
       "      <td>81.0</td>\n",
       "      <td>57.0</td>\n",
       "      <td>73.0</td>\n",
       "      <td>58.0</td>\n",
       "      <td>70.0</td>\n",
       "      <td>ultra</td>\n",
       "      <td>65.0</td>\n",
       "    </tr>\n",
       "    <tr>\n",
       "      <th>1</th>\n",
       "      <td>1002</td>\n",
       "      <td>0.0</td>\n",
       "      <td>0.0</td>\n",
       "      <td>0.0</td>\n",
       "      <td>0.0</td>\n",
       "      <td>0.0</td>\n",
       "      <td>4.0</td>\n",
       "      <td>11.0</td>\n",
       "      <td>13.0</td>\n",
       "      <td>4.0</td>\n",
       "      <td>10.0</td>\n",
       "      <td>16.0</td>\n",
       "      <td>12.0</td>\n",
       "      <td>smart</td>\n",
       "      <td>11.0</td>\n",
       "    </tr>\n",
       "    <tr>\n",
       "      <th>2</th>\n",
       "      <td>1003</td>\n",
       "      <td>0.0</td>\n",
       "      <td>0.0</td>\n",
       "      <td>0.0</td>\n",
       "      <td>0.0</td>\n",
       "      <td>0.0</td>\n",
       "      <td>0.0</td>\n",
       "      <td>0.0</td>\n",
       "      <td>37.0</td>\n",
       "      <td>91.0</td>\n",
       "      <td>83.0</td>\n",
       "      <td>94.0</td>\n",
       "      <td>75.0</td>\n",
       "      <td>ultra</td>\n",
       "      <td>83.0</td>\n",
       "    </tr>\n",
       "  </tbody>\n",
       "</table>\n",
       "</div>"
      ],
      "text/plain": [
       "   user_id    1    2    3    4     5     6     7     8     9    10    11  \\\n",
       "0     1000  0.0  0.0  0.0  0.0  22.0  60.0  75.0  81.0  57.0  73.0  58.0   \n",
       "1     1002  0.0  0.0  0.0  0.0   0.0   4.0  11.0  13.0   4.0  10.0  16.0   \n",
       "2     1003  0.0  0.0  0.0  0.0   0.0   0.0   0.0  37.0  91.0  83.0  94.0   \n",
       "\n",
       "     12 tariff  mean_m_msg_count  \n",
       "0  70.0  ultra              65.0  \n",
       "1  12.0  smart              11.0  \n",
       "2  75.0  ultra              83.0  "
      ]
     },
     "execution_count": 107,
     "metadata": {},
     "output_type": "execute_result"
    }
   ],
   "source": [
    "cost_msg_count.head(3)"
   ]
  },
  {
   "cell_type": "code",
   "execution_count": 108,
   "metadata": {},
   "outputs": [],
   "source": [
    "# датасет стоимости использования тарифа за сообщения\n",
    "cost_msg_count = cost_convert(msg_count, 'messages_included', 'rub_per_message')"
   ]
  },
  {
   "cell_type": "code",
   "execution_count": 109,
   "metadata": {},
   "outputs": [
    {
     "data": {
      "text/html": [
       "<div>\n",
       "<style scoped>\n",
       "    .dataframe tbody tr th:only-of-type {\n",
       "        vertical-align: middle;\n",
       "    }\n",
       "\n",
       "    .dataframe tbody tr th {\n",
       "        vertical-align: top;\n",
       "    }\n",
       "\n",
       "    .dataframe thead th {\n",
       "        text-align: right;\n",
       "    }\n",
       "</style>\n",
       "<table border=\"1\" class=\"dataframe\">\n",
       "  <thead>\n",
       "    <tr style=\"text-align: right;\">\n",
       "      <th></th>\n",
       "      <th>user_id</th>\n",
       "      <th>1</th>\n",
       "      <th>2</th>\n",
       "      <th>3</th>\n",
       "      <th>4</th>\n",
       "      <th>5</th>\n",
       "      <th>6</th>\n",
       "      <th>7</th>\n",
       "      <th>8</th>\n",
       "      <th>9</th>\n",
       "      <th>10</th>\n",
       "      <th>11</th>\n",
       "      <th>12</th>\n",
       "      <th>tariff</th>\n",
       "      <th>mean_m_msg_count</th>\n",
       "    </tr>\n",
       "  </thead>\n",
       "  <tbody>\n",
       "    <tr>\n",
       "      <th>0</th>\n",
       "      <td>1000</td>\n",
       "      <td>0.0</td>\n",
       "      <td>0.0</td>\n",
       "      <td>0.0</td>\n",
       "      <td>0.0</td>\n",
       "      <td>0.0</td>\n",
       "      <td>0.0</td>\n",
       "      <td>0.0</td>\n",
       "      <td>0.0</td>\n",
       "      <td>0.0</td>\n",
       "      <td>0.0</td>\n",
       "      <td>0.0</td>\n",
       "      <td>0.0</td>\n",
       "      <td>ultra</td>\n",
       "      <td>65.0</td>\n",
       "    </tr>\n",
       "    <tr>\n",
       "      <th>1</th>\n",
       "      <td>1002</td>\n",
       "      <td>0.0</td>\n",
       "      <td>0.0</td>\n",
       "      <td>0.0</td>\n",
       "      <td>0.0</td>\n",
       "      <td>0.0</td>\n",
       "      <td>0.0</td>\n",
       "      <td>0.0</td>\n",
       "      <td>0.0</td>\n",
       "      <td>0.0</td>\n",
       "      <td>0.0</td>\n",
       "      <td>0.0</td>\n",
       "      <td>0.0</td>\n",
       "      <td>smart</td>\n",
       "      <td>11.0</td>\n",
       "    </tr>\n",
       "    <tr>\n",
       "      <th>2</th>\n",
       "      <td>1003</td>\n",
       "      <td>0.0</td>\n",
       "      <td>0.0</td>\n",
       "      <td>0.0</td>\n",
       "      <td>0.0</td>\n",
       "      <td>0.0</td>\n",
       "      <td>0.0</td>\n",
       "      <td>0.0</td>\n",
       "      <td>0.0</td>\n",
       "      <td>0.0</td>\n",
       "      <td>0.0</td>\n",
       "      <td>0.0</td>\n",
       "      <td>0.0</td>\n",
       "      <td>ultra</td>\n",
       "      <td>83.0</td>\n",
       "    </tr>\n",
       "  </tbody>\n",
       "</table>\n",
       "</div>"
      ],
      "text/plain": [
       "   user_id    1    2    3    4    5    6    7    8    9   10   11   12 tariff  \\\n",
       "0     1000  0.0  0.0  0.0  0.0  0.0  0.0  0.0  0.0  0.0  0.0  0.0  0.0  ultra   \n",
       "1     1002  0.0  0.0  0.0  0.0  0.0  0.0  0.0  0.0  0.0  0.0  0.0  0.0  smart   \n",
       "2     1003  0.0  0.0  0.0  0.0  0.0  0.0  0.0  0.0  0.0  0.0  0.0  0.0  ultra   \n",
       "\n",
       "   mean_m_msg_count  \n",
       "0              65.0  \n",
       "1              11.0  \n",
       "2              83.0  "
      ]
     },
     "execution_count": 109,
     "metadata": {},
     "output_type": "execute_result"
    }
   ],
   "source": [
    "cost_msg_count.head(3)"
   ]
  },
  {
   "cell_type": "code",
   "execution_count": 110,
   "metadata": {},
   "outputs": [],
   "source": [
    "# удалим последнюю колонку\n",
    "cost_msg_count.drop(['mean_m_msg_count'], axis=1, inplace=True)"
   ]
  },
  {
   "cell_type": "code",
   "execution_count": 111,
   "metadata": {},
   "outputs": [
    {
     "data": {
      "text/html": [
       "<div>\n",
       "<style scoped>\n",
       "    .dataframe tbody tr th:only-of-type {\n",
       "        vertical-align: middle;\n",
       "    }\n",
       "\n",
       "    .dataframe tbody tr th {\n",
       "        vertical-align: top;\n",
       "    }\n",
       "\n",
       "    .dataframe thead th {\n",
       "        text-align: right;\n",
       "    }\n",
       "</style>\n",
       "<table border=\"1\" class=\"dataframe\">\n",
       "  <thead>\n",
       "    <tr style=\"text-align: right;\">\n",
       "      <th></th>\n",
       "      <th>user_id</th>\n",
       "      <th>1</th>\n",
       "      <th>2</th>\n",
       "      <th>3</th>\n",
       "      <th>4</th>\n",
       "      <th>5</th>\n",
       "      <th>6</th>\n",
       "      <th>7</th>\n",
       "      <th>8</th>\n",
       "      <th>9</th>\n",
       "      <th>10</th>\n",
       "      <th>11</th>\n",
       "      <th>12</th>\n",
       "      <th>tariff</th>\n",
       "    </tr>\n",
       "  </thead>\n",
       "  <tbody>\n",
       "    <tr>\n",
       "      <th>0</th>\n",
       "      <td>1000</td>\n",
       "      <td>0.0</td>\n",
       "      <td>0.0</td>\n",
       "      <td>0.0</td>\n",
       "      <td>0.0</td>\n",
       "      <td>0.0</td>\n",
       "      <td>0.0</td>\n",
       "      <td>0.0</td>\n",
       "      <td>0.0</td>\n",
       "      <td>0.0</td>\n",
       "      <td>0.0</td>\n",
       "      <td>0.0</td>\n",
       "      <td>0.0</td>\n",
       "      <td>ultra</td>\n",
       "    </tr>\n",
       "    <tr>\n",
       "      <th>1</th>\n",
       "      <td>1002</td>\n",
       "      <td>0.0</td>\n",
       "      <td>0.0</td>\n",
       "      <td>0.0</td>\n",
       "      <td>0.0</td>\n",
       "      <td>0.0</td>\n",
       "      <td>0.0</td>\n",
       "      <td>0.0</td>\n",
       "      <td>0.0</td>\n",
       "      <td>0.0</td>\n",
       "      <td>0.0</td>\n",
       "      <td>0.0</td>\n",
       "      <td>0.0</td>\n",
       "      <td>smart</td>\n",
       "    </tr>\n",
       "    <tr>\n",
       "      <th>2</th>\n",
       "      <td>1003</td>\n",
       "      <td>0.0</td>\n",
       "      <td>0.0</td>\n",
       "      <td>0.0</td>\n",
       "      <td>0.0</td>\n",
       "      <td>0.0</td>\n",
       "      <td>0.0</td>\n",
       "      <td>0.0</td>\n",
       "      <td>0.0</td>\n",
       "      <td>0.0</td>\n",
       "      <td>0.0</td>\n",
       "      <td>0.0</td>\n",
       "      <td>0.0</td>\n",
       "      <td>ultra</td>\n",
       "    </tr>\n",
       "  </tbody>\n",
       "</table>\n",
       "</div>"
      ],
      "text/plain": [
       "   user_id    1    2    3    4    5    6    7    8    9   10   11   12 tariff\n",
       "0     1000  0.0  0.0  0.0  0.0  0.0  0.0  0.0  0.0  0.0  0.0  0.0  0.0  ultra\n",
       "1     1002  0.0  0.0  0.0  0.0  0.0  0.0  0.0  0.0  0.0  0.0  0.0  0.0  smart\n",
       "2     1003  0.0  0.0  0.0  0.0  0.0  0.0  0.0  0.0  0.0  0.0  0.0  0.0  ultra"
      ]
     },
     "execution_count": 111,
     "metadata": {},
     "output_type": "execute_result"
    }
   ],
   "source": [
    "cost_msg_count.head(3)"
   ]
  },
  {
   "cell_type": "code",
   "execution_count": 112,
   "metadata": {},
   "outputs": [],
   "source": [
    "# Создадим копию датасета для интернет-трафика\n",
    "cost_int_traf_g = int_traf_g.copy()"
   ]
  },
  {
   "cell_type": "code",
   "execution_count": 113,
   "metadata": {},
   "outputs": [
    {
     "data": {
      "text/html": [
       "<div>\n",
       "<style scoped>\n",
       "    .dataframe tbody tr th:only-of-type {\n",
       "        vertical-align: middle;\n",
       "    }\n",
       "\n",
       "    .dataframe tbody tr th {\n",
       "        vertical-align: top;\n",
       "    }\n",
       "\n",
       "    .dataframe thead th {\n",
       "        text-align: right;\n",
       "    }\n",
       "</style>\n",
       "<table border=\"1\" class=\"dataframe\">\n",
       "  <thead>\n",
       "    <tr style=\"text-align: right;\">\n",
       "      <th></th>\n",
       "      <th>user_id</th>\n",
       "      <th>1</th>\n",
       "      <th>2</th>\n",
       "      <th>3</th>\n",
       "      <th>4</th>\n",
       "      <th>5</th>\n",
       "      <th>6</th>\n",
       "      <th>7</th>\n",
       "      <th>8</th>\n",
       "      <th>9</th>\n",
       "      <th>10</th>\n",
       "      <th>11</th>\n",
       "      <th>12</th>\n",
       "      <th>tariff</th>\n",
       "      <th>mean_month_int_traffic</th>\n",
       "    </tr>\n",
       "  </thead>\n",
       "  <tbody>\n",
       "    <tr>\n",
       "      <th>0</th>\n",
       "      <td>1000</td>\n",
       "      <td>0.0</td>\n",
       "      <td>0.0</td>\n",
       "      <td>0.0</td>\n",
       "      <td>0.0</td>\n",
       "      <td>3.0</td>\n",
       "      <td>23.0</td>\n",
       "      <td>14.0</td>\n",
       "      <td>14.0</td>\n",
       "      <td>15.0</td>\n",
       "      <td>15.0</td>\n",
       "      <td>15.0</td>\n",
       "      <td>10.0</td>\n",
       "      <td>ultra</td>\n",
       "      <td>14.5</td>\n",
       "    </tr>\n",
       "    <tr>\n",
       "      <th>1</th>\n",
       "      <td>1001</td>\n",
       "      <td>0.0</td>\n",
       "      <td>0.0</td>\n",
       "      <td>0.0</td>\n",
       "      <td>0.0</td>\n",
       "      <td>0.0</td>\n",
       "      <td>0.0</td>\n",
       "      <td>0.0</td>\n",
       "      <td>0.0</td>\n",
       "      <td>0.0</td>\n",
       "      <td>0.0</td>\n",
       "      <td>18.0</td>\n",
       "      <td>14.0</td>\n",
       "      <td>smart</td>\n",
       "      <td>16.0</td>\n",
       "    </tr>\n",
       "    <tr>\n",
       "      <th>2</th>\n",
       "      <td>1002</td>\n",
       "      <td>0.0</td>\n",
       "      <td>0.0</td>\n",
       "      <td>0.0</td>\n",
       "      <td>0.0</td>\n",
       "      <td>0.0</td>\n",
       "      <td>11.0</td>\n",
       "      <td>18.0</td>\n",
       "      <td>20.0</td>\n",
       "      <td>17.0</td>\n",
       "      <td>14.0</td>\n",
       "      <td>19.0</td>\n",
       "      <td>18.0</td>\n",
       "      <td>smart</td>\n",
       "      <td>18.0</td>\n",
       "    </tr>\n",
       "  </tbody>\n",
       "</table>\n",
       "</div>"
      ],
      "text/plain": [
       "   user_id    1    2    3    4    5     6     7     8     9    10    11    12  \\\n",
       "0     1000  0.0  0.0  0.0  0.0  3.0  23.0  14.0  14.0  15.0  15.0  15.0  10.0   \n",
       "1     1001  0.0  0.0  0.0  0.0  0.0   0.0   0.0   0.0   0.0   0.0  18.0  14.0   \n",
       "2     1002  0.0  0.0  0.0  0.0  0.0  11.0  18.0  20.0  17.0  14.0  19.0  18.0   \n",
       "\n",
       "  tariff  mean_month_int_traffic  \n",
       "0  ultra                    14.5  \n",
       "1  smart                    16.0  \n",
       "2  smart                    18.0  "
      ]
     },
     "execution_count": 113,
     "metadata": {},
     "output_type": "execute_result"
    }
   ],
   "source": [
    "cost_int_traf_g.head(3)"
   ]
  },
  {
   "cell_type": "code",
   "execution_count": 114,
   "metadata": {},
   "outputs": [],
   "source": [
    "# удалим последнюю колонку\n",
    "cost_int_traf_g.drop(['mean_month_int_traffic'], axis=1, inplace=True)"
   ]
  },
  {
   "cell_type": "code",
   "execution_count": 115,
   "metadata": {},
   "outputs": [
    {
     "data": {
      "text/html": [
       "<div>\n",
       "<style scoped>\n",
       "    .dataframe tbody tr th:only-of-type {\n",
       "        vertical-align: middle;\n",
       "    }\n",
       "\n",
       "    .dataframe tbody tr th {\n",
       "        vertical-align: top;\n",
       "    }\n",
       "\n",
       "    .dataframe thead th {\n",
       "        text-align: right;\n",
       "    }\n",
       "</style>\n",
       "<table border=\"1\" class=\"dataframe\">\n",
       "  <thead>\n",
       "    <tr style=\"text-align: right;\">\n",
       "      <th></th>\n",
       "      <th>user_id</th>\n",
       "      <th>1</th>\n",
       "      <th>2</th>\n",
       "      <th>3</th>\n",
       "      <th>4</th>\n",
       "      <th>5</th>\n",
       "      <th>6</th>\n",
       "      <th>7</th>\n",
       "      <th>8</th>\n",
       "      <th>9</th>\n",
       "      <th>10</th>\n",
       "      <th>11</th>\n",
       "      <th>12</th>\n",
       "      <th>tariff</th>\n",
       "    </tr>\n",
       "  </thead>\n",
       "  <tbody>\n",
       "    <tr>\n",
       "      <th>0</th>\n",
       "      <td>1000</td>\n",
       "      <td>0.0</td>\n",
       "      <td>0.0</td>\n",
       "      <td>0.0</td>\n",
       "      <td>0.0</td>\n",
       "      <td>3.0</td>\n",
       "      <td>23.0</td>\n",
       "      <td>14.0</td>\n",
       "      <td>14.0</td>\n",
       "      <td>15.0</td>\n",
       "      <td>15.0</td>\n",
       "      <td>15.0</td>\n",
       "      <td>10.0</td>\n",
       "      <td>ultra</td>\n",
       "    </tr>\n",
       "    <tr>\n",
       "      <th>1</th>\n",
       "      <td>1001</td>\n",
       "      <td>0.0</td>\n",
       "      <td>0.0</td>\n",
       "      <td>0.0</td>\n",
       "      <td>0.0</td>\n",
       "      <td>0.0</td>\n",
       "      <td>0.0</td>\n",
       "      <td>0.0</td>\n",
       "      <td>0.0</td>\n",
       "      <td>0.0</td>\n",
       "      <td>0.0</td>\n",
       "      <td>18.0</td>\n",
       "      <td>14.0</td>\n",
       "      <td>smart</td>\n",
       "    </tr>\n",
       "    <tr>\n",
       "      <th>2</th>\n",
       "      <td>1002</td>\n",
       "      <td>0.0</td>\n",
       "      <td>0.0</td>\n",
       "      <td>0.0</td>\n",
       "      <td>0.0</td>\n",
       "      <td>0.0</td>\n",
       "      <td>11.0</td>\n",
       "      <td>18.0</td>\n",
       "      <td>20.0</td>\n",
       "      <td>17.0</td>\n",
       "      <td>14.0</td>\n",
       "      <td>19.0</td>\n",
       "      <td>18.0</td>\n",
       "      <td>smart</td>\n",
       "    </tr>\n",
       "  </tbody>\n",
       "</table>\n",
       "</div>"
      ],
      "text/plain": [
       "   user_id    1    2    3    4    5     6     7     8     9    10    11    12  \\\n",
       "0     1000  0.0  0.0  0.0  0.0  3.0  23.0  14.0  14.0  15.0  15.0  15.0  10.0   \n",
       "1     1001  0.0  0.0  0.0  0.0  0.0   0.0   0.0   0.0   0.0   0.0  18.0  14.0   \n",
       "2     1002  0.0  0.0  0.0  0.0  0.0  11.0  18.0  20.0  17.0  14.0  19.0  18.0   \n",
       "\n",
       "  tariff  \n",
       "0  ultra  \n",
       "1  smart  \n",
       "2  smart  "
      ]
     },
     "execution_count": 115,
     "metadata": {},
     "output_type": "execute_result"
    }
   ],
   "source": [
    "cost_int_traf_g.head(3)"
   ]
  },
  {
   "cell_type": "code",
   "execution_count": 116,
   "metadata": {},
   "outputs": [],
   "source": [
    "# датасет стоимости использования тарифа за интернет\n",
    "cost_int_traf_g0 = cost_convert(cost_int_traf_g, 'mb_per_month_included_Gb', 'rub_per_gb')"
   ]
  },
  {
   "cell_type": "code",
   "execution_count": 117,
   "metadata": {},
   "outputs": [
    {
     "data": {
      "text/html": [
       "<div>\n",
       "<style scoped>\n",
       "    .dataframe tbody tr th:only-of-type {\n",
       "        vertical-align: middle;\n",
       "    }\n",
       "\n",
       "    .dataframe tbody tr th {\n",
       "        vertical-align: top;\n",
       "    }\n",
       "\n",
       "    .dataframe thead th {\n",
       "        text-align: right;\n",
       "    }\n",
       "</style>\n",
       "<table border=\"1\" class=\"dataframe\">\n",
       "  <thead>\n",
       "    <tr style=\"text-align: right;\">\n",
       "      <th></th>\n",
       "      <th>user_id</th>\n",
       "      <th>1</th>\n",
       "      <th>2</th>\n",
       "      <th>3</th>\n",
       "      <th>4</th>\n",
       "      <th>5</th>\n",
       "      <th>6</th>\n",
       "      <th>7</th>\n",
       "      <th>8</th>\n",
       "      <th>9</th>\n",
       "      <th>10</th>\n",
       "      <th>11</th>\n",
       "      <th>12</th>\n",
       "      <th>tariff</th>\n",
       "    </tr>\n",
       "  </thead>\n",
       "  <tbody>\n",
       "    <tr>\n",
       "      <th>0</th>\n",
       "      <td>1000</td>\n",
       "      <td>0.0</td>\n",
       "      <td>0.0</td>\n",
       "      <td>0.0</td>\n",
       "      <td>0.0</td>\n",
       "      <td>0.0</td>\n",
       "      <td>0.0</td>\n",
       "      <td>0.0</td>\n",
       "      <td>0.0</td>\n",
       "      <td>0.0</td>\n",
       "      <td>0.0</td>\n",
       "      <td>0.0</td>\n",
       "      <td>0.0</td>\n",
       "      <td>ultra</td>\n",
       "    </tr>\n",
       "    <tr>\n",
       "      <th>1</th>\n",
       "      <td>1001</td>\n",
       "      <td>0.0</td>\n",
       "      <td>0.0</td>\n",
       "      <td>0.0</td>\n",
       "      <td>0.0</td>\n",
       "      <td>0.0</td>\n",
       "      <td>0.0</td>\n",
       "      <td>0.0</td>\n",
       "      <td>0.0</td>\n",
       "      <td>0.0</td>\n",
       "      <td>0.0</td>\n",
       "      <td>600.0</td>\n",
       "      <td>0.0</td>\n",
       "      <td>smart</td>\n",
       "    </tr>\n",
       "    <tr>\n",
       "      <th>2</th>\n",
       "      <td>1002</td>\n",
       "      <td>0.0</td>\n",
       "      <td>0.0</td>\n",
       "      <td>0.0</td>\n",
       "      <td>0.0</td>\n",
       "      <td>0.0</td>\n",
       "      <td>0.0</td>\n",
       "      <td>600.0</td>\n",
       "      <td>1000.0</td>\n",
       "      <td>400.0</td>\n",
       "      <td>0.0</td>\n",
       "      <td>800.0</td>\n",
       "      <td>600.0</td>\n",
       "      <td>smart</td>\n",
       "    </tr>\n",
       "  </tbody>\n",
       "</table>\n",
       "</div>"
      ],
      "text/plain": [
       "   user_id    1    2    3    4    5    6      7       8      9   10     11  \\\n",
       "0     1000  0.0  0.0  0.0  0.0  0.0  0.0    0.0     0.0    0.0  0.0    0.0   \n",
       "1     1001  0.0  0.0  0.0  0.0  0.0  0.0    0.0     0.0    0.0  0.0  600.0   \n",
       "2     1002  0.0  0.0  0.0  0.0  0.0  0.0  600.0  1000.0  400.0  0.0  800.0   \n",
       "\n",
       "      12 tariff  \n",
       "0    0.0  ultra  \n",
       "1    0.0  smart  \n",
       "2  600.0  smart  "
      ]
     },
     "execution_count": 117,
     "metadata": {},
     "output_type": "execute_result"
    }
   ],
   "source": [
    "cost_int_traf_g0.head(3)"
   ]
  },
  {
   "cell_type": "markdown",
   "metadata": {},
   "source": [
    "Создадим общую таблицу, в которой будут все клиенты, по которым будем делать анализ"
   ]
  },
  {
   "cell_type": "code",
   "execution_count": 118,
   "metadata": {},
   "outputs": [],
   "source": [
    "df_usr_calc = df_usr.copy()"
   ]
  },
  {
   "cell_type": "code",
   "execution_count": 119,
   "metadata": {},
   "outputs": [],
   "source": [
    "#Удалим пользователей, которые пользовались тарифом меньше месяца\n",
    "for row in df_usr_exclud_list:\n",
    "    try:\n",
    "        df_usr_calc = df_usr_calc.drop(df_usr_calc[df_usr_calc.user_id == row].index)\n",
    "    except:\n",
    "        pass"
   ]
  },
  {
   "cell_type": "code",
   "execution_count": 120,
   "metadata": {},
   "outputs": [],
   "source": [
    "df_usr_calc = df_usr_calc.reset_index()"
   ]
  },
  {
   "cell_type": "code",
   "execution_count": 121,
   "metadata": {},
   "outputs": [
    {
     "name": "stdout",
     "output_type": "stream",
     "text": [
      "<class 'pandas.core.frame.DataFrame'>\n",
      "RangeIndex: 464 entries, 0 to 463\n",
      "Data columns (total 13 columns):\n",
      " #   Column             Non-Null Count  Dtype \n",
      "---  ------             --------------  ----- \n",
      " 0   index              464 non-null    int64 \n",
      " 1   user_id            464 non-null    int64 \n",
      " 2   age                464 non-null    int64 \n",
      " 3   churn_date         464 non-null    object\n",
      " 4   city               464 non-null    object\n",
      " 5   reg_date           464 non-null    object\n",
      " 6   tariff             464 non-null    object\n",
      " 7   subscrib_canceled  464 non-null    object\n",
      " 8   month              464 non-null    int64 \n",
      " 9   day                464 non-null    int64 \n",
      " 10  month_c            464 non-null    int64 \n",
      " 11  day_c              464 non-null    int64 \n",
      " 12  month_use          464 non-null    int64 \n",
      "dtypes: int64(8), object(5)\n",
      "memory usage: 47.2+ KB\n"
     ]
    }
   ],
   "source": [
    "df_usr_calc.info()"
   ]
  },
  {
   "cell_type": "code",
   "execution_count": 122,
   "metadata": {},
   "outputs": [
    {
     "data": {
      "text/html": [
       "<div>\n",
       "<style scoped>\n",
       "    .dataframe tbody tr th:only-of-type {\n",
       "        vertical-align: middle;\n",
       "    }\n",
       "\n",
       "    .dataframe tbody tr th {\n",
       "        vertical-align: top;\n",
       "    }\n",
       "\n",
       "    .dataframe thead th {\n",
       "        text-align: right;\n",
       "    }\n",
       "</style>\n",
       "<table border=\"1\" class=\"dataframe\">\n",
       "  <thead>\n",
       "    <tr style=\"text-align: right;\">\n",
       "      <th></th>\n",
       "      <th>index</th>\n",
       "      <th>user_id</th>\n",
       "      <th>age</th>\n",
       "      <th>churn_date</th>\n",
       "      <th>city</th>\n",
       "      <th>reg_date</th>\n",
       "      <th>tariff</th>\n",
       "      <th>subscrib_canceled</th>\n",
       "      <th>month</th>\n",
       "      <th>day</th>\n",
       "      <th>month_c</th>\n",
       "      <th>day_c</th>\n",
       "      <th>month_use</th>\n",
       "    </tr>\n",
       "  </thead>\n",
       "  <tbody>\n",
       "    <tr>\n",
       "      <th>0</th>\n",
       "      <td>0</td>\n",
       "      <td>1000</td>\n",
       "      <td>52</td>\n",
       "      <td>0</td>\n",
       "      <td>Краснодар</td>\n",
       "      <td>2018-05-25</td>\n",
       "      <td>ultra</td>\n",
       "      <td>False</td>\n",
       "      <td>5</td>\n",
       "      <td>25</td>\n",
       "      <td>12</td>\n",
       "      <td>31</td>\n",
       "      <td>7</td>\n",
       "    </tr>\n",
       "    <tr>\n",
       "      <th>1</th>\n",
       "      <td>1</td>\n",
       "      <td>1001</td>\n",
       "      <td>41</td>\n",
       "      <td>0</td>\n",
       "      <td>Москва</td>\n",
       "      <td>2018-11-01</td>\n",
       "      <td>smart</td>\n",
       "      <td>False</td>\n",
       "      <td>11</td>\n",
       "      <td>1</td>\n",
       "      <td>12</td>\n",
       "      <td>31</td>\n",
       "      <td>1</td>\n",
       "    </tr>\n",
       "    <tr>\n",
       "      <th>2</th>\n",
       "      <td>2</td>\n",
       "      <td>1002</td>\n",
       "      <td>59</td>\n",
       "      <td>0</td>\n",
       "      <td>Стерлитамак</td>\n",
       "      <td>2018-06-17</td>\n",
       "      <td>smart</td>\n",
       "      <td>False</td>\n",
       "      <td>6</td>\n",
       "      <td>17</td>\n",
       "      <td>12</td>\n",
       "      <td>31</td>\n",
       "      <td>6</td>\n",
       "    </tr>\n",
       "  </tbody>\n",
       "</table>\n",
       "</div>"
      ],
      "text/plain": [
       "   index  user_id  age churn_date         city    reg_date tariff  \\\n",
       "0      0     1000   52          0    Краснодар  2018-05-25  ultra   \n",
       "1      1     1001   41          0       Москва  2018-11-01  smart   \n",
       "2      2     1002   59          0  Стерлитамак  2018-06-17  smart   \n",
       "\n",
       "  subscrib_canceled  month  day  month_c  day_c  month_use  \n",
       "0             False      5   25       12     31          7  \n",
       "1             False     11    1       12     31          1  \n",
       "2             False      6   17       12     31          6  "
      ]
     },
     "execution_count": 122,
     "metadata": {},
     "output_type": "execute_result"
    }
   ],
   "source": [
    "df_usr_calc.head(3)"
   ]
  },
  {
   "cell_type": "code",
   "execution_count": 123,
   "metadata": {},
   "outputs": [],
   "source": [
    "# удалим колонки churn_date and reg_date\n",
    "df_usr_calc.drop(['churn_date', 'reg_date', 'index'], axis=1, inplace=True)"
   ]
  },
  {
   "cell_type": "code",
   "execution_count": 124,
   "metadata": {},
   "outputs": [
    {
     "data": {
      "text/html": [
       "<div>\n",
       "<style scoped>\n",
       "    .dataframe tbody tr th:only-of-type {\n",
       "        vertical-align: middle;\n",
       "    }\n",
       "\n",
       "    .dataframe tbody tr th {\n",
       "        vertical-align: top;\n",
       "    }\n",
       "\n",
       "    .dataframe thead th {\n",
       "        text-align: right;\n",
       "    }\n",
       "</style>\n",
       "<table border=\"1\" class=\"dataframe\">\n",
       "  <thead>\n",
       "    <tr style=\"text-align: right;\">\n",
       "      <th></th>\n",
       "      <th>user_id</th>\n",
       "      <th>age</th>\n",
       "      <th>city</th>\n",
       "      <th>tariff</th>\n",
       "      <th>subscrib_canceled</th>\n",
       "      <th>month</th>\n",
       "      <th>day</th>\n",
       "      <th>month_c</th>\n",
       "      <th>day_c</th>\n",
       "      <th>month_use</th>\n",
       "    </tr>\n",
       "  </thead>\n",
       "  <tbody>\n",
       "    <tr>\n",
       "      <th>0</th>\n",
       "      <td>1000</td>\n",
       "      <td>52</td>\n",
       "      <td>Краснодар</td>\n",
       "      <td>ultra</td>\n",
       "      <td>False</td>\n",
       "      <td>5</td>\n",
       "      <td>25</td>\n",
       "      <td>12</td>\n",
       "      <td>31</td>\n",
       "      <td>7</td>\n",
       "    </tr>\n",
       "    <tr>\n",
       "      <th>1</th>\n",
       "      <td>1001</td>\n",
       "      <td>41</td>\n",
       "      <td>Москва</td>\n",
       "      <td>smart</td>\n",
       "      <td>False</td>\n",
       "      <td>11</td>\n",
       "      <td>1</td>\n",
       "      <td>12</td>\n",
       "      <td>31</td>\n",
       "      <td>1</td>\n",
       "    </tr>\n",
       "    <tr>\n",
       "      <th>2</th>\n",
       "      <td>1002</td>\n",
       "      <td>59</td>\n",
       "      <td>Стерлитамак</td>\n",
       "      <td>smart</td>\n",
       "      <td>False</td>\n",
       "      <td>6</td>\n",
       "      <td>17</td>\n",
       "      <td>12</td>\n",
       "      <td>31</td>\n",
       "      <td>6</td>\n",
       "    </tr>\n",
       "  </tbody>\n",
       "</table>\n",
       "</div>"
      ],
      "text/plain": [
       "   user_id  age         city tariff subscrib_canceled  month  day  month_c  \\\n",
       "0     1000   52    Краснодар  ultra             False      5   25       12   \n",
       "1     1001   41       Москва  smart             False     11    1       12   \n",
       "2     1002   59  Стерлитамак  smart             False      6   17       12   \n",
       "\n",
       "   day_c  month_use  \n",
       "0     31          7  \n",
       "1     31          1  \n",
       "2     31          6  "
      ]
     },
     "execution_count": 124,
     "metadata": {},
     "output_type": "execute_result"
    }
   ],
   "source": [
    "df_usr_calc.head(3)"
   ]
  },
  {
   "cell_type": "code",
   "execution_count": 125,
   "metadata": {},
   "outputs": [],
   "source": [
    "# Добавим пустые колонки для 12 месяцев\n",
    "for i in range(1,13):\n",
    "    month_id = 'month_' + str(i)\n",
    "    df_usr_calc[month_id] = 0"
   ]
  },
  {
   "cell_type": "code",
   "execution_count": 126,
   "metadata": {},
   "outputs": [
    {
     "data": {
      "text/html": [
       "<div>\n",
       "<style scoped>\n",
       "    .dataframe tbody tr th:only-of-type {\n",
       "        vertical-align: middle;\n",
       "    }\n",
       "\n",
       "    .dataframe tbody tr th {\n",
       "        vertical-align: top;\n",
       "    }\n",
       "\n",
       "    .dataframe thead th {\n",
       "        text-align: right;\n",
       "    }\n",
       "</style>\n",
       "<table border=\"1\" class=\"dataframe\">\n",
       "  <thead>\n",
       "    <tr style=\"text-align: right;\">\n",
       "      <th></th>\n",
       "      <th>user_id</th>\n",
       "      <th>age</th>\n",
       "      <th>city</th>\n",
       "      <th>tariff</th>\n",
       "      <th>subscrib_canceled</th>\n",
       "      <th>month</th>\n",
       "      <th>day</th>\n",
       "      <th>month_c</th>\n",
       "      <th>day_c</th>\n",
       "      <th>month_use</th>\n",
       "      <th>month_1</th>\n",
       "      <th>month_2</th>\n",
       "      <th>month_3</th>\n",
       "      <th>month_4</th>\n",
       "      <th>month_5</th>\n",
       "      <th>month_6</th>\n",
       "      <th>month_7</th>\n",
       "      <th>month_8</th>\n",
       "      <th>month_9</th>\n",
       "      <th>month_10</th>\n",
       "      <th>month_11</th>\n",
       "      <th>month_12</th>\n",
       "    </tr>\n",
       "  </thead>\n",
       "  <tbody>\n",
       "    <tr>\n",
       "      <th>0</th>\n",
       "      <td>1000</td>\n",
       "      <td>52</td>\n",
       "      <td>Краснодар</td>\n",
       "      <td>ultra</td>\n",
       "      <td>False</td>\n",
       "      <td>5</td>\n",
       "      <td>25</td>\n",
       "      <td>12</td>\n",
       "      <td>31</td>\n",
       "      <td>7</td>\n",
       "      <td>0</td>\n",
       "      <td>0</td>\n",
       "      <td>0</td>\n",
       "      <td>0</td>\n",
       "      <td>0</td>\n",
       "      <td>0</td>\n",
       "      <td>0</td>\n",
       "      <td>0</td>\n",
       "      <td>0</td>\n",
       "      <td>0</td>\n",
       "      <td>0</td>\n",
       "      <td>0</td>\n",
       "    </tr>\n",
       "    <tr>\n",
       "      <th>1</th>\n",
       "      <td>1001</td>\n",
       "      <td>41</td>\n",
       "      <td>Москва</td>\n",
       "      <td>smart</td>\n",
       "      <td>False</td>\n",
       "      <td>11</td>\n",
       "      <td>1</td>\n",
       "      <td>12</td>\n",
       "      <td>31</td>\n",
       "      <td>1</td>\n",
       "      <td>0</td>\n",
       "      <td>0</td>\n",
       "      <td>0</td>\n",
       "      <td>0</td>\n",
       "      <td>0</td>\n",
       "      <td>0</td>\n",
       "      <td>0</td>\n",
       "      <td>0</td>\n",
       "      <td>0</td>\n",
       "      <td>0</td>\n",
       "      <td>0</td>\n",
       "      <td>0</td>\n",
       "    </tr>\n",
       "    <tr>\n",
       "      <th>2</th>\n",
       "      <td>1002</td>\n",
       "      <td>59</td>\n",
       "      <td>Стерлитамак</td>\n",
       "      <td>smart</td>\n",
       "      <td>False</td>\n",
       "      <td>6</td>\n",
       "      <td>17</td>\n",
       "      <td>12</td>\n",
       "      <td>31</td>\n",
       "      <td>6</td>\n",
       "      <td>0</td>\n",
       "      <td>0</td>\n",
       "      <td>0</td>\n",
       "      <td>0</td>\n",
       "      <td>0</td>\n",
       "      <td>0</td>\n",
       "      <td>0</td>\n",
       "      <td>0</td>\n",
       "      <td>0</td>\n",
       "      <td>0</td>\n",
       "      <td>0</td>\n",
       "      <td>0</td>\n",
       "    </tr>\n",
       "  </tbody>\n",
       "</table>\n",
       "</div>"
      ],
      "text/plain": [
       "   user_id  age         city tariff subscrib_canceled  month  day  month_c  \\\n",
       "0     1000   52    Краснодар  ultra             False      5   25       12   \n",
       "1     1001   41       Москва  smart             False     11    1       12   \n",
       "2     1002   59  Стерлитамак  smart             False      6   17       12   \n",
       "\n",
       "   day_c  month_use  month_1  month_2  month_3  month_4  month_5  month_6  \\\n",
       "0     31          7        0        0        0        0        0        0   \n",
       "1     31          1        0        0        0        0        0        0   \n",
       "2     31          6        0        0        0        0        0        0   \n",
       "\n",
       "   month_7  month_8  month_9  month_10  month_11  month_12  \n",
       "0        0        0        0         0         0         0  \n",
       "1        0        0        0         0         0         0  \n",
       "2        0        0        0         0         0         0  "
      ]
     },
     "execution_count": 126,
     "metadata": {},
     "output_type": "execute_result"
    }
   ],
   "source": [
    "df_usr_calc.head(3)"
   ]
  },
  {
   "cell_type": "code",
   "execution_count": 127,
   "metadata": {},
   "outputs": [],
   "source": [
    "# добавим стоимость использования тарифа в месяц для каждого клиента\n",
    "df_usr_paid = df_usr_calc.copy()\n",
    "for row in range(0, len(df_usr_paid)):\n",
    "    usr_id = df_usr_paid.loc[row, 'user_id'] \n",
    "    usr_tariff = df_usr_paid.loc[row, 'tariff']\n",
    "    month_start = df_usr_paid.loc[row, 'month']\n",
    "    month_end = df_usr_paid.loc[row, 'month_c']\n",
    " \n",
    "    if usr_tariff == 'smart':\n",
    "        fee = df_tarif.at[0, 'rub_monthly_fee']\n",
    "    else:\n",
    "        fee = df_tarif.at[1, 'rub_monthly_fee']\n",
    "    for month in range(month_start,month_end+1):\n",
    "        month_id = 'month_' + str(month)\n",
    "        df_usr_paid.loc[row, month_id] = df_usr_paid.loc[row, month_id] + fee\n",
    "        # pay for calls\n",
    "        try:\n",
    "            df_usr_paid.loc[row, month_id] = df_usr_paid.loc[row, month_id] + cost_call_dur.loc[cost_call_dur.user_id==usr_id, month].values[0]\n",
    "        except:\n",
    "            pass\n",
    "        # pay for messages\n",
    "        try:\n",
    "            df_usr_paid.loc[row, month_id] = df_usr_paid.loc[row, month_id] + cost_msg_count.loc[cost_msg_count.user_id==usr_id, month].values[0]\n",
    "        except:\n",
    "            pass\n",
    "        # pay for internet\n",
    "        try:\n",
    "            df_usr_paid.loc[row, month_id] = df_usr_paid.loc[row, month_id] + cost_int_traf_g0.loc[cost_int_traf_g0.user_id==usr_id, month].values[0]\n",
    "        except:\n",
    "            pass"
   ]
  },
  {
   "cell_type": "code",
   "execution_count": 128,
   "metadata": {},
   "outputs": [
    {
     "data": {
      "text/html": [
       "<div>\n",
       "<style scoped>\n",
       "    .dataframe tbody tr th:only-of-type {\n",
       "        vertical-align: middle;\n",
       "    }\n",
       "\n",
       "    .dataframe tbody tr th {\n",
       "        vertical-align: top;\n",
       "    }\n",
       "\n",
       "    .dataframe thead th {\n",
       "        text-align: right;\n",
       "    }\n",
       "</style>\n",
       "<table border=\"1\" class=\"dataframe\">\n",
       "  <thead>\n",
       "    <tr style=\"text-align: right;\">\n",
       "      <th></th>\n",
       "      <th>user_id</th>\n",
       "      <th>age</th>\n",
       "      <th>city</th>\n",
       "      <th>tariff</th>\n",
       "      <th>subscrib_canceled</th>\n",
       "      <th>month</th>\n",
       "      <th>day</th>\n",
       "      <th>month_c</th>\n",
       "      <th>day_c</th>\n",
       "      <th>month_use</th>\n",
       "      <th>month_1</th>\n",
       "      <th>month_2</th>\n",
       "      <th>month_3</th>\n",
       "      <th>month_4</th>\n",
       "      <th>month_5</th>\n",
       "      <th>month_6</th>\n",
       "      <th>month_7</th>\n",
       "      <th>month_8</th>\n",
       "      <th>month_9</th>\n",
       "      <th>month_10</th>\n",
       "      <th>month_11</th>\n",
       "      <th>month_12</th>\n",
       "    </tr>\n",
       "  </thead>\n",
       "  <tbody>\n",
       "    <tr>\n",
       "      <th>0</th>\n",
       "      <td>1000</td>\n",
       "      <td>52</td>\n",
       "      <td>Краснодар</td>\n",
       "      <td>ultra</td>\n",
       "      <td>False</td>\n",
       "      <td>5</td>\n",
       "      <td>25</td>\n",
       "      <td>12</td>\n",
       "      <td>31</td>\n",
       "      <td>7</td>\n",
       "      <td>0</td>\n",
       "      <td>0</td>\n",
       "      <td>0</td>\n",
       "      <td>0</td>\n",
       "      <td>1950</td>\n",
       "      <td>1950</td>\n",
       "      <td>1950</td>\n",
       "      <td>1950</td>\n",
       "      <td>1950</td>\n",
       "      <td>1950</td>\n",
       "      <td>1950</td>\n",
       "      <td>1950</td>\n",
       "    </tr>\n",
       "    <tr>\n",
       "      <th>1</th>\n",
       "      <td>1001</td>\n",
       "      <td>41</td>\n",
       "      <td>Москва</td>\n",
       "      <td>smart</td>\n",
       "      <td>False</td>\n",
       "      <td>11</td>\n",
       "      <td>1</td>\n",
       "      <td>12</td>\n",
       "      <td>31</td>\n",
       "      <td>1</td>\n",
       "      <td>0</td>\n",
       "      <td>0</td>\n",
       "      <td>0</td>\n",
       "      <td>0</td>\n",
       "      <td>0</td>\n",
       "      <td>0</td>\n",
       "      <td>0</td>\n",
       "      <td>0</td>\n",
       "      <td>0</td>\n",
       "      <td>0</td>\n",
       "      <td>1150</td>\n",
       "      <td>550</td>\n",
       "    </tr>\n",
       "    <tr>\n",
       "      <th>2</th>\n",
       "      <td>1002</td>\n",
       "      <td>59</td>\n",
       "      <td>Стерлитамак</td>\n",
       "      <td>smart</td>\n",
       "      <td>False</td>\n",
       "      <td>6</td>\n",
       "      <td>17</td>\n",
       "      <td>12</td>\n",
       "      <td>31</td>\n",
       "      <td>6</td>\n",
       "      <td>0</td>\n",
       "      <td>0</td>\n",
       "      <td>0</td>\n",
       "      <td>0</td>\n",
       "      <td>0</td>\n",
       "      <td>550</td>\n",
       "      <td>1150</td>\n",
       "      <td>1550</td>\n",
       "      <td>950</td>\n",
       "      <td>550</td>\n",
       "      <td>1350</td>\n",
       "      <td>1150</td>\n",
       "    </tr>\n",
       "    <tr>\n",
       "      <th>3</th>\n",
       "      <td>1003</td>\n",
       "      <td>23</td>\n",
       "      <td>Москва</td>\n",
       "      <td>ultra</td>\n",
       "      <td>False</td>\n",
       "      <td>8</td>\n",
       "      <td>17</td>\n",
       "      <td>12</td>\n",
       "      <td>31</td>\n",
       "      <td>4</td>\n",
       "      <td>0</td>\n",
       "      <td>0</td>\n",
       "      <td>0</td>\n",
       "      <td>0</td>\n",
       "      <td>0</td>\n",
       "      <td>0</td>\n",
       "      <td>0</td>\n",
       "      <td>1950</td>\n",
       "      <td>1950</td>\n",
       "      <td>1950</td>\n",
       "      <td>1950</td>\n",
       "      <td>1950</td>\n",
       "    </tr>\n",
       "    <tr>\n",
       "      <th>4</th>\n",
       "      <td>1004</td>\n",
       "      <td>68</td>\n",
       "      <td>Новокузнецк</td>\n",
       "      <td>ultra</td>\n",
       "      <td>False</td>\n",
       "      <td>5</td>\n",
       "      <td>14</td>\n",
       "      <td>12</td>\n",
       "      <td>31</td>\n",
       "      <td>7</td>\n",
       "      <td>0</td>\n",
       "      <td>0</td>\n",
       "      <td>0</td>\n",
       "      <td>0</td>\n",
       "      <td>1950</td>\n",
       "      <td>1950</td>\n",
       "      <td>1950</td>\n",
       "      <td>1950</td>\n",
       "      <td>1950</td>\n",
       "      <td>1950</td>\n",
       "      <td>1950</td>\n",
       "      <td>1950</td>\n",
       "    </tr>\n",
       "    <tr>\n",
       "      <th>5</th>\n",
       "      <td>1005</td>\n",
       "      <td>67</td>\n",
       "      <td>Набережные Челны</td>\n",
       "      <td>smart</td>\n",
       "      <td>False</td>\n",
       "      <td>1</td>\n",
       "      <td>25</td>\n",
       "      <td>12</td>\n",
       "      <td>31</td>\n",
       "      <td>11</td>\n",
       "      <td>550</td>\n",
       "      <td>550</td>\n",
       "      <td>886</td>\n",
       "      <td>1186</td>\n",
       "      <td>835</td>\n",
       "      <td>886</td>\n",
       "      <td>775</td>\n",
       "      <td>949</td>\n",
       "      <td>556</td>\n",
       "      <td>1219</td>\n",
       "      <td>694</td>\n",
       "      <td>838</td>\n",
       "    </tr>\n",
       "    <tr>\n",
       "      <th>6</th>\n",
       "      <td>1006</td>\n",
       "      <td>21</td>\n",
       "      <td>Ульяновск</td>\n",
       "      <td>smart</td>\n",
       "      <td>False</td>\n",
       "      <td>2</td>\n",
       "      <td>26</td>\n",
       "      <td>12</td>\n",
       "      <td>31</td>\n",
       "      <td>10</td>\n",
       "      <td>0</td>\n",
       "      <td>550</td>\n",
       "      <td>950</td>\n",
       "      <td>550</td>\n",
       "      <td>550</td>\n",
       "      <td>550</td>\n",
       "      <td>1550</td>\n",
       "      <td>1350</td>\n",
       "      <td>750</td>\n",
       "      <td>1550</td>\n",
       "      <td>550</td>\n",
       "      <td>1350</td>\n",
       "    </tr>\n",
       "    <tr>\n",
       "      <th>7</th>\n",
       "      <td>1007</td>\n",
       "      <td>65</td>\n",
       "      <td>Москва</td>\n",
       "      <td>smart</td>\n",
       "      <td>False</td>\n",
       "      <td>4</td>\n",
       "      <td>19</td>\n",
       "      <td>12</td>\n",
       "      <td>31</td>\n",
       "      <td>8</td>\n",
       "      <td>0</td>\n",
       "      <td>0</td>\n",
       "      <td>0</td>\n",
       "      <td>550</td>\n",
       "      <td>1150</td>\n",
       "      <td>685</td>\n",
       "      <td>981</td>\n",
       "      <td>1750</td>\n",
       "      <td>1015</td>\n",
       "      <td>550</td>\n",
       "      <td>990</td>\n",
       "      <td>550</td>\n",
       "    </tr>\n",
       "    <tr>\n",
       "      <th>8</th>\n",
       "      <td>1009</td>\n",
       "      <td>24</td>\n",
       "      <td>Пермь</td>\n",
       "      <td>smart</td>\n",
       "      <td>False</td>\n",
       "      <td>3</td>\n",
       "      <td>22</td>\n",
       "      <td>12</td>\n",
       "      <td>31</td>\n",
       "      <td>9</td>\n",
       "      <td>0</td>\n",
       "      <td>0</td>\n",
       "      <td>550</td>\n",
       "      <td>550</td>\n",
       "      <td>550</td>\n",
       "      <td>750</td>\n",
       "      <td>2550</td>\n",
       "      <td>2350</td>\n",
       "      <td>1950</td>\n",
       "      <td>1550</td>\n",
       "      <td>950</td>\n",
       "      <td>1350</td>\n",
       "    </tr>\n",
       "    <tr>\n",
       "      <th>9</th>\n",
       "      <td>1010</td>\n",
       "      <td>26</td>\n",
       "      <td>Тюмень</td>\n",
       "      <td>smart</td>\n",
       "      <td>False</td>\n",
       "      <td>8</td>\n",
       "      <td>5</td>\n",
       "      <td>12</td>\n",
       "      <td>31</td>\n",
       "      <td>4</td>\n",
       "      <td>0</td>\n",
       "      <td>0</td>\n",
       "      <td>0</td>\n",
       "      <td>0</td>\n",
       "      <td>0</td>\n",
       "      <td>0</td>\n",
       "      <td>0</td>\n",
       "      <td>550</td>\n",
       "      <td>750</td>\n",
       "      <td>550</td>\n",
       "      <td>1350</td>\n",
       "      <td>1350</td>\n",
       "    </tr>\n",
       "  </tbody>\n",
       "</table>\n",
       "</div>"
      ],
      "text/plain": [
       "   user_id  age              city tariff subscrib_canceled  month  day  \\\n",
       "0     1000   52         Краснодар  ultra             False      5   25   \n",
       "1     1001   41            Москва  smart             False     11    1   \n",
       "2     1002   59       Стерлитамак  smart             False      6   17   \n",
       "3     1003   23            Москва  ultra             False      8   17   \n",
       "4     1004   68       Новокузнецк  ultra             False      5   14   \n",
       "5     1005   67  Набережные Челны  smart             False      1   25   \n",
       "6     1006   21         Ульяновск  smart             False      2   26   \n",
       "7     1007   65            Москва  smart             False      4   19   \n",
       "8     1009   24             Пермь  smart             False      3   22   \n",
       "9     1010   26            Тюмень  smart             False      8    5   \n",
       "\n",
       "   month_c  day_c  month_use  month_1  month_2  month_3  month_4  month_5  \\\n",
       "0       12     31          7        0        0        0        0     1950   \n",
       "1       12     31          1        0        0        0        0        0   \n",
       "2       12     31          6        0        0        0        0        0   \n",
       "3       12     31          4        0        0        0        0        0   \n",
       "4       12     31          7        0        0        0        0     1950   \n",
       "5       12     31         11      550      550      886     1186      835   \n",
       "6       12     31         10        0      550      950      550      550   \n",
       "7       12     31          8        0        0        0      550     1150   \n",
       "8       12     31          9        0        0      550      550      550   \n",
       "9       12     31          4        0        0        0        0        0   \n",
       "\n",
       "   month_6  month_7  month_8  month_9  month_10  month_11  month_12  \n",
       "0     1950     1950     1950     1950      1950      1950      1950  \n",
       "1        0        0        0        0         0      1150       550  \n",
       "2      550     1150     1550      950       550      1350      1150  \n",
       "3        0        0     1950     1950      1950      1950      1950  \n",
       "4     1950     1950     1950     1950      1950      1950      1950  \n",
       "5      886      775      949      556      1219       694       838  \n",
       "6      550     1550     1350      750      1550       550      1350  \n",
       "7      685      981     1750     1015       550       990       550  \n",
       "8      750     2550     2350     1950      1550       950      1350  \n",
       "9        0        0      550      750       550      1350      1350  "
      ]
     },
     "execution_count": 128,
     "metadata": {},
     "output_type": "execute_result"
    }
   ],
   "source": [
    "df_usr_paid.head(10)"
   ]
  },
  {
   "cell_type": "code",
   "execution_count": 129,
   "metadata": {},
   "outputs": [],
   "source": [
    "# добавим колонку со средений платой в месяц для каждого клиента\n",
    "mean_month_pay = []\n",
    "for row in range(0, len(df_usr_paid)):\n",
    "    start_m = df_usr_paid.loc[row, 'month']\n",
    "    end_m = df_usr_paid.loc[row, 'month_c']\n",
    "    month_s = df_usr_paid.columns.get_loc('month_' + str(start_m))\n",
    "    month_e = df_usr_paid.columns.get_loc('month_' + str(end_m))+1\n",
    "    mean_month_pay_i = df_usr_paid.iloc[row, month_s:month_e].mean()\n",
    "    mean_month_pay.append(mean_month_pay_i)\n",
    "df_usr_paid['mean_month_tariff_pay'] = mean_month_pay"
   ]
  },
  {
   "cell_type": "code",
   "execution_count": 130,
   "metadata": {},
   "outputs": [
    {
     "data": {
      "text/html": [
       "<div>\n",
       "<style scoped>\n",
       "    .dataframe tbody tr th:only-of-type {\n",
       "        vertical-align: middle;\n",
       "    }\n",
       "\n",
       "    .dataframe tbody tr th {\n",
       "        vertical-align: top;\n",
       "    }\n",
       "\n",
       "    .dataframe thead th {\n",
       "        text-align: right;\n",
       "    }\n",
       "</style>\n",
       "<table border=\"1\" class=\"dataframe\">\n",
       "  <thead>\n",
       "    <tr style=\"text-align: right;\">\n",
       "      <th></th>\n",
       "      <th>user_id</th>\n",
       "      <th>age</th>\n",
       "      <th>city</th>\n",
       "      <th>tariff</th>\n",
       "      <th>subscrib_canceled</th>\n",
       "      <th>month</th>\n",
       "      <th>day</th>\n",
       "      <th>month_c</th>\n",
       "      <th>day_c</th>\n",
       "      <th>month_use</th>\n",
       "      <th>month_1</th>\n",
       "      <th>month_2</th>\n",
       "      <th>month_3</th>\n",
       "      <th>month_4</th>\n",
       "      <th>month_5</th>\n",
       "      <th>month_6</th>\n",
       "      <th>month_7</th>\n",
       "      <th>month_8</th>\n",
       "      <th>month_9</th>\n",
       "      <th>month_10</th>\n",
       "      <th>month_11</th>\n",
       "      <th>month_12</th>\n",
       "      <th>mean_month_tariff_pay</th>\n",
       "    </tr>\n",
       "  </thead>\n",
       "  <tbody>\n",
       "    <tr>\n",
       "      <th>0</th>\n",
       "      <td>1000</td>\n",
       "      <td>52</td>\n",
       "      <td>Краснодар</td>\n",
       "      <td>ultra</td>\n",
       "      <td>False</td>\n",
       "      <td>5</td>\n",
       "      <td>25</td>\n",
       "      <td>12</td>\n",
       "      <td>31</td>\n",
       "      <td>7</td>\n",
       "      <td>0</td>\n",
       "      <td>0</td>\n",
       "      <td>0</td>\n",
       "      <td>0</td>\n",
       "      <td>1950</td>\n",
       "      <td>1950</td>\n",
       "      <td>1950</td>\n",
       "      <td>1950</td>\n",
       "      <td>1950</td>\n",
       "      <td>1950</td>\n",
       "      <td>1950</td>\n",
       "      <td>1950</td>\n",
       "      <td>1950.000000</td>\n",
       "    </tr>\n",
       "    <tr>\n",
       "      <th>1</th>\n",
       "      <td>1001</td>\n",
       "      <td>41</td>\n",
       "      <td>Москва</td>\n",
       "      <td>smart</td>\n",
       "      <td>False</td>\n",
       "      <td>11</td>\n",
       "      <td>1</td>\n",
       "      <td>12</td>\n",
       "      <td>31</td>\n",
       "      <td>1</td>\n",
       "      <td>0</td>\n",
       "      <td>0</td>\n",
       "      <td>0</td>\n",
       "      <td>0</td>\n",
       "      <td>0</td>\n",
       "      <td>0</td>\n",
       "      <td>0</td>\n",
       "      <td>0</td>\n",
       "      <td>0</td>\n",
       "      <td>0</td>\n",
       "      <td>1150</td>\n",
       "      <td>550</td>\n",
       "      <td>850.000000</td>\n",
       "    </tr>\n",
       "    <tr>\n",
       "      <th>2</th>\n",
       "      <td>1002</td>\n",
       "      <td>59</td>\n",
       "      <td>Стерлитамак</td>\n",
       "      <td>smart</td>\n",
       "      <td>False</td>\n",
       "      <td>6</td>\n",
       "      <td>17</td>\n",
       "      <td>12</td>\n",
       "      <td>31</td>\n",
       "      <td>6</td>\n",
       "      <td>0</td>\n",
       "      <td>0</td>\n",
       "      <td>0</td>\n",
       "      <td>0</td>\n",
       "      <td>0</td>\n",
       "      <td>550</td>\n",
       "      <td>1150</td>\n",
       "      <td>1550</td>\n",
       "      <td>950</td>\n",
       "      <td>550</td>\n",
       "      <td>1350</td>\n",
       "      <td>1150</td>\n",
       "      <td>1035.714286</td>\n",
       "    </tr>\n",
       "    <tr>\n",
       "      <th>3</th>\n",
       "      <td>1003</td>\n",
       "      <td>23</td>\n",
       "      <td>Москва</td>\n",
       "      <td>ultra</td>\n",
       "      <td>False</td>\n",
       "      <td>8</td>\n",
       "      <td>17</td>\n",
       "      <td>12</td>\n",
       "      <td>31</td>\n",
       "      <td>4</td>\n",
       "      <td>0</td>\n",
       "      <td>0</td>\n",
       "      <td>0</td>\n",
       "      <td>0</td>\n",
       "      <td>0</td>\n",
       "      <td>0</td>\n",
       "      <td>0</td>\n",
       "      <td>1950</td>\n",
       "      <td>1950</td>\n",
       "      <td>1950</td>\n",
       "      <td>1950</td>\n",
       "      <td>1950</td>\n",
       "      <td>1950.000000</td>\n",
       "    </tr>\n",
       "    <tr>\n",
       "      <th>4</th>\n",
       "      <td>1004</td>\n",
       "      <td>68</td>\n",
       "      <td>Новокузнецк</td>\n",
       "      <td>ultra</td>\n",
       "      <td>False</td>\n",
       "      <td>5</td>\n",
       "      <td>14</td>\n",
       "      <td>12</td>\n",
       "      <td>31</td>\n",
       "      <td>7</td>\n",
       "      <td>0</td>\n",
       "      <td>0</td>\n",
       "      <td>0</td>\n",
       "      <td>0</td>\n",
       "      <td>1950</td>\n",
       "      <td>1950</td>\n",
       "      <td>1950</td>\n",
       "      <td>1950</td>\n",
       "      <td>1950</td>\n",
       "      <td>1950</td>\n",
       "      <td>1950</td>\n",
       "      <td>1950</td>\n",
       "      <td>1950.000000</td>\n",
       "    </tr>\n",
       "  </tbody>\n",
       "</table>\n",
       "</div>"
      ],
      "text/plain": [
       "   user_id  age         city tariff subscrib_canceled  month  day  month_c  \\\n",
       "0     1000   52    Краснодар  ultra             False      5   25       12   \n",
       "1     1001   41       Москва  smart             False     11    1       12   \n",
       "2     1002   59  Стерлитамак  smart             False      6   17       12   \n",
       "3     1003   23       Москва  ultra             False      8   17       12   \n",
       "4     1004   68  Новокузнецк  ultra             False      5   14       12   \n",
       "\n",
       "   day_c  month_use  month_1  month_2  month_3  month_4  month_5  month_6  \\\n",
       "0     31          7        0        0        0        0     1950     1950   \n",
       "1     31          1        0        0        0        0        0        0   \n",
       "2     31          6        0        0        0        0        0      550   \n",
       "3     31          4        0        0        0        0        0        0   \n",
       "4     31          7        0        0        0        0     1950     1950   \n",
       "\n",
       "   month_7  month_8  month_9  month_10  month_11  month_12  \\\n",
       "0     1950     1950     1950      1950      1950      1950   \n",
       "1        0        0        0         0      1150       550   \n",
       "2     1150     1550      950       550      1350      1150   \n",
       "3        0     1950     1950      1950      1950      1950   \n",
       "4     1950     1950     1950      1950      1950      1950   \n",
       "\n",
       "   mean_month_tariff_pay  \n",
       "0            1950.000000  \n",
       "1             850.000000  \n",
       "2            1035.714286  \n",
       "3            1950.000000  \n",
       "4            1950.000000  "
      ]
     },
     "execution_count": 130,
     "metadata": {},
     "output_type": "execute_result"
    }
   ],
   "source": [
    "df_usr_paid.head(5)"
   ]
  },
  {
   "cell_type": "markdown",
   "metadata": {},
   "source": [
    "Добавим в таблицу колонки с со средним кол-ом минут разговора в месяц, средним кол-ом сообщений и трафиков интернета в месяц для каждого клиента"
   ]
  },
  {
   "cell_type": "code",
   "execution_count": 131,
   "metadata": {},
   "outputs": [
    {
     "data": {
      "text/html": [
       "<div>\n",
       "<style scoped>\n",
       "    .dataframe tbody tr th:only-of-type {\n",
       "        vertical-align: middle;\n",
       "    }\n",
       "\n",
       "    .dataframe tbody tr th {\n",
       "        vertical-align: top;\n",
       "    }\n",
       "\n",
       "    .dataframe thead th {\n",
       "        text-align: right;\n",
       "    }\n",
       "</style>\n",
       "<table border=\"1\" class=\"dataframe\">\n",
       "  <thead>\n",
       "    <tr style=\"text-align: right;\">\n",
       "      <th></th>\n",
       "      <th>user_id</th>\n",
       "      <th>1</th>\n",
       "      <th>2</th>\n",
       "      <th>3</th>\n",
       "      <th>4</th>\n",
       "      <th>5</th>\n",
       "      <th>6</th>\n",
       "      <th>7</th>\n",
       "      <th>8</th>\n",
       "      <th>9</th>\n",
       "      <th>10</th>\n",
       "      <th>11</th>\n",
       "      <th>12</th>\n",
       "      <th>tariff</th>\n",
       "      <th>mean_m_call_dur</th>\n",
       "    </tr>\n",
       "  </thead>\n",
       "  <tbody>\n",
       "    <tr>\n",
       "      <th>0</th>\n",
       "      <td>1000</td>\n",
       "      <td>0.0</td>\n",
       "      <td>0.0</td>\n",
       "      <td>0.0</td>\n",
       "      <td>0.0</td>\n",
       "      <td>159.0</td>\n",
       "      <td>172.0</td>\n",
       "      <td>340.0</td>\n",
       "      <td>408.0</td>\n",
       "      <td>466.0</td>\n",
       "      <td>350.0</td>\n",
       "      <td>338.0</td>\n",
       "      <td>333.0</td>\n",
       "      <td>ultra</td>\n",
       "      <td>339.0</td>\n",
       "    </tr>\n",
       "    <tr>\n",
       "      <th>1</th>\n",
       "      <td>1001</td>\n",
       "      <td>0.0</td>\n",
       "      <td>0.0</td>\n",
       "      <td>0.0</td>\n",
       "      <td>0.0</td>\n",
       "      <td>0.0</td>\n",
       "      <td>0.0</td>\n",
       "      <td>0.0</td>\n",
       "      <td>0.0</td>\n",
       "      <td>0.0</td>\n",
       "      <td>0.0</td>\n",
       "      <td>430.0</td>\n",
       "      <td>414.0</td>\n",
       "      <td>smart</td>\n",
       "      <td>422.0</td>\n",
       "    </tr>\n",
       "    <tr>\n",
       "      <th>2</th>\n",
       "      <td>1002</td>\n",
       "      <td>0.0</td>\n",
       "      <td>0.0</td>\n",
       "      <td>0.0</td>\n",
       "      <td>0.0</td>\n",
       "      <td>0.0</td>\n",
       "      <td>117.0</td>\n",
       "      <td>214.0</td>\n",
       "      <td>289.0</td>\n",
       "      <td>206.0</td>\n",
       "      <td>212.0</td>\n",
       "      <td>243.0</td>\n",
       "      <td>236.0</td>\n",
       "      <td>smart</td>\n",
       "      <td>214.0</td>\n",
       "    </tr>\n",
       "  </tbody>\n",
       "</table>\n",
       "</div>"
      ],
      "text/plain": [
       "   user_id    1    2    3    4      5      6      7      8      9     10  \\\n",
       "0     1000  0.0  0.0  0.0  0.0  159.0  172.0  340.0  408.0  466.0  350.0   \n",
       "1     1001  0.0  0.0  0.0  0.0    0.0    0.0    0.0    0.0    0.0    0.0   \n",
       "2     1002  0.0  0.0  0.0  0.0    0.0  117.0  214.0  289.0  206.0  212.0   \n",
       "\n",
       "      11     12 tariff  mean_m_call_dur  \n",
       "0  338.0  333.0  ultra            339.0  \n",
       "1  430.0  414.0  smart            422.0  \n",
       "2  243.0  236.0  smart            214.0  "
      ]
     },
     "execution_count": 131,
     "metadata": {},
     "output_type": "execute_result"
    }
   ],
   "source": [
    "#Таблица с кол-ом минут разговора в месяц\n",
    "call_dur.head(3)"
   ]
  },
  {
   "cell_type": "code",
   "execution_count": 132,
   "metadata": {},
   "outputs": [],
   "source": [
    "#Таблица со средним кол-ом минут разговора в месяц\n",
    "call_dur_mean = call_dur.loc[:, ['user_id', 'mean_m_call_dur']]"
   ]
  },
  {
   "cell_type": "code",
   "execution_count": 133,
   "metadata": {},
   "outputs": [
    {
     "data": {
      "text/html": [
       "<div>\n",
       "<style scoped>\n",
       "    .dataframe tbody tr th:only-of-type {\n",
       "        vertical-align: middle;\n",
       "    }\n",
       "\n",
       "    .dataframe tbody tr th {\n",
       "        vertical-align: top;\n",
       "    }\n",
       "\n",
       "    .dataframe thead th {\n",
       "        text-align: right;\n",
       "    }\n",
       "</style>\n",
       "<table border=\"1\" class=\"dataframe\">\n",
       "  <thead>\n",
       "    <tr style=\"text-align: right;\">\n",
       "      <th></th>\n",
       "      <th>user_id</th>\n",
       "      <th>mean_m_call_dur</th>\n",
       "    </tr>\n",
       "  </thead>\n",
       "  <tbody>\n",
       "    <tr>\n",
       "      <th>0</th>\n",
       "      <td>1000</td>\n",
       "      <td>339.0</td>\n",
       "    </tr>\n",
       "    <tr>\n",
       "      <th>1</th>\n",
       "      <td>1001</td>\n",
       "      <td>422.0</td>\n",
       "    </tr>\n",
       "    <tr>\n",
       "      <th>2</th>\n",
       "      <td>1002</td>\n",
       "      <td>214.0</td>\n",
       "    </tr>\n",
       "  </tbody>\n",
       "</table>\n",
       "</div>"
      ],
      "text/plain": [
       "   user_id  mean_m_call_dur\n",
       "0     1000            339.0\n",
       "1     1001            422.0\n",
       "2     1002            214.0"
      ]
     },
     "execution_count": 133,
     "metadata": {},
     "output_type": "execute_result"
    }
   ],
   "source": [
    "call_dur_mean.head(3)"
   ]
  },
  {
   "cell_type": "code",
   "execution_count": 134,
   "metadata": {},
   "outputs": [],
   "source": [
    "# создадим копию даатасета df_usr_paid\n",
    "df_usr_paid_c = df_usr_paid.copy()"
   ]
  },
  {
   "cell_type": "code",
   "execution_count": 135,
   "metadata": {},
   "outputs": [],
   "source": [
    "# добавим колонку со средним кол-ом минут разговора в месяц\n",
    "df_usr_paid_c = pd.merge(df_usr_paid_c, call_dur_mean, on='user_id')"
   ]
  },
  {
   "cell_type": "code",
   "execution_count": 136,
   "metadata": {},
   "outputs": [
    {
     "data": {
      "text/html": [
       "<div>\n",
       "<style scoped>\n",
       "    .dataframe tbody tr th:only-of-type {\n",
       "        vertical-align: middle;\n",
       "    }\n",
       "\n",
       "    .dataframe tbody tr th {\n",
       "        vertical-align: top;\n",
       "    }\n",
       "\n",
       "    .dataframe thead th {\n",
       "        text-align: right;\n",
       "    }\n",
       "</style>\n",
       "<table border=\"1\" class=\"dataframe\">\n",
       "  <thead>\n",
       "    <tr style=\"text-align: right;\">\n",
       "      <th></th>\n",
       "      <th>user_id</th>\n",
       "      <th>age</th>\n",
       "      <th>city</th>\n",
       "      <th>tariff</th>\n",
       "      <th>subscrib_canceled</th>\n",
       "      <th>month</th>\n",
       "      <th>day</th>\n",
       "      <th>month_c</th>\n",
       "      <th>day_c</th>\n",
       "      <th>month_use</th>\n",
       "      <th>month_1</th>\n",
       "      <th>month_2</th>\n",
       "      <th>month_3</th>\n",
       "      <th>month_4</th>\n",
       "      <th>month_5</th>\n",
       "      <th>month_6</th>\n",
       "      <th>month_7</th>\n",
       "      <th>month_8</th>\n",
       "      <th>month_9</th>\n",
       "      <th>month_10</th>\n",
       "      <th>month_11</th>\n",
       "      <th>month_12</th>\n",
       "      <th>mean_month_tariff_pay</th>\n",
       "      <th>mean_m_call_dur</th>\n",
       "    </tr>\n",
       "  </thead>\n",
       "  <tbody>\n",
       "    <tr>\n",
       "      <th>0</th>\n",
       "      <td>1000</td>\n",
       "      <td>52</td>\n",
       "      <td>Краснодар</td>\n",
       "      <td>ultra</td>\n",
       "      <td>False</td>\n",
       "      <td>5</td>\n",
       "      <td>25</td>\n",
       "      <td>12</td>\n",
       "      <td>31</td>\n",
       "      <td>7</td>\n",
       "      <td>0</td>\n",
       "      <td>0</td>\n",
       "      <td>0</td>\n",
       "      <td>0</td>\n",
       "      <td>1950</td>\n",
       "      <td>1950</td>\n",
       "      <td>1950</td>\n",
       "      <td>1950</td>\n",
       "      <td>1950</td>\n",
       "      <td>1950</td>\n",
       "      <td>1950</td>\n",
       "      <td>1950</td>\n",
       "      <td>1950.000000</td>\n",
       "      <td>339.0</td>\n",
       "    </tr>\n",
       "    <tr>\n",
       "      <th>1</th>\n",
       "      <td>1001</td>\n",
       "      <td>41</td>\n",
       "      <td>Москва</td>\n",
       "      <td>smart</td>\n",
       "      <td>False</td>\n",
       "      <td>11</td>\n",
       "      <td>1</td>\n",
       "      <td>12</td>\n",
       "      <td>31</td>\n",
       "      <td>1</td>\n",
       "      <td>0</td>\n",
       "      <td>0</td>\n",
       "      <td>0</td>\n",
       "      <td>0</td>\n",
       "      <td>0</td>\n",
       "      <td>0</td>\n",
       "      <td>0</td>\n",
       "      <td>0</td>\n",
       "      <td>0</td>\n",
       "      <td>0</td>\n",
       "      <td>1150</td>\n",
       "      <td>550</td>\n",
       "      <td>850.000000</td>\n",
       "      <td>422.0</td>\n",
       "    </tr>\n",
       "    <tr>\n",
       "      <th>2</th>\n",
       "      <td>1002</td>\n",
       "      <td>59</td>\n",
       "      <td>Стерлитамак</td>\n",
       "      <td>smart</td>\n",
       "      <td>False</td>\n",
       "      <td>6</td>\n",
       "      <td>17</td>\n",
       "      <td>12</td>\n",
       "      <td>31</td>\n",
       "      <td>6</td>\n",
       "      <td>0</td>\n",
       "      <td>0</td>\n",
       "      <td>0</td>\n",
       "      <td>0</td>\n",
       "      <td>0</td>\n",
       "      <td>550</td>\n",
       "      <td>1150</td>\n",
       "      <td>1550</td>\n",
       "      <td>950</td>\n",
       "      <td>550</td>\n",
       "      <td>1350</td>\n",
       "      <td>1150</td>\n",
       "      <td>1035.714286</td>\n",
       "      <td>214.0</td>\n",
       "    </tr>\n",
       "  </tbody>\n",
       "</table>\n",
       "</div>"
      ],
      "text/plain": [
       "   user_id  age         city tariff subscrib_canceled  month  day  month_c  \\\n",
       "0     1000   52    Краснодар  ultra             False      5   25       12   \n",
       "1     1001   41       Москва  smart             False     11    1       12   \n",
       "2     1002   59  Стерлитамак  smart             False      6   17       12   \n",
       "\n",
       "   day_c  month_use  month_1  month_2  month_3  month_4  month_5  month_6  \\\n",
       "0     31          7        0        0        0        0     1950     1950   \n",
       "1     31          1        0        0        0        0        0        0   \n",
       "2     31          6        0        0        0        0        0      550   \n",
       "\n",
       "   month_7  month_8  month_9  month_10  month_11  month_12  \\\n",
       "0     1950     1950     1950      1950      1950      1950   \n",
       "1        0        0        0         0      1150       550   \n",
       "2     1150     1550      950       550      1350      1150   \n",
       "\n",
       "   mean_month_tariff_pay  mean_m_call_dur  \n",
       "0            1950.000000            339.0  \n",
       "1             850.000000            422.0  \n",
       "2            1035.714286            214.0  "
      ]
     },
     "execution_count": 136,
     "metadata": {},
     "output_type": "execute_result"
    }
   ],
   "source": [
    "df_usr_paid_c.head(3)"
   ]
  },
  {
   "cell_type": "code",
   "execution_count": 137,
   "metadata": {},
   "outputs": [
    {
     "data": {
      "text/html": [
       "<div>\n",
       "<style scoped>\n",
       "    .dataframe tbody tr th:only-of-type {\n",
       "        vertical-align: middle;\n",
       "    }\n",
       "\n",
       "    .dataframe tbody tr th {\n",
       "        vertical-align: top;\n",
       "    }\n",
       "\n",
       "    .dataframe thead th {\n",
       "        text-align: right;\n",
       "    }\n",
       "</style>\n",
       "<table border=\"1\" class=\"dataframe\">\n",
       "  <thead>\n",
       "    <tr style=\"text-align: right;\">\n",
       "      <th></th>\n",
       "      <th>user_id</th>\n",
       "      <th>1</th>\n",
       "      <th>2</th>\n",
       "      <th>3</th>\n",
       "      <th>4</th>\n",
       "      <th>5</th>\n",
       "      <th>6</th>\n",
       "      <th>7</th>\n",
       "      <th>8</th>\n",
       "      <th>9</th>\n",
       "      <th>10</th>\n",
       "      <th>11</th>\n",
       "      <th>12</th>\n",
       "      <th>tariff</th>\n",
       "      <th>mean_m_msg_count</th>\n",
       "    </tr>\n",
       "  </thead>\n",
       "  <tbody>\n",
       "    <tr>\n",
       "      <th>0</th>\n",
       "      <td>1000</td>\n",
       "      <td>0.0</td>\n",
       "      <td>0.0</td>\n",
       "      <td>0.0</td>\n",
       "      <td>0.0</td>\n",
       "      <td>22.0</td>\n",
       "      <td>60.0</td>\n",
       "      <td>75.0</td>\n",
       "      <td>81.0</td>\n",
       "      <td>57.0</td>\n",
       "      <td>73.0</td>\n",
       "      <td>58.0</td>\n",
       "      <td>70.0</td>\n",
       "      <td>ultra</td>\n",
       "      <td>65.0</td>\n",
       "    </tr>\n",
       "    <tr>\n",
       "      <th>1</th>\n",
       "      <td>1002</td>\n",
       "      <td>0.0</td>\n",
       "      <td>0.0</td>\n",
       "      <td>0.0</td>\n",
       "      <td>0.0</td>\n",
       "      <td>0.0</td>\n",
       "      <td>4.0</td>\n",
       "      <td>11.0</td>\n",
       "      <td>13.0</td>\n",
       "      <td>4.0</td>\n",
       "      <td>10.0</td>\n",
       "      <td>16.0</td>\n",
       "      <td>12.0</td>\n",
       "      <td>smart</td>\n",
       "      <td>11.0</td>\n",
       "    </tr>\n",
       "    <tr>\n",
       "      <th>2</th>\n",
       "      <td>1003</td>\n",
       "      <td>0.0</td>\n",
       "      <td>0.0</td>\n",
       "      <td>0.0</td>\n",
       "      <td>0.0</td>\n",
       "      <td>0.0</td>\n",
       "      <td>0.0</td>\n",
       "      <td>0.0</td>\n",
       "      <td>37.0</td>\n",
       "      <td>91.0</td>\n",
       "      <td>83.0</td>\n",
       "      <td>94.0</td>\n",
       "      <td>75.0</td>\n",
       "      <td>ultra</td>\n",
       "      <td>83.0</td>\n",
       "    </tr>\n",
       "  </tbody>\n",
       "</table>\n",
       "</div>"
      ],
      "text/plain": [
       "   user_id    1    2    3    4     5     6     7     8     9    10    11  \\\n",
       "0     1000  0.0  0.0  0.0  0.0  22.0  60.0  75.0  81.0  57.0  73.0  58.0   \n",
       "1     1002  0.0  0.0  0.0  0.0   0.0   4.0  11.0  13.0   4.0  10.0  16.0   \n",
       "2     1003  0.0  0.0  0.0  0.0   0.0   0.0   0.0  37.0  91.0  83.0  94.0   \n",
       "\n",
       "     12 tariff  mean_m_msg_count  \n",
       "0  70.0  ultra              65.0  \n",
       "1  12.0  smart              11.0  \n",
       "2  75.0  ultra              83.0  "
      ]
     },
     "execution_count": 137,
     "metadata": {},
     "output_type": "execute_result"
    }
   ],
   "source": [
    "#Таблица с кол-ом сообщений в месяц\n",
    "msg_count.head(3)"
   ]
  },
  {
   "cell_type": "code",
   "execution_count": 138,
   "metadata": {},
   "outputs": [],
   "source": [
    "#Таблица со средним кол-ом сообщений в месяц\n",
    "msg_count_mean = msg_count.loc[:, ['user_id', 'mean_m_msg_count']]"
   ]
  },
  {
   "cell_type": "code",
   "execution_count": 139,
   "metadata": {},
   "outputs": [
    {
     "data": {
      "text/html": [
       "<div>\n",
       "<style scoped>\n",
       "    .dataframe tbody tr th:only-of-type {\n",
       "        vertical-align: middle;\n",
       "    }\n",
       "\n",
       "    .dataframe tbody tr th {\n",
       "        vertical-align: top;\n",
       "    }\n",
       "\n",
       "    .dataframe thead th {\n",
       "        text-align: right;\n",
       "    }\n",
       "</style>\n",
       "<table border=\"1\" class=\"dataframe\">\n",
       "  <thead>\n",
       "    <tr style=\"text-align: right;\">\n",
       "      <th></th>\n",
       "      <th>user_id</th>\n",
       "      <th>mean_m_msg_count</th>\n",
       "    </tr>\n",
       "  </thead>\n",
       "  <tbody>\n",
       "    <tr>\n",
       "      <th>0</th>\n",
       "      <td>1000</td>\n",
       "      <td>65.0</td>\n",
       "    </tr>\n",
       "    <tr>\n",
       "      <th>1</th>\n",
       "      <td>1002</td>\n",
       "      <td>11.0</td>\n",
       "    </tr>\n",
       "    <tr>\n",
       "      <th>2</th>\n",
       "      <td>1003</td>\n",
       "      <td>83.0</td>\n",
       "    </tr>\n",
       "  </tbody>\n",
       "</table>\n",
       "</div>"
      ],
      "text/plain": [
       "   user_id  mean_m_msg_count\n",
       "0     1000              65.0\n",
       "1     1002              11.0\n",
       "2     1003              83.0"
      ]
     },
     "execution_count": 139,
     "metadata": {},
     "output_type": "execute_result"
    }
   ],
   "source": [
    "msg_count_mean.head(3)"
   ]
  },
  {
   "cell_type": "code",
   "execution_count": 140,
   "metadata": {},
   "outputs": [],
   "source": [
    "# добавим колонку со средним кол-ом сообщений в месяц\n",
    "df_usr_paid_cm = pd.merge(df_usr_paid_c, msg_count_mean, on='user_id')"
   ]
  },
  {
   "cell_type": "code",
   "execution_count": 141,
   "metadata": {},
   "outputs": [
    {
     "data": {
      "text/html": [
       "<div>\n",
       "<style scoped>\n",
       "    .dataframe tbody tr th:only-of-type {\n",
       "        vertical-align: middle;\n",
       "    }\n",
       "\n",
       "    .dataframe tbody tr th {\n",
       "        vertical-align: top;\n",
       "    }\n",
       "\n",
       "    .dataframe thead th {\n",
       "        text-align: right;\n",
       "    }\n",
       "</style>\n",
       "<table border=\"1\" class=\"dataframe\">\n",
       "  <thead>\n",
       "    <tr style=\"text-align: right;\">\n",
       "      <th></th>\n",
       "      <th>user_id</th>\n",
       "      <th>age</th>\n",
       "      <th>city</th>\n",
       "      <th>tariff</th>\n",
       "      <th>subscrib_canceled</th>\n",
       "      <th>month</th>\n",
       "      <th>day</th>\n",
       "      <th>month_c</th>\n",
       "      <th>day_c</th>\n",
       "      <th>month_use</th>\n",
       "      <th>month_1</th>\n",
       "      <th>month_2</th>\n",
       "      <th>month_3</th>\n",
       "      <th>month_4</th>\n",
       "      <th>month_5</th>\n",
       "      <th>month_6</th>\n",
       "      <th>month_7</th>\n",
       "      <th>month_8</th>\n",
       "      <th>month_9</th>\n",
       "      <th>month_10</th>\n",
       "      <th>month_11</th>\n",
       "      <th>month_12</th>\n",
       "      <th>mean_month_tariff_pay</th>\n",
       "      <th>mean_m_call_dur</th>\n",
       "      <th>mean_m_msg_count</th>\n",
       "    </tr>\n",
       "  </thead>\n",
       "  <tbody>\n",
       "    <tr>\n",
       "      <th>0</th>\n",
       "      <td>1000</td>\n",
       "      <td>52</td>\n",
       "      <td>Краснодар</td>\n",
       "      <td>ultra</td>\n",
       "      <td>False</td>\n",
       "      <td>5</td>\n",
       "      <td>25</td>\n",
       "      <td>12</td>\n",
       "      <td>31</td>\n",
       "      <td>7</td>\n",
       "      <td>0</td>\n",
       "      <td>0</td>\n",
       "      <td>0</td>\n",
       "      <td>0</td>\n",
       "      <td>1950</td>\n",
       "      <td>1950</td>\n",
       "      <td>1950</td>\n",
       "      <td>1950</td>\n",
       "      <td>1950</td>\n",
       "      <td>1950</td>\n",
       "      <td>1950</td>\n",
       "      <td>1950</td>\n",
       "      <td>1950.000000</td>\n",
       "      <td>339.0</td>\n",
       "      <td>65.0</td>\n",
       "    </tr>\n",
       "    <tr>\n",
       "      <th>1</th>\n",
       "      <td>1002</td>\n",
       "      <td>59</td>\n",
       "      <td>Стерлитамак</td>\n",
       "      <td>smart</td>\n",
       "      <td>False</td>\n",
       "      <td>6</td>\n",
       "      <td>17</td>\n",
       "      <td>12</td>\n",
       "      <td>31</td>\n",
       "      <td>6</td>\n",
       "      <td>0</td>\n",
       "      <td>0</td>\n",
       "      <td>0</td>\n",
       "      <td>0</td>\n",
       "      <td>0</td>\n",
       "      <td>550</td>\n",
       "      <td>1150</td>\n",
       "      <td>1550</td>\n",
       "      <td>950</td>\n",
       "      <td>550</td>\n",
       "      <td>1350</td>\n",
       "      <td>1150</td>\n",
       "      <td>1035.714286</td>\n",
       "      <td>214.0</td>\n",
       "      <td>11.0</td>\n",
       "    </tr>\n",
       "    <tr>\n",
       "      <th>2</th>\n",
       "      <td>1003</td>\n",
       "      <td>23</td>\n",
       "      <td>Москва</td>\n",
       "      <td>ultra</td>\n",
       "      <td>False</td>\n",
       "      <td>8</td>\n",
       "      <td>17</td>\n",
       "      <td>12</td>\n",
       "      <td>31</td>\n",
       "      <td>4</td>\n",
       "      <td>0</td>\n",
       "      <td>0</td>\n",
       "      <td>0</td>\n",
       "      <td>0</td>\n",
       "      <td>0</td>\n",
       "      <td>0</td>\n",
       "      <td>0</td>\n",
       "      <td>1950</td>\n",
       "      <td>1950</td>\n",
       "      <td>1950</td>\n",
       "      <td>1950</td>\n",
       "      <td>1950</td>\n",
       "      <td>1950.000000</td>\n",
       "      <td>824.0</td>\n",
       "      <td>83.0</td>\n",
       "    </tr>\n",
       "  </tbody>\n",
       "</table>\n",
       "</div>"
      ],
      "text/plain": [
       "   user_id  age         city tariff subscrib_canceled  month  day  month_c  \\\n",
       "0     1000   52    Краснодар  ultra             False      5   25       12   \n",
       "1     1002   59  Стерлитамак  smart             False      6   17       12   \n",
       "2     1003   23       Москва  ultra             False      8   17       12   \n",
       "\n",
       "   day_c  month_use  month_1  month_2  month_3  month_4  month_5  month_6  \\\n",
       "0     31          7        0        0        0        0     1950     1950   \n",
       "1     31          6        0        0        0        0        0      550   \n",
       "2     31          4        0        0        0        0        0        0   \n",
       "\n",
       "   month_7  month_8  month_9  month_10  month_11  month_12  \\\n",
       "0     1950     1950     1950      1950      1950      1950   \n",
       "1     1150     1550      950       550      1350      1150   \n",
       "2        0     1950     1950      1950      1950      1950   \n",
       "\n",
       "   mean_month_tariff_pay  mean_m_call_dur  mean_m_msg_count  \n",
       "0            1950.000000            339.0              65.0  \n",
       "1            1035.714286            214.0              11.0  \n",
       "2            1950.000000            824.0              83.0  "
      ]
     },
     "execution_count": 141,
     "metadata": {},
     "output_type": "execute_result"
    }
   ],
   "source": [
    "df_usr_paid_cm.head(3)"
   ]
  },
  {
   "cell_type": "code",
   "execution_count": 142,
   "metadata": {},
   "outputs": [
    {
     "data": {
      "text/html": [
       "<div>\n",
       "<style scoped>\n",
       "    .dataframe tbody tr th:only-of-type {\n",
       "        vertical-align: middle;\n",
       "    }\n",
       "\n",
       "    .dataframe tbody tr th {\n",
       "        vertical-align: top;\n",
       "    }\n",
       "\n",
       "    .dataframe thead th {\n",
       "        text-align: right;\n",
       "    }\n",
       "</style>\n",
       "<table border=\"1\" class=\"dataframe\">\n",
       "  <thead>\n",
       "    <tr style=\"text-align: right;\">\n",
       "      <th></th>\n",
       "      <th>user_id</th>\n",
       "      <th>1</th>\n",
       "      <th>2</th>\n",
       "      <th>3</th>\n",
       "      <th>4</th>\n",
       "      <th>5</th>\n",
       "      <th>6</th>\n",
       "      <th>7</th>\n",
       "      <th>8</th>\n",
       "      <th>9</th>\n",
       "      <th>10</th>\n",
       "      <th>11</th>\n",
       "      <th>12</th>\n",
       "      <th>tariff</th>\n",
       "      <th>mean_month_int_traffic</th>\n",
       "    </tr>\n",
       "  </thead>\n",
       "  <tbody>\n",
       "    <tr>\n",
       "      <th>0</th>\n",
       "      <td>1000</td>\n",
       "      <td>0.0</td>\n",
       "      <td>0.0</td>\n",
       "      <td>0.0</td>\n",
       "      <td>0.0</td>\n",
       "      <td>3.0</td>\n",
       "      <td>23.0</td>\n",
       "      <td>14.0</td>\n",
       "      <td>14.0</td>\n",
       "      <td>15.0</td>\n",
       "      <td>15.0</td>\n",
       "      <td>15.0</td>\n",
       "      <td>10.0</td>\n",
       "      <td>ultra</td>\n",
       "      <td>14.5</td>\n",
       "    </tr>\n",
       "    <tr>\n",
       "      <th>1</th>\n",
       "      <td>1001</td>\n",
       "      <td>0.0</td>\n",
       "      <td>0.0</td>\n",
       "      <td>0.0</td>\n",
       "      <td>0.0</td>\n",
       "      <td>0.0</td>\n",
       "      <td>0.0</td>\n",
       "      <td>0.0</td>\n",
       "      <td>0.0</td>\n",
       "      <td>0.0</td>\n",
       "      <td>0.0</td>\n",
       "      <td>18.0</td>\n",
       "      <td>14.0</td>\n",
       "      <td>smart</td>\n",
       "      <td>16.0</td>\n",
       "    </tr>\n",
       "    <tr>\n",
       "      <th>2</th>\n",
       "      <td>1002</td>\n",
       "      <td>0.0</td>\n",
       "      <td>0.0</td>\n",
       "      <td>0.0</td>\n",
       "      <td>0.0</td>\n",
       "      <td>0.0</td>\n",
       "      <td>11.0</td>\n",
       "      <td>18.0</td>\n",
       "      <td>20.0</td>\n",
       "      <td>17.0</td>\n",
       "      <td>14.0</td>\n",
       "      <td>19.0</td>\n",
       "      <td>18.0</td>\n",
       "      <td>smart</td>\n",
       "      <td>18.0</td>\n",
       "    </tr>\n",
       "  </tbody>\n",
       "</table>\n",
       "</div>"
      ],
      "text/plain": [
       "   user_id    1    2    3    4    5     6     7     8     9    10    11    12  \\\n",
       "0     1000  0.0  0.0  0.0  0.0  3.0  23.0  14.0  14.0  15.0  15.0  15.0  10.0   \n",
       "1     1001  0.0  0.0  0.0  0.0  0.0   0.0   0.0   0.0   0.0   0.0  18.0  14.0   \n",
       "2     1002  0.0  0.0  0.0  0.0  0.0  11.0  18.0  20.0  17.0  14.0  19.0  18.0   \n",
       "\n",
       "  tariff  mean_month_int_traffic  \n",
       "0  ultra                    14.5  \n",
       "1  smart                    16.0  \n",
       "2  smart                    18.0  "
      ]
     },
     "execution_count": 142,
     "metadata": {},
     "output_type": "execute_result"
    }
   ],
   "source": [
    "#Таблица с трафиком интернета в месяц\n",
    "int_traf_g.head(3)"
   ]
  },
  {
   "cell_type": "code",
   "execution_count": 143,
   "metadata": {},
   "outputs": [],
   "source": [
    "#Таблица со средним интернет-трафика в месяц\n",
    "int_traf_g_mean = int_traf_g.loc[:, ['user_id', 'mean_month_int_traffic']]"
   ]
  },
  {
   "cell_type": "code",
   "execution_count": 144,
   "metadata": {},
   "outputs": [
    {
     "data": {
      "text/html": [
       "<div>\n",
       "<style scoped>\n",
       "    .dataframe tbody tr th:only-of-type {\n",
       "        vertical-align: middle;\n",
       "    }\n",
       "\n",
       "    .dataframe tbody tr th {\n",
       "        vertical-align: top;\n",
       "    }\n",
       "\n",
       "    .dataframe thead th {\n",
       "        text-align: right;\n",
       "    }\n",
       "</style>\n",
       "<table border=\"1\" class=\"dataframe\">\n",
       "  <thead>\n",
       "    <tr style=\"text-align: right;\">\n",
       "      <th></th>\n",
       "      <th>user_id</th>\n",
       "      <th>mean_month_int_traffic</th>\n",
       "    </tr>\n",
       "  </thead>\n",
       "  <tbody>\n",
       "    <tr>\n",
       "      <th>0</th>\n",
       "      <td>1000</td>\n",
       "      <td>14.5</td>\n",
       "    </tr>\n",
       "    <tr>\n",
       "      <th>1</th>\n",
       "      <td>1001</td>\n",
       "      <td>16.0</td>\n",
       "    </tr>\n",
       "    <tr>\n",
       "      <th>2</th>\n",
       "      <td>1002</td>\n",
       "      <td>18.0</td>\n",
       "    </tr>\n",
       "  </tbody>\n",
       "</table>\n",
       "</div>"
      ],
      "text/plain": [
       "   user_id  mean_month_int_traffic\n",
       "0     1000                    14.5\n",
       "1     1001                    16.0\n",
       "2     1002                    18.0"
      ]
     },
     "execution_count": 144,
     "metadata": {},
     "output_type": "execute_result"
    }
   ],
   "source": [
    "int_traf_g_mean.head(3)"
   ]
  },
  {
   "cell_type": "code",
   "execution_count": 145,
   "metadata": {},
   "outputs": [],
   "source": [
    "# добавим колонку со средним интернет-трафика в месяц\n",
    "df_usr_paid_cmi = pd.merge(df_usr_paid_cm, int_traf_g_mean, on='user_id')"
   ]
  },
  {
   "cell_type": "code",
   "execution_count": 146,
   "metadata": {},
   "outputs": [
    {
     "data": {
      "text/html": [
       "<div>\n",
       "<style scoped>\n",
       "    .dataframe tbody tr th:only-of-type {\n",
       "        vertical-align: middle;\n",
       "    }\n",
       "\n",
       "    .dataframe tbody tr th {\n",
       "        vertical-align: top;\n",
       "    }\n",
       "\n",
       "    .dataframe thead th {\n",
       "        text-align: right;\n",
       "    }\n",
       "</style>\n",
       "<table border=\"1\" class=\"dataframe\">\n",
       "  <thead>\n",
       "    <tr style=\"text-align: right;\">\n",
       "      <th></th>\n",
       "      <th>user_id</th>\n",
       "      <th>age</th>\n",
       "      <th>city</th>\n",
       "      <th>tariff</th>\n",
       "      <th>subscrib_canceled</th>\n",
       "      <th>month</th>\n",
       "      <th>day</th>\n",
       "      <th>month_c</th>\n",
       "      <th>day_c</th>\n",
       "      <th>month_use</th>\n",
       "      <th>month_1</th>\n",
       "      <th>month_2</th>\n",
       "      <th>month_3</th>\n",
       "      <th>month_4</th>\n",
       "      <th>month_5</th>\n",
       "      <th>month_6</th>\n",
       "      <th>month_7</th>\n",
       "      <th>month_8</th>\n",
       "      <th>month_9</th>\n",
       "      <th>month_10</th>\n",
       "      <th>month_11</th>\n",
       "      <th>month_12</th>\n",
       "      <th>mean_month_tariff_pay</th>\n",
       "      <th>mean_m_call_dur</th>\n",
       "      <th>mean_m_msg_count</th>\n",
       "      <th>mean_month_int_traffic</th>\n",
       "    </tr>\n",
       "  </thead>\n",
       "  <tbody>\n",
       "    <tr>\n",
       "      <th>0</th>\n",
       "      <td>1000</td>\n",
       "      <td>52</td>\n",
       "      <td>Краснодар</td>\n",
       "      <td>ultra</td>\n",
       "      <td>False</td>\n",
       "      <td>5</td>\n",
       "      <td>25</td>\n",
       "      <td>12</td>\n",
       "      <td>31</td>\n",
       "      <td>7</td>\n",
       "      <td>0</td>\n",
       "      <td>0</td>\n",
       "      <td>0</td>\n",
       "      <td>0</td>\n",
       "      <td>1950</td>\n",
       "      <td>1950</td>\n",
       "      <td>1950</td>\n",
       "      <td>1950</td>\n",
       "      <td>1950</td>\n",
       "      <td>1950</td>\n",
       "      <td>1950</td>\n",
       "      <td>1950</td>\n",
       "      <td>1950.000000</td>\n",
       "      <td>339.0</td>\n",
       "      <td>65.0</td>\n",
       "      <td>14.5</td>\n",
       "    </tr>\n",
       "    <tr>\n",
       "      <th>1</th>\n",
       "      <td>1002</td>\n",
       "      <td>59</td>\n",
       "      <td>Стерлитамак</td>\n",
       "      <td>smart</td>\n",
       "      <td>False</td>\n",
       "      <td>6</td>\n",
       "      <td>17</td>\n",
       "      <td>12</td>\n",
       "      <td>31</td>\n",
       "      <td>6</td>\n",
       "      <td>0</td>\n",
       "      <td>0</td>\n",
       "      <td>0</td>\n",
       "      <td>0</td>\n",
       "      <td>0</td>\n",
       "      <td>550</td>\n",
       "      <td>1150</td>\n",
       "      <td>1550</td>\n",
       "      <td>950</td>\n",
       "      <td>550</td>\n",
       "      <td>1350</td>\n",
       "      <td>1150</td>\n",
       "      <td>1035.714286</td>\n",
       "      <td>214.0</td>\n",
       "      <td>11.0</td>\n",
       "      <td>18.0</td>\n",
       "    </tr>\n",
       "    <tr>\n",
       "      <th>2</th>\n",
       "      <td>1003</td>\n",
       "      <td>23</td>\n",
       "      <td>Москва</td>\n",
       "      <td>ultra</td>\n",
       "      <td>False</td>\n",
       "      <td>8</td>\n",
       "      <td>17</td>\n",
       "      <td>12</td>\n",
       "      <td>31</td>\n",
       "      <td>4</td>\n",
       "      <td>0</td>\n",
       "      <td>0</td>\n",
       "      <td>0</td>\n",
       "      <td>0</td>\n",
       "      <td>0</td>\n",
       "      <td>0</td>\n",
       "      <td>0</td>\n",
       "      <td>1950</td>\n",
       "      <td>1950</td>\n",
       "      <td>1950</td>\n",
       "      <td>1950</td>\n",
       "      <td>1950</td>\n",
       "      <td>1950.000000</td>\n",
       "      <td>824.0</td>\n",
       "      <td>83.0</td>\n",
       "      <td>12.0</td>\n",
       "    </tr>\n",
       "  </tbody>\n",
       "</table>\n",
       "</div>"
      ],
      "text/plain": [
       "   user_id  age         city tariff subscrib_canceled  month  day  month_c  \\\n",
       "0     1000   52    Краснодар  ultra             False      5   25       12   \n",
       "1     1002   59  Стерлитамак  smart             False      6   17       12   \n",
       "2     1003   23       Москва  ultra             False      8   17       12   \n",
       "\n",
       "   day_c  month_use  month_1  month_2  month_3  month_4  month_5  month_6  \\\n",
       "0     31          7        0        0        0        0     1950     1950   \n",
       "1     31          6        0        0        0        0        0      550   \n",
       "2     31          4        0        0        0        0        0        0   \n",
       "\n",
       "   month_7  month_8  month_9  month_10  month_11  month_12  \\\n",
       "0     1950     1950     1950      1950      1950      1950   \n",
       "1     1150     1550      950       550      1350      1150   \n",
       "2        0     1950     1950      1950      1950      1950   \n",
       "\n",
       "   mean_month_tariff_pay  mean_m_call_dur  mean_m_msg_count  \\\n",
       "0            1950.000000            339.0              65.0   \n",
       "1            1035.714286            214.0              11.0   \n",
       "2            1950.000000            824.0              83.0   \n",
       "\n",
       "   mean_month_int_traffic  \n",
       "0                    14.5  \n",
       "1                    18.0  \n",
       "2                    12.0  "
      ]
     },
     "execution_count": 146,
     "metadata": {},
     "output_type": "execute_result"
    }
   ],
   "source": [
    "df_usr_paid_cmi.head(3)"
   ]
  },
  {
   "cell_type": "markdown",
   "metadata": {},
   "source": [
    "### Выводы:\n",
    "\n",
    "Из таблицы были удалены клиенты, которые пользовались тарифом меньше месяца, для каждого клиента посчитаны средняя плата в месяц, среднее кол-во минут разговора в месяц, среднее кол-во сообщений в месяц и среднее потребление Гб интернет-трафика в месяц.\n"
   ]
  },
  {
   "cell_type": "markdown",
   "metadata": {},
   "source": [
    "## Исследовательский анализ данных"
   ]
  },
  {
   "cell_type": "markdown",
   "metadata": {},
   "source": [
    "Построим гистограмы для средней платы в месяц по тарифу, среднего кол-ва мин. разговора, среднего кол-ва сообщений и трафику интернета в месяц для каждого тарифа. Изучим распределение данных, оценить среднее значение, дисперсию и стандартное отклонение"
   ]
  },
  {
   "cell_type": "code",
   "execution_count": 147,
   "metadata": {},
   "outputs": [
    {
     "data": {
      "image/png": "[encoded data removed]",
      "text/plain": [
       "<Figure size 360x720 with 1 Axes>"
      ]
     },
     "metadata": {
      "needs_background": "light"
     },
     "output_type": "display_data"
    }
   ],
   "source": [
    "# Построим ящик с усами для оценки средней плата в месяц за тариф\n",
    "plt.figure(figsize=(5,10))\n",
    "sns.boxplot(data=df_usr_paid_cmi, x='tariff', y = 'mean_month_tariff_pay', hue='tariff', palette=\"Set1\")\n",
    "plt.grid()\n",
    "plt.show();"
   ]
  },
  {
   "cell_type": "code",
   "execution_count": 148,
   "metadata": {},
   "outputs": [
    {
     "data": {
      "text/plain": [
       "count     278.000000\n",
       "mean     1323.918025\n",
       "std       613.282598\n",
       "min       550.000000\n",
       "25%       867.550000\n",
       "50%      1164.208333\n",
       "75%      1658.062500\n",
       "max      4333.333333\n",
       "Name: mean_month_tariff_pay, dtype: float64"
      ]
     },
     "execution_count": 148,
     "metadata": {},
     "output_type": "execute_result"
    }
   ],
   "source": [
    "# Описание данных в колонке средней платы в месяц для тарифа smart\n",
    "df_usr_paid_cmi[df_usr_paid_cmi['tariff']=='smart']['mean_month_tariff_pay'].describe()"
   ]
  },
  {
   "cell_type": "code",
   "execution_count": 149,
   "metadata": {},
   "outputs": [
    {
     "data": {
      "text/plain": [
       "count     112.000000\n",
       "mean     2072.909806\n",
       "std       278.830874\n",
       "min      1950.000000\n",
       "25%      1950.000000\n",
       "50%      1950.000000\n",
       "75%      1990.625000\n",
       "max      3225.000000\n",
       "Name: mean_month_tariff_pay, dtype: float64"
      ]
     },
     "execution_count": 149,
     "metadata": {},
     "output_type": "execute_result"
    }
   ],
   "source": [
    "# Описание данных в колонке средней платы в месяц для тарифа ultra\n",
    "df_usr_paid_cmi[df_usr_paid_cmi['tariff']=='ultra']['mean_month_tariff_pay'].describe()"
   ]
  },
  {
   "cell_type": "markdown",
   "metadata": {},
   "source": [
    "Среднее значение платы за тариф ultra значительно больше, чем у тарифа smart (ultra = 2073руб, smart=1324руб), однако, разброс значений тарифа smart больше, чем у тарифа ultra. Это дает основание пологать, что возможно, тариф smart выгоднее для сотовой компании. Изучим как распределены данные"
   ]
  },
  {
   "cell_type": "code",
   "execution_count": 150,
   "metadata": {},
   "outputs": [
    {
     "data": {
      "image/png": "[encoded data removed]",
      "text/plain": [
       "<Figure size 432x288 with 1 Axes>"
      ]
     },
     "metadata": {
      "needs_background": "light"
     },
     "output_type": "display_data"
    }
   ],
   "source": [
    "# Построим гистограмму для средней платы в месяц за тариф.\n",
    "df_usr_paid_cmi[df_usr_paid_cmi['tariff']=='ultra']['mean_month_tariff_pay'].plot.hist(grid=True, rwidth=0.9, color='#0504aa')\n",
    "df_usr_paid_cmi[df_usr_paid_cmi['tariff']=='smart']['mean_month_tariff_pay'].plot.hist(grid=True, rwidth=0.9, color='red',alpha=0.5)\n",
    "plt.title('Histogram')\n",
    "plt.xlabel('mean_month_tariff_pay')\n",
    "plt.ylabel('Frequency')\n",
    "plt.legend(labels=('ultra','smart'))\n",
    "plt.axvline(x=550, color='r', linestyle='dashed', linewidth=1)\n",
    "plt.text(550*1.1, 90*0.9, 'fee_smart')\n",
    "plt.axvline(x=1950, color='b', linestyle='dashed', linewidth=1)\n",
    "plt.text(1950*1.1, 90*0.9, 'fee_ultra')\n",
    "plt.grid()\n",
    "plt.show()"
   ]
  },
  {
   "cell_type": "code",
   "execution_count": 151,
   "metadata": {},
   "outputs": [
    {
     "name": "stdout",
     "output_type": "stream",
     "text": [
      "Средняя плата в месяц клиента тарифа ultra: 2073 рублей\n",
      "Средняя плата в месяц клиента тарифа smart: 1324 рублей\n",
      "Медианное значение платы в месяц клиента тарифа ultra: 1950 рублей\n",
      "Медианное значение платы в месяц клиента тарифа smart: 1164 рублей\n",
      "Дисперсия распределения средней плата в месяц клиента тарифа ultra: 77747 руб**2\n",
      "Дисперсия распределения средней плата в месяц клиента тарифа smart: 376116 руб**2\n",
      "Стандартное отклонение распределения средней плата в месяц клиента тарифа ultra: 279 руб\n",
      "Стандартное отклонение распределения средней плата в месяц клиента тарифа smart: 613 руб\n"
     ]
    }
   ],
   "source": [
    "mean_ultra_fee = df_usr_paid_cmi[df_usr_paid_cmi['tariff']=='ultra']['mean_month_tariff_pay'].mean()\n",
    "mean_smart_fee = df_usr_paid_cmi[df_usr_paid_cmi['tariff']=='smart']['mean_month_tariff_pay'].mean()\n",
    "median_ultra_fee = df_usr_paid_cmi[df_usr_paid_cmi['tariff']=='ultra']['mean_month_tariff_pay'].median()\n",
    "median_smart_fee = df_usr_paid_cmi[df_usr_paid_cmi['tariff']=='smart']['mean_month_tariff_pay'].median()\n",
    "var_ultra_fee = np.var(df_usr_paid_cmi[df_usr_paid_cmi['tariff']=='ultra']['mean_month_tariff_pay'], ddof=1)\n",
    "var_smart_fee = np.var(df_usr_paid_cmi[df_usr_paid_cmi['tariff']=='smart']['mean_month_tariff_pay'], ddof=1)\n",
    "\n",
    "std_ultra_fee = np.sqrt(var_ultra_fee)\n",
    "std_smart_fee = np.sqrt(var_smart_fee)\n",
    "\n",
    "print(f'Средняя плата в месяц клиента тарифа ultra: {mean_ultra_fee:.0f} рублей')\n",
    "print(f'Средняя плата в месяц клиента тарифа smart: {mean_smart_fee:.0f} рублей')\n",
    "print(f'Медианное значение платы в месяц клиента тарифа ultra: {median_ultra_fee:.0f} рублей')\n",
    "print(f'Медианное значение платы в месяц клиента тарифа smart: {median_smart_fee:.0f} рублей')\n",
    "print(f'Дисперсия распределения средней плата в месяц клиента тарифа ultra: {var_ultra_fee:.0f} руб**2')\n",
    "print(f'Дисперсия распределения средней плата в месяц клиента тарифа smart: {var_smart_fee:.0f} руб**2')\n",
    "print(f'Стандартное отклонение распределения средней плата в месяц клиента тарифа ultra: {std_ultra_fee:.0f} руб')\n",
    "print(f'Стандартное отклонение распределения средней плата в месяц клиента тарифа smart: {std_smart_fee:.0f} руб')"
   ]
  },
  {
   "cell_type": "markdown",
   "metadata": {},
   "source": [
    "Распределение значений ассемитричное для обеих выборок и скошено вправо. Средняя плата в месяц за тариф - величина случайная. И должна подчиняться нормальному закону распределения. \n",
    "\n",
    "Построим график квантилей, чтобы проверить, что данные в таблице подчиняются нормальному закону"
   ]
  },
  {
   "cell_type": "code",
   "execution_count": 152,
   "metadata": {},
   "outputs": [
    {
     "data": {
      "image/png": "[encoded data removed]",
      "text/plain": [
       "<Figure size 432x288 with 1 Axes>"
      ]
     },
     "metadata": {
      "needs_background": "light"
     },
     "output_type": "display_data"
    }
   ],
   "source": [
    "#График квантилей для средней платы за тариф ultra\n",
    "measurements_u = df_usr_paid_cmi[df_usr_paid_cmi['tariff']=='ultra']['mean_month_int_traffic']\n",
    "st.probplot(measurements_u, dist=\"norm\", plot=plt)\n",
    "plt.grid()\n",
    "plt.show()"
   ]
  },
  {
   "cell_type": "code",
   "execution_count": 153,
   "metadata": {},
   "outputs": [
    {
     "data": {
      "image/png": "[encoded data removed]",
      "text/plain": [
       "<Figure size 432x288 with 1 Axes>"
      ]
     },
     "metadata": {
      "needs_background": "light"
     },
     "output_type": "display_data"
    }
   ],
   "source": [
    "#График квантилей для средней платы за тариф smart\n",
    "measurements_s = df_usr_paid_cmi[df_usr_paid_cmi['tariff']=='smart']['mean_month_int_traffic']\n",
    "st.probplot(measurements_s, dist=\"norm\", plot=plt)\n",
    "plt.grid()\n",
    "plt.show()"
   ]
  },
  {
   "cell_type": "markdown",
   "metadata": {},
   "source": [
    "Вывод: значения не сильно отклоняются от теоретической линии, следовательно, данные распределены по нормальному закону"
   ]
  },
  {
   "cell_type": "code",
   "execution_count": 154,
   "metadata": {},
   "outputs": [
    {
     "data": {
      "image/png": "[encoded data removed]",
      "text/plain": [
       "<Figure size 432x288 with 1 Axes>"
      ]
     },
     "metadata": {
      "needs_background": "light"
     },
     "output_type": "display_data"
    }
   ],
   "source": [
    "# Построим гистограмму для среднего кол-ва минут разговора в месяц.\n",
    "df_usr_paid_cmi[df_usr_paid_cmi['tariff']=='ultra']['mean_m_call_dur'].plot.hist(grid=True, rwidth=0.9, color='#0504aa')\n",
    "df_usr_paid_cmi[df_usr_paid_cmi['tariff']=='smart']['mean_m_call_dur'].plot.hist(grid=True, rwidth=0.9, color='red',alpha=0.5)\n",
    "plt.title('Histogram')\n",
    "plt.xlabel('mean_m_call_dur')\n",
    "plt.ylabel('Frequency')\n",
    "plt.legend(labels=('ultra','smart'))\n",
    "plt.axvline(x=500, color='r', linestyle='dashed', linewidth=1)\n",
    "plt.text(500*1.1, 60*0.9, 'minutes_included_smart=500')\n",
    "plt.axvline(x=1500, color='b', linestyle='dashed', linewidth=1)\n",
    "plt.text(1400*1.1, 60*0.9, 'minutes_included_ultra/2=1500')\n",
    "plt.grid()\n",
    "plt.show()"
   ]
  },
  {
   "cell_type": "code",
   "execution_count": 155,
   "metadata": {},
   "outputs": [
    {
     "name": "stdout",
     "output_type": "stream",
     "text": [
      "Среднее кол-во минут разговора в месяц клиента тарифа ultra: 575 мин\n",
      "Среднее кол-во минут разговора в месяц клиента тарифа smart: 435 мин\n",
      "Медианное значение кол-ва мин. разговора в месяц клиента тарифа ultra: 535 мин\n",
      "Медианное значение кол-ва мин. разговора в месяц клиента тарифа smart: 440 мин\n",
      "Дисперсия распределения кол-ва мин. разговора в месяц клиента тарифа ultra: 87047 мин**2\n",
      "Дисперсия распределения кол-ва мин. разговора в месяц клиента тарифа smart: 24804 мин**2\n",
      "Стандартное отклонение кол-ва мин. разговора в месяц клиента тарифа ultra: 295 мин\n",
      "Стандартное отклонение кол-ва мин. разговора в месяц клиента тарифа smart: 157 мин\n"
     ]
    }
   ],
   "source": [
    "mean_ultra_c = df_usr_paid_cmi[df_usr_paid_cmi['tariff']=='ultra']['mean_m_call_dur'].mean()\n",
    "mean_smart_c = df_usr_paid_cmi[df_usr_paid_cmi['tariff']=='smart']['mean_m_call_dur'].mean()\n",
    "median_ultra_c = df_usr_paid_cmi[df_usr_paid_cmi['tariff']=='ultra']['mean_m_call_dur'].median()\n",
    "median_smart_c = df_usr_paid_cmi[df_usr_paid_cmi['tariff']=='smart']['mean_m_call_dur'].median()\n",
    "var_ultra_c = np.var(df_usr_paid_cmi[df_usr_paid_cmi['tariff']=='ultra']['mean_m_call_dur'], ddof=1)\n",
    "var_smart_c = np.var(df_usr_paid_cmi[df_usr_paid_cmi['tariff']=='smart']['mean_m_call_dur'], ddof=1)\n",
    "\n",
    "std_ultra_c = np.sqrt(var_ultra_c)\n",
    "std_smart_c = np.sqrt(var_smart_c)\n",
    "\n",
    "print(f'Среднее кол-во минут разговора в месяц клиента тарифа ultra: {mean_ultra_c:.0f} мин')\n",
    "print(f'Среднее кол-во минут разговора в месяц клиента тарифа smart: {mean_smart_c:.0f} мин')\n",
    "print(f'Медианное значение кол-ва мин. разговора в месяц клиента тарифа ultra: {median_ultra_c:.0f} мин')\n",
    "print(f'Медианное значение кол-ва мин. разговора в месяц клиента тарифа smart: {median_smart_c:.0f} мин')\n",
    "print(f'Дисперсия распределения кол-ва мин. разговора в месяц клиента тарифа ultra: {var_ultra_c:.0f} мин**2')\n",
    "print(f'Дисперсия распределения кол-ва мин. разговора в месяц клиента тарифа smart: {var_smart_c:.0f} мин**2')\n",
    "print(f'Стандартное отклонение кол-ва мин. разговора в месяц клиента тарифа ultra: {std_ultra_c:.0f} мин')\n",
    "print(f'Стандартное отклонение кол-ва мин. разговора в месяц клиента тарифа smart: {std_smart_c:.0f} мин')"
   ]
  },
  {
   "cell_type": "markdown",
   "metadata": {},
   "source": [
    "Распределение значений нормальное и симметричное (присутствует небольшая скошенность, но она скорее обусловлена малым размером выборки).\n",
    "\n",
    "Клиенты тарифа smart в среднем тратят кол-во минут разговора чуть меньше порогового значения - 500 мин в месяц.\n",
    "Клиенты тарифа ultra в среднем тратят 575 мин разговора, что больше порогового значения тарифа smart, и значительно меньше порогового значения тарифа ultra - 3000 мин."
   ]
  },
  {
   "cell_type": "markdown",
   "metadata": {},
   "source": [
    "Построим график квантилей, чтобы проверить, что данные в таблице действительно подчиняются нормальному закону"
   ]
  },
  {
   "cell_type": "code",
   "execution_count": 156,
   "metadata": {},
   "outputs": [
    {
     "data": {
      "image/png": "[encoded data removed]",
      "text/plain": [
       "<Figure size 432x288 with 1 Axes>"
      ]
     },
     "metadata": {
      "needs_background": "light"
     },
     "output_type": "display_data"
    }
   ],
   "source": [
    "#График квантилей для кол-ва мин. разговора в месяц клиентов тарифа ultra\n",
    "measurements_u = df_usr_paid_cmi[df_usr_paid_cmi['tariff']=='ultra']['mean_m_call_dur']\n",
    "st.probplot(measurements_u, dist=\"norm\", plot=plt)\n",
    "plt.grid()\n",
    "plt.show()"
   ]
  },
  {
   "cell_type": "code",
   "execution_count": 157,
   "metadata": {},
   "outputs": [
    {
     "data": {
      "image/png": "[encoded data removed]",
      "text/plain": [
       "<Figure size 432x288 with 1 Axes>"
      ]
     },
     "metadata": {
      "needs_background": "light"
     },
     "output_type": "display_data"
    }
   ],
   "source": [
    "#График квантилей для кол-ва мин. разговора в месяц клиентов тарифа smart\n",
    "measurements_s = df_usr_paid_cmi[df_usr_paid_cmi['tariff']=='smart']['mean_m_call_dur']\n",
    "st.probplot(measurements_s, dist=\"norm\", plot=plt)\n",
    "plt.grid()\n",
    "plt.show()"
   ]
  },
  {
   "cell_type": "markdown",
   "metadata": {},
   "source": [
    "Вывод: значения не сильно отклоняются от теоретической линии, следовательно, данные распределены по нормальному закону"
   ]
  },
  {
   "cell_type": "code",
   "execution_count": 158,
   "metadata": {},
   "outputs": [
    {
     "data": {
      "image/png": "[encoded data removed]",
      "text/plain": [
       "<Figure size 432x288 with 1 Axes>"
      ]
     },
     "metadata": {
      "needs_background": "light"
     },
     "output_type": "display_data"
    }
   ],
   "source": [
    "# Построим гистограмму для среднего кол-ва сообщений в месяц.\n",
    "df_usr_paid_cmi[df_usr_paid_cmi['tariff']=='ultra']['mean_m_msg_count'].plot.hist(grid=True, rwidth=0.9, color='#0504aa')\n",
    "df_usr_paid_cmi[df_usr_paid_cmi['tariff']=='smart']['mean_m_msg_count'].plot.hist(grid=True, rwidth=0.9, color='red',alpha=0.5)\n",
    "plt.title('Histogram')\n",
    "plt.xlabel('mean_m_msg_count')\n",
    "plt.ylabel('Frequency')\n",
    "plt.legend(labels=('ultra','smart'))\n",
    "plt.axvline(x=50, color='r', linestyle='dashed', linewidth=1)\n",
    "plt.text(50*1.1, 55*0.9, 'messages_included_smart=50')\n",
    "plt.axvline(x=250, color='b', linestyle='dashed', linewidth=1)\n",
    "plt.text(230*1.1, 55*0.9, 'messages_included_ultra/4=250')\n",
    "plt.grid()\n",
    "plt.show()"
   ]
  },
  {
   "cell_type": "code",
   "execution_count": 159,
   "metadata": {},
   "outputs": [
    {
     "name": "stdout",
     "output_type": "stream",
     "text": [
      "Среднее кол-во сообщений в месяц клиента тарифа ultra: 68 \n",
      "Среднее кол-во сообщений в месяц клиента тарифа smart: 39 \n",
      "Медианное значение кол-ва сообщений в месяц клиента тарифа ultra: 62 \n",
      "Медианное значение кол-ва сообщений в месяц клиента тарифа smart: 35 \n",
      "Дисперсия распределения кол-ва сообщений в месяц клиента тарифа ultra: 2041 \n",
      "Дисперсия распределения кол-ва сообщений в месяц клиента тарифа smart: 705 \n",
      "Стандартное отклонение кол-ва сообщений в месяц клиента тарифа ultra: 45 \n",
      "Стандартное отклонение кол-ва сообщений в месяц клиента тарифа smart: 27 \n"
     ]
    }
   ],
   "source": [
    "mean_ultra_m = df_usr_paid_cmi[df_usr_paid_cmi['tariff']=='ultra']['mean_m_msg_count'].mean()\n",
    "mean_smart_m = df_usr_paid_cmi[df_usr_paid_cmi['tariff']=='smart']['mean_m_msg_count'].mean()\n",
    "median_ultra_m = df_usr_paid_cmi[df_usr_paid_cmi['tariff']=='ultra']['mean_m_msg_count'].median()\n",
    "median_smart_m = df_usr_paid_cmi[df_usr_paid_cmi['tariff']=='smart']['mean_m_msg_count'].median()\n",
    "var_ultra_m = np.var(df_usr_paid_cmi[df_usr_paid_cmi['tariff']=='ultra']['mean_m_msg_count'], ddof=1)\n",
    "var_smart_m = np.var(df_usr_paid_cmi[df_usr_paid_cmi['tariff']=='smart']['mean_m_msg_count'], ddof=1)\n",
    "\n",
    "std_ultra_m = np.sqrt(var_ultra_m)\n",
    "std_smart_m = np.sqrt(var_smart_m)\n",
    "\n",
    "print(f'Среднее кол-во сообщений в месяц клиента тарифа ultra: {mean_ultra_m:.0f} ')\n",
    "print(f'Среднее кол-во сообщений в месяц клиента тарифа smart: {mean_smart_m:.0f} ')\n",
    "print(f'Медианное значение кол-ва сообщений в месяц клиента тарифа ultra: {median_ultra_m:.0f} ')\n",
    "print(f'Медианное значение кол-ва сообщений в месяц клиента тарифа smart: {median_smart_m:.0f} ')\n",
    "print(f'Дисперсия распределения кол-ва сообщений в месяц клиента тарифа ultra: {var_ultra_m:.0f} ')\n",
    "print(f'Дисперсия распределения кол-ва сообщений в месяц клиента тарифа smart: {var_smart_m:.0f} ')\n",
    "print(f'Стандартное отклонение кол-ва сообщений в месяц клиента тарифа ultra: {std_ultra_m:.0f} ')\n",
    "print(f'Стандартное отклонение кол-ва сообщений в месяц клиента тарифа smart: {std_smart_m:.0f} ')"
   ]
  },
  {
   "cell_type": "markdown",
   "metadata": {},
   "source": [
    "Распределение значений асимметричное, скошено вправо.\n",
    "\n",
    "Клиенты тарифа smart в среднем отправляют сообщений чуть больше порогового значения - 50 сообщений в месяц.\n",
    "Клиенты тарифа ultra в среднем отправляют практически в 2 раза больше сообщений, чем клинеты тарифа smart, однако это значение значительно ниже порогового значения тарифа ultra - 1000 сообщений в месяц."
   ]
  },
  {
   "cell_type": "markdown",
   "metadata": {},
   "source": [
    "Построим график квантилей, чтобы проверить, что данные в таблице подчиняются нормальному закону"
   ]
  },
  {
   "cell_type": "code",
   "execution_count": 160,
   "metadata": {},
   "outputs": [
    {
     "data": {
      "image/png": "[encoded data removed]",
      "text/plain": [
       "<Figure size 432x288 with 1 Axes>"
      ]
     },
     "metadata": {
      "needs_background": "light"
     },
     "output_type": "display_data"
    }
   ],
   "source": [
    "#График квантилей для кол-ва сообщений в  месяц клиентов тарифа ultra\n",
    "measurements_u = df_usr_paid_cmi[df_usr_paid_cmi['tariff']=='ultra']['mean_m_msg_count']\n",
    "st.probplot(measurements_u, dist=\"norm\", plot=plt)\n",
    "plt.grid()\n",
    "plt.show()"
   ]
  },
  {
   "cell_type": "code",
   "execution_count": 161,
   "metadata": {},
   "outputs": [
    {
     "data": {
      "image/png": "[encoded data removed]",
      "text/plain": [
       "<Figure size 432x288 with 1 Axes>"
      ]
     },
     "metadata": {
      "needs_background": "light"
     },
     "output_type": "display_data"
    }
   ],
   "source": [
    "#График квантилей для кол-ва сообщений в  месяц клиентов тарифа smart\n",
    "measurements_s = df_usr_paid_cmi[df_usr_paid_cmi['tariff']=='smart']['mean_m_msg_count']\n",
    "st.probplot(measurements_s, dist=\"norm\", plot=plt)\n",
    "plt.grid()\n",
    "plt.show()"
   ]
  },
  {
   "cell_type": "markdown",
   "metadata": {},
   "source": [
    "Вывод: наблюдается отклонение данных от линии в нижнем углу графика. Однако, кол-во сообщений в месяц, так же является случайной величиной. Отклонение от линии скорее всего обусловлено малой выборкой"
   ]
  },
  {
   "cell_type": "code",
   "execution_count": 162,
   "metadata": {},
   "outputs": [
    {
     "data": {
      "image/png": "[encoded data removed]",
      "text/plain": [
       "<Figure size 432x288 with 1 Axes>"
      ]
     },
     "metadata": {
      "needs_background": "light"
     },
     "output_type": "display_data"
    }
   ],
   "source": [
    "# Построим гистограмму для среднего кол-ва интернет-трафика в месяц.\n",
    "df_usr_paid_cmi[df_usr_paid_cmi['tariff']=='ultra']['mean_month_int_traffic'].plot.hist(grid=True, rwidth=0.9, color='#0504aa')\n",
    "df_usr_paid_cmi[df_usr_paid_cmi['tariff']=='smart']['mean_month_int_traffic'].plot.hist(grid=True, rwidth=0.9, color='red',alpha=0.5)\n",
    "plt.title('Histogram')\n",
    "plt.xlabel('mean_month_int_traffic')\n",
    "plt.ylabel('Frequency')\n",
    "plt.legend(labels=('ultra','smart'))\n",
    "plt.axvline(x=15, color='r', linestyle='dashed', linewidth=1)\n",
    "plt.text(15*1.1, 80*0.9, 'mb_per_month_included_Gb_smart=15')\n",
    "plt.axvline(x=30, color='b', linestyle='dashed', linewidth=1)\n",
    "plt.text(30*1.05, 70*0.9, 'mb_per_month_included_Gb_ultra=30')\n",
    "plt.grid()\n",
    "plt.show()"
   ]
  },
  {
   "cell_type": "code",
   "execution_count": 163,
   "metadata": {},
   "outputs": [
    {
     "name": "stdout",
     "output_type": "stream",
     "text": [
      "Среднее кол-во сообщений в месяц клиента тарифа ultra: 20 \n",
      "Среднее кол-во сообщений в месяц клиента тарифа smart: 17 \n",
      "Медианное значение кол-ва сообщений в месяц клиента тарифа ultra: 20 \n",
      "Медианное значение кол-ва сообщений в месяц клиента тарифа smart: 17 \n",
      "Дисперсия распределения кол-ва сообщений в месяц клиента тарифа ultra: 70 \n",
      "Дисперсия распределения кол-ва сообщений в месяц клиента тарифа smart: 18 \n",
      "Стандартное отклонение кол-ва сообщений в месяц клиента тарифа ultra: 8 \n",
      "Стандартное отклонение кол-ва сообщений в месяц клиента тарифа smart: 4 \n"
     ]
    }
   ],
   "source": [
    "mean_ultra_i = df_usr_paid_cmi[df_usr_paid_cmi['tariff']=='ultra']['mean_month_int_traffic'].mean()\n",
    "mean_smart_i = df_usr_paid_cmi[df_usr_paid_cmi['tariff']=='smart']['mean_month_int_traffic'].mean()\n",
    "median_ultra_i = df_usr_paid_cmi[df_usr_paid_cmi['tariff']=='ultra']['mean_month_int_traffic'].median()\n",
    "median_smart_i = df_usr_paid_cmi[df_usr_paid_cmi['tariff']=='smart']['mean_month_int_traffic'].median()\n",
    "var_ultra_i = np.var(df_usr_paid_cmi[df_usr_paid_cmi['tariff']=='ultra']['mean_month_int_traffic'], ddof=1)\n",
    "var_smart_i = np.var(df_usr_paid_cmi[df_usr_paid_cmi['tariff']=='smart']['mean_month_int_traffic'], ddof=1)\n",
    "\n",
    "std_ultra_i = np.sqrt(var_ultra_i)\n",
    "std_smart_i = np.sqrt(var_smart_i)\n",
    "\n",
    "print(f'Среднее кол-во сообщений в месяц клиента тарифа ultra: {mean_ultra_i:.0f} ')\n",
    "print(f'Среднее кол-во сообщений в месяц клиента тарифа smart: {mean_smart_i:.0f} ')\n",
    "print(f'Медианное значение кол-ва сообщений в месяц клиента тарифа ultra: {median_ultra_i:.0f} ')\n",
    "print(f'Медианное значение кол-ва сообщений в месяц клиента тарифа smart: {median_smart_i:.0f} ')\n",
    "print(f'Дисперсия распределения кол-ва сообщений в месяц клиента тарифа ultra: {var_ultra_i:.0f} ')\n",
    "print(f'Дисперсия распределения кол-ва сообщений в месяц клиента тарифа smart: {var_smart_i:.0f} ')\n",
    "print(f'Стандартное отклонение кол-ва сообщений в месяц клиента тарифа ultra: {std_ultra_i:.0f} ')\n",
    "print(f'Стандартное отклонение кол-ва сообщений в месяц клиента тарифа smart: {std_smart_i:.0f} ')"
   ]
  },
  {
   "cell_type": "markdown",
   "metadata": {},
   "source": [
    "Распределение значений симметричное.\n",
    "\n",
    "Клиенты тарифа smart в среднем тратят на 3Гб в месяц больше, чем пороговое значение - 15Гб.\n",
    "Клиенты тарифа ultra в среднем тратят на 10Гб меньше, чем пороговое значение тарифа - 30Гб."
   ]
  },
  {
   "cell_type": "markdown",
   "metadata": {},
   "source": [
    "Построим график квантилей, чтобы проверить, что данные в таблице подчиняются нормальному закону"
   ]
  },
  {
   "cell_type": "code",
   "execution_count": 164,
   "metadata": {},
   "outputs": [
    {
     "data": {
      "image/png": "[encoded data removed]",
      "text/plain": [
       "<Figure size 432x288 with 1 Axes>"
      ]
     },
     "metadata": {
      "needs_background": "light"
     },
     "output_type": "display_data"
    }
   ],
   "source": [
    "#График квантилей для кол-ва интернет-трафика в  месяц клиентов тарифа ultra\n",
    "measurements_u = df_usr_paid_cmi[df_usr_paid_cmi['tariff']=='ultra']['mean_month_int_traffic']\n",
    "st.probplot(measurements_u, dist=\"norm\", plot=plt)\n",
    "plt.grid()\n",
    "plt.show()"
   ]
  },
  {
   "cell_type": "code",
   "execution_count": 165,
   "metadata": {},
   "outputs": [
    {
     "data": {
      "image/png": "[encoded data removed]",
      "text/plain": [
       "<Figure size 432x288 with 1 Axes>"
      ]
     },
     "metadata": {
      "needs_background": "light"
     },
     "output_type": "display_data"
    }
   ],
   "source": [
    "#График квантилей для кол-ва интернет-трафика в  месяц клиентов тарифа smart\n",
    "measurements_s = df_usr_paid_cmi[df_usr_paid_cmi['tariff']=='smart']['mean_month_int_traffic']\n",
    "st.probplot(measurements_s, dist=\"norm\", plot=plt)\n",
    "plt.grid()\n",
    "plt.show()"
   ]
  },
  {
   "cell_type": "markdown",
   "metadata": {},
   "source": [
    "Вывод: значения не сильно отклоняются от теоретической линии, следовательно, данные распределены по нормальному закону"
   ]
  },
  {
   "cell_type": "markdown",
   "metadata": {},
   "source": [
    "## Проверка гипотиз"
   ]
  },
  {
   "cell_type": "markdown",
   "metadata": {},
   "source": [
    "### Гипотиза 1: средняя выручка пользователей тарифов «Ультра» и «Смарт» различаются"
   ]
  },
  {
   "cell_type": "markdown",
   "metadata": {},
   "source": [
    "Мы имеем две независимые выборки. Необходимо оценить отличается ли средняя выручка между двумя выборками.\n",
    "Примем, что средняя выручка не отличается - нулевая гипотиза. Альтернативная гипотиза - средняя выручка отличается. Если мы сможем опровергнуть нулевую гипотизу, то выручка отличается.\n",
    "Посчитаем T-критерий для средних значений двух независимых выборок."
   ]
  },
  {
   "cell_type": "code",
   "execution_count": 166,
   "metadata": {},
   "outputs": [
    {
     "name": "stdout",
     "output_type": "stream",
     "text": [
      "p-значение: 5.124182279241818e-30\n",
      "Отвергаем нулевую гипотезу\n"
     ]
    }
   ],
   "source": [
    "alpha = 0.05\n",
    "fee_ultra = df_usr_paid_cmi[df_usr_paid_cmi['tariff']=='ultra']['mean_month_tariff_pay']\n",
    "fee_smart = df_usr_paid_cmi[df_usr_paid_cmi['tariff']=='smart']['mean_month_tariff_pay']\n",
    "results = st.ttest_ind(\n",
    "    fee_ultra, \n",
    "    fee_smart)\n",
    "\n",
    "print('p-значение:', results.pvalue)\n",
    "\n",
    "if results.pvalue < alpha:\n",
    "    print(\"Отвергаем нулевую гипотезу\")\n",
    "else:\n",
    "    print(\"Не получилось отвергнуть нулевую гипотезу\")"
   ]
  },
  {
   "cell_type": "markdown",
   "metadata": {},
   "source": [
    "Вывод: нулевая гипотиза (средняя выручка не отличается) не подтвердилась. Следовательно - средняя выручка у двух тарифов разная."
   ]
  },
  {
   "cell_type": "markdown",
   "metadata": {},
   "source": [
    "### Гипотиза 2: средняя выручка пользователей из Москвы отличается от выручки пользователей из других регионов"
   ]
  },
  {
   "cell_type": "markdown",
   "metadata": {},
   "source": [
    "Сделаем оценку для каждого тарифа. Будем считать, что выборки независимые.\n",
    "Нулевая гипотиза - выручка пользователей из Москвы не отличается от выручки из других регионов. Альтернативная гипотиза - выручка пользователей из Москвы отличается от выручки из других регионов. Если мы сможем опровергнуть нулевую гипотизу, то выручка отличается."
   ]
  },
  {
   "cell_type": "markdown",
   "metadata": {},
   "source": [
    "Разделим данные для пользователей из Москвы и из других регионов для каждого тарифа."
   ]
  },
  {
   "cell_type": "code",
   "execution_count": 167,
   "metadata": {},
   "outputs": [],
   "source": [
    "# Данные пользователей из Москвы для тарифа ultra\n",
    "fee_ultra_msk = df_usr_paid_cmi[(df_usr_paid_cmi['tariff']=='ultra')&(\n",
    "df_usr_paid_cmi['city']=='Москва')]['mean_month_tariff_pay']"
   ]
  },
  {
   "cell_type": "code",
   "execution_count": 168,
   "metadata": {},
   "outputs": [],
   "source": [
    "# Данные пользователей не из Москвы для тарифа ultra\n",
    "fee_ultra_Nmsk = df_usr_paid_cmi[(df_usr_paid_cmi['tariff']=='ultra')&(\n",
    "df_usr_paid_cmi['city']!='Москва')]['mean_month_tariff_pay']"
   ]
  },
  {
   "cell_type": "code",
   "execution_count": 169,
   "metadata": {},
   "outputs": [],
   "source": [
    "# Данные пользователей из Москвы для тарифа smart\n",
    "fee_smart_msk = df_usr_paid_cmi[(df_usr_paid_cmi['tariff']=='smart')&(\n",
    "df_usr_paid_cmi['city']=='Москва')]['mean_month_tariff_pay']\n",
    "# Данные пользователей не из Москвы для тарифа smart\n",
    "fee_smart_Nmsk = df_usr_paid_cmi[(df_usr_paid_cmi['tariff']=='smart')&(\n",
    "df_usr_paid_cmi['city']!='Москва')]['mean_month_tariff_pay']"
   ]
  },
  {
   "cell_type": "code",
   "execution_count": 170,
   "metadata": {},
   "outputs": [
    {
     "name": "stdout",
     "output_type": "stream",
     "text": [
      "p-значение: 0.9637479280552168\n",
      "Не получилось отвергнуть нулевую гипотезу\n"
     ]
    }
   ],
   "source": [
    "alpha = 0.05\n",
    "\n",
    "results = st.ttest_ind(\n",
    "    fee_ultra_msk, \n",
    "    fee_ultra_Nmsk)\n",
    "\n",
    "print('p-значение:', results.pvalue)\n",
    "\n",
    "if results.pvalue < alpha:\n",
    "    print(\"Отвергаем нулевую гипотезу\")\n",
    "else:\n",
    "    print(\"Не получилось отвергнуть нулевую гипотезу\")"
   ]
  },
  {
   "cell_type": "code",
   "execution_count": 171,
   "metadata": {},
   "outputs": [
    {
     "name": "stdout",
     "output_type": "stream",
     "text": [
      "p-значение: 0.2832739497053645\n",
      "Не получилось отвергнуть нулевую гипотезу\n"
     ]
    }
   ],
   "source": [
    "alpha = 0.05\n",
    "\n",
    "results = st.ttest_ind(\n",
    "    fee_smart_msk, \n",
    "    fee_smart_Nmsk)\n",
    "\n",
    "print('p-значение:', results.pvalue)\n",
    "\n",
    "if results.pvalue < alpha:\n",
    "    print(\"Отвергаем нулевую гипотезу\")\n",
    "else:\n",
    "    print(\"Не получилось отвергнуть нулевую гипотезу\")"
   ]
  },
  {
   "cell_type": "markdown",
   "metadata": {},
   "source": [
    "Вывод: средняя выручка для пользователей из Москвы и из регионов - не отличается для двух тарифов."
   ]
  },
  {
   "cell_type": "markdown",
   "metadata": {},
   "source": [
    "### Вывод: \n",
    "Средняя выручка двух тарифов отличается. Тариф Smart более выгоден для сотового оператора.\n",
    "\n",
    "Средняя выручка в Москве и других регионах не отличается, следовательно, рекламную акцию необходимо проводить не только в Москве, но и в других городах России."
   ]
  }
 ],
 "metadata": {
  "ExecuteTimeLog": [
   {
    "duration": 1305,
    "start_time": "2022-04-20T14:51:58.514Z"
   },
   {
    "duration": 400,
    "start_time": "2022-04-20T14:54:40.939Z"
   },
   {
    "duration": 15,
    "start_time": "2022-04-20T14:55:59.209Z"
   },
   {
    "duration": 12,
    "start_time": "2022-04-20T14:56:21.604Z"
   },
   {
    "duration": 9,
    "start_time": "2022-04-20T14:56:47.476Z"
   },
   {
    "duration": 27,
    "start_time": "2022-04-20T14:57:08.742Z"
   },
   {
    "duration": 2,
    "start_time": "2022-04-20T14:57:17.121Z"
   },
   {
    "duration": 7,
    "start_time": "2022-04-20T14:57:29.742Z"
   },
   {
    "duration": 111,
    "start_time": "2022-04-20T14:57:39.325Z"
   },
   {
    "duration": 21,
    "start_time": "2022-04-20T14:57:51.317Z"
   },
   {
    "duration": 9,
    "start_time": "2022-04-20T14:58:11.749Z"
   },
   {
    "duration": 23,
    "start_time": "2022-04-20T14:58:31.022Z"
   },
   {
    "duration": 8,
    "start_time": "2022-04-20T14:58:49.964Z"
   },
   {
    "duration": 10,
    "start_time": "2022-04-20T14:59:29.182Z"
   },
   {
    "duration": 10,
    "start_time": "2022-04-20T15:00:41.594Z"
   },
   {
    "duration": 8,
    "start_time": "2022-04-20T15:00:53.906Z"
   },
   {
    "duration": 7,
    "start_time": "2022-04-20T15:01:31.205Z"
   },
   {
    "duration": 7,
    "start_time": "2022-04-20T15:01:41.621Z"
   },
   {
    "duration": 10,
    "start_time": "2022-04-20T15:01:47.737Z"
   },
   {
    "duration": 5,
    "start_time": "2022-04-20T15:01:57.748Z"
   },
   {
    "duration": 5,
    "start_time": "2022-04-20T15:02:17.632Z"
   },
   {
    "duration": 9,
    "start_time": "2022-04-20T15:02:24.661Z"
   },
   {
    "duration": 8,
    "start_time": "2022-04-20T15:02:43.696Z"
   },
   {
    "duration": 193,
    "start_time": "2022-04-20T15:03:02.541Z"
   },
   {
    "duration": 9,
    "start_time": "2022-04-20T15:03:20.703Z"
   },
   {
    "duration": 9,
    "start_time": "2022-04-20T15:03:27.877Z"
   },
   {
    "duration": 13,
    "start_time": "2022-04-20T15:03:45.112Z"
   },
   {
    "duration": 5,
    "start_time": "2022-04-20T15:04:34.361Z"
   },
   {
    "duration": 5,
    "start_time": "2022-04-20T15:04:40.831Z"
   },
   {
    "duration": 21,
    "start_time": "2022-04-20T15:04:52.392Z"
   },
   {
    "duration": 6,
    "start_time": "2022-04-20T15:05:24.340Z"
   },
   {
    "duration": 10,
    "start_time": "2022-04-20T15:05:31.156Z"
   },
   {
    "duration": 14,
    "start_time": "2022-04-20T15:05:40.885Z"
   },
   {
    "duration": 16,
    "start_time": "2022-04-20T15:05:50.564Z"
   },
   {
    "duration": 14,
    "start_time": "2022-04-20T15:05:57.825Z"
   },
   {
    "duration": 10,
    "start_time": "2022-04-20T15:06:03.854Z"
   },
   {
    "duration": 7,
    "start_time": "2022-04-20T15:06:13.258Z"
   },
   {
    "duration": 4,
    "start_time": "2022-04-20T15:06:20.805Z"
   },
   {
    "duration": 10,
    "start_time": "2022-04-20T15:06:27.006Z"
   },
   {
    "duration": 4,
    "start_time": "2022-04-20T15:06:35.148Z"
   },
   {
    "duration": 10,
    "start_time": "2022-04-20T15:06:41.912Z"
   },
   {
    "duration": 4,
    "start_time": "2022-04-20T15:06:49.088Z"
   },
   {
    "duration": 16,
    "start_time": "2022-04-20T15:06:56.190Z"
   },
   {
    "duration": 6,
    "start_time": "2022-04-20T15:07:06.587Z"
   },
   {
    "duration": 6,
    "start_time": "2022-04-20T15:07:15.036Z"
   },
   {
    "duration": 9,
    "start_time": "2022-04-20T15:07:49.259Z"
   },
   {
    "duration": 9,
    "start_time": "2022-04-20T15:08:13.262Z"
   },
   {
    "duration": 111,
    "start_time": "2022-04-20T15:08:22.311Z"
   },
   {
    "duration": 38,
    "start_time": "2022-04-20T15:08:30.224Z"
   },
   {
    "duration": 9,
    "start_time": "2022-04-20T15:08:36.225Z"
   },
   {
    "duration": 473,
    "start_time": "2022-04-20T15:08:53.704Z"
   },
   {
    "duration": 9,
    "start_time": "2022-04-20T15:09:00.157Z"
   },
   {
    "duration": 24,
    "start_time": "2022-04-20T15:09:07.047Z"
   },
   {
    "duration": 4,
    "start_time": "2022-04-20T15:09:15.558Z"
   },
   {
    "duration": 9,
    "start_time": "2022-04-20T15:09:21.220Z"
   },
   {
    "duration": 2515,
    "start_time": "2022-04-20T15:09:29.829Z"
   },
   {
    "duration": 9,
    "start_time": "2022-04-20T15:09:38.095Z"
   },
   {
    "duration": 38,
    "start_time": "2022-04-20T15:09:45.871Z"
   },
   {
    "duration": 18,
    "start_time": "2022-04-20T15:09:53.250Z"
   },
   {
    "duration": 7,
    "start_time": "2022-04-20T15:10:01.828Z"
   },
   {
    "duration": 19,
    "start_time": "2022-04-20T15:10:08.008Z"
   },
   {
    "duration": 693,
    "start_time": "2022-04-20T15:10:17.761Z"
   },
   {
    "duration": 17,
    "start_time": "2022-04-20T15:10:27.711Z"
   },
   {
    "duration": 12,
    "start_time": "2022-04-20T15:10:36.797Z"
   },
   {
    "duration": 137,
    "start_time": "2022-04-20T15:10:45.542Z"
   },
   {
    "duration": 2288,
    "start_time": "2022-04-20T15:10:59.110Z"
   },
   {
    "duration": 1786,
    "start_time": "2022-04-20T15:11:47.344Z"
   },
   {
    "duration": 14,
    "start_time": "2022-04-20T15:12:13.373Z"
   },
   {
    "duration": 10,
    "start_time": "2022-04-20T15:12:18.043Z"
   },
   {
    "duration": 1752,
    "start_time": "2022-04-20T15:12:41.618Z"
   },
   {
    "duration": 1808,
    "start_time": "2022-04-20T15:12:47.021Z"
   },
   {
    "duration": 17,
    "start_time": "2022-04-20T15:12:59.454Z"
   },
   {
    "duration": 10,
    "start_time": "2022-04-20T15:13:05.031Z"
   },
   {
    "duration": 11,
    "start_time": "2022-04-20T15:13:15.428Z"
   },
   {
    "duration": 12,
    "start_time": "2022-04-20T15:13:22.840Z"
   },
   {
    "duration": 10,
    "start_time": "2022-04-20T15:13:32.657Z"
   },
   {
    "duration": 24,
    "start_time": "2022-04-20T15:14:04.824Z"
   },
   {
    "duration": 23,
    "start_time": "2022-04-20T15:14:08.607Z"
   },
   {
    "duration": 14,
    "start_time": "2022-04-20T15:14:11.787Z"
   },
   {
    "duration": 14,
    "start_time": "2022-04-20T15:14:14.680Z"
   },
   {
    "duration": 47,
    "start_time": "2022-04-20T15:15:17.922Z"
   },
   {
    "duration": 673,
    "start_time": "2022-04-20T15:15:27.933Z"
   },
   {
    "duration": 17,
    "start_time": "2022-04-20T15:15:36.206Z"
   },
   {
    "duration": 6,
    "start_time": "2022-04-20T15:15:46.313Z"
   },
   {
    "duration": 157,
    "start_time": "2022-04-20T15:15:58.767Z"
   },
   {
    "duration": 11,
    "start_time": "2022-04-20T15:16:37.670Z"
   },
   {
    "duration": 52,
    "start_time": "2022-04-20T15:16:45.663Z"
   },
   {
    "duration": 381,
    "start_time": "2022-04-20T15:16:52.704Z"
   },
   {
    "duration": 2116,
    "start_time": "2022-04-20T15:17:00.445Z"
   },
   {
    "duration": 8,
    "start_time": "2022-04-20T15:17:08.838Z"
   },
   {
    "duration": 43,
    "start_time": "2022-04-20T15:17:19.276Z"
   },
   {
    "duration": 7,
    "start_time": "2022-04-20T15:17:28.152Z"
   },
   {
    "duration": 16,
    "start_time": "2022-04-20T15:17:34.283Z"
   },
   {
    "duration": 579,
    "start_time": "2022-04-20T15:17:42.994Z"
   },
   {
    "duration": 17,
    "start_time": "2022-04-20T15:17:49.163Z"
   },
   {
    "duration": 171,
    "start_time": "2022-04-20T15:18:02.885Z"
   },
   {
    "duration": 10,
    "start_time": "2022-04-20T15:18:30.626Z"
   },
   {
    "duration": 416,
    "start_time": "2022-04-20T15:18:38.455Z"
   },
   {
    "duration": 2264,
    "start_time": "2022-04-20T15:18:46.236Z"
   },
   {
    "duration": 9,
    "start_time": "2022-04-20T15:18:53.784Z"
   },
   {
    "duration": 34,
    "start_time": "2022-04-20T15:19:02.216Z"
   },
   {
    "duration": 7,
    "start_time": "2022-04-20T15:19:10.649Z"
   },
   {
    "duration": 15,
    "start_time": "2022-04-20T15:19:16.543Z"
   },
   {
    "duration": 3,
    "start_time": "2022-04-20T15:19:26.873Z"
   },
   {
    "duration": 7,
    "start_time": "2022-04-20T15:19:35.422Z"
   },
   {
    "duration": 14,
    "start_time": "2022-04-20T15:19:42.068Z"
   },
   {
    "duration": 7,
    "start_time": "2022-04-20T15:19:49.857Z"
   },
   {
    "duration": 8,
    "start_time": "2022-04-20T15:20:02.393Z"
   },
   {
    "duration": 16,
    "start_time": "2022-04-20T15:20:08.778Z"
   },
   {
    "duration": 684,
    "start_time": "2022-04-20T15:20:17.990Z"
   },
   {
    "duration": 16,
    "start_time": "2022-04-20T15:20:24.483Z"
   },
   {
    "duration": 172,
    "start_time": "2022-04-20T15:20:38.333Z"
   },
   {
    "duration": 8,
    "start_time": "2022-04-20T15:21:15.189Z"
   },
   {
    "duration": 4,
    "start_time": "2022-04-20T15:21:23.703Z"
   },
   {
    "duration": 10,
    "start_time": "2022-04-20T15:21:31.021Z"
   },
   {
    "duration": 3,
    "start_time": "2022-04-20T15:21:38.970Z"
   },
   {
    "duration": 17,
    "start_time": "2022-04-20T15:21:45.190Z"
   },
   {
    "duration": 6,
    "start_time": "2022-04-20T15:21:54.870Z"
   },
   {
    "duration": 1180,
    "start_time": "2022-04-20T15:22:02.374Z"
   },
   {
    "duration": 17,
    "start_time": "2022-04-20T15:22:10.478Z"
   },
   {
    "duration": 4,
    "start_time": "2022-04-20T15:22:18.893Z"
   },
   {
    "duration": 15,
    "start_time": "2022-04-20T15:22:24.817Z"
   },
   {
    "duration": 3,
    "start_time": "2022-04-20T15:22:32.086Z"
   },
   {
    "duration": 16,
    "start_time": "2022-04-20T15:22:38.484Z"
   },
   {
    "duration": 986,
    "start_time": "2022-04-20T15:22:46.839Z"
   },
   {
    "duration": 19,
    "start_time": "2022-04-20T15:22:52.819Z"
   },
   {
    "duration": 5,
    "start_time": "2022-04-20T15:23:16.454Z"
   },
   {
    "duration": 24,
    "start_time": "2022-04-20T15:23:22.538Z"
   },
   {
    "duration": 3,
    "start_time": "2022-04-20T15:23:30.541Z"
   },
   {
    "duration": 16,
    "start_time": "2022-04-20T15:23:36.917Z"
   },
   {
    "duration": 4,
    "start_time": "2022-04-20T15:23:44.513Z"
   },
   {
    "duration": 16,
    "start_time": "2022-04-20T15:23:50.406Z"
   },
   {
    "duration": 1119,
    "start_time": "2022-04-20T15:23:57.799Z"
   },
   {
    "duration": 15,
    "start_time": "2022-04-20T15:24:05.690Z"
   },
   {
    "duration": 3,
    "start_time": "2022-04-20T15:24:23.738Z"
   },
   {
    "duration": 35,
    "start_time": "2022-04-20T15:24:30.941Z"
   },
   {
    "duration": 4,
    "start_time": "2022-04-20T15:24:42.476Z"
   },
   {
    "duration": 11,
    "start_time": "2022-04-20T15:24:50.451Z"
   },
   {
    "duration": 12,
    "start_time": "2022-04-20T15:25:34.407Z"
   },
   {
    "duration": 4,
    "start_time": "2022-04-20T15:25:41.977Z"
   },
   {
    "duration": 10,
    "start_time": "2022-04-20T15:25:50.457Z"
   },
   {
    "duration": 10,
    "start_time": "2022-04-20T15:25:58.002Z"
   },
   {
    "duration": 12,
    "start_time": "2022-04-20T15:26:07.955Z"
   },
   {
    "duration": 5374,
    "start_time": "2022-04-20T15:26:23.943Z"
   },
   {
    "duration": 24,
    "start_time": "2022-04-20T15:26:38.178Z"
   },
   {
    "duration": 182,
    "start_time": "2022-04-20T15:26:53.711Z"
   },
   {
    "duration": 21,
    "start_time": "2022-04-20T15:27:01.674Z"
   },
   {
    "duration": 16,
    "start_time": "2022-04-20T15:27:21.712Z"
   },
   {
    "duration": 4,
    "start_time": "2022-04-20T15:27:30.030Z"
   },
   {
    "duration": 8,
    "start_time": "2022-04-20T15:27:37.398Z"
   },
   {
    "duration": 4,
    "start_time": "2022-04-20T15:27:45.569Z"
   },
   {
    "duration": 8,
    "start_time": "2022-04-20T15:27:53.962Z"
   },
   {
    "duration": 20,
    "start_time": "2022-04-20T15:28:03.031Z"
   },
   {
    "duration": 17,
    "start_time": "2022-04-20T15:28:13.608Z"
   },
   {
    "duration": 5,
    "start_time": "2022-04-20T15:28:23.166Z"
   },
   {
    "duration": 8,
    "start_time": "2022-04-20T15:28:30.116Z"
   },
   {
    "duration": 8,
    "start_time": "2022-04-20T15:28:42.941Z"
   },
   {
    "duration": 20,
    "start_time": "2022-04-20T15:28:51.142Z"
   },
   {
    "duration": 18,
    "start_time": "2022-04-20T15:28:59.214Z"
   },
   {
    "duration": 5,
    "start_time": "2022-04-20T15:29:07.184Z"
   },
   {
    "duration": 7,
    "start_time": "2022-04-20T15:29:15.742Z"
   },
   {
    "duration": 8,
    "start_time": "2022-04-20T15:29:32.267Z"
   },
   {
    "duration": 22,
    "start_time": "2022-04-20T15:29:41.146Z"
   },
   {
    "duration": 167,
    "start_time": "2022-04-20T15:30:02.782Z"
   },
   {
    "duration": 169,
    "start_time": "2022-04-20T15:30:10.233Z"
   },
   {
    "duration": 10,
    "start_time": "2022-04-20T15:30:28.940Z"
   },
   {
    "duration": 9,
    "start_time": "2022-04-20T15:30:38.363Z"
   },
   {
    "duration": 440,
    "start_time": "2022-04-20T15:30:46.875Z"
   },
   {
    "duration": 327,
    "start_time": "2022-04-20T15:31:00.461Z"
   },
   {
    "duration": 324,
    "start_time": "2022-04-20T15:31:19.860Z"
   },
   {
    "duration": 310,
    "start_time": "2022-04-20T15:31:34.272Z"
   },
   {
    "duration": 10,
    "start_time": "2022-04-20T15:39:34.679Z"
   },
   {
    "duration": 10,
    "start_time": "2022-04-20T15:40:59.121Z"
   },
   {
    "duration": 9,
    "start_time": "2022-04-20T15:41:10.744Z"
   },
   {
    "duration": 6,
    "start_time": "2022-04-20T15:42:59.032Z"
   },
   {
    "duration": 9,
    "start_time": "2022-04-20T15:43:20.639Z"
   },
   {
    "duration": 7,
    "start_time": "2022-04-20T15:45:05.818Z"
   },
   {
    "duration": 12,
    "start_time": "2022-04-20T15:49:48.611Z"
   },
   {
    "duration": 5,
    "start_time": "2022-04-20T15:50:02.257Z"
   },
   {
    "duration": 12,
    "start_time": "2022-04-20T15:50:08.341Z"
   },
   {
    "duration": 11,
    "start_time": "2022-04-20T15:50:16.425Z"
   },
   {
    "duration": 18,
    "start_time": "2022-04-20T15:50:25.091Z"
   },
   {
    "duration": 18,
    "start_time": "2022-04-20T15:50:28.657Z"
   },
   {
    "duration": 11,
    "start_time": "2022-04-20T15:50:39.012Z"
   },
   {
    "duration": 12,
    "start_time": "2022-04-20T15:50:45.353Z"
   },
   {
    "duration": 11,
    "start_time": "2022-04-20T15:50:53.349Z"
   },
   {
    "duration": 15,
    "start_time": "2022-04-20T15:51:10.816Z"
   },
   {
    "duration": 12,
    "start_time": "2022-04-20T15:52:24.165Z"
   },
   {
    "duration": 12,
    "start_time": "2022-04-20T15:53:14.341Z"
   },
   {
    "duration": 14,
    "start_time": "2022-04-20T15:53:26.342Z"
   },
   {
    "duration": 12,
    "start_time": "2022-04-20T15:55:45.890Z"
   },
   {
    "duration": 12,
    "start_time": "2022-04-20T17:09:59.085Z"
   },
   {
    "duration": 13,
    "start_time": "2022-04-20T17:10:25.864Z"
   },
   {
    "duration": 13,
    "start_time": "2022-04-20T17:12:06.163Z"
   },
   {
    "duration": 11,
    "start_time": "2022-04-20T17:13:57.358Z"
   },
   {
    "duration": 15,
    "start_time": "2022-04-20T17:20:21.930Z"
   },
   {
    "duration": 13,
    "start_time": "2022-04-20T17:37:06.103Z"
   },
   {
    "duration": 13,
    "start_time": "2022-04-20T17:49:18.653Z"
   },
   {
    "duration": 15,
    "start_time": "2022-04-20T17:49:56.804Z"
   },
   {
    "duration": 13,
    "start_time": "2022-04-20T17:51:12.542Z"
   },
   {
    "duration": 14,
    "start_time": "2022-04-20T17:51:45.757Z"
   },
   {
    "duration": 14,
    "start_time": "2022-04-20T17:52:45.635Z"
   },
   {
    "duration": 13,
    "start_time": "2022-04-20T17:53:32.476Z"
   },
   {
    "duration": 14,
    "start_time": "2022-04-20T17:59:31.198Z"
   },
   {
    "duration": 9,
    "start_time": "2022-04-20T18:00:36.764Z"
   },
   {
    "duration": 10,
    "start_time": "2022-04-20T18:01:00.080Z"
   },
   {
    "duration": 14,
    "start_time": "2022-04-20T18:01:10.926Z"
   },
   {
    "duration": 15,
    "start_time": "2022-04-20T18:01:19.987Z"
   },
   {
    "duration": 14,
    "start_time": "2022-04-20T18:01:27.390Z"
   },
   {
    "duration": 7,
    "start_time": "2022-04-20T18:11:52.362Z"
   },
   {
    "duration": 8,
    "start_time": "2022-04-20T18:12:02.814Z"
   },
   {
    "duration": 1423,
    "start_time": "2022-04-21T15:32:32.694Z"
   },
   {
    "duration": 471,
    "start_time": "2022-04-21T15:32:35.504Z"
   },
   {
    "duration": 14,
    "start_time": "2022-04-21T15:32:37.713Z"
   },
   {
    "duration": 14,
    "start_time": "2022-04-21T15:32:38.608Z"
   },
   {
    "duration": 9,
    "start_time": "2022-04-21T15:32:39.386Z"
   },
   {
    "duration": 27,
    "start_time": "2022-04-21T15:32:40.086Z"
   },
   {
    "duration": 8,
    "start_time": "2022-04-21T15:32:40.613Z"
   },
   {
    "duration": 20,
    "start_time": "2022-04-21T15:32:41.101Z"
   },
   {
    "duration": 9,
    "start_time": "2022-04-21T15:32:41.603Z"
   },
   {
    "duration": 22,
    "start_time": "2022-04-21T15:32:42.113Z"
   },
   {
    "duration": 9,
    "start_time": "2022-04-21T15:32:42.637Z"
   },
   {
    "duration": 11,
    "start_time": "2022-04-21T15:32:43.112Z"
   },
   {
    "duration": 10,
    "start_time": "2022-04-21T15:32:44.576Z"
   },
   {
    "duration": 8,
    "start_time": "2022-04-21T15:32:45.245Z"
   },
   {
    "duration": 77,
    "start_time": "2022-04-21T15:32:45.930Z"
   },
   {
    "duration": 11,
    "start_time": "2022-04-21T15:32:46.254Z"
   },
   {
    "duration": 6,
    "start_time": "2022-04-21T15:32:46.562Z"
   },
   {
    "duration": 4,
    "start_time": "2022-04-21T15:32:47.156Z"
   },
   {
    "duration": 10,
    "start_time": "2022-04-21T15:32:47.433Z"
   },
   {
    "duration": 8,
    "start_time": "2022-04-21T15:32:47.981Z"
   },
   {
    "duration": 208,
    "start_time": "2022-04-21T15:32:49.025Z"
   },
   {
    "duration": 9,
    "start_time": "2022-04-21T15:32:50.611Z"
   },
   {
    "duration": 8,
    "start_time": "2022-04-21T15:32:51.132Z"
   },
   {
    "duration": 13,
    "start_time": "2022-04-21T15:32:51.944Z"
   },
   {
    "duration": 4,
    "start_time": "2022-04-21T15:32:53.156Z"
   },
   {
    "duration": 4,
    "start_time": "2022-04-21T15:32:53.554Z"
   },
   {
    "duration": 22,
    "start_time": "2022-04-21T15:32:54.076Z"
   },
   {
    "duration": 5,
    "start_time": "2022-04-21T15:32:55.250Z"
   },
   {
    "duration": 10,
    "start_time": "2022-04-21T15:32:55.637Z"
   },
   {
    "duration": 15,
    "start_time": "2022-04-21T15:32:56.029Z"
   },
   {
    "duration": 16,
    "start_time": "2022-04-21T15:32:56.428Z"
   },
   {
    "duration": 15,
    "start_time": "2022-04-21T15:32:56.815Z"
   },
   {
    "duration": 10,
    "start_time": "2022-04-21T15:32:57.190Z"
   },
   {
    "duration": 5,
    "start_time": "2022-04-21T15:32:57.514Z"
   },
   {
    "duration": 5,
    "start_time": "2022-04-21T15:32:57.881Z"
   },
   {
    "duration": 11,
    "start_time": "2022-04-21T15:32:58.241Z"
   },
   {
    "duration": 4,
    "start_time": "2022-04-21T15:32:58.598Z"
   },
   {
    "duration": 12,
    "start_time": "2022-04-21T15:32:58.957Z"
   },
   {
    "duration": 4,
    "start_time": "2022-04-21T15:32:59.295Z"
   },
   {
    "duration": 17,
    "start_time": "2022-04-21T15:32:59.655Z"
   },
   {
    "duration": 8,
    "start_time": "2022-04-21T15:33:00.128Z"
   },
   {
    "duration": 7,
    "start_time": "2022-04-21T15:33:00.457Z"
   },
   {
    "duration": 9,
    "start_time": "2022-04-21T15:33:01.565Z"
   },
   {
    "duration": 10,
    "start_time": "2022-04-21T15:33:02.188Z"
   },
   {
    "duration": 121,
    "start_time": "2022-04-21T15:33:02.510Z"
   },
   {
    "duration": 37,
    "start_time": "2022-04-21T15:33:02.839Z"
   },
   {
    "duration": 9,
    "start_time": "2022-04-21T15:33:03.175Z"
   },
   {
    "duration": 488,
    "start_time": "2022-04-21T15:33:03.815Z"
   },
   {
    "duration": 8,
    "start_time": "2022-04-21T15:33:04.306Z"
   },
   {
    "duration": 26,
    "start_time": "2022-04-21T15:33:04.542Z"
   },
   {
    "duration": 4,
    "start_time": "2022-04-21T15:33:04.962Z"
   },
   {
    "duration": 10,
    "start_time": "2022-04-21T15:33:05.284Z"
   },
   {
    "duration": 2754,
    "start_time": "2022-04-21T15:33:05.621Z"
   },
   {
    "duration": 9,
    "start_time": "2022-04-21T15:33:08.377Z"
   },
   {
    "duration": 55,
    "start_time": "2022-04-21T15:33:08.388Z"
   },
   {
    "duration": 18,
    "start_time": "2022-04-21T15:33:08.445Z"
   },
   {
    "duration": 9,
    "start_time": "2022-04-21T15:33:08.465Z"
   },
   {
    "duration": 20,
    "start_time": "2022-04-21T15:33:08.476Z"
   },
   {
    "duration": 724,
    "start_time": "2022-04-21T15:33:08.498Z"
   },
   {
    "duration": 20,
    "start_time": "2022-04-21T15:33:09.223Z"
   },
   {
    "duration": 14,
    "start_time": "2022-04-21T15:33:09.244Z"
   },
   {
    "duration": 160,
    "start_time": "2022-04-21T15:33:09.261Z"
   },
   {
    "duration": 15,
    "start_time": "2022-04-21T15:33:14.059Z"
   },
   {
    "duration": 45,
    "start_time": "2022-04-21T15:33:15.444Z"
   },
   {
    "duration": 680,
    "start_time": "2022-04-21T15:33:15.880Z"
   },
   {
    "duration": 16,
    "start_time": "2022-04-21T15:33:16.562Z"
   },
   {
    "duration": 6,
    "start_time": "2022-04-21T15:33:16.867Z"
   },
   {
    "duration": 156,
    "start_time": "2022-04-21T15:33:19.570Z"
   },
   {
    "duration": 7,
    "start_time": "2022-04-21T15:33:23.191Z"
   },
   {
    "duration": 47,
    "start_time": "2022-04-21T15:33:23.535Z"
   },
   {
    "duration": 358,
    "start_time": "2022-04-21T15:33:23.830Z"
   },
   {
    "duration": 2029,
    "start_time": "2022-04-21T15:33:24.190Z"
   },
   {
    "duration": 11,
    "start_time": "2022-04-21T15:33:26.221Z"
   },
   {
    "duration": 42,
    "start_time": "2022-04-21T15:33:26.234Z"
   },
   {
    "duration": 7,
    "start_time": "2022-04-21T15:33:26.279Z"
   },
   {
    "duration": 22,
    "start_time": "2022-04-21T15:33:26.288Z"
   },
   {
    "duration": 626,
    "start_time": "2022-04-21T15:33:26.313Z"
   },
   {
    "duration": 18,
    "start_time": "2022-04-21T15:33:27.630Z"
   },
   {
    "duration": 167,
    "start_time": "2022-04-21T15:33:28.064Z"
   },
   {
    "duration": 11,
    "start_time": "2022-04-21T15:33:29.407Z"
   },
   {
    "duration": 416,
    "start_time": "2022-04-21T15:33:29.821Z"
   },
   {
    "duration": 2515,
    "start_time": "2022-04-21T15:33:30.261Z"
   },
   {
    "duration": 9,
    "start_time": "2022-04-21T15:33:33.478Z"
   },
   {
    "duration": 34,
    "start_time": "2022-04-21T15:33:33.922Z"
   },
   {
    "duration": 10,
    "start_time": "2022-04-21T15:33:34.321Z"
   },
   {
    "duration": 15,
    "start_time": "2022-04-21T15:33:34.694Z"
   },
   {
    "duration": 3,
    "start_time": "2022-04-21T15:33:35.016Z"
   },
   {
    "duration": 7,
    "start_time": "2022-04-21T15:33:35.365Z"
   },
   {
    "duration": 14,
    "start_time": "2022-04-21T15:33:35.744Z"
   },
   {
    "duration": 7,
    "start_time": "2022-04-21T15:33:36.076Z"
   },
   {
    "duration": 9,
    "start_time": "2022-04-21T15:33:36.466Z"
   },
   {
    "duration": 16,
    "start_time": "2022-04-21T15:33:36.795Z"
   },
   {
    "duration": 724,
    "start_time": "2022-04-21T15:33:37.156Z"
   },
   {
    "duration": 16,
    "start_time": "2022-04-21T15:33:37.882Z"
   },
   {
    "duration": 181,
    "start_time": "2022-04-21T15:33:37.928Z"
   },
   {
    "duration": 8,
    "start_time": "2022-04-21T15:33:39.664Z"
   },
   {
    "duration": 4,
    "start_time": "2022-04-21T15:33:40.001Z"
   },
   {
    "duration": 9,
    "start_time": "2022-04-21T15:33:40.385Z"
   },
   {
    "duration": 3,
    "start_time": "2022-04-21T15:33:40.756Z"
   },
   {
    "duration": 18,
    "start_time": "2022-04-21T15:33:41.102Z"
   },
   {
    "duration": 5,
    "start_time": "2022-04-21T15:33:41.641Z"
   },
   {
    "duration": 1294,
    "start_time": "2022-04-21T15:33:43.021Z"
   },
   {
    "duration": 17,
    "start_time": "2022-04-21T15:33:45.545Z"
   },
   {
    "duration": 5,
    "start_time": "2022-04-21T15:33:45.860Z"
   },
   {
    "duration": 16,
    "start_time": "2022-04-21T15:33:46.153Z"
   },
   {
    "duration": 4,
    "start_time": "2022-04-21T15:33:46.431Z"
   },
   {
    "duration": 18,
    "start_time": "2022-04-21T15:33:46.845Z"
   },
   {
    "duration": 1072,
    "start_time": "2022-04-21T15:33:47.119Z"
   },
   {
    "duration": 17,
    "start_time": "2022-04-21T15:33:48.193Z"
   },
   {
    "duration": 6,
    "start_time": "2022-04-21T15:33:48.212Z"
   },
   {
    "duration": 17,
    "start_time": "2022-04-21T15:33:54.089Z"
   },
   {
    "duration": 3,
    "start_time": "2022-04-21T15:33:54.619Z"
   },
   {
    "duration": 17,
    "start_time": "2022-04-21T15:33:54.975Z"
   },
   {
    "duration": 4,
    "start_time": "2022-04-21T15:33:55.363Z"
   },
   {
    "duration": 17,
    "start_time": "2022-04-21T15:33:55.797Z"
   },
   {
    "duration": 1212,
    "start_time": "2022-04-21T15:33:59.094Z"
   },
   {
    "duration": 17,
    "start_time": "2022-04-21T15:34:01.001Z"
   },
   {
    "duration": 3,
    "start_time": "2022-04-21T15:34:01.823Z"
   },
   {
    "duration": 36,
    "start_time": "2022-04-21T15:34:02.173Z"
   },
   {
    "duration": 3,
    "start_time": "2022-04-21T15:34:02.528Z"
   },
   {
    "duration": 13,
    "start_time": "2022-04-21T15:34:02.909Z"
   },
   {
    "duration": 12,
    "start_time": "2022-04-21T15:34:03.379Z"
   },
   {
    "duration": 4,
    "start_time": "2022-04-21T15:34:03.934Z"
   },
   {
    "duration": 10,
    "start_time": "2022-04-21T15:34:04.322Z"
   },
   {
    "duration": 8,
    "start_time": "2022-04-21T15:34:04.776Z"
   },
   {
    "duration": 12,
    "start_time": "2022-04-21T15:34:05.498Z"
   },
   {
    "duration": 5937,
    "start_time": "2022-04-21T15:34:06.974Z"
   },
   {
    "duration": 25,
    "start_time": "2022-04-21T15:34:12.913Z"
   },
   {
    "duration": 190,
    "start_time": "2022-04-21T15:34:13.792Z"
   },
   {
    "duration": 23,
    "start_time": "2022-04-21T15:34:14.845Z"
   },
   {
    "duration": 17,
    "start_time": "2022-04-21T15:34:15.891Z"
   },
   {
    "duration": 4,
    "start_time": "2022-04-21T15:34:16.350Z"
   },
   {
    "duration": 8,
    "start_time": "2022-04-21T15:34:16.778Z"
   },
   {
    "duration": 3,
    "start_time": "2022-04-21T15:34:17.338Z"
   },
   {
    "duration": 9,
    "start_time": "2022-04-21T15:34:17.739Z"
   },
   {
    "duration": 20,
    "start_time": "2022-04-21T15:34:18.246Z"
   },
   {
    "duration": 17,
    "start_time": "2022-04-21T15:34:18.791Z"
   },
   {
    "duration": 4,
    "start_time": "2022-04-21T15:34:19.834Z"
   },
   {
    "duration": 7,
    "start_time": "2022-04-21T15:34:20.700Z"
   },
   {
    "duration": 9,
    "start_time": "2022-04-21T15:34:25.074Z"
   },
   {
    "duration": 22,
    "start_time": "2022-04-21T15:34:26.125Z"
   },
   {
    "duration": 19,
    "start_time": "2022-04-21T15:34:27.078Z"
   },
   {
    "duration": 4,
    "start_time": "2022-04-21T15:34:28.157Z"
   },
   {
    "duration": 9,
    "start_time": "2022-04-21T15:34:29.046Z"
   },
   {
    "duration": 7,
    "start_time": "2022-04-21T15:34:32.420Z"
   },
   {
    "duration": 23,
    "start_time": "2022-04-21T15:34:33.127Z"
   },
   {
    "duration": 175,
    "start_time": "2022-04-21T15:36:34.232Z"
   },
   {
    "duration": 181,
    "start_time": "2022-04-21T15:43:44.377Z"
   },
   {
    "duration": 9,
    "start_time": "2022-04-21T15:44:04.566Z"
   },
   {
    "duration": 8,
    "start_time": "2022-04-21T15:44:05.381Z"
   },
   {
    "duration": 460,
    "start_time": "2022-04-21T15:48:38.119Z"
   },
   {
    "duration": 16,
    "start_time": "2022-04-21T15:48:42.018Z"
   },
   {
    "duration": 105,
    "start_time": "2022-04-21T15:55:36.151Z"
   },
   {
    "duration": 117,
    "start_time": "2022-04-21T15:56:04.055Z"
   },
   {
    "duration": 115,
    "start_time": "2022-04-21T15:56:18.995Z"
   },
   {
    "duration": 139,
    "start_time": "2022-04-21T15:59:14.188Z"
   },
   {
    "duration": 122,
    "start_time": "2022-04-21T16:01:23.199Z"
   },
   {
    "duration": 153,
    "start_time": "2022-04-21T16:02:11.978Z"
   },
   {
    "duration": 151,
    "start_time": "2022-04-21T16:02:59.989Z"
   },
   {
    "duration": 332,
    "start_time": "2022-04-21T16:04:02.045Z"
   },
   {
    "duration": 14,
    "start_time": "2022-04-21T16:04:17.654Z"
   },
   {
    "duration": 146,
    "start_time": "2022-04-21T16:06:25.662Z"
   },
   {
    "duration": 144,
    "start_time": "2022-04-21T16:06:31.326Z"
   },
   {
    "duration": 374,
    "start_time": "2022-04-21T16:07:12.803Z"
   },
   {
    "duration": 102,
    "start_time": "2022-04-21T16:07:14.146Z"
   },
   {
    "duration": 124,
    "start_time": "2022-04-21T16:07:37.967Z"
   },
   {
    "duration": 143,
    "start_time": "2022-04-21T16:08:10.270Z"
   },
   {
    "duration": 347,
    "start_time": "2022-04-21T16:13:00.612Z"
   },
   {
    "duration": 15,
    "start_time": "2022-04-21T16:13:03.797Z"
   },
   {
    "duration": 124,
    "start_time": "2022-04-21T16:14:10.143Z"
   },
   {
    "duration": 145,
    "start_time": "2022-04-21T16:14:28.967Z"
   },
   {
    "duration": 177,
    "start_time": "2022-04-21T16:14:57.330Z"
   },
   {
    "duration": 187,
    "start_time": "2022-04-21T16:20:49.985Z"
   },
   {
    "duration": 7,
    "start_time": "2022-04-21T16:23:29.832Z"
   },
   {
    "duration": 8,
    "start_time": "2022-04-21T16:27:03.798Z"
   },
   {
    "duration": 21,
    "start_time": "2022-04-21T16:28:22.289Z"
   },
   {
    "duration": 5,
    "start_time": "2022-04-21T16:28:36.802Z"
   },
   {
    "duration": 6,
    "start_time": "2022-04-21T16:28:41.959Z"
   },
   {
    "duration": 5,
    "start_time": "2022-04-21T16:29:02.399Z"
   },
   {
    "duration": 5,
    "start_time": "2022-04-21T16:29:35.954Z"
   },
   {
    "duration": 180,
    "start_time": "2022-04-21T16:30:36.138Z"
   },
   {
    "duration": 6,
    "start_time": "2022-04-21T16:30:55.746Z"
   },
   {
    "duration": 5,
    "start_time": "2022-04-21T16:31:13.672Z"
   },
   {
    "duration": 175,
    "start_time": "2022-04-21T16:34:22.838Z"
   },
   {
    "duration": 1465,
    "start_time": "2022-04-29T09:57:42.408Z"
   },
   {
    "duration": 533,
    "start_time": "2022-04-29T09:57:43.875Z"
   },
   {
    "duration": 30,
    "start_time": "2022-04-29T09:57:44.410Z"
   },
   {
    "duration": 22,
    "start_time": "2022-04-29T09:57:44.442Z"
   },
   {
    "duration": 14,
    "start_time": "2022-04-29T09:57:44.467Z"
   },
   {
    "duration": 42,
    "start_time": "2022-04-29T09:57:44.483Z"
   },
   {
    "duration": 10,
    "start_time": "2022-04-29T09:57:44.527Z"
   },
   {
    "duration": 33,
    "start_time": "2022-04-29T09:57:44.539Z"
   },
   {
    "duration": 8,
    "start_time": "2022-04-29T09:57:44.574Z"
   },
   {
    "duration": 50,
    "start_time": "2022-04-29T09:57:44.585Z"
   },
   {
    "duration": 12,
    "start_time": "2022-04-29T09:57:44.639Z"
   },
   {
    "duration": 14,
    "start_time": "2022-04-29T09:57:44.652Z"
   },
   {
    "duration": 9,
    "start_time": "2022-04-29T09:57:44.669Z"
   },
   {
    "duration": 10,
    "start_time": "2022-04-29T09:57:44.680Z"
   },
   {
    "duration": 20,
    "start_time": "2022-04-29T09:57:44.692Z"
   },
   {
    "duration": 24,
    "start_time": "2022-04-29T09:57:44.714Z"
   },
   {
    "duration": 6,
    "start_time": "2022-04-29T09:57:44.747Z"
   },
   {
    "duration": 12,
    "start_time": "2022-04-29T09:57:44.755Z"
   },
   {
    "duration": 14,
    "start_time": "2022-04-29T09:57:44.769Z"
   },
   {
    "duration": 9,
    "start_time": "2022-04-29T09:57:44.784Z"
   },
   {
    "duration": 198,
    "start_time": "2022-04-29T09:57:44.795Z"
   },
   {
    "duration": 9,
    "start_time": "2022-04-29T09:57:44.994Z"
   },
   {
    "duration": 38,
    "start_time": "2022-04-29T09:57:45.005Z"
   },
   {
    "duration": 32,
    "start_time": "2022-04-29T09:57:45.046Z"
   },
   {
    "duration": 16,
    "start_time": "2022-04-29T09:57:45.080Z"
   },
   {
    "duration": 12,
    "start_time": "2022-04-29T09:57:45.098Z"
   },
   {
    "duration": 42,
    "start_time": "2022-04-29T09:57:45.112Z"
   },
   {
    "duration": 6,
    "start_time": "2022-04-29T09:57:45.159Z"
   },
   {
    "duration": 22,
    "start_time": "2022-04-29T09:57:45.167Z"
   },
   {
    "duration": 16,
    "start_time": "2022-04-29T09:57:45.191Z"
   },
   {
    "duration": 28,
    "start_time": "2022-04-29T09:57:45.209Z"
   },
   {
    "duration": 36,
    "start_time": "2022-04-29T09:57:45.240Z"
   },
   {
    "duration": 14,
    "start_time": "2022-04-29T09:57:45.279Z"
   },
   {
    "duration": 12,
    "start_time": "2022-04-29T09:57:45.295Z"
   },
   {
    "duration": 11,
    "start_time": "2022-04-29T09:57:45.309Z"
   },
   {
    "duration": 19,
    "start_time": "2022-04-29T09:57:45.322Z"
   },
   {
    "duration": 13,
    "start_time": "2022-04-29T09:57:45.343Z"
   },
   {
    "duration": 21,
    "start_time": "2022-04-29T09:57:45.358Z"
   },
   {
    "duration": 9,
    "start_time": "2022-04-29T09:57:45.381Z"
   },
   {
    "duration": 29,
    "start_time": "2022-04-29T09:57:45.391Z"
   },
   {
    "duration": 12,
    "start_time": "2022-04-29T09:57:45.422Z"
   },
   {
    "duration": 30,
    "start_time": "2022-04-29T09:57:45.438Z"
   },
   {
    "duration": 11,
    "start_time": "2022-04-29T09:57:45.470Z"
   },
   {
    "duration": 12,
    "start_time": "2022-04-29T09:57:45.483Z"
   },
   {
    "duration": 111,
    "start_time": "2022-04-29T09:57:45.497Z"
   },
   {
    "duration": 59,
    "start_time": "2022-04-29T09:57:45.610Z"
   },
   {
    "duration": 13,
    "start_time": "2022-04-29T09:57:45.671Z"
   },
   {
    "duration": 490,
    "start_time": "2022-04-29T09:57:45.685Z"
   },
   {
    "duration": 11,
    "start_time": "2022-04-29T09:57:46.178Z"
   },
   {
    "duration": 65,
    "start_time": "2022-04-29T09:57:46.191Z"
   },
   {
    "duration": 4,
    "start_time": "2022-04-29T09:57:46.261Z"
   },
   {
    "duration": 9,
    "start_time": "2022-04-29T09:57:46.271Z"
   },
   {
    "duration": 3115,
    "start_time": "2022-04-29T09:57:46.281Z"
   },
   {
    "duration": 8,
    "start_time": "2022-04-29T09:57:49.398Z"
   },
   {
    "duration": 59,
    "start_time": "2022-04-29T09:57:49.408Z"
   },
   {
    "duration": 16,
    "start_time": "2022-04-29T09:57:49.469Z"
   },
   {
    "duration": 7,
    "start_time": "2022-04-29T09:57:49.486Z"
   },
   {
    "duration": 42,
    "start_time": "2022-04-29T09:57:49.494Z"
   },
   {
    "duration": 695,
    "start_time": "2022-04-29T09:57:49.538Z"
   },
   {
    "duration": 18,
    "start_time": "2022-04-29T09:57:50.235Z"
   },
   {
    "duration": 13,
    "start_time": "2022-04-29T09:57:50.255Z"
   },
   {
    "duration": 164,
    "start_time": "2022-04-29T09:57:50.270Z"
   },
   {
    "duration": 22,
    "start_time": "2022-04-29T09:57:50.436Z"
   },
   {
    "duration": 75,
    "start_time": "2022-04-29T09:57:50.460Z"
   },
   {
    "duration": 843,
    "start_time": "2022-04-29T09:57:50.538Z"
   },
   {
    "duration": 21,
    "start_time": "2022-04-29T09:57:51.383Z"
   },
   {
    "duration": 20,
    "start_time": "2022-04-29T09:57:51.406Z"
   },
   {
    "duration": 248,
    "start_time": "2022-04-29T09:57:51.429Z"
   },
   {
    "duration": 9,
    "start_time": "2022-04-29T09:57:51.679Z"
   },
   {
    "duration": 64,
    "start_time": "2022-04-29T09:57:51.690Z"
   },
   {
    "duration": 498,
    "start_time": "2022-04-29T09:57:51.760Z"
   },
   {
    "duration": 2766,
    "start_time": "2022-04-29T09:57:52.260Z"
   },
   {
    "duration": 12,
    "start_time": "2022-04-29T09:57:55.028Z"
   },
   {
    "duration": 41,
    "start_time": "2022-04-29T09:57:55.041Z"
   },
   {
    "duration": 6,
    "start_time": "2022-04-29T09:57:55.083Z"
   },
   {
    "duration": 33,
    "start_time": "2022-04-29T09:57:55.091Z"
   },
   {
    "duration": 589,
    "start_time": "2022-04-29T09:57:55.126Z"
   },
   {
    "duration": 28,
    "start_time": "2022-04-29T09:57:55.716Z"
   },
   {
    "duration": 158,
    "start_time": "2022-04-29T09:57:55.746Z"
   },
   {
    "duration": 9,
    "start_time": "2022-04-29T09:57:55.906Z"
   },
   {
    "duration": 430,
    "start_time": "2022-04-29T09:57:55.916Z"
   },
   {
    "duration": 2840,
    "start_time": "2022-04-29T09:57:56.358Z"
   },
   {
    "duration": 9,
    "start_time": "2022-04-29T09:57:59.199Z"
   },
   {
    "duration": 57,
    "start_time": "2022-04-29T09:57:59.210Z"
   },
   {
    "duration": 7,
    "start_time": "2022-04-29T09:57:59.268Z"
   },
   {
    "duration": 15,
    "start_time": "2022-04-29T09:57:59.277Z"
   },
   {
    "duration": 5,
    "start_time": "2022-04-29T09:57:59.294Z"
   },
   {
    "duration": 27,
    "start_time": "2022-04-29T09:57:59.300Z"
   },
   {
    "duration": 25,
    "start_time": "2022-04-29T09:57:59.329Z"
   },
   {
    "duration": 9,
    "start_time": "2022-04-29T09:57:59.355Z"
   },
   {
    "duration": 8,
    "start_time": "2022-04-29T09:57:59.366Z"
   },
   {
    "duration": 16,
    "start_time": "2022-04-29T09:57:59.376Z"
   },
   {
    "duration": 714,
    "start_time": "2022-04-29T09:57:59.394Z"
   },
   {
    "duration": 23,
    "start_time": "2022-04-29T09:58:00.110Z"
   },
   {
    "duration": 181,
    "start_time": "2022-04-29T09:58:00.137Z"
   },
   {
    "duration": 18,
    "start_time": "2022-04-29T09:58:00.324Z"
   },
   {
    "duration": 15,
    "start_time": "2022-04-29T09:58:00.344Z"
   },
   {
    "duration": 33,
    "start_time": "2022-04-29T09:58:00.362Z"
   },
   {
    "duration": 11,
    "start_time": "2022-04-29T09:58:00.397Z"
   },
   {
    "duration": 47,
    "start_time": "2022-04-29T09:58:00.411Z"
   },
   {
    "duration": 14,
    "start_time": "2022-04-29T09:58:00.460Z"
   },
   {
    "duration": 1524,
    "start_time": "2022-04-29T09:58:00.476Z"
   },
   {
    "duration": 26,
    "start_time": "2022-04-29T09:58:02.002Z"
   },
   {
    "duration": 19,
    "start_time": "2022-04-29T09:58:02.030Z"
   },
   {
    "duration": 31,
    "start_time": "2022-04-29T09:58:02.051Z"
   },
   {
    "duration": 9,
    "start_time": "2022-04-29T09:58:02.084Z"
   },
   {
    "duration": 21,
    "start_time": "2022-04-29T09:58:02.095Z"
   },
   {
    "duration": 1076,
    "start_time": "2022-04-29T09:58:02.118Z"
   },
   {
    "duration": 16,
    "start_time": "2022-04-29T09:58:03.196Z"
   },
   {
    "duration": 5,
    "start_time": "2022-04-29T09:58:03.225Z"
   },
   {
    "duration": 26,
    "start_time": "2022-04-29T09:58:03.231Z"
   },
   {
    "duration": 2,
    "start_time": "2022-04-29T09:58:03.259Z"
   },
   {
    "duration": 16,
    "start_time": "2022-04-29T09:58:03.263Z"
   },
   {
    "duration": 7,
    "start_time": "2022-04-29T09:58:03.281Z"
   },
   {
    "duration": 45,
    "start_time": "2022-04-29T09:58:03.290Z"
   },
   {
    "duration": 1944,
    "start_time": "2022-04-29T09:58:03.337Z"
   },
   {
    "duration": 24,
    "start_time": "2022-04-29T09:58:05.284Z"
   },
   {
    "duration": 11,
    "start_time": "2022-04-29T09:58:05.322Z"
   },
   {
    "duration": 39,
    "start_time": "2022-04-29T09:58:05.335Z"
   },
   {
    "duration": 4,
    "start_time": "2022-04-29T09:58:05.375Z"
   },
   {
    "duration": 12,
    "start_time": "2022-04-29T09:58:05.381Z"
   },
   {
    "duration": 10,
    "start_time": "2022-04-29T09:58:05.395Z"
   },
   {
    "duration": 26,
    "start_time": "2022-04-29T09:58:05.407Z"
   },
   {
    "duration": 20,
    "start_time": "2022-04-29T09:58:05.437Z"
   },
   {
    "duration": 8,
    "start_time": "2022-04-29T09:58:05.458Z"
   },
   {
    "duration": 13,
    "start_time": "2022-04-29T09:58:05.468Z"
   },
   {
    "duration": 6069,
    "start_time": "2022-04-29T09:58:05.483Z"
   },
   {
    "duration": 40,
    "start_time": "2022-04-29T09:58:11.555Z"
   },
   {
    "duration": 216,
    "start_time": "2022-04-29T09:58:11.598Z"
   },
   {
    "duration": 28,
    "start_time": "2022-04-29T09:58:11.823Z"
   },
   {
    "duration": 19,
    "start_time": "2022-04-29T09:58:11.853Z"
   },
   {
    "duration": 6,
    "start_time": "2022-04-29T09:58:11.874Z"
   },
   {
    "duration": 8,
    "start_time": "2022-04-29T09:58:11.882Z"
   },
   {
    "duration": 30,
    "start_time": "2022-04-29T09:58:11.892Z"
   },
   {
    "duration": 11,
    "start_time": "2022-04-29T09:58:11.926Z"
   },
   {
    "duration": 28,
    "start_time": "2022-04-29T09:58:11.942Z"
   },
   {
    "duration": 16,
    "start_time": "2022-04-29T09:58:11.972Z"
   },
   {
    "duration": 4,
    "start_time": "2022-04-29T09:58:11.990Z"
   },
   {
    "duration": 40,
    "start_time": "2022-04-29T09:58:11.996Z"
   },
   {
    "duration": 9,
    "start_time": "2022-04-29T09:58:12.038Z"
   },
   {
    "duration": 20,
    "start_time": "2022-04-29T09:58:12.051Z"
   },
   {
    "duration": 19,
    "start_time": "2022-04-29T09:58:12.073Z"
   },
   {
    "duration": 5,
    "start_time": "2022-04-29T09:58:12.094Z"
   },
   {
    "duration": 39,
    "start_time": "2022-04-29T09:58:12.101Z"
   },
   {
    "duration": 11,
    "start_time": "2022-04-29T09:58:12.143Z"
   },
   {
    "duration": 23,
    "start_time": "2022-04-29T09:58:12.158Z"
   },
   {
    "duration": 190,
    "start_time": "2022-04-29T09:58:12.183Z"
   },
   {
    "duration": 11,
    "start_time": "2022-04-29T09:58:12.375Z"
   },
   {
    "duration": 10,
    "start_time": "2022-04-29T09:58:12.388Z"
   },
   {
    "duration": 432,
    "start_time": "2022-04-29T09:58:12.399Z"
   },
   {
    "duration": 22,
    "start_time": "2022-04-29T09:58:12.835Z"
   },
   {
    "duration": 181,
    "start_time": "2022-04-29T09:58:12.859Z"
   },
   {
    "duration": 149,
    "start_time": "2022-04-29T09:58:13.042Z"
   },
   {
    "duration": 360,
    "start_time": "2022-04-29T09:58:13.193Z"
   },
   {
    "duration": 14,
    "start_time": "2022-04-29T09:58:13.555Z"
   },
   {
    "duration": 145,
    "start_time": "2022-04-29T09:58:13.571Z"
   },
   {
    "duration": 140,
    "start_time": "2022-04-29T09:58:13.717Z"
   },
   {
    "duration": 345,
    "start_time": "2022-04-29T09:58:13.859Z"
   },
   {
    "duration": 31,
    "start_time": "2022-04-29T09:58:14.207Z"
   },
   {
    "duration": 127,
    "start_time": "2022-04-29T09:58:14.240Z"
   },
   {
    "duration": 145,
    "start_time": "2022-04-29T09:58:14.369Z"
   },
   {
    "duration": 344,
    "start_time": "2022-04-29T09:58:14.517Z"
   },
   {
    "duration": 13,
    "start_time": "2022-04-29T09:58:14.863Z"
   },
   {
    "duration": 127,
    "start_time": "2022-04-29T09:58:14.878Z"
   },
   {
    "duration": 251,
    "start_time": "2022-04-29T09:58:15.006Z"
   },
   {
    "duration": 9,
    "start_time": "2022-04-29T09:58:15.260Z"
   },
   {
    "duration": 5,
    "start_time": "2022-04-29T09:58:15.271Z"
   },
   {
    "duration": 7,
    "start_time": "2022-04-29T09:58:15.277Z"
   },
   {
    "duration": 6,
    "start_time": "2022-04-29T09:58:15.286Z"
   },
   {
    "duration": 36,
    "start_time": "2022-04-29T09:58:15.294Z"
   },
   {
    "duration": 20,
    "start_time": "2022-04-29T09:58:15.332Z"
   },
   {
    "duration": 31,
    "start_time": "2022-04-29T10:03:27.583Z"
   },
   {
    "duration": 26,
    "start_time": "2022-04-29T10:03:33.229Z"
   },
   {
    "duration": 1372,
    "start_time": "2022-04-30T09:19:04.630Z"
   },
   {
    "duration": 405,
    "start_time": "2022-04-30T09:19:06.005Z"
   },
   {
    "duration": 13,
    "start_time": "2022-04-30T09:19:08.047Z"
   },
   {
    "duration": 16,
    "start_time": "2022-04-30T09:19:08.790Z"
   },
   {
    "duration": 11,
    "start_time": "2022-04-30T09:19:09.265Z"
   },
   {
    "duration": 41,
    "start_time": "2022-04-30T09:19:09.710Z"
   },
   {
    "duration": 10,
    "start_time": "2022-04-30T09:19:10.138Z"
   },
   {
    "duration": 20,
    "start_time": "2022-04-30T09:19:10.569Z"
   },
   {
    "duration": 8,
    "start_time": "2022-04-30T09:19:11.011Z"
   },
   {
    "duration": 20,
    "start_time": "2022-04-30T09:19:11.691Z"
   },
   {
    "duration": 8,
    "start_time": "2022-04-30T09:19:12.115Z"
   },
   {
    "duration": 10,
    "start_time": "2022-04-30T09:19:12.537Z"
   },
   {
    "duration": 9,
    "start_time": "2022-04-30T09:19:13.954Z"
   },
   {
    "duration": 8,
    "start_time": "2022-04-30T09:19:14.443Z"
   },
   {
    "duration": 5,
    "start_time": "2022-04-30T09:19:14.854Z"
   },
   {
    "duration": 11,
    "start_time": "2022-04-30T09:19:15.059Z"
   },
   {
    "duration": 7,
    "start_time": "2022-04-30T09:19:15.237Z"
   },
   {
    "duration": 4,
    "start_time": "2022-04-30T09:19:15.622Z"
   },
   {
    "duration": 9,
    "start_time": "2022-04-30T09:19:15.808Z"
   },
   {
    "duration": 12,
    "start_time": "2022-04-30T09:19:16.209Z"
   },
   {
    "duration": 283,
    "start_time": "2022-04-30T09:19:16.622Z"
   },
   {
    "duration": 11,
    "start_time": "2022-04-30T09:19:16.907Z"
   },
   {
    "duration": 11,
    "start_time": "2022-04-30T09:19:17.108Z"
   },
   {
    "duration": 14,
    "start_time": "2022-04-30T09:19:17.564Z"
   },
   {
    "duration": 5,
    "start_time": "2022-04-30T09:19:18.256Z"
   },
   {
    "duration": 4,
    "start_time": "2022-04-30T09:19:18.491Z"
   },
   {
    "duration": 21,
    "start_time": "2022-04-30T09:19:18.705Z"
   },
   {
    "duration": 5,
    "start_time": "2022-04-30T09:19:19.369Z"
   },
   {
    "duration": 9,
    "start_time": "2022-04-30T09:19:19.585Z"
   },
   {
    "duration": 13,
    "start_time": "2022-04-30T09:19:19.784Z"
   },
   {
    "duration": 14,
    "start_time": "2022-04-30T09:19:19.976Z"
   },
   {
    "duration": 13,
    "start_time": "2022-04-30T09:19:20.208Z"
   },
   {
    "duration": 10,
    "start_time": "2022-04-30T09:19:21.314Z"
   },
   {
    "duration": 5,
    "start_time": "2022-04-30T09:19:21.326Z"
   },
   {
    "duration": 6,
    "start_time": "2022-04-30T09:19:21.332Z"
   },
   {
    "duration": 10,
    "start_time": "2022-04-30T09:19:21.941Z"
   },
   {
    "duration": 4,
    "start_time": "2022-04-30T09:19:22.237Z"
   },
   {
    "duration": 11,
    "start_time": "2022-04-30T09:19:22.501Z"
   },
   {
    "duration": 5,
    "start_time": "2022-04-30T09:19:22.769Z"
   },
   {
    "duration": 20,
    "start_time": "2022-04-30T09:19:23.021Z"
   },
   {
    "duration": 10,
    "start_time": "2022-04-30T09:19:23.295Z"
   },
   {
    "duration": 7,
    "start_time": "2022-04-30T09:19:23.576Z"
   },
   {
    "duration": 10,
    "start_time": "2022-04-30T09:19:24.479Z"
   },
   {
    "duration": 9,
    "start_time": "2022-04-30T09:19:24.933Z"
   },
   {
    "duration": 154,
    "start_time": "2022-04-30T09:19:25.170Z"
   },
   {
    "duration": 46,
    "start_time": "2022-04-30T09:19:25.433Z"
   },
   {
    "duration": 10,
    "start_time": "2022-04-30T09:19:25.662Z"
   },
   {
    "duration": 564,
    "start_time": "2022-04-30T09:19:26.034Z"
   },
   {
    "duration": 9,
    "start_time": "2022-04-30T09:19:26.600Z"
   },
   {
    "duration": 42,
    "start_time": "2022-04-30T09:19:26.610Z"
   },
   {
    "duration": 4,
    "start_time": "2022-04-30T09:19:26.745Z"
   },
   {
    "duration": 10,
    "start_time": "2022-04-30T09:19:27.312Z"
   },
   {
    "duration": 4137,
    "start_time": "2022-04-30T09:19:27.589Z"
   },
   {
    "duration": 19,
    "start_time": "2022-04-30T09:19:31.728Z"
   },
   {
    "duration": 51,
    "start_time": "2022-04-30T09:19:31.749Z"
   },
   {
    "duration": 23,
    "start_time": "2022-04-30T09:19:31.802Z"
   },
   {
    "duration": 8,
    "start_time": "2022-04-30T09:19:31.847Z"
   },
   {
    "duration": 22,
    "start_time": "2022-04-30T09:19:35.061Z"
   },
   {
    "duration": 730,
    "start_time": "2022-04-30T09:19:35.383Z"
   },
   {
    "duration": 13,
    "start_time": "2022-04-30T09:19:36.115Z"
   },
   {
    "duration": 23,
    "start_time": "2022-04-30T09:19:36.130Z"
   },
   {
    "duration": 151,
    "start_time": "2022-04-30T09:19:36.264Z"
   },
   {
    "duration": 20,
    "start_time": "2022-04-30T09:19:36.766Z"
   },
   {
    "duration": 68,
    "start_time": "2022-04-30T09:19:37.621Z"
   },
   {
    "duration": 1032,
    "start_time": "2022-04-30T09:19:37.925Z"
   },
   {
    "duration": 22,
    "start_time": "2022-04-30T09:19:38.960Z"
   },
   {
    "duration": 8,
    "start_time": "2022-04-30T09:19:38.983Z"
   },
   {
    "duration": 219,
    "start_time": "2022-04-30T09:19:38.994Z"
   },
   {
    "duration": 8,
    "start_time": "2022-04-30T09:19:43.562Z"
   },
   {
    "duration": 44,
    "start_time": "2022-04-30T09:19:43.934Z"
   },
   {
    "duration": 338,
    "start_time": "2022-04-30T09:19:44.324Z"
   },
   {
    "duration": 2181,
    "start_time": "2022-04-30T09:19:44.666Z"
   },
   {
    "duration": 8,
    "start_time": "2022-04-30T09:19:46.849Z"
   },
   {
    "duration": 37,
    "start_time": "2022-04-30T09:19:46.859Z"
   },
   {
    "duration": 6,
    "start_time": "2022-04-30T09:19:46.899Z"
   },
   {
    "duration": 42,
    "start_time": "2022-04-30T09:19:46.907Z"
   },
   {
    "duration": 523,
    "start_time": "2022-04-30T09:19:46.951Z"
   },
   {
    "duration": 14,
    "start_time": "2022-04-30T09:19:49.907Z"
   },
   {
    "duration": 137,
    "start_time": "2022-04-30T09:19:50.252Z"
   },
   {
    "duration": 8,
    "start_time": "2022-04-30T09:19:51.253Z"
   },
   {
    "duration": 387,
    "start_time": "2022-04-30T09:19:51.558Z"
   },
   {
    "duration": 3476,
    "start_time": "2022-04-30T09:19:51.948Z"
   },
   {
    "duration": 11,
    "start_time": "2022-04-30T09:19:55.426Z"
   },
   {
    "duration": 53,
    "start_time": "2022-04-30T09:19:55.448Z"
   },
   {
    "duration": 10,
    "start_time": "2022-04-30T09:19:55.504Z"
   },
   {
    "duration": 19,
    "start_time": "2022-04-30T09:20:00.612Z"
   },
   {
    "duration": 4,
    "start_time": "2022-04-30T09:20:01.457Z"
   },
   {
    "duration": 7,
    "start_time": "2022-04-30T09:20:01.680Z"
   },
   {
    "duration": 13,
    "start_time": "2022-04-30T09:20:02.006Z"
   },
   {
    "duration": 8,
    "start_time": "2022-04-30T09:20:02.256Z"
   },
   {
    "duration": 8,
    "start_time": "2022-04-30T09:20:02.556Z"
   },
   {
    "duration": 14,
    "start_time": "2022-04-30T09:20:02.826Z"
   },
   {
    "duration": 641,
    "start_time": "2022-04-30T09:20:03.097Z"
   },
   {
    "duration": 19,
    "start_time": "2022-04-30T09:20:03.740Z"
   },
   {
    "duration": 171,
    "start_time": "2022-04-30T09:20:03.761Z"
   },
   {
    "duration": 8,
    "start_time": "2022-04-30T09:20:08.564Z"
   },
   {
    "duration": 4,
    "start_time": "2022-04-30T09:20:08.841Z"
   },
   {
    "duration": 12,
    "start_time": "2022-04-30T09:20:09.095Z"
   },
   {
    "duration": 4,
    "start_time": "2022-04-30T09:20:09.314Z"
   },
   {
    "duration": 21,
    "start_time": "2022-04-30T09:20:09.547Z"
   },
   {
    "duration": 5,
    "start_time": "2022-04-30T09:20:09.797Z"
   },
   {
    "duration": 1124,
    "start_time": "2022-04-30T09:20:10.032Z"
   },
   {
    "duration": 14,
    "start_time": "2022-04-30T09:20:11.158Z"
   },
   {
    "duration": 5,
    "start_time": "2022-04-30T09:20:11.174Z"
   },
   {
    "duration": 23,
    "start_time": "2022-04-30T09:20:11.180Z"
   },
   {
    "duration": 4,
    "start_time": "2022-04-30T09:20:11.205Z"
   },
   {
    "duration": 47,
    "start_time": "2022-04-30T09:20:11.211Z"
   },
   {
    "duration": 1119,
    "start_time": "2022-04-30T09:20:11.306Z"
   },
   {
    "duration": 27,
    "start_time": "2022-04-30T09:20:12.427Z"
   },
   {
    "duration": 4,
    "start_time": "2022-04-30T09:20:12.457Z"
   },
   {
    "duration": 40,
    "start_time": "2022-04-30T09:20:12.463Z"
   },
   {
    "duration": 5,
    "start_time": "2022-04-30T09:20:12.505Z"
   },
   {
    "duration": 36,
    "start_time": "2022-04-30T09:20:12.513Z"
   },
   {
    "duration": 7,
    "start_time": "2022-04-30T09:20:12.576Z"
   },
   {
    "duration": 14,
    "start_time": "2022-04-30T09:20:12.805Z"
   },
   {
    "duration": 1212,
    "start_time": "2022-04-30T09:20:13.041Z"
   },
   {
    "duration": 18,
    "start_time": "2022-04-30T09:20:14.255Z"
   },
   {
    "duration": 6,
    "start_time": "2022-04-30T09:20:14.275Z"
   },
   {
    "duration": 71,
    "start_time": "2022-04-30T09:20:14.284Z"
   },
   {
    "duration": 4,
    "start_time": "2022-04-30T09:20:14.358Z"
   },
   {
    "duration": 17,
    "start_time": "2022-04-30T09:20:14.456Z"
   },
   {
    "duration": 15,
    "start_time": "2022-04-30T09:20:22.954Z"
   },
   {
    "duration": 5,
    "start_time": "2022-04-30T09:20:23.603Z"
   },
   {
    "duration": 13,
    "start_time": "2022-04-30T09:20:23.989Z"
   },
   {
    "duration": 8,
    "start_time": "2022-04-30T09:20:24.351Z"
   },
   {
    "duration": 12,
    "start_time": "2022-04-30T09:20:24.812Z"
   },
   {
    "duration": 9955,
    "start_time": "2022-04-30T09:20:25.514Z"
   },
   {
    "duration": 33,
    "start_time": "2022-04-30T09:20:35.472Z"
   },
   {
    "duration": 266,
    "start_time": "2022-04-30T09:20:35.508Z"
   },
   {
    "duration": 29,
    "start_time": "2022-04-30T09:20:35.776Z"
   },
   {
    "duration": 23,
    "start_time": "2022-04-30T09:21:18.348Z"
   },
   {
    "duration": 4,
    "start_time": "2022-04-30T09:21:19.145Z"
   },
   {
    "duration": 9,
    "start_time": "2022-04-30T09:21:19.710Z"
   },
   {
    "duration": 3,
    "start_time": "2022-04-30T09:21:21.810Z"
   },
   {
    "duration": 8,
    "start_time": "2022-04-30T09:21:22.635Z"
   },
   {
    "duration": 19,
    "start_time": "2022-04-30T09:21:24.123Z"
   },
   {
    "duration": 15,
    "start_time": "2022-04-30T09:21:25.257Z"
   },
   {
    "duration": 4,
    "start_time": "2022-04-30T09:21:47.697Z"
   },
   {
    "duration": 7,
    "start_time": "2022-04-30T09:21:48.340Z"
   },
   {
    "duration": 7,
    "start_time": "2022-04-30T09:21:49.044Z"
   },
   {
    "duration": 17,
    "start_time": "2022-04-30T09:21:49.634Z"
   },
   {
    "duration": 14,
    "start_time": "2022-04-30T09:21:50.240Z"
   },
   {
    "duration": 5,
    "start_time": "2022-04-30T09:21:50.931Z"
   },
   {
    "duration": 7,
    "start_time": "2022-04-30T09:21:51.493Z"
   },
   {
    "duration": 8,
    "start_time": "2022-04-30T09:21:51.897Z"
   },
   {
    "duration": 20,
    "start_time": "2022-04-30T09:21:52.309Z"
   },
   {
    "duration": 157,
    "start_time": "2022-04-30T09:22:06.730Z"
   },
   {
    "duration": 9,
    "start_time": "2022-04-30T09:22:07.673Z"
   },
   {
    "duration": 8,
    "start_time": "2022-04-30T09:22:07.989Z"
   },
   {
    "duration": 364,
    "start_time": "2022-04-30T09:22:08.491Z"
   },
   {
    "duration": 13,
    "start_time": "2022-04-30T09:22:08.857Z"
   },
   {
    "duration": 182,
    "start_time": "2022-04-30T09:22:11.950Z"
   },
   {
    "duration": 205,
    "start_time": "2022-04-30T09:22:12.313Z"
   },
   {
    "duration": 364,
    "start_time": "2022-04-30T09:22:14.764Z"
   },
   {
    "duration": 13,
    "start_time": "2022-04-30T09:22:15.606Z"
   },
   {
    "duration": 121,
    "start_time": "2022-04-30T09:22:17.674Z"
   },
   {
    "duration": 114,
    "start_time": "2022-04-30T09:22:24.140Z"
   },
   {
    "duration": 350,
    "start_time": "2022-04-30T09:22:28.101Z"
   },
   {
    "duration": 15,
    "start_time": "2022-04-30T09:22:37.762Z"
   },
   {
    "duration": 159,
    "start_time": "2022-04-30T09:22:46.963Z"
   },
   {
    "duration": 176,
    "start_time": "2022-04-30T09:22:54.136Z"
   },
   {
    "duration": 310,
    "start_time": "2022-04-30T09:23:53.546Z"
   },
   {
    "duration": 13,
    "start_time": "2022-04-30T09:23:58.723Z"
   },
   {
    "duration": 107,
    "start_time": "2022-04-30T09:24:02.806Z"
   },
   {
    "duration": 120,
    "start_time": "2022-04-30T09:24:03.483Z"
   },
   {
    "duration": 8,
    "start_time": "2022-04-30T09:40:11.742Z"
   },
   {
    "duration": 8,
    "start_time": "2022-04-30T09:40:13.384Z"
   },
   {
    "duration": 4,
    "start_time": "2022-04-30T09:40:17.426Z"
   },
   {
    "duration": 5,
    "start_time": "2022-04-30T09:40:17.659Z"
   },
   {
    "duration": 6,
    "start_time": "2022-04-30T09:40:17.875Z"
   },
   {
    "duration": 4,
    "start_time": "2022-04-30T09:40:18.111Z"
   },
   {
    "duration": 4,
    "start_time": "2022-04-30T09:40:18.577Z"
   },
   {
    "duration": 5,
    "start_time": "2022-04-30T09:41:40.670Z"
   },
   {
    "duration": 99,
    "start_time": "2022-04-30T09:43:52.686Z"
   }
  ],
  "kernelspec": {
   "display_name": "Python 3 (ipykernel)",
   "language": "python",
   "name": "python3"
  },
  "language_info": {
   "codemirror_mode": {
    "name": "ipython",
    "version": 3
   },
   "file_extension": ".py",
   "mimetype": "text/x-python",
   "name": "python",
   "nbconvert_exporter": "python",
   "pygments_lexer": "ipython3",
   "version": "3.8.12"
  },
  "toc": {
   "base_numbering": 1,
   "nav_menu": {},
   "number_sections": true,
   "sideBar": true,
   "skip_h1_title": true,
   "title_cell": "Table of Contents",
   "title_sidebar": "Contents",
   "toc_cell": false,
   "toc_position": {},
   "toc_section_display": true,
   "toc_window_display": false
  }
 },
 "nbformat": 4,
 "nbformat_minor": 2
}
